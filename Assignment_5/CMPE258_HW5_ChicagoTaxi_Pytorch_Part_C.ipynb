{
  "nbformat": 4,
  "nbformat_minor": 0,
  "metadata": {
    "colab": {
      "name": "CMPE258_HW5_ChicagoTaxi_Pytorch_Part_C.ipynb",
      "provenance": [],
      "collapsed_sections": [],
      "toc_visible": true
    },
    "kernelspec": {
      "name": "python3",
      "display_name": "Python 3"
    },
    "accelerator": "GPU",
    "widgets": {
      "application/vnd.jupyter.widget-state+json": {
        "98bc2cd984f44da4ae44b5dd212b2d2f": {
          "model_module": "@jupyter-widgets/controls",
          "model_name": "HBoxModel",
          "state": {
            "_view_name": "HBoxView",
            "_dom_classes": [],
            "_model_name": "HBoxModel",
            "_view_module": "@jupyter-widgets/controls",
            "_model_module_version": "1.5.0",
            "_view_count": null,
            "_view_module_version": "1.5.0",
            "box_style": "",
            "layout": "IPY_MODEL_a29dffbe51c54d5dac0496166c006740",
            "_model_module": "@jupyter-widgets/controls",
            "children": [
              "IPY_MODEL_1f59faa2a1ef4c50882604d8e86ffa71",
              "IPY_MODEL_fe3ae34e049f4103b4e653b4bcc99ff2"
            ]
          }
        },
        "a29dffbe51c54d5dac0496166c006740": {
          "model_module": "@jupyter-widgets/base",
          "model_name": "LayoutModel",
          "state": {
            "_view_name": "LayoutView",
            "grid_template_rows": null,
            "right": null,
            "justify_content": null,
            "_view_module": "@jupyter-widgets/base",
            "overflow": null,
            "_model_module_version": "1.2.0",
            "_view_count": null,
            "flex_flow": null,
            "width": null,
            "min_width": null,
            "border": null,
            "align_items": null,
            "bottom": null,
            "_model_module": "@jupyter-widgets/base",
            "top": null,
            "grid_column": null,
            "overflow_y": null,
            "overflow_x": null,
            "grid_auto_flow": null,
            "grid_area": null,
            "grid_template_columns": null,
            "flex": null,
            "_model_name": "LayoutModel",
            "justify_items": null,
            "grid_row": null,
            "max_height": null,
            "align_content": null,
            "visibility": null,
            "align_self": null,
            "height": null,
            "min_height": null,
            "padding": null,
            "grid_auto_rows": null,
            "grid_gap": null,
            "max_width": null,
            "order": null,
            "_view_module_version": "1.2.0",
            "grid_template_areas": null,
            "object_position": null,
            "object_fit": null,
            "grid_auto_columns": null,
            "margin": null,
            "display": null,
            "left": null
          }
        },
        "1f59faa2a1ef4c50882604d8e86ffa71": {
          "model_module": "@jupyter-widgets/controls",
          "model_name": "FloatProgressModel",
          "state": {
            "_view_name": "ProgressView",
            "style": "IPY_MODEL_340acefc909646f5892cd03981b1dc8d",
            "_dom_classes": [],
            "description": "100%",
            "_model_name": "FloatProgressModel",
            "bar_style": "success",
            "max": 10,
            "_view_module": "@jupyter-widgets/controls",
            "_model_module_version": "1.5.0",
            "value": 10,
            "_view_count": null,
            "_view_module_version": "1.5.0",
            "orientation": "horizontal",
            "min": 0,
            "description_tooltip": null,
            "_model_module": "@jupyter-widgets/controls",
            "layout": "IPY_MODEL_6af733f6519048d4a06449198fbb6470"
          }
        },
        "fe3ae34e049f4103b4e653b4bcc99ff2": {
          "model_module": "@jupyter-widgets/controls",
          "model_name": "HTMLModel",
          "state": {
            "_view_name": "HTMLView",
            "style": "IPY_MODEL_dc6e7909620b4ab4ab8914e164a502d2",
            "_dom_classes": [],
            "description": "",
            "_model_name": "HTMLModel",
            "placeholder": "​",
            "_view_module": "@jupyter-widgets/controls",
            "_model_module_version": "1.5.0",
            "value": " 10/10 [00:32&lt;00:00,  3.25s/it]",
            "_view_count": null,
            "_view_module_version": "1.5.0",
            "description_tooltip": null,
            "_model_module": "@jupyter-widgets/controls",
            "layout": "IPY_MODEL_a8cfafcb770949a5a7eea32a43fb2a80"
          }
        },
        "340acefc909646f5892cd03981b1dc8d": {
          "model_module": "@jupyter-widgets/controls",
          "model_name": "ProgressStyleModel",
          "state": {
            "_view_name": "StyleView",
            "_model_name": "ProgressStyleModel",
            "description_width": "initial",
            "_view_module": "@jupyter-widgets/base",
            "_model_module_version": "1.5.0",
            "_view_count": null,
            "_view_module_version": "1.2.0",
            "bar_color": null,
            "_model_module": "@jupyter-widgets/controls"
          }
        },
        "6af733f6519048d4a06449198fbb6470": {
          "model_module": "@jupyter-widgets/base",
          "model_name": "LayoutModel",
          "state": {
            "_view_name": "LayoutView",
            "grid_template_rows": null,
            "right": null,
            "justify_content": null,
            "_view_module": "@jupyter-widgets/base",
            "overflow": null,
            "_model_module_version": "1.2.0",
            "_view_count": null,
            "flex_flow": null,
            "width": null,
            "min_width": null,
            "border": null,
            "align_items": null,
            "bottom": null,
            "_model_module": "@jupyter-widgets/base",
            "top": null,
            "grid_column": null,
            "overflow_y": null,
            "overflow_x": null,
            "grid_auto_flow": null,
            "grid_area": null,
            "grid_template_columns": null,
            "flex": null,
            "_model_name": "LayoutModel",
            "justify_items": null,
            "grid_row": null,
            "max_height": null,
            "align_content": null,
            "visibility": null,
            "align_self": null,
            "height": null,
            "min_height": null,
            "padding": null,
            "grid_auto_rows": null,
            "grid_gap": null,
            "max_width": null,
            "order": null,
            "_view_module_version": "1.2.0",
            "grid_template_areas": null,
            "object_position": null,
            "object_fit": null,
            "grid_auto_columns": null,
            "margin": null,
            "display": null,
            "left": null
          }
        },
        "dc6e7909620b4ab4ab8914e164a502d2": {
          "model_module": "@jupyter-widgets/controls",
          "model_name": "DescriptionStyleModel",
          "state": {
            "_view_name": "StyleView",
            "_model_name": "DescriptionStyleModel",
            "description_width": "",
            "_view_module": "@jupyter-widgets/base",
            "_model_module_version": "1.5.0",
            "_view_count": null,
            "_view_module_version": "1.2.0",
            "_model_module": "@jupyter-widgets/controls"
          }
        },
        "a8cfafcb770949a5a7eea32a43fb2a80": {
          "model_module": "@jupyter-widgets/base",
          "model_name": "LayoutModel",
          "state": {
            "_view_name": "LayoutView",
            "grid_template_rows": null,
            "right": null,
            "justify_content": null,
            "_view_module": "@jupyter-widgets/base",
            "overflow": null,
            "_model_module_version": "1.2.0",
            "_view_count": null,
            "flex_flow": null,
            "width": null,
            "min_width": null,
            "border": null,
            "align_items": null,
            "bottom": null,
            "_model_module": "@jupyter-widgets/base",
            "top": null,
            "grid_column": null,
            "overflow_y": null,
            "overflow_x": null,
            "grid_auto_flow": null,
            "grid_area": null,
            "grid_template_columns": null,
            "flex": null,
            "_model_name": "LayoutModel",
            "justify_items": null,
            "grid_row": null,
            "max_height": null,
            "align_content": null,
            "visibility": null,
            "align_self": null,
            "height": null,
            "min_height": null,
            "padding": null,
            "grid_auto_rows": null,
            "grid_gap": null,
            "max_width": null,
            "order": null,
            "_view_module_version": "1.2.0",
            "grid_template_areas": null,
            "object_position": null,
            "object_fit": null,
            "grid_auto_columns": null,
            "margin": null,
            "display": null,
            "left": null
          }
        },
        "283ce40d02ab43b494111d6b2a5cd49d": {
          "model_module": "@jupyter-widgets/controls",
          "model_name": "HBoxModel",
          "state": {
            "_view_name": "HBoxView",
            "_dom_classes": [],
            "_model_name": "HBoxModel",
            "_view_module": "@jupyter-widgets/controls",
            "_model_module_version": "1.5.0",
            "_view_count": null,
            "_view_module_version": "1.5.0",
            "box_style": "",
            "layout": "IPY_MODEL_2e0cf368111a48acbecdd87824fe710e",
            "_model_module": "@jupyter-widgets/controls",
            "children": [
              "IPY_MODEL_8d59b73723bb4cc8bd9f818e698408d9",
              "IPY_MODEL_50ddc591d3ff410a97f358f940d2a2aa"
            ]
          }
        },
        "2e0cf368111a48acbecdd87824fe710e": {
          "model_module": "@jupyter-widgets/base",
          "model_name": "LayoutModel",
          "state": {
            "_view_name": "LayoutView",
            "grid_template_rows": null,
            "right": null,
            "justify_content": null,
            "_view_module": "@jupyter-widgets/base",
            "overflow": null,
            "_model_module_version": "1.2.0",
            "_view_count": null,
            "flex_flow": null,
            "width": null,
            "min_width": null,
            "border": null,
            "align_items": null,
            "bottom": null,
            "_model_module": "@jupyter-widgets/base",
            "top": null,
            "grid_column": null,
            "overflow_y": null,
            "overflow_x": null,
            "grid_auto_flow": null,
            "grid_area": null,
            "grid_template_columns": null,
            "flex": null,
            "_model_name": "LayoutModel",
            "justify_items": null,
            "grid_row": null,
            "max_height": null,
            "align_content": null,
            "visibility": null,
            "align_self": null,
            "height": null,
            "min_height": null,
            "padding": null,
            "grid_auto_rows": null,
            "grid_gap": null,
            "max_width": null,
            "order": null,
            "_view_module_version": "1.2.0",
            "grid_template_areas": null,
            "object_position": null,
            "object_fit": null,
            "grid_auto_columns": null,
            "margin": null,
            "display": null,
            "left": null
          }
        },
        "8d59b73723bb4cc8bd9f818e698408d9": {
          "model_module": "@jupyter-widgets/controls",
          "model_name": "FloatProgressModel",
          "state": {
            "_view_name": "ProgressView",
            "style": "IPY_MODEL_2e2e9ba1d0f743caa7a5f6d076afda0e",
            "_dom_classes": [],
            "description": "Epoch 0: 100%",
            "_model_name": "FloatProgressModel",
            "bar_style": "",
            "max": 78,
            "_view_module": "@jupyter-widgets/controls",
            "_model_module_version": "1.5.0",
            "value": 78,
            "_view_count": null,
            "_view_module_version": "1.5.0",
            "orientation": "horizontal",
            "min": 0,
            "description_tooltip": null,
            "_model_module": "@jupyter-widgets/controls",
            "layout": "IPY_MODEL_853139e449194f38a3f85e6d5cf9e46e"
          }
        },
        "50ddc591d3ff410a97f358f940d2a2aa": {
          "model_module": "@jupyter-widgets/controls",
          "model_name": "HTMLModel",
          "state": {
            "_view_name": "HTMLView",
            "style": "IPY_MODEL_3ecc93772c684279ae01391bbab30ea8",
            "_dom_classes": [],
            "description": "",
            "_model_name": "HTMLModel",
            "placeholder": "​",
            "_view_module": "@jupyter-widgets/controls",
            "_model_module_version": "1.5.0",
            "value": " 78/78 [00:00&lt;00:00, 29.48it/s, loss=1.8]",
            "_view_count": null,
            "_view_module_version": "1.5.0",
            "description_tooltip": null,
            "_model_module": "@jupyter-widgets/controls",
            "layout": "IPY_MODEL_455dd6811b764276a92d9292c45ebacf"
          }
        },
        "2e2e9ba1d0f743caa7a5f6d076afda0e": {
          "model_module": "@jupyter-widgets/controls",
          "model_name": "ProgressStyleModel",
          "state": {
            "_view_name": "StyleView",
            "_model_name": "ProgressStyleModel",
            "description_width": "initial",
            "_view_module": "@jupyter-widgets/base",
            "_model_module_version": "1.5.0",
            "_view_count": null,
            "_view_module_version": "1.2.0",
            "bar_color": null,
            "_model_module": "@jupyter-widgets/controls"
          }
        },
        "853139e449194f38a3f85e6d5cf9e46e": {
          "model_module": "@jupyter-widgets/base",
          "model_name": "LayoutModel",
          "state": {
            "_view_name": "LayoutView",
            "grid_template_rows": null,
            "right": null,
            "justify_content": null,
            "_view_module": "@jupyter-widgets/base",
            "overflow": null,
            "_model_module_version": "1.2.0",
            "_view_count": null,
            "flex_flow": null,
            "width": null,
            "min_width": null,
            "border": null,
            "align_items": null,
            "bottom": null,
            "_model_module": "@jupyter-widgets/base",
            "top": null,
            "grid_column": null,
            "overflow_y": null,
            "overflow_x": null,
            "grid_auto_flow": null,
            "grid_area": null,
            "grid_template_columns": null,
            "flex": null,
            "_model_name": "LayoutModel",
            "justify_items": null,
            "grid_row": null,
            "max_height": null,
            "align_content": null,
            "visibility": null,
            "align_self": null,
            "height": null,
            "min_height": null,
            "padding": null,
            "grid_auto_rows": null,
            "grid_gap": null,
            "max_width": null,
            "order": null,
            "_view_module_version": "1.2.0",
            "grid_template_areas": null,
            "object_position": null,
            "object_fit": null,
            "grid_auto_columns": null,
            "margin": null,
            "display": null,
            "left": null
          }
        },
        "3ecc93772c684279ae01391bbab30ea8": {
          "model_module": "@jupyter-widgets/controls",
          "model_name": "DescriptionStyleModel",
          "state": {
            "_view_name": "StyleView",
            "_model_name": "DescriptionStyleModel",
            "description_width": "",
            "_view_module": "@jupyter-widgets/base",
            "_model_module_version": "1.5.0",
            "_view_count": null,
            "_view_module_version": "1.2.0",
            "_model_module": "@jupyter-widgets/controls"
          }
        },
        "455dd6811b764276a92d9292c45ebacf": {
          "model_module": "@jupyter-widgets/base",
          "model_name": "LayoutModel",
          "state": {
            "_view_name": "LayoutView",
            "grid_template_rows": null,
            "right": null,
            "justify_content": null,
            "_view_module": "@jupyter-widgets/base",
            "overflow": null,
            "_model_module_version": "1.2.0",
            "_view_count": null,
            "flex_flow": null,
            "width": null,
            "min_width": null,
            "border": null,
            "align_items": null,
            "bottom": null,
            "_model_module": "@jupyter-widgets/base",
            "top": null,
            "grid_column": null,
            "overflow_y": null,
            "overflow_x": null,
            "grid_auto_flow": null,
            "grid_area": null,
            "grid_template_columns": null,
            "flex": null,
            "_model_name": "LayoutModel",
            "justify_items": null,
            "grid_row": null,
            "max_height": null,
            "align_content": null,
            "visibility": null,
            "align_self": null,
            "height": null,
            "min_height": null,
            "padding": null,
            "grid_auto_rows": null,
            "grid_gap": null,
            "max_width": null,
            "order": null,
            "_view_module_version": "1.2.0",
            "grid_template_areas": null,
            "object_position": null,
            "object_fit": null,
            "grid_auto_columns": null,
            "margin": null,
            "display": null,
            "left": null
          }
        },
        "b530d14d977d45729c8d6069a6a124ac": {
          "model_module": "@jupyter-widgets/controls",
          "model_name": "HBoxModel",
          "state": {
            "_view_name": "HBoxView",
            "_dom_classes": [],
            "_model_name": "HBoxModel",
            "_view_module": "@jupyter-widgets/controls",
            "_model_module_version": "1.5.0",
            "_view_count": null,
            "_view_module_version": "1.5.0",
            "box_style": "",
            "layout": "IPY_MODEL_33b45800921447f0a3925e0f0368dac7",
            "_model_module": "@jupyter-widgets/controls",
            "children": [
              "IPY_MODEL_99b4ed97cf7542a0ae75b93d126e4f27",
              "IPY_MODEL_5918e15db8444ed3b0b30d61c46ab77e"
            ]
          }
        },
        "33b45800921447f0a3925e0f0368dac7": {
          "model_module": "@jupyter-widgets/base",
          "model_name": "LayoutModel",
          "state": {
            "_view_name": "LayoutView",
            "grid_template_rows": null,
            "right": null,
            "justify_content": null,
            "_view_module": "@jupyter-widgets/base",
            "overflow": null,
            "_model_module_version": "1.2.0",
            "_view_count": null,
            "flex_flow": null,
            "width": null,
            "min_width": null,
            "border": null,
            "align_items": null,
            "bottom": null,
            "_model_module": "@jupyter-widgets/base",
            "top": null,
            "grid_column": null,
            "overflow_y": null,
            "overflow_x": null,
            "grid_auto_flow": null,
            "grid_area": null,
            "grid_template_columns": null,
            "flex": null,
            "_model_name": "LayoutModel",
            "justify_items": null,
            "grid_row": null,
            "max_height": null,
            "align_content": null,
            "visibility": null,
            "align_self": null,
            "height": null,
            "min_height": null,
            "padding": null,
            "grid_auto_rows": null,
            "grid_gap": null,
            "max_width": null,
            "order": null,
            "_view_module_version": "1.2.0",
            "grid_template_areas": null,
            "object_position": null,
            "object_fit": null,
            "grid_auto_columns": null,
            "margin": null,
            "display": null,
            "left": null
          }
        },
        "99b4ed97cf7542a0ae75b93d126e4f27": {
          "model_module": "@jupyter-widgets/controls",
          "model_name": "FloatProgressModel",
          "state": {
            "_view_name": "ProgressView",
            "style": "IPY_MODEL_ebecec67b4824beab8238b94321f3665",
            "_dom_classes": [],
            "description": "100%",
            "_model_name": "FloatProgressModel",
            "bar_style": "",
            "max": 20,
            "_view_module": "@jupyter-widgets/controls",
            "_model_module_version": "1.5.0",
            "value": 20,
            "_view_count": null,
            "_view_module_version": "1.5.0",
            "orientation": "horizontal",
            "min": 0,
            "description_tooltip": null,
            "_model_module": "@jupyter-widgets/controls",
            "layout": "IPY_MODEL_855df42cce4d4dfe8c5243425169fc6f"
          }
        },
        "5918e15db8444ed3b0b30d61c46ab77e": {
          "model_module": "@jupyter-widgets/controls",
          "model_name": "HTMLModel",
          "state": {
            "_view_name": "HTMLView",
            "style": "IPY_MODEL_6eb7c3eda22c48718acda21ce75602ab",
            "_dom_classes": [],
            "description": "",
            "_model_name": "HTMLModel",
            "placeholder": "​",
            "_view_module": "@jupyter-widgets/controls",
            "_model_module_version": "1.5.0",
            "value": " 20/20 [00:00&lt;00:00, 244.59it/s]",
            "_view_count": null,
            "_view_module_version": "1.5.0",
            "description_tooltip": null,
            "_model_module": "@jupyter-widgets/controls",
            "layout": "IPY_MODEL_7322afe1e1bf455e87aaf242b221f558"
          }
        },
        "ebecec67b4824beab8238b94321f3665": {
          "model_module": "@jupyter-widgets/controls",
          "model_name": "ProgressStyleModel",
          "state": {
            "_view_name": "StyleView",
            "_model_name": "ProgressStyleModel",
            "description_width": "initial",
            "_view_module": "@jupyter-widgets/base",
            "_model_module_version": "1.5.0",
            "_view_count": null,
            "_view_module_version": "1.2.0",
            "bar_color": null,
            "_model_module": "@jupyter-widgets/controls"
          }
        },
        "855df42cce4d4dfe8c5243425169fc6f": {
          "model_module": "@jupyter-widgets/base",
          "model_name": "LayoutModel",
          "state": {
            "_view_name": "LayoutView",
            "grid_template_rows": null,
            "right": null,
            "justify_content": null,
            "_view_module": "@jupyter-widgets/base",
            "overflow": null,
            "_model_module_version": "1.2.0",
            "_view_count": null,
            "flex_flow": null,
            "width": null,
            "min_width": null,
            "border": null,
            "align_items": null,
            "bottom": null,
            "_model_module": "@jupyter-widgets/base",
            "top": null,
            "grid_column": null,
            "overflow_y": null,
            "overflow_x": null,
            "grid_auto_flow": null,
            "grid_area": null,
            "grid_template_columns": null,
            "flex": null,
            "_model_name": "LayoutModel",
            "justify_items": null,
            "grid_row": null,
            "max_height": null,
            "align_content": null,
            "visibility": null,
            "align_self": null,
            "height": null,
            "min_height": null,
            "padding": null,
            "grid_auto_rows": null,
            "grid_gap": null,
            "max_width": null,
            "order": null,
            "_view_module_version": "1.2.0",
            "grid_template_areas": null,
            "object_position": null,
            "object_fit": null,
            "grid_auto_columns": null,
            "margin": null,
            "display": null,
            "left": null
          }
        },
        "6eb7c3eda22c48718acda21ce75602ab": {
          "model_module": "@jupyter-widgets/controls",
          "model_name": "DescriptionStyleModel",
          "state": {
            "_view_name": "StyleView",
            "_model_name": "DescriptionStyleModel",
            "description_width": "",
            "_view_module": "@jupyter-widgets/base",
            "_model_module_version": "1.5.0",
            "_view_count": null,
            "_view_module_version": "1.2.0",
            "_model_module": "@jupyter-widgets/controls"
          }
        },
        "7322afe1e1bf455e87aaf242b221f558": {
          "model_module": "@jupyter-widgets/base",
          "model_name": "LayoutModel",
          "state": {
            "_view_name": "LayoutView",
            "grid_template_rows": null,
            "right": null,
            "justify_content": null,
            "_view_module": "@jupyter-widgets/base",
            "overflow": null,
            "_model_module_version": "1.2.0",
            "_view_count": null,
            "flex_flow": null,
            "width": null,
            "min_width": null,
            "border": null,
            "align_items": null,
            "bottom": null,
            "_model_module": "@jupyter-widgets/base",
            "top": null,
            "grid_column": null,
            "overflow_y": null,
            "overflow_x": null,
            "grid_auto_flow": null,
            "grid_area": null,
            "grid_template_columns": null,
            "flex": null,
            "_model_name": "LayoutModel",
            "justify_items": null,
            "grid_row": null,
            "max_height": null,
            "align_content": null,
            "visibility": null,
            "align_self": null,
            "height": null,
            "min_height": null,
            "padding": null,
            "grid_auto_rows": null,
            "grid_gap": null,
            "max_width": null,
            "order": null,
            "_view_module_version": "1.2.0",
            "grid_template_areas": null,
            "object_position": null,
            "object_fit": null,
            "grid_auto_columns": null,
            "margin": null,
            "display": null,
            "left": null
          }
        },
        "3d934d3d94084f97a30e3a495f905f4c": {
          "model_module": "@jupyter-widgets/controls",
          "model_name": "HBoxModel",
          "state": {
            "_view_name": "HBoxView",
            "_dom_classes": [],
            "_model_name": "HBoxModel",
            "_view_module": "@jupyter-widgets/controls",
            "_model_module_version": "1.5.0",
            "_view_count": null,
            "_view_module_version": "1.5.0",
            "box_style": "",
            "layout": "IPY_MODEL_f17b90206c8a4ae1ba776c038b471fe4",
            "_model_module": "@jupyter-widgets/controls",
            "children": [
              "IPY_MODEL_8ae70c92c9e34276aea556c538866568",
              "IPY_MODEL_29268aba792c4bbcaf3f4e2dff399c28"
            ]
          }
        },
        "f17b90206c8a4ae1ba776c038b471fe4": {
          "model_module": "@jupyter-widgets/base",
          "model_name": "LayoutModel",
          "state": {
            "_view_name": "LayoutView",
            "grid_template_rows": null,
            "right": null,
            "justify_content": null,
            "_view_module": "@jupyter-widgets/base",
            "overflow": null,
            "_model_module_version": "1.2.0",
            "_view_count": null,
            "flex_flow": null,
            "width": null,
            "min_width": null,
            "border": null,
            "align_items": null,
            "bottom": null,
            "_model_module": "@jupyter-widgets/base",
            "top": null,
            "grid_column": null,
            "overflow_y": null,
            "overflow_x": null,
            "grid_auto_flow": null,
            "grid_area": null,
            "grid_template_columns": null,
            "flex": null,
            "_model_name": "LayoutModel",
            "justify_items": null,
            "grid_row": null,
            "max_height": null,
            "align_content": null,
            "visibility": null,
            "align_self": null,
            "height": null,
            "min_height": null,
            "padding": null,
            "grid_auto_rows": null,
            "grid_gap": null,
            "max_width": null,
            "order": null,
            "_view_module_version": "1.2.0",
            "grid_template_areas": null,
            "object_position": null,
            "object_fit": null,
            "grid_auto_columns": null,
            "margin": null,
            "display": null,
            "left": null
          }
        },
        "8ae70c92c9e34276aea556c538866568": {
          "model_module": "@jupyter-widgets/controls",
          "model_name": "FloatProgressModel",
          "state": {
            "_view_name": "ProgressView",
            "style": "IPY_MODEL_12802bba862b4011a2217cd4a0ecf392",
            "_dom_classes": [],
            "description": "Epoch 1: 100%",
            "_model_name": "FloatProgressModel",
            "bar_style": "",
            "max": 78,
            "_view_module": "@jupyter-widgets/controls",
            "_model_module_version": "1.5.0",
            "value": 78,
            "_view_count": null,
            "_view_module_version": "1.5.0",
            "orientation": "horizontal",
            "min": 0,
            "description_tooltip": null,
            "_model_module": "@jupyter-widgets/controls",
            "layout": "IPY_MODEL_d20a511e3d3946feab51458afbc0ea85"
          }
        },
        "29268aba792c4bbcaf3f4e2dff399c28": {
          "model_module": "@jupyter-widgets/controls",
          "model_name": "HTMLModel",
          "state": {
            "_view_name": "HTMLView",
            "style": "IPY_MODEL_20a4bd002f2f42ab8529cf6b459b3f5e",
            "_dom_classes": [],
            "description": "",
            "_model_name": "HTMLModel",
            "placeholder": "​",
            "_view_module": "@jupyter-widgets/controls",
            "_model_module_version": "1.5.0",
            "value": " 78/78 [00:00&lt;00:00, 110.09it/s, loss=1.77]",
            "_view_count": null,
            "_view_module_version": "1.5.0",
            "description_tooltip": null,
            "_model_module": "@jupyter-widgets/controls",
            "layout": "IPY_MODEL_a1831bc175904366b77000ac6aaedbd9"
          }
        },
        "12802bba862b4011a2217cd4a0ecf392": {
          "model_module": "@jupyter-widgets/controls",
          "model_name": "ProgressStyleModel",
          "state": {
            "_view_name": "StyleView",
            "_model_name": "ProgressStyleModel",
            "description_width": "initial",
            "_view_module": "@jupyter-widgets/base",
            "_model_module_version": "1.5.0",
            "_view_count": null,
            "_view_module_version": "1.2.0",
            "bar_color": null,
            "_model_module": "@jupyter-widgets/controls"
          }
        },
        "d20a511e3d3946feab51458afbc0ea85": {
          "model_module": "@jupyter-widgets/base",
          "model_name": "LayoutModel",
          "state": {
            "_view_name": "LayoutView",
            "grid_template_rows": null,
            "right": null,
            "justify_content": null,
            "_view_module": "@jupyter-widgets/base",
            "overflow": null,
            "_model_module_version": "1.2.0",
            "_view_count": null,
            "flex_flow": null,
            "width": null,
            "min_width": null,
            "border": null,
            "align_items": null,
            "bottom": null,
            "_model_module": "@jupyter-widgets/base",
            "top": null,
            "grid_column": null,
            "overflow_y": null,
            "overflow_x": null,
            "grid_auto_flow": null,
            "grid_area": null,
            "grid_template_columns": null,
            "flex": null,
            "_model_name": "LayoutModel",
            "justify_items": null,
            "grid_row": null,
            "max_height": null,
            "align_content": null,
            "visibility": null,
            "align_self": null,
            "height": null,
            "min_height": null,
            "padding": null,
            "grid_auto_rows": null,
            "grid_gap": null,
            "max_width": null,
            "order": null,
            "_view_module_version": "1.2.0",
            "grid_template_areas": null,
            "object_position": null,
            "object_fit": null,
            "grid_auto_columns": null,
            "margin": null,
            "display": null,
            "left": null
          }
        },
        "20a4bd002f2f42ab8529cf6b459b3f5e": {
          "model_module": "@jupyter-widgets/controls",
          "model_name": "DescriptionStyleModel",
          "state": {
            "_view_name": "StyleView",
            "_model_name": "DescriptionStyleModel",
            "description_width": "",
            "_view_module": "@jupyter-widgets/base",
            "_model_module_version": "1.5.0",
            "_view_count": null,
            "_view_module_version": "1.2.0",
            "_model_module": "@jupyter-widgets/controls"
          }
        },
        "a1831bc175904366b77000ac6aaedbd9": {
          "model_module": "@jupyter-widgets/base",
          "model_name": "LayoutModel",
          "state": {
            "_view_name": "LayoutView",
            "grid_template_rows": null,
            "right": null,
            "justify_content": null,
            "_view_module": "@jupyter-widgets/base",
            "overflow": null,
            "_model_module_version": "1.2.0",
            "_view_count": null,
            "flex_flow": null,
            "width": null,
            "min_width": null,
            "border": null,
            "align_items": null,
            "bottom": null,
            "_model_module": "@jupyter-widgets/base",
            "top": null,
            "grid_column": null,
            "overflow_y": null,
            "overflow_x": null,
            "grid_auto_flow": null,
            "grid_area": null,
            "grid_template_columns": null,
            "flex": null,
            "_model_name": "LayoutModel",
            "justify_items": null,
            "grid_row": null,
            "max_height": null,
            "align_content": null,
            "visibility": null,
            "align_self": null,
            "height": null,
            "min_height": null,
            "padding": null,
            "grid_auto_rows": null,
            "grid_gap": null,
            "max_width": null,
            "order": null,
            "_view_module_version": "1.2.0",
            "grid_template_areas": null,
            "object_position": null,
            "object_fit": null,
            "grid_auto_columns": null,
            "margin": null,
            "display": null,
            "left": null
          }
        },
        "b5c1ea09dfeb472392432d557af8592e": {
          "model_module": "@jupyter-widgets/controls",
          "model_name": "HBoxModel",
          "state": {
            "_view_name": "HBoxView",
            "_dom_classes": [],
            "_model_name": "HBoxModel",
            "_view_module": "@jupyter-widgets/controls",
            "_model_module_version": "1.5.0",
            "_view_count": null,
            "_view_module_version": "1.5.0",
            "box_style": "",
            "layout": "IPY_MODEL_90891b8c15bd403a89acc31270dc46a8",
            "_model_module": "@jupyter-widgets/controls",
            "children": [
              "IPY_MODEL_561398a3e1c64e4c95e70393576a8967",
              "IPY_MODEL_f2b355c76d1d4ea8a740c6f2a32abbeb"
            ]
          }
        },
        "90891b8c15bd403a89acc31270dc46a8": {
          "model_module": "@jupyter-widgets/base",
          "model_name": "LayoutModel",
          "state": {
            "_view_name": "LayoutView",
            "grid_template_rows": null,
            "right": null,
            "justify_content": null,
            "_view_module": "@jupyter-widgets/base",
            "overflow": null,
            "_model_module_version": "1.2.0",
            "_view_count": null,
            "flex_flow": null,
            "width": null,
            "min_width": null,
            "border": null,
            "align_items": null,
            "bottom": null,
            "_model_module": "@jupyter-widgets/base",
            "top": null,
            "grid_column": null,
            "overflow_y": null,
            "overflow_x": null,
            "grid_auto_flow": null,
            "grid_area": null,
            "grid_template_columns": null,
            "flex": null,
            "_model_name": "LayoutModel",
            "justify_items": null,
            "grid_row": null,
            "max_height": null,
            "align_content": null,
            "visibility": null,
            "align_self": null,
            "height": null,
            "min_height": null,
            "padding": null,
            "grid_auto_rows": null,
            "grid_gap": null,
            "max_width": null,
            "order": null,
            "_view_module_version": "1.2.0",
            "grid_template_areas": null,
            "object_position": null,
            "object_fit": null,
            "grid_auto_columns": null,
            "margin": null,
            "display": null,
            "left": null
          }
        },
        "561398a3e1c64e4c95e70393576a8967": {
          "model_module": "@jupyter-widgets/controls",
          "model_name": "FloatProgressModel",
          "state": {
            "_view_name": "ProgressView",
            "style": "IPY_MODEL_b218f94e7dec4ea0872bc0be05ff7a49",
            "_dom_classes": [],
            "description": "100%",
            "_model_name": "FloatProgressModel",
            "bar_style": "",
            "max": 20,
            "_view_module": "@jupyter-widgets/controls",
            "_model_module_version": "1.5.0",
            "value": 20,
            "_view_count": null,
            "_view_module_version": "1.5.0",
            "orientation": "horizontal",
            "min": 0,
            "description_tooltip": null,
            "_model_module": "@jupyter-widgets/controls",
            "layout": "IPY_MODEL_48584e200d164e9eab0177b9504874cc"
          }
        },
        "f2b355c76d1d4ea8a740c6f2a32abbeb": {
          "model_module": "@jupyter-widgets/controls",
          "model_name": "HTMLModel",
          "state": {
            "_view_name": "HTMLView",
            "style": "IPY_MODEL_c372c175b6bc4b699c57ea41e7bb2536",
            "_dom_classes": [],
            "description": "",
            "_model_name": "HTMLModel",
            "placeholder": "​",
            "_view_module": "@jupyter-widgets/controls",
            "_model_module_version": "1.5.0",
            "value": " 20/20 [00:00&lt;00:00, 260.37it/s]",
            "_view_count": null,
            "_view_module_version": "1.5.0",
            "description_tooltip": null,
            "_model_module": "@jupyter-widgets/controls",
            "layout": "IPY_MODEL_afdc55c922eb4e43b56a82dc42dbf8e2"
          }
        },
        "b218f94e7dec4ea0872bc0be05ff7a49": {
          "model_module": "@jupyter-widgets/controls",
          "model_name": "ProgressStyleModel",
          "state": {
            "_view_name": "StyleView",
            "_model_name": "ProgressStyleModel",
            "description_width": "initial",
            "_view_module": "@jupyter-widgets/base",
            "_model_module_version": "1.5.0",
            "_view_count": null,
            "_view_module_version": "1.2.0",
            "bar_color": null,
            "_model_module": "@jupyter-widgets/controls"
          }
        },
        "48584e200d164e9eab0177b9504874cc": {
          "model_module": "@jupyter-widgets/base",
          "model_name": "LayoutModel",
          "state": {
            "_view_name": "LayoutView",
            "grid_template_rows": null,
            "right": null,
            "justify_content": null,
            "_view_module": "@jupyter-widgets/base",
            "overflow": null,
            "_model_module_version": "1.2.0",
            "_view_count": null,
            "flex_flow": null,
            "width": null,
            "min_width": null,
            "border": null,
            "align_items": null,
            "bottom": null,
            "_model_module": "@jupyter-widgets/base",
            "top": null,
            "grid_column": null,
            "overflow_y": null,
            "overflow_x": null,
            "grid_auto_flow": null,
            "grid_area": null,
            "grid_template_columns": null,
            "flex": null,
            "_model_name": "LayoutModel",
            "justify_items": null,
            "grid_row": null,
            "max_height": null,
            "align_content": null,
            "visibility": null,
            "align_self": null,
            "height": null,
            "min_height": null,
            "padding": null,
            "grid_auto_rows": null,
            "grid_gap": null,
            "max_width": null,
            "order": null,
            "_view_module_version": "1.2.0",
            "grid_template_areas": null,
            "object_position": null,
            "object_fit": null,
            "grid_auto_columns": null,
            "margin": null,
            "display": null,
            "left": null
          }
        },
        "c372c175b6bc4b699c57ea41e7bb2536": {
          "model_module": "@jupyter-widgets/controls",
          "model_name": "DescriptionStyleModel",
          "state": {
            "_view_name": "StyleView",
            "_model_name": "DescriptionStyleModel",
            "description_width": "",
            "_view_module": "@jupyter-widgets/base",
            "_model_module_version": "1.5.0",
            "_view_count": null,
            "_view_module_version": "1.2.0",
            "_model_module": "@jupyter-widgets/controls"
          }
        },
        "afdc55c922eb4e43b56a82dc42dbf8e2": {
          "model_module": "@jupyter-widgets/base",
          "model_name": "LayoutModel",
          "state": {
            "_view_name": "LayoutView",
            "grid_template_rows": null,
            "right": null,
            "justify_content": null,
            "_view_module": "@jupyter-widgets/base",
            "overflow": null,
            "_model_module_version": "1.2.0",
            "_view_count": null,
            "flex_flow": null,
            "width": null,
            "min_width": null,
            "border": null,
            "align_items": null,
            "bottom": null,
            "_model_module": "@jupyter-widgets/base",
            "top": null,
            "grid_column": null,
            "overflow_y": null,
            "overflow_x": null,
            "grid_auto_flow": null,
            "grid_area": null,
            "grid_template_columns": null,
            "flex": null,
            "_model_name": "LayoutModel",
            "justify_items": null,
            "grid_row": null,
            "max_height": null,
            "align_content": null,
            "visibility": null,
            "align_self": null,
            "height": null,
            "min_height": null,
            "padding": null,
            "grid_auto_rows": null,
            "grid_gap": null,
            "max_width": null,
            "order": null,
            "_view_module_version": "1.2.0",
            "grid_template_areas": null,
            "object_position": null,
            "object_fit": null,
            "grid_auto_columns": null,
            "margin": null,
            "display": null,
            "left": null
          }
        },
        "1d9da0d62901424f878db0f21d4ef43d": {
          "model_module": "@jupyter-widgets/controls",
          "model_name": "HBoxModel",
          "state": {
            "_view_name": "HBoxView",
            "_dom_classes": [],
            "_model_name": "HBoxModel",
            "_view_module": "@jupyter-widgets/controls",
            "_model_module_version": "1.5.0",
            "_view_count": null,
            "_view_module_version": "1.5.0",
            "box_style": "",
            "layout": "IPY_MODEL_0da073afae5a4b0992a84b6b52aabf39",
            "_model_module": "@jupyter-widgets/controls",
            "children": [
              "IPY_MODEL_83b673a310254cb686f9d29622dc8e70",
              "IPY_MODEL_25a925f8c507429f8db8d9ca1cb5e15d"
            ]
          }
        },
        "0da073afae5a4b0992a84b6b52aabf39": {
          "model_module": "@jupyter-widgets/base",
          "model_name": "LayoutModel",
          "state": {
            "_view_name": "LayoutView",
            "grid_template_rows": null,
            "right": null,
            "justify_content": null,
            "_view_module": "@jupyter-widgets/base",
            "overflow": null,
            "_model_module_version": "1.2.0",
            "_view_count": null,
            "flex_flow": null,
            "width": null,
            "min_width": null,
            "border": null,
            "align_items": null,
            "bottom": null,
            "_model_module": "@jupyter-widgets/base",
            "top": null,
            "grid_column": null,
            "overflow_y": null,
            "overflow_x": null,
            "grid_auto_flow": null,
            "grid_area": null,
            "grid_template_columns": null,
            "flex": null,
            "_model_name": "LayoutModel",
            "justify_items": null,
            "grid_row": null,
            "max_height": null,
            "align_content": null,
            "visibility": null,
            "align_self": null,
            "height": null,
            "min_height": null,
            "padding": null,
            "grid_auto_rows": null,
            "grid_gap": null,
            "max_width": null,
            "order": null,
            "_view_module_version": "1.2.0",
            "grid_template_areas": null,
            "object_position": null,
            "object_fit": null,
            "grid_auto_columns": null,
            "margin": null,
            "display": null,
            "left": null
          }
        },
        "83b673a310254cb686f9d29622dc8e70": {
          "model_module": "@jupyter-widgets/controls",
          "model_name": "FloatProgressModel",
          "state": {
            "_view_name": "ProgressView",
            "style": "IPY_MODEL_c9693a1b6c7d4899bc3fa9dfb52ae231",
            "_dom_classes": [],
            "description": "Epoch 2: 100%",
            "_model_name": "FloatProgressModel",
            "bar_style": "",
            "max": 78,
            "_view_module": "@jupyter-widgets/controls",
            "_model_module_version": "1.5.0",
            "value": 78,
            "_view_count": null,
            "_view_module_version": "1.5.0",
            "orientation": "horizontal",
            "min": 0,
            "description_tooltip": null,
            "_model_module": "@jupyter-widgets/controls",
            "layout": "IPY_MODEL_6a525533fa0b437788b8664545898aa6"
          }
        },
        "25a925f8c507429f8db8d9ca1cb5e15d": {
          "model_module": "@jupyter-widgets/controls",
          "model_name": "HTMLModel",
          "state": {
            "_view_name": "HTMLView",
            "style": "IPY_MODEL_7431ae15dc454371b42bfa240f0e5031",
            "_dom_classes": [],
            "description": "",
            "_model_name": "HTMLModel",
            "placeholder": "​",
            "_view_module": "@jupyter-widgets/controls",
            "_model_module_version": "1.5.0",
            "value": " 78/78 [00:00&lt;00:00, 117.14it/s, loss=1.06]",
            "_view_count": null,
            "_view_module_version": "1.5.0",
            "description_tooltip": null,
            "_model_module": "@jupyter-widgets/controls",
            "layout": "IPY_MODEL_999574a1053f4664830436cdea965f7e"
          }
        },
        "c9693a1b6c7d4899bc3fa9dfb52ae231": {
          "model_module": "@jupyter-widgets/controls",
          "model_name": "ProgressStyleModel",
          "state": {
            "_view_name": "StyleView",
            "_model_name": "ProgressStyleModel",
            "description_width": "initial",
            "_view_module": "@jupyter-widgets/base",
            "_model_module_version": "1.5.0",
            "_view_count": null,
            "_view_module_version": "1.2.0",
            "bar_color": null,
            "_model_module": "@jupyter-widgets/controls"
          }
        },
        "6a525533fa0b437788b8664545898aa6": {
          "model_module": "@jupyter-widgets/base",
          "model_name": "LayoutModel",
          "state": {
            "_view_name": "LayoutView",
            "grid_template_rows": null,
            "right": null,
            "justify_content": null,
            "_view_module": "@jupyter-widgets/base",
            "overflow": null,
            "_model_module_version": "1.2.0",
            "_view_count": null,
            "flex_flow": null,
            "width": null,
            "min_width": null,
            "border": null,
            "align_items": null,
            "bottom": null,
            "_model_module": "@jupyter-widgets/base",
            "top": null,
            "grid_column": null,
            "overflow_y": null,
            "overflow_x": null,
            "grid_auto_flow": null,
            "grid_area": null,
            "grid_template_columns": null,
            "flex": null,
            "_model_name": "LayoutModel",
            "justify_items": null,
            "grid_row": null,
            "max_height": null,
            "align_content": null,
            "visibility": null,
            "align_self": null,
            "height": null,
            "min_height": null,
            "padding": null,
            "grid_auto_rows": null,
            "grid_gap": null,
            "max_width": null,
            "order": null,
            "_view_module_version": "1.2.0",
            "grid_template_areas": null,
            "object_position": null,
            "object_fit": null,
            "grid_auto_columns": null,
            "margin": null,
            "display": null,
            "left": null
          }
        },
        "7431ae15dc454371b42bfa240f0e5031": {
          "model_module": "@jupyter-widgets/controls",
          "model_name": "DescriptionStyleModel",
          "state": {
            "_view_name": "StyleView",
            "_model_name": "DescriptionStyleModel",
            "description_width": "",
            "_view_module": "@jupyter-widgets/base",
            "_model_module_version": "1.5.0",
            "_view_count": null,
            "_view_module_version": "1.2.0",
            "_model_module": "@jupyter-widgets/controls"
          }
        },
        "999574a1053f4664830436cdea965f7e": {
          "model_module": "@jupyter-widgets/base",
          "model_name": "LayoutModel",
          "state": {
            "_view_name": "LayoutView",
            "grid_template_rows": null,
            "right": null,
            "justify_content": null,
            "_view_module": "@jupyter-widgets/base",
            "overflow": null,
            "_model_module_version": "1.2.0",
            "_view_count": null,
            "flex_flow": null,
            "width": null,
            "min_width": null,
            "border": null,
            "align_items": null,
            "bottom": null,
            "_model_module": "@jupyter-widgets/base",
            "top": null,
            "grid_column": null,
            "overflow_y": null,
            "overflow_x": null,
            "grid_auto_flow": null,
            "grid_area": null,
            "grid_template_columns": null,
            "flex": null,
            "_model_name": "LayoutModel",
            "justify_items": null,
            "grid_row": null,
            "max_height": null,
            "align_content": null,
            "visibility": null,
            "align_self": null,
            "height": null,
            "min_height": null,
            "padding": null,
            "grid_auto_rows": null,
            "grid_gap": null,
            "max_width": null,
            "order": null,
            "_view_module_version": "1.2.0",
            "grid_template_areas": null,
            "object_position": null,
            "object_fit": null,
            "grid_auto_columns": null,
            "margin": null,
            "display": null,
            "left": null
          }
        },
        "3a0afcd25c044882a6ec05f55b65ea2a": {
          "model_module": "@jupyter-widgets/controls",
          "model_name": "HBoxModel",
          "state": {
            "_view_name": "HBoxView",
            "_dom_classes": [],
            "_model_name": "HBoxModel",
            "_view_module": "@jupyter-widgets/controls",
            "_model_module_version": "1.5.0",
            "_view_count": null,
            "_view_module_version": "1.5.0",
            "box_style": "",
            "layout": "IPY_MODEL_a9f311d2f4514f2f9674b65527649b33",
            "_model_module": "@jupyter-widgets/controls",
            "children": [
              "IPY_MODEL_42e38c44e0fd47c5a43df6fe9ab30d8f",
              "IPY_MODEL_46523bcc753347fe9d0e7d6fb431e802"
            ]
          }
        },
        "a9f311d2f4514f2f9674b65527649b33": {
          "model_module": "@jupyter-widgets/base",
          "model_name": "LayoutModel",
          "state": {
            "_view_name": "LayoutView",
            "grid_template_rows": null,
            "right": null,
            "justify_content": null,
            "_view_module": "@jupyter-widgets/base",
            "overflow": null,
            "_model_module_version": "1.2.0",
            "_view_count": null,
            "flex_flow": null,
            "width": null,
            "min_width": null,
            "border": null,
            "align_items": null,
            "bottom": null,
            "_model_module": "@jupyter-widgets/base",
            "top": null,
            "grid_column": null,
            "overflow_y": null,
            "overflow_x": null,
            "grid_auto_flow": null,
            "grid_area": null,
            "grid_template_columns": null,
            "flex": null,
            "_model_name": "LayoutModel",
            "justify_items": null,
            "grid_row": null,
            "max_height": null,
            "align_content": null,
            "visibility": null,
            "align_self": null,
            "height": null,
            "min_height": null,
            "padding": null,
            "grid_auto_rows": null,
            "grid_gap": null,
            "max_width": null,
            "order": null,
            "_view_module_version": "1.2.0",
            "grid_template_areas": null,
            "object_position": null,
            "object_fit": null,
            "grid_auto_columns": null,
            "margin": null,
            "display": null,
            "left": null
          }
        },
        "42e38c44e0fd47c5a43df6fe9ab30d8f": {
          "model_module": "@jupyter-widgets/controls",
          "model_name": "FloatProgressModel",
          "state": {
            "_view_name": "ProgressView",
            "style": "IPY_MODEL_78aee4c2a721442e95ff6bd784a61115",
            "_dom_classes": [],
            "description": "100%",
            "_model_name": "FloatProgressModel",
            "bar_style": "",
            "max": 20,
            "_view_module": "@jupyter-widgets/controls",
            "_model_module_version": "1.5.0",
            "value": 20,
            "_view_count": null,
            "_view_module_version": "1.5.0",
            "orientation": "horizontal",
            "min": 0,
            "description_tooltip": null,
            "_model_module": "@jupyter-widgets/controls",
            "layout": "IPY_MODEL_e64ecb7c01864081b3660c976b4b4ec6"
          }
        },
        "46523bcc753347fe9d0e7d6fb431e802": {
          "model_module": "@jupyter-widgets/controls",
          "model_name": "HTMLModel",
          "state": {
            "_view_name": "HTMLView",
            "style": "IPY_MODEL_68dd27d278484e8b9188b3d6a83843f3",
            "_dom_classes": [],
            "description": "",
            "_model_name": "HTMLModel",
            "placeholder": "​",
            "_view_module": "@jupyter-widgets/controls",
            "_model_module_version": "1.5.0",
            "value": " 20/20 [00:00&lt;00:00, 258.89it/s]",
            "_view_count": null,
            "_view_module_version": "1.5.0",
            "description_tooltip": null,
            "_model_module": "@jupyter-widgets/controls",
            "layout": "IPY_MODEL_27a6596da1564babaab16718595c18ff"
          }
        },
        "78aee4c2a721442e95ff6bd784a61115": {
          "model_module": "@jupyter-widgets/controls",
          "model_name": "ProgressStyleModel",
          "state": {
            "_view_name": "StyleView",
            "_model_name": "ProgressStyleModel",
            "description_width": "initial",
            "_view_module": "@jupyter-widgets/base",
            "_model_module_version": "1.5.0",
            "_view_count": null,
            "_view_module_version": "1.2.0",
            "bar_color": null,
            "_model_module": "@jupyter-widgets/controls"
          }
        },
        "e64ecb7c01864081b3660c976b4b4ec6": {
          "model_module": "@jupyter-widgets/base",
          "model_name": "LayoutModel",
          "state": {
            "_view_name": "LayoutView",
            "grid_template_rows": null,
            "right": null,
            "justify_content": null,
            "_view_module": "@jupyter-widgets/base",
            "overflow": null,
            "_model_module_version": "1.2.0",
            "_view_count": null,
            "flex_flow": null,
            "width": null,
            "min_width": null,
            "border": null,
            "align_items": null,
            "bottom": null,
            "_model_module": "@jupyter-widgets/base",
            "top": null,
            "grid_column": null,
            "overflow_y": null,
            "overflow_x": null,
            "grid_auto_flow": null,
            "grid_area": null,
            "grid_template_columns": null,
            "flex": null,
            "_model_name": "LayoutModel",
            "justify_items": null,
            "grid_row": null,
            "max_height": null,
            "align_content": null,
            "visibility": null,
            "align_self": null,
            "height": null,
            "min_height": null,
            "padding": null,
            "grid_auto_rows": null,
            "grid_gap": null,
            "max_width": null,
            "order": null,
            "_view_module_version": "1.2.0",
            "grid_template_areas": null,
            "object_position": null,
            "object_fit": null,
            "grid_auto_columns": null,
            "margin": null,
            "display": null,
            "left": null
          }
        },
        "68dd27d278484e8b9188b3d6a83843f3": {
          "model_module": "@jupyter-widgets/controls",
          "model_name": "DescriptionStyleModel",
          "state": {
            "_view_name": "StyleView",
            "_model_name": "DescriptionStyleModel",
            "description_width": "",
            "_view_module": "@jupyter-widgets/base",
            "_model_module_version": "1.5.0",
            "_view_count": null,
            "_view_module_version": "1.2.0",
            "_model_module": "@jupyter-widgets/controls"
          }
        },
        "27a6596da1564babaab16718595c18ff": {
          "model_module": "@jupyter-widgets/base",
          "model_name": "LayoutModel",
          "state": {
            "_view_name": "LayoutView",
            "grid_template_rows": null,
            "right": null,
            "justify_content": null,
            "_view_module": "@jupyter-widgets/base",
            "overflow": null,
            "_model_module_version": "1.2.0",
            "_view_count": null,
            "flex_flow": null,
            "width": null,
            "min_width": null,
            "border": null,
            "align_items": null,
            "bottom": null,
            "_model_module": "@jupyter-widgets/base",
            "top": null,
            "grid_column": null,
            "overflow_y": null,
            "overflow_x": null,
            "grid_auto_flow": null,
            "grid_area": null,
            "grid_template_columns": null,
            "flex": null,
            "_model_name": "LayoutModel",
            "justify_items": null,
            "grid_row": null,
            "max_height": null,
            "align_content": null,
            "visibility": null,
            "align_self": null,
            "height": null,
            "min_height": null,
            "padding": null,
            "grid_auto_rows": null,
            "grid_gap": null,
            "max_width": null,
            "order": null,
            "_view_module_version": "1.2.0",
            "grid_template_areas": null,
            "object_position": null,
            "object_fit": null,
            "grid_auto_columns": null,
            "margin": null,
            "display": null,
            "left": null
          }
        },
        "dc324579df4c441cbf57aaf9f19028d0": {
          "model_module": "@jupyter-widgets/controls",
          "model_name": "HBoxModel",
          "state": {
            "_view_name": "HBoxView",
            "_dom_classes": [],
            "_model_name": "HBoxModel",
            "_view_module": "@jupyter-widgets/controls",
            "_model_module_version": "1.5.0",
            "_view_count": null,
            "_view_module_version": "1.5.0",
            "box_style": "",
            "layout": "IPY_MODEL_82a04e44692b484e9cc675f73e78b8bd",
            "_model_module": "@jupyter-widgets/controls",
            "children": [
              "IPY_MODEL_75cdd5dabfe04b789ef6c3acfb5fe0e1",
              "IPY_MODEL_de8f0cc2f29a40f288e213e82d5b7d71"
            ]
          }
        },
        "82a04e44692b484e9cc675f73e78b8bd": {
          "model_module": "@jupyter-widgets/base",
          "model_name": "LayoutModel",
          "state": {
            "_view_name": "LayoutView",
            "grid_template_rows": null,
            "right": null,
            "justify_content": null,
            "_view_module": "@jupyter-widgets/base",
            "overflow": null,
            "_model_module_version": "1.2.0",
            "_view_count": null,
            "flex_flow": null,
            "width": null,
            "min_width": null,
            "border": null,
            "align_items": null,
            "bottom": null,
            "_model_module": "@jupyter-widgets/base",
            "top": null,
            "grid_column": null,
            "overflow_y": null,
            "overflow_x": null,
            "grid_auto_flow": null,
            "grid_area": null,
            "grid_template_columns": null,
            "flex": null,
            "_model_name": "LayoutModel",
            "justify_items": null,
            "grid_row": null,
            "max_height": null,
            "align_content": null,
            "visibility": null,
            "align_self": null,
            "height": null,
            "min_height": null,
            "padding": null,
            "grid_auto_rows": null,
            "grid_gap": null,
            "max_width": null,
            "order": null,
            "_view_module_version": "1.2.0",
            "grid_template_areas": null,
            "object_position": null,
            "object_fit": null,
            "grid_auto_columns": null,
            "margin": null,
            "display": null,
            "left": null
          }
        },
        "75cdd5dabfe04b789ef6c3acfb5fe0e1": {
          "model_module": "@jupyter-widgets/controls",
          "model_name": "FloatProgressModel",
          "state": {
            "_view_name": "ProgressView",
            "style": "IPY_MODEL_d6f0ad630d6042d49b6a26da2d7a4f92",
            "_dom_classes": [],
            "description": "Epoch 3: 100%",
            "_model_name": "FloatProgressModel",
            "bar_style": "",
            "max": 78,
            "_view_module": "@jupyter-widgets/controls",
            "_model_module_version": "1.5.0",
            "value": 78,
            "_view_count": null,
            "_view_module_version": "1.5.0",
            "orientation": "horizontal",
            "min": 0,
            "description_tooltip": null,
            "_model_module": "@jupyter-widgets/controls",
            "layout": "IPY_MODEL_252cfe650e8b4428b73ca78be9af7bc7"
          }
        },
        "de8f0cc2f29a40f288e213e82d5b7d71": {
          "model_module": "@jupyter-widgets/controls",
          "model_name": "HTMLModel",
          "state": {
            "_view_name": "HTMLView",
            "style": "IPY_MODEL_c8c75c7d61044e92b97769ad594adaa0",
            "_dom_classes": [],
            "description": "",
            "_model_name": "HTMLModel",
            "placeholder": "​",
            "_view_module": "@jupyter-widgets/controls",
            "_model_module_version": "1.5.0",
            "value": " 78/78 [00:00&lt;00:00, 115.47it/s, loss=1.49]",
            "_view_count": null,
            "_view_module_version": "1.5.0",
            "description_tooltip": null,
            "_model_module": "@jupyter-widgets/controls",
            "layout": "IPY_MODEL_58b10c662d7441a7ba11bdfdaa32d816"
          }
        },
        "d6f0ad630d6042d49b6a26da2d7a4f92": {
          "model_module": "@jupyter-widgets/controls",
          "model_name": "ProgressStyleModel",
          "state": {
            "_view_name": "StyleView",
            "_model_name": "ProgressStyleModel",
            "description_width": "initial",
            "_view_module": "@jupyter-widgets/base",
            "_model_module_version": "1.5.0",
            "_view_count": null,
            "_view_module_version": "1.2.0",
            "bar_color": null,
            "_model_module": "@jupyter-widgets/controls"
          }
        },
        "252cfe650e8b4428b73ca78be9af7bc7": {
          "model_module": "@jupyter-widgets/base",
          "model_name": "LayoutModel",
          "state": {
            "_view_name": "LayoutView",
            "grid_template_rows": null,
            "right": null,
            "justify_content": null,
            "_view_module": "@jupyter-widgets/base",
            "overflow": null,
            "_model_module_version": "1.2.0",
            "_view_count": null,
            "flex_flow": null,
            "width": null,
            "min_width": null,
            "border": null,
            "align_items": null,
            "bottom": null,
            "_model_module": "@jupyter-widgets/base",
            "top": null,
            "grid_column": null,
            "overflow_y": null,
            "overflow_x": null,
            "grid_auto_flow": null,
            "grid_area": null,
            "grid_template_columns": null,
            "flex": null,
            "_model_name": "LayoutModel",
            "justify_items": null,
            "grid_row": null,
            "max_height": null,
            "align_content": null,
            "visibility": null,
            "align_self": null,
            "height": null,
            "min_height": null,
            "padding": null,
            "grid_auto_rows": null,
            "grid_gap": null,
            "max_width": null,
            "order": null,
            "_view_module_version": "1.2.0",
            "grid_template_areas": null,
            "object_position": null,
            "object_fit": null,
            "grid_auto_columns": null,
            "margin": null,
            "display": null,
            "left": null
          }
        },
        "c8c75c7d61044e92b97769ad594adaa0": {
          "model_module": "@jupyter-widgets/controls",
          "model_name": "DescriptionStyleModel",
          "state": {
            "_view_name": "StyleView",
            "_model_name": "DescriptionStyleModel",
            "description_width": "",
            "_view_module": "@jupyter-widgets/base",
            "_model_module_version": "1.5.0",
            "_view_count": null,
            "_view_module_version": "1.2.0",
            "_model_module": "@jupyter-widgets/controls"
          }
        },
        "58b10c662d7441a7ba11bdfdaa32d816": {
          "model_module": "@jupyter-widgets/base",
          "model_name": "LayoutModel",
          "state": {
            "_view_name": "LayoutView",
            "grid_template_rows": null,
            "right": null,
            "justify_content": null,
            "_view_module": "@jupyter-widgets/base",
            "overflow": null,
            "_model_module_version": "1.2.0",
            "_view_count": null,
            "flex_flow": null,
            "width": null,
            "min_width": null,
            "border": null,
            "align_items": null,
            "bottom": null,
            "_model_module": "@jupyter-widgets/base",
            "top": null,
            "grid_column": null,
            "overflow_y": null,
            "overflow_x": null,
            "grid_auto_flow": null,
            "grid_area": null,
            "grid_template_columns": null,
            "flex": null,
            "_model_name": "LayoutModel",
            "justify_items": null,
            "grid_row": null,
            "max_height": null,
            "align_content": null,
            "visibility": null,
            "align_self": null,
            "height": null,
            "min_height": null,
            "padding": null,
            "grid_auto_rows": null,
            "grid_gap": null,
            "max_width": null,
            "order": null,
            "_view_module_version": "1.2.0",
            "grid_template_areas": null,
            "object_position": null,
            "object_fit": null,
            "grid_auto_columns": null,
            "margin": null,
            "display": null,
            "left": null
          }
        },
        "a4c3e8102b474bccae502ae22979384f": {
          "model_module": "@jupyter-widgets/controls",
          "model_name": "HBoxModel",
          "state": {
            "_view_name": "HBoxView",
            "_dom_classes": [],
            "_model_name": "HBoxModel",
            "_view_module": "@jupyter-widgets/controls",
            "_model_module_version": "1.5.0",
            "_view_count": null,
            "_view_module_version": "1.5.0",
            "box_style": "",
            "layout": "IPY_MODEL_496998d8884b470a9dc37adb62525c04",
            "_model_module": "@jupyter-widgets/controls",
            "children": [
              "IPY_MODEL_d3a4714db3ea404c9399e25653b94907",
              "IPY_MODEL_6785a3cb12e545a586c60330a659339c"
            ]
          }
        },
        "496998d8884b470a9dc37adb62525c04": {
          "model_module": "@jupyter-widgets/base",
          "model_name": "LayoutModel",
          "state": {
            "_view_name": "LayoutView",
            "grid_template_rows": null,
            "right": null,
            "justify_content": null,
            "_view_module": "@jupyter-widgets/base",
            "overflow": null,
            "_model_module_version": "1.2.0",
            "_view_count": null,
            "flex_flow": null,
            "width": null,
            "min_width": null,
            "border": null,
            "align_items": null,
            "bottom": null,
            "_model_module": "@jupyter-widgets/base",
            "top": null,
            "grid_column": null,
            "overflow_y": null,
            "overflow_x": null,
            "grid_auto_flow": null,
            "grid_area": null,
            "grid_template_columns": null,
            "flex": null,
            "_model_name": "LayoutModel",
            "justify_items": null,
            "grid_row": null,
            "max_height": null,
            "align_content": null,
            "visibility": null,
            "align_self": null,
            "height": null,
            "min_height": null,
            "padding": null,
            "grid_auto_rows": null,
            "grid_gap": null,
            "max_width": null,
            "order": null,
            "_view_module_version": "1.2.0",
            "grid_template_areas": null,
            "object_position": null,
            "object_fit": null,
            "grid_auto_columns": null,
            "margin": null,
            "display": null,
            "left": null
          }
        },
        "d3a4714db3ea404c9399e25653b94907": {
          "model_module": "@jupyter-widgets/controls",
          "model_name": "FloatProgressModel",
          "state": {
            "_view_name": "ProgressView",
            "style": "IPY_MODEL_f4f13dc153684959a1102232185a9e30",
            "_dom_classes": [],
            "description": "100%",
            "_model_name": "FloatProgressModel",
            "bar_style": "",
            "max": 20,
            "_view_module": "@jupyter-widgets/controls",
            "_model_module_version": "1.5.0",
            "value": 20,
            "_view_count": null,
            "_view_module_version": "1.5.0",
            "orientation": "horizontal",
            "min": 0,
            "description_tooltip": null,
            "_model_module": "@jupyter-widgets/controls",
            "layout": "IPY_MODEL_168f1e6edb3d4d90a3bcf5ed6e252e6e"
          }
        },
        "6785a3cb12e545a586c60330a659339c": {
          "model_module": "@jupyter-widgets/controls",
          "model_name": "HTMLModel",
          "state": {
            "_view_name": "HTMLView",
            "style": "IPY_MODEL_4bd73897954e4169bb3e773863c983a8",
            "_dom_classes": [],
            "description": "",
            "_model_name": "HTMLModel",
            "placeholder": "​",
            "_view_module": "@jupyter-widgets/controls",
            "_model_module_version": "1.5.0",
            "value": " 20/20 [00:00&lt;00:00, 258.76it/s]",
            "_view_count": null,
            "_view_module_version": "1.5.0",
            "description_tooltip": null,
            "_model_module": "@jupyter-widgets/controls",
            "layout": "IPY_MODEL_7a44d156972848778937a0ec50df5328"
          }
        },
        "f4f13dc153684959a1102232185a9e30": {
          "model_module": "@jupyter-widgets/controls",
          "model_name": "ProgressStyleModel",
          "state": {
            "_view_name": "StyleView",
            "_model_name": "ProgressStyleModel",
            "description_width": "initial",
            "_view_module": "@jupyter-widgets/base",
            "_model_module_version": "1.5.0",
            "_view_count": null,
            "_view_module_version": "1.2.0",
            "bar_color": null,
            "_model_module": "@jupyter-widgets/controls"
          }
        },
        "168f1e6edb3d4d90a3bcf5ed6e252e6e": {
          "model_module": "@jupyter-widgets/base",
          "model_name": "LayoutModel",
          "state": {
            "_view_name": "LayoutView",
            "grid_template_rows": null,
            "right": null,
            "justify_content": null,
            "_view_module": "@jupyter-widgets/base",
            "overflow": null,
            "_model_module_version": "1.2.0",
            "_view_count": null,
            "flex_flow": null,
            "width": null,
            "min_width": null,
            "border": null,
            "align_items": null,
            "bottom": null,
            "_model_module": "@jupyter-widgets/base",
            "top": null,
            "grid_column": null,
            "overflow_y": null,
            "overflow_x": null,
            "grid_auto_flow": null,
            "grid_area": null,
            "grid_template_columns": null,
            "flex": null,
            "_model_name": "LayoutModel",
            "justify_items": null,
            "grid_row": null,
            "max_height": null,
            "align_content": null,
            "visibility": null,
            "align_self": null,
            "height": null,
            "min_height": null,
            "padding": null,
            "grid_auto_rows": null,
            "grid_gap": null,
            "max_width": null,
            "order": null,
            "_view_module_version": "1.2.0",
            "grid_template_areas": null,
            "object_position": null,
            "object_fit": null,
            "grid_auto_columns": null,
            "margin": null,
            "display": null,
            "left": null
          }
        },
        "4bd73897954e4169bb3e773863c983a8": {
          "model_module": "@jupyter-widgets/controls",
          "model_name": "DescriptionStyleModel",
          "state": {
            "_view_name": "StyleView",
            "_model_name": "DescriptionStyleModel",
            "description_width": "",
            "_view_module": "@jupyter-widgets/base",
            "_model_module_version": "1.5.0",
            "_view_count": null,
            "_view_module_version": "1.2.0",
            "_model_module": "@jupyter-widgets/controls"
          }
        },
        "7a44d156972848778937a0ec50df5328": {
          "model_module": "@jupyter-widgets/base",
          "model_name": "LayoutModel",
          "state": {
            "_view_name": "LayoutView",
            "grid_template_rows": null,
            "right": null,
            "justify_content": null,
            "_view_module": "@jupyter-widgets/base",
            "overflow": null,
            "_model_module_version": "1.2.0",
            "_view_count": null,
            "flex_flow": null,
            "width": null,
            "min_width": null,
            "border": null,
            "align_items": null,
            "bottom": null,
            "_model_module": "@jupyter-widgets/base",
            "top": null,
            "grid_column": null,
            "overflow_y": null,
            "overflow_x": null,
            "grid_auto_flow": null,
            "grid_area": null,
            "grid_template_columns": null,
            "flex": null,
            "_model_name": "LayoutModel",
            "justify_items": null,
            "grid_row": null,
            "max_height": null,
            "align_content": null,
            "visibility": null,
            "align_self": null,
            "height": null,
            "min_height": null,
            "padding": null,
            "grid_auto_rows": null,
            "grid_gap": null,
            "max_width": null,
            "order": null,
            "_view_module_version": "1.2.0",
            "grid_template_areas": null,
            "object_position": null,
            "object_fit": null,
            "grid_auto_columns": null,
            "margin": null,
            "display": null,
            "left": null
          }
        },
        "f46d12d3a6b243959c2a7cb08ebb1907": {
          "model_module": "@jupyter-widgets/controls",
          "model_name": "HBoxModel",
          "state": {
            "_view_name": "HBoxView",
            "_dom_classes": [],
            "_model_name": "HBoxModel",
            "_view_module": "@jupyter-widgets/controls",
            "_model_module_version": "1.5.0",
            "_view_count": null,
            "_view_module_version": "1.5.0",
            "box_style": "",
            "layout": "IPY_MODEL_a09b15a9b9d54e99ab9fd9d958042dee",
            "_model_module": "@jupyter-widgets/controls",
            "children": [
              "IPY_MODEL_e7cce0ce3efd439e860ae6f75f871be4",
              "IPY_MODEL_0fc4321ab65d44f083496fbc0e8ac314"
            ]
          }
        },
        "a09b15a9b9d54e99ab9fd9d958042dee": {
          "model_module": "@jupyter-widgets/base",
          "model_name": "LayoutModel",
          "state": {
            "_view_name": "LayoutView",
            "grid_template_rows": null,
            "right": null,
            "justify_content": null,
            "_view_module": "@jupyter-widgets/base",
            "overflow": null,
            "_model_module_version": "1.2.0",
            "_view_count": null,
            "flex_flow": null,
            "width": null,
            "min_width": null,
            "border": null,
            "align_items": null,
            "bottom": null,
            "_model_module": "@jupyter-widgets/base",
            "top": null,
            "grid_column": null,
            "overflow_y": null,
            "overflow_x": null,
            "grid_auto_flow": null,
            "grid_area": null,
            "grid_template_columns": null,
            "flex": null,
            "_model_name": "LayoutModel",
            "justify_items": null,
            "grid_row": null,
            "max_height": null,
            "align_content": null,
            "visibility": null,
            "align_self": null,
            "height": null,
            "min_height": null,
            "padding": null,
            "grid_auto_rows": null,
            "grid_gap": null,
            "max_width": null,
            "order": null,
            "_view_module_version": "1.2.0",
            "grid_template_areas": null,
            "object_position": null,
            "object_fit": null,
            "grid_auto_columns": null,
            "margin": null,
            "display": null,
            "left": null
          }
        },
        "e7cce0ce3efd439e860ae6f75f871be4": {
          "model_module": "@jupyter-widgets/controls",
          "model_name": "FloatProgressModel",
          "state": {
            "_view_name": "ProgressView",
            "style": "IPY_MODEL_5bd4177643a44403ba217fe6187be4ca",
            "_dom_classes": [],
            "description": "Epoch 4: 100%",
            "_model_name": "FloatProgressModel",
            "bar_style": "",
            "max": 78,
            "_view_module": "@jupyter-widgets/controls",
            "_model_module_version": "1.5.0",
            "value": 78,
            "_view_count": null,
            "_view_module_version": "1.5.0",
            "orientation": "horizontal",
            "min": 0,
            "description_tooltip": null,
            "_model_module": "@jupyter-widgets/controls",
            "layout": "IPY_MODEL_a45112c51f2641c4a6aa6b82fe34f309"
          }
        },
        "0fc4321ab65d44f083496fbc0e8ac314": {
          "model_module": "@jupyter-widgets/controls",
          "model_name": "HTMLModel",
          "state": {
            "_view_name": "HTMLView",
            "style": "IPY_MODEL_0535172a7b0f43cda5503a74593bb8ec",
            "_dom_classes": [],
            "description": "",
            "_model_name": "HTMLModel",
            "placeholder": "​",
            "_view_module": "@jupyter-widgets/controls",
            "_model_module_version": "1.5.0",
            "value": " 78/78 [00:00&lt;00:00, 119.71it/s, loss=1.82]",
            "_view_count": null,
            "_view_module_version": "1.5.0",
            "description_tooltip": null,
            "_model_module": "@jupyter-widgets/controls",
            "layout": "IPY_MODEL_a48462c24ad14eeaba47ca1e7d216e77"
          }
        },
        "5bd4177643a44403ba217fe6187be4ca": {
          "model_module": "@jupyter-widgets/controls",
          "model_name": "ProgressStyleModel",
          "state": {
            "_view_name": "StyleView",
            "_model_name": "ProgressStyleModel",
            "description_width": "initial",
            "_view_module": "@jupyter-widgets/base",
            "_model_module_version": "1.5.0",
            "_view_count": null,
            "_view_module_version": "1.2.0",
            "bar_color": null,
            "_model_module": "@jupyter-widgets/controls"
          }
        },
        "a45112c51f2641c4a6aa6b82fe34f309": {
          "model_module": "@jupyter-widgets/base",
          "model_name": "LayoutModel",
          "state": {
            "_view_name": "LayoutView",
            "grid_template_rows": null,
            "right": null,
            "justify_content": null,
            "_view_module": "@jupyter-widgets/base",
            "overflow": null,
            "_model_module_version": "1.2.0",
            "_view_count": null,
            "flex_flow": null,
            "width": null,
            "min_width": null,
            "border": null,
            "align_items": null,
            "bottom": null,
            "_model_module": "@jupyter-widgets/base",
            "top": null,
            "grid_column": null,
            "overflow_y": null,
            "overflow_x": null,
            "grid_auto_flow": null,
            "grid_area": null,
            "grid_template_columns": null,
            "flex": null,
            "_model_name": "LayoutModel",
            "justify_items": null,
            "grid_row": null,
            "max_height": null,
            "align_content": null,
            "visibility": null,
            "align_self": null,
            "height": null,
            "min_height": null,
            "padding": null,
            "grid_auto_rows": null,
            "grid_gap": null,
            "max_width": null,
            "order": null,
            "_view_module_version": "1.2.0",
            "grid_template_areas": null,
            "object_position": null,
            "object_fit": null,
            "grid_auto_columns": null,
            "margin": null,
            "display": null,
            "left": null
          }
        },
        "0535172a7b0f43cda5503a74593bb8ec": {
          "model_module": "@jupyter-widgets/controls",
          "model_name": "DescriptionStyleModel",
          "state": {
            "_view_name": "StyleView",
            "_model_name": "DescriptionStyleModel",
            "description_width": "",
            "_view_module": "@jupyter-widgets/base",
            "_model_module_version": "1.5.0",
            "_view_count": null,
            "_view_module_version": "1.2.0",
            "_model_module": "@jupyter-widgets/controls"
          }
        },
        "a48462c24ad14eeaba47ca1e7d216e77": {
          "model_module": "@jupyter-widgets/base",
          "model_name": "LayoutModel",
          "state": {
            "_view_name": "LayoutView",
            "grid_template_rows": null,
            "right": null,
            "justify_content": null,
            "_view_module": "@jupyter-widgets/base",
            "overflow": null,
            "_model_module_version": "1.2.0",
            "_view_count": null,
            "flex_flow": null,
            "width": null,
            "min_width": null,
            "border": null,
            "align_items": null,
            "bottom": null,
            "_model_module": "@jupyter-widgets/base",
            "top": null,
            "grid_column": null,
            "overflow_y": null,
            "overflow_x": null,
            "grid_auto_flow": null,
            "grid_area": null,
            "grid_template_columns": null,
            "flex": null,
            "_model_name": "LayoutModel",
            "justify_items": null,
            "grid_row": null,
            "max_height": null,
            "align_content": null,
            "visibility": null,
            "align_self": null,
            "height": null,
            "min_height": null,
            "padding": null,
            "grid_auto_rows": null,
            "grid_gap": null,
            "max_width": null,
            "order": null,
            "_view_module_version": "1.2.0",
            "grid_template_areas": null,
            "object_position": null,
            "object_fit": null,
            "grid_auto_columns": null,
            "margin": null,
            "display": null,
            "left": null
          }
        },
        "c98b1c2dec11490da90c0ea456cb175b": {
          "model_module": "@jupyter-widgets/controls",
          "model_name": "HBoxModel",
          "state": {
            "_view_name": "HBoxView",
            "_dom_classes": [],
            "_model_name": "HBoxModel",
            "_view_module": "@jupyter-widgets/controls",
            "_model_module_version": "1.5.0",
            "_view_count": null,
            "_view_module_version": "1.5.0",
            "box_style": "",
            "layout": "IPY_MODEL_5735d9ebcf83492f8f163fdd40c04291",
            "_model_module": "@jupyter-widgets/controls",
            "children": [
              "IPY_MODEL_6589e266ef7041ceb12f67c2b5aa009a",
              "IPY_MODEL_3db6355c5eb348beb6470ce0fb5da874"
            ]
          }
        },
        "5735d9ebcf83492f8f163fdd40c04291": {
          "model_module": "@jupyter-widgets/base",
          "model_name": "LayoutModel",
          "state": {
            "_view_name": "LayoutView",
            "grid_template_rows": null,
            "right": null,
            "justify_content": null,
            "_view_module": "@jupyter-widgets/base",
            "overflow": null,
            "_model_module_version": "1.2.0",
            "_view_count": null,
            "flex_flow": null,
            "width": null,
            "min_width": null,
            "border": null,
            "align_items": null,
            "bottom": null,
            "_model_module": "@jupyter-widgets/base",
            "top": null,
            "grid_column": null,
            "overflow_y": null,
            "overflow_x": null,
            "grid_auto_flow": null,
            "grid_area": null,
            "grid_template_columns": null,
            "flex": null,
            "_model_name": "LayoutModel",
            "justify_items": null,
            "grid_row": null,
            "max_height": null,
            "align_content": null,
            "visibility": null,
            "align_self": null,
            "height": null,
            "min_height": null,
            "padding": null,
            "grid_auto_rows": null,
            "grid_gap": null,
            "max_width": null,
            "order": null,
            "_view_module_version": "1.2.0",
            "grid_template_areas": null,
            "object_position": null,
            "object_fit": null,
            "grid_auto_columns": null,
            "margin": null,
            "display": null,
            "left": null
          }
        },
        "6589e266ef7041ceb12f67c2b5aa009a": {
          "model_module": "@jupyter-widgets/controls",
          "model_name": "FloatProgressModel",
          "state": {
            "_view_name": "ProgressView",
            "style": "IPY_MODEL_e7d02cf899ad4ba9bd1a8a36a1491e70",
            "_dom_classes": [],
            "description": "100%",
            "_model_name": "FloatProgressModel",
            "bar_style": "",
            "max": 20,
            "_view_module": "@jupyter-widgets/controls",
            "_model_module_version": "1.5.0",
            "value": 20,
            "_view_count": null,
            "_view_module_version": "1.5.0",
            "orientation": "horizontal",
            "min": 0,
            "description_tooltip": null,
            "_model_module": "@jupyter-widgets/controls",
            "layout": "IPY_MODEL_44b871df259e46289153f80945963c0f"
          }
        },
        "3db6355c5eb348beb6470ce0fb5da874": {
          "model_module": "@jupyter-widgets/controls",
          "model_name": "HTMLModel",
          "state": {
            "_view_name": "HTMLView",
            "style": "IPY_MODEL_7a29136a8974422798fb9a2a65b0afa4",
            "_dom_classes": [],
            "description": "",
            "_model_name": "HTMLModel",
            "placeholder": "​",
            "_view_module": "@jupyter-widgets/controls",
            "_model_module_version": "1.5.0",
            "value": " 20/20 [00:00&lt;00:00, 251.44it/s]",
            "_view_count": null,
            "_view_module_version": "1.5.0",
            "description_tooltip": null,
            "_model_module": "@jupyter-widgets/controls",
            "layout": "IPY_MODEL_b900aaf85919462cab364a27aa7a1748"
          }
        },
        "e7d02cf899ad4ba9bd1a8a36a1491e70": {
          "model_module": "@jupyter-widgets/controls",
          "model_name": "ProgressStyleModel",
          "state": {
            "_view_name": "StyleView",
            "_model_name": "ProgressStyleModel",
            "description_width": "initial",
            "_view_module": "@jupyter-widgets/base",
            "_model_module_version": "1.5.0",
            "_view_count": null,
            "_view_module_version": "1.2.0",
            "bar_color": null,
            "_model_module": "@jupyter-widgets/controls"
          }
        },
        "44b871df259e46289153f80945963c0f": {
          "model_module": "@jupyter-widgets/base",
          "model_name": "LayoutModel",
          "state": {
            "_view_name": "LayoutView",
            "grid_template_rows": null,
            "right": null,
            "justify_content": null,
            "_view_module": "@jupyter-widgets/base",
            "overflow": null,
            "_model_module_version": "1.2.0",
            "_view_count": null,
            "flex_flow": null,
            "width": null,
            "min_width": null,
            "border": null,
            "align_items": null,
            "bottom": null,
            "_model_module": "@jupyter-widgets/base",
            "top": null,
            "grid_column": null,
            "overflow_y": null,
            "overflow_x": null,
            "grid_auto_flow": null,
            "grid_area": null,
            "grid_template_columns": null,
            "flex": null,
            "_model_name": "LayoutModel",
            "justify_items": null,
            "grid_row": null,
            "max_height": null,
            "align_content": null,
            "visibility": null,
            "align_self": null,
            "height": null,
            "min_height": null,
            "padding": null,
            "grid_auto_rows": null,
            "grid_gap": null,
            "max_width": null,
            "order": null,
            "_view_module_version": "1.2.0",
            "grid_template_areas": null,
            "object_position": null,
            "object_fit": null,
            "grid_auto_columns": null,
            "margin": null,
            "display": null,
            "left": null
          }
        },
        "7a29136a8974422798fb9a2a65b0afa4": {
          "model_module": "@jupyter-widgets/controls",
          "model_name": "DescriptionStyleModel",
          "state": {
            "_view_name": "StyleView",
            "_model_name": "DescriptionStyleModel",
            "description_width": "",
            "_view_module": "@jupyter-widgets/base",
            "_model_module_version": "1.5.0",
            "_view_count": null,
            "_view_module_version": "1.2.0",
            "_model_module": "@jupyter-widgets/controls"
          }
        },
        "b900aaf85919462cab364a27aa7a1748": {
          "model_module": "@jupyter-widgets/base",
          "model_name": "LayoutModel",
          "state": {
            "_view_name": "LayoutView",
            "grid_template_rows": null,
            "right": null,
            "justify_content": null,
            "_view_module": "@jupyter-widgets/base",
            "overflow": null,
            "_model_module_version": "1.2.0",
            "_view_count": null,
            "flex_flow": null,
            "width": null,
            "min_width": null,
            "border": null,
            "align_items": null,
            "bottom": null,
            "_model_module": "@jupyter-widgets/base",
            "top": null,
            "grid_column": null,
            "overflow_y": null,
            "overflow_x": null,
            "grid_auto_flow": null,
            "grid_area": null,
            "grid_template_columns": null,
            "flex": null,
            "_model_name": "LayoutModel",
            "justify_items": null,
            "grid_row": null,
            "max_height": null,
            "align_content": null,
            "visibility": null,
            "align_self": null,
            "height": null,
            "min_height": null,
            "padding": null,
            "grid_auto_rows": null,
            "grid_gap": null,
            "max_width": null,
            "order": null,
            "_view_module_version": "1.2.0",
            "grid_template_areas": null,
            "object_position": null,
            "object_fit": null,
            "grid_auto_columns": null,
            "margin": null,
            "display": null,
            "left": null
          }
        },
        "548d98c5bdba48d59c3c63e515064658": {
          "model_module": "@jupyter-widgets/controls",
          "model_name": "HBoxModel",
          "state": {
            "_view_name": "HBoxView",
            "_dom_classes": [],
            "_model_name": "HBoxModel",
            "_view_module": "@jupyter-widgets/controls",
            "_model_module_version": "1.5.0",
            "_view_count": null,
            "_view_module_version": "1.5.0",
            "box_style": "",
            "layout": "IPY_MODEL_c211128311bd4ee8859c08382d7f41b9",
            "_model_module": "@jupyter-widgets/controls",
            "children": [
              "IPY_MODEL_91d4be0cf5b941b9822e2724e40a0556",
              "IPY_MODEL_23e9a2a9efb54175a501a9eb3342f246"
            ]
          }
        },
        "c211128311bd4ee8859c08382d7f41b9": {
          "model_module": "@jupyter-widgets/base",
          "model_name": "LayoutModel",
          "state": {
            "_view_name": "LayoutView",
            "grid_template_rows": null,
            "right": null,
            "justify_content": null,
            "_view_module": "@jupyter-widgets/base",
            "overflow": null,
            "_model_module_version": "1.2.0",
            "_view_count": null,
            "flex_flow": null,
            "width": null,
            "min_width": null,
            "border": null,
            "align_items": null,
            "bottom": null,
            "_model_module": "@jupyter-widgets/base",
            "top": null,
            "grid_column": null,
            "overflow_y": null,
            "overflow_x": null,
            "grid_auto_flow": null,
            "grid_area": null,
            "grid_template_columns": null,
            "flex": null,
            "_model_name": "LayoutModel",
            "justify_items": null,
            "grid_row": null,
            "max_height": null,
            "align_content": null,
            "visibility": null,
            "align_self": null,
            "height": null,
            "min_height": null,
            "padding": null,
            "grid_auto_rows": null,
            "grid_gap": null,
            "max_width": null,
            "order": null,
            "_view_module_version": "1.2.0",
            "grid_template_areas": null,
            "object_position": null,
            "object_fit": null,
            "grid_auto_columns": null,
            "margin": null,
            "display": null,
            "left": null
          }
        },
        "91d4be0cf5b941b9822e2724e40a0556": {
          "model_module": "@jupyter-widgets/controls",
          "model_name": "FloatProgressModel",
          "state": {
            "_view_name": "ProgressView",
            "style": "IPY_MODEL_9c4ba91095704812a3ff69fa6d658911",
            "_dom_classes": [],
            "description": "Epoch 5: 100%",
            "_model_name": "FloatProgressModel",
            "bar_style": "",
            "max": 78,
            "_view_module": "@jupyter-widgets/controls",
            "_model_module_version": "1.5.0",
            "value": 78,
            "_view_count": null,
            "_view_module_version": "1.5.0",
            "orientation": "horizontal",
            "min": 0,
            "description_tooltip": null,
            "_model_module": "@jupyter-widgets/controls",
            "layout": "IPY_MODEL_e96b7a46fcad421aa6ae918bebccf676"
          }
        },
        "23e9a2a9efb54175a501a9eb3342f246": {
          "model_module": "@jupyter-widgets/controls",
          "model_name": "HTMLModel",
          "state": {
            "_view_name": "HTMLView",
            "style": "IPY_MODEL_a3f26ddfbbc241adb994abf09b92c2af",
            "_dom_classes": [],
            "description": "",
            "_model_name": "HTMLModel",
            "placeholder": "​",
            "_view_module": "@jupyter-widgets/controls",
            "_model_module_version": "1.5.0",
            "value": " 78/78 [00:00&lt;00:00, 103.79it/s, loss=1.8]",
            "_view_count": null,
            "_view_module_version": "1.5.0",
            "description_tooltip": null,
            "_model_module": "@jupyter-widgets/controls",
            "layout": "IPY_MODEL_8f6eaedc6c0a40a1a7edded0acd3a63b"
          }
        },
        "9c4ba91095704812a3ff69fa6d658911": {
          "model_module": "@jupyter-widgets/controls",
          "model_name": "ProgressStyleModel",
          "state": {
            "_view_name": "StyleView",
            "_model_name": "ProgressStyleModel",
            "description_width": "initial",
            "_view_module": "@jupyter-widgets/base",
            "_model_module_version": "1.5.0",
            "_view_count": null,
            "_view_module_version": "1.2.0",
            "bar_color": null,
            "_model_module": "@jupyter-widgets/controls"
          }
        },
        "e96b7a46fcad421aa6ae918bebccf676": {
          "model_module": "@jupyter-widgets/base",
          "model_name": "LayoutModel",
          "state": {
            "_view_name": "LayoutView",
            "grid_template_rows": null,
            "right": null,
            "justify_content": null,
            "_view_module": "@jupyter-widgets/base",
            "overflow": null,
            "_model_module_version": "1.2.0",
            "_view_count": null,
            "flex_flow": null,
            "width": null,
            "min_width": null,
            "border": null,
            "align_items": null,
            "bottom": null,
            "_model_module": "@jupyter-widgets/base",
            "top": null,
            "grid_column": null,
            "overflow_y": null,
            "overflow_x": null,
            "grid_auto_flow": null,
            "grid_area": null,
            "grid_template_columns": null,
            "flex": null,
            "_model_name": "LayoutModel",
            "justify_items": null,
            "grid_row": null,
            "max_height": null,
            "align_content": null,
            "visibility": null,
            "align_self": null,
            "height": null,
            "min_height": null,
            "padding": null,
            "grid_auto_rows": null,
            "grid_gap": null,
            "max_width": null,
            "order": null,
            "_view_module_version": "1.2.0",
            "grid_template_areas": null,
            "object_position": null,
            "object_fit": null,
            "grid_auto_columns": null,
            "margin": null,
            "display": null,
            "left": null
          }
        },
        "a3f26ddfbbc241adb994abf09b92c2af": {
          "model_module": "@jupyter-widgets/controls",
          "model_name": "DescriptionStyleModel",
          "state": {
            "_view_name": "StyleView",
            "_model_name": "DescriptionStyleModel",
            "description_width": "",
            "_view_module": "@jupyter-widgets/base",
            "_model_module_version": "1.5.0",
            "_view_count": null,
            "_view_module_version": "1.2.0",
            "_model_module": "@jupyter-widgets/controls"
          }
        },
        "8f6eaedc6c0a40a1a7edded0acd3a63b": {
          "model_module": "@jupyter-widgets/base",
          "model_name": "LayoutModel",
          "state": {
            "_view_name": "LayoutView",
            "grid_template_rows": null,
            "right": null,
            "justify_content": null,
            "_view_module": "@jupyter-widgets/base",
            "overflow": null,
            "_model_module_version": "1.2.0",
            "_view_count": null,
            "flex_flow": null,
            "width": null,
            "min_width": null,
            "border": null,
            "align_items": null,
            "bottom": null,
            "_model_module": "@jupyter-widgets/base",
            "top": null,
            "grid_column": null,
            "overflow_y": null,
            "overflow_x": null,
            "grid_auto_flow": null,
            "grid_area": null,
            "grid_template_columns": null,
            "flex": null,
            "_model_name": "LayoutModel",
            "justify_items": null,
            "grid_row": null,
            "max_height": null,
            "align_content": null,
            "visibility": null,
            "align_self": null,
            "height": null,
            "min_height": null,
            "padding": null,
            "grid_auto_rows": null,
            "grid_gap": null,
            "max_width": null,
            "order": null,
            "_view_module_version": "1.2.0",
            "grid_template_areas": null,
            "object_position": null,
            "object_fit": null,
            "grid_auto_columns": null,
            "margin": null,
            "display": null,
            "left": null
          }
        },
        "477ebd6f9d314b9a83ac9c11fc0acf2a": {
          "model_module": "@jupyter-widgets/controls",
          "model_name": "HBoxModel",
          "state": {
            "_view_name": "HBoxView",
            "_dom_classes": [],
            "_model_name": "HBoxModel",
            "_view_module": "@jupyter-widgets/controls",
            "_model_module_version": "1.5.0",
            "_view_count": null,
            "_view_module_version": "1.5.0",
            "box_style": "",
            "layout": "IPY_MODEL_b652f89fb5194d20b9f47dc383987c2e",
            "_model_module": "@jupyter-widgets/controls",
            "children": [
              "IPY_MODEL_edee202445c34890aa2d8738b088a10b",
              "IPY_MODEL_da0e20b283ab40128934b3c5fd847335"
            ]
          }
        },
        "b652f89fb5194d20b9f47dc383987c2e": {
          "model_module": "@jupyter-widgets/base",
          "model_name": "LayoutModel",
          "state": {
            "_view_name": "LayoutView",
            "grid_template_rows": null,
            "right": null,
            "justify_content": null,
            "_view_module": "@jupyter-widgets/base",
            "overflow": null,
            "_model_module_version": "1.2.0",
            "_view_count": null,
            "flex_flow": null,
            "width": null,
            "min_width": null,
            "border": null,
            "align_items": null,
            "bottom": null,
            "_model_module": "@jupyter-widgets/base",
            "top": null,
            "grid_column": null,
            "overflow_y": null,
            "overflow_x": null,
            "grid_auto_flow": null,
            "grid_area": null,
            "grid_template_columns": null,
            "flex": null,
            "_model_name": "LayoutModel",
            "justify_items": null,
            "grid_row": null,
            "max_height": null,
            "align_content": null,
            "visibility": null,
            "align_self": null,
            "height": null,
            "min_height": null,
            "padding": null,
            "grid_auto_rows": null,
            "grid_gap": null,
            "max_width": null,
            "order": null,
            "_view_module_version": "1.2.0",
            "grid_template_areas": null,
            "object_position": null,
            "object_fit": null,
            "grid_auto_columns": null,
            "margin": null,
            "display": null,
            "left": null
          }
        },
        "edee202445c34890aa2d8738b088a10b": {
          "model_module": "@jupyter-widgets/controls",
          "model_name": "FloatProgressModel",
          "state": {
            "_view_name": "ProgressView",
            "style": "IPY_MODEL_0778f0e1cbf34a2d8219ee1ff1a9422f",
            "_dom_classes": [],
            "description": "100%",
            "_model_name": "FloatProgressModel",
            "bar_style": "",
            "max": 20,
            "_view_module": "@jupyter-widgets/controls",
            "_model_module_version": "1.5.0",
            "value": 20,
            "_view_count": null,
            "_view_module_version": "1.5.0",
            "orientation": "horizontal",
            "min": 0,
            "description_tooltip": null,
            "_model_module": "@jupyter-widgets/controls",
            "layout": "IPY_MODEL_02f6e290c18a41c7aac25dc9e8786bcc"
          }
        },
        "da0e20b283ab40128934b3c5fd847335": {
          "model_module": "@jupyter-widgets/controls",
          "model_name": "HTMLModel",
          "state": {
            "_view_name": "HTMLView",
            "style": "IPY_MODEL_adc515cd2212404da95b40e0dc177336",
            "_dom_classes": [],
            "description": "",
            "_model_name": "HTMLModel",
            "placeholder": "​",
            "_view_module": "@jupyter-widgets/controls",
            "_model_module_version": "1.5.0",
            "value": " 20/20 [00:00&lt;00:00, 236.93it/s]",
            "_view_count": null,
            "_view_module_version": "1.5.0",
            "description_tooltip": null,
            "_model_module": "@jupyter-widgets/controls",
            "layout": "IPY_MODEL_e7bce170f6994e65a325352662f57b8f"
          }
        },
        "0778f0e1cbf34a2d8219ee1ff1a9422f": {
          "model_module": "@jupyter-widgets/controls",
          "model_name": "ProgressStyleModel",
          "state": {
            "_view_name": "StyleView",
            "_model_name": "ProgressStyleModel",
            "description_width": "initial",
            "_view_module": "@jupyter-widgets/base",
            "_model_module_version": "1.5.0",
            "_view_count": null,
            "_view_module_version": "1.2.0",
            "bar_color": null,
            "_model_module": "@jupyter-widgets/controls"
          }
        },
        "02f6e290c18a41c7aac25dc9e8786bcc": {
          "model_module": "@jupyter-widgets/base",
          "model_name": "LayoutModel",
          "state": {
            "_view_name": "LayoutView",
            "grid_template_rows": null,
            "right": null,
            "justify_content": null,
            "_view_module": "@jupyter-widgets/base",
            "overflow": null,
            "_model_module_version": "1.2.0",
            "_view_count": null,
            "flex_flow": null,
            "width": null,
            "min_width": null,
            "border": null,
            "align_items": null,
            "bottom": null,
            "_model_module": "@jupyter-widgets/base",
            "top": null,
            "grid_column": null,
            "overflow_y": null,
            "overflow_x": null,
            "grid_auto_flow": null,
            "grid_area": null,
            "grid_template_columns": null,
            "flex": null,
            "_model_name": "LayoutModel",
            "justify_items": null,
            "grid_row": null,
            "max_height": null,
            "align_content": null,
            "visibility": null,
            "align_self": null,
            "height": null,
            "min_height": null,
            "padding": null,
            "grid_auto_rows": null,
            "grid_gap": null,
            "max_width": null,
            "order": null,
            "_view_module_version": "1.2.0",
            "grid_template_areas": null,
            "object_position": null,
            "object_fit": null,
            "grid_auto_columns": null,
            "margin": null,
            "display": null,
            "left": null
          }
        },
        "adc515cd2212404da95b40e0dc177336": {
          "model_module": "@jupyter-widgets/controls",
          "model_name": "DescriptionStyleModel",
          "state": {
            "_view_name": "StyleView",
            "_model_name": "DescriptionStyleModel",
            "description_width": "",
            "_view_module": "@jupyter-widgets/base",
            "_model_module_version": "1.5.0",
            "_view_count": null,
            "_view_module_version": "1.2.0",
            "_model_module": "@jupyter-widgets/controls"
          }
        },
        "e7bce170f6994e65a325352662f57b8f": {
          "model_module": "@jupyter-widgets/base",
          "model_name": "LayoutModel",
          "state": {
            "_view_name": "LayoutView",
            "grid_template_rows": null,
            "right": null,
            "justify_content": null,
            "_view_module": "@jupyter-widgets/base",
            "overflow": null,
            "_model_module_version": "1.2.0",
            "_view_count": null,
            "flex_flow": null,
            "width": null,
            "min_width": null,
            "border": null,
            "align_items": null,
            "bottom": null,
            "_model_module": "@jupyter-widgets/base",
            "top": null,
            "grid_column": null,
            "overflow_y": null,
            "overflow_x": null,
            "grid_auto_flow": null,
            "grid_area": null,
            "grid_template_columns": null,
            "flex": null,
            "_model_name": "LayoutModel",
            "justify_items": null,
            "grid_row": null,
            "max_height": null,
            "align_content": null,
            "visibility": null,
            "align_self": null,
            "height": null,
            "min_height": null,
            "padding": null,
            "grid_auto_rows": null,
            "grid_gap": null,
            "max_width": null,
            "order": null,
            "_view_module_version": "1.2.0",
            "grid_template_areas": null,
            "object_position": null,
            "object_fit": null,
            "grid_auto_columns": null,
            "margin": null,
            "display": null,
            "left": null
          }
        },
        "257bc650b0b34ded97fb97ae368d8540": {
          "model_module": "@jupyter-widgets/controls",
          "model_name": "HBoxModel",
          "state": {
            "_view_name": "HBoxView",
            "_dom_classes": [],
            "_model_name": "HBoxModel",
            "_view_module": "@jupyter-widgets/controls",
            "_model_module_version": "1.5.0",
            "_view_count": null,
            "_view_module_version": "1.5.0",
            "box_style": "",
            "layout": "IPY_MODEL_110e187e2b994a059dfe4a485010aecd",
            "_model_module": "@jupyter-widgets/controls",
            "children": [
              "IPY_MODEL_0dfb52571648479eac6ec44cd31161a6",
              "IPY_MODEL_cb584aba1441418781aee7231c0c0c14"
            ]
          }
        },
        "110e187e2b994a059dfe4a485010aecd": {
          "model_module": "@jupyter-widgets/base",
          "model_name": "LayoutModel",
          "state": {
            "_view_name": "LayoutView",
            "grid_template_rows": null,
            "right": null,
            "justify_content": null,
            "_view_module": "@jupyter-widgets/base",
            "overflow": null,
            "_model_module_version": "1.2.0",
            "_view_count": null,
            "flex_flow": null,
            "width": null,
            "min_width": null,
            "border": null,
            "align_items": null,
            "bottom": null,
            "_model_module": "@jupyter-widgets/base",
            "top": null,
            "grid_column": null,
            "overflow_y": null,
            "overflow_x": null,
            "grid_auto_flow": null,
            "grid_area": null,
            "grid_template_columns": null,
            "flex": null,
            "_model_name": "LayoutModel",
            "justify_items": null,
            "grid_row": null,
            "max_height": null,
            "align_content": null,
            "visibility": null,
            "align_self": null,
            "height": null,
            "min_height": null,
            "padding": null,
            "grid_auto_rows": null,
            "grid_gap": null,
            "max_width": null,
            "order": null,
            "_view_module_version": "1.2.0",
            "grid_template_areas": null,
            "object_position": null,
            "object_fit": null,
            "grid_auto_columns": null,
            "margin": null,
            "display": null,
            "left": null
          }
        },
        "0dfb52571648479eac6ec44cd31161a6": {
          "model_module": "@jupyter-widgets/controls",
          "model_name": "FloatProgressModel",
          "state": {
            "_view_name": "ProgressView",
            "style": "IPY_MODEL_4dd2ab7803bd4f1fbdccce95ab274360",
            "_dom_classes": [],
            "description": "Epoch 6: 100%",
            "_model_name": "FloatProgressModel",
            "bar_style": "",
            "max": 78,
            "_view_module": "@jupyter-widgets/controls",
            "_model_module_version": "1.5.0",
            "value": 78,
            "_view_count": null,
            "_view_module_version": "1.5.0",
            "orientation": "horizontal",
            "min": 0,
            "description_tooltip": null,
            "_model_module": "@jupyter-widgets/controls",
            "layout": "IPY_MODEL_5c8c4e118c944e328cd98323c2584824"
          }
        },
        "cb584aba1441418781aee7231c0c0c14": {
          "model_module": "@jupyter-widgets/controls",
          "model_name": "HTMLModel",
          "state": {
            "_view_name": "HTMLView",
            "style": "IPY_MODEL_f5fe2b6132b14bddb0f2bf5d0c678501",
            "_dom_classes": [],
            "description": "",
            "_model_name": "HTMLModel",
            "placeholder": "​",
            "_view_module": "@jupyter-widgets/controls",
            "_model_module_version": "1.5.0",
            "value": " 78/78 [00:00&lt;00:00, 105.87it/s, loss=1.51]",
            "_view_count": null,
            "_view_module_version": "1.5.0",
            "description_tooltip": null,
            "_model_module": "@jupyter-widgets/controls",
            "layout": "IPY_MODEL_b8e77137fbaa4737942eeeee73570507"
          }
        },
        "4dd2ab7803bd4f1fbdccce95ab274360": {
          "model_module": "@jupyter-widgets/controls",
          "model_name": "ProgressStyleModel",
          "state": {
            "_view_name": "StyleView",
            "_model_name": "ProgressStyleModel",
            "description_width": "initial",
            "_view_module": "@jupyter-widgets/base",
            "_model_module_version": "1.5.0",
            "_view_count": null,
            "_view_module_version": "1.2.0",
            "bar_color": null,
            "_model_module": "@jupyter-widgets/controls"
          }
        },
        "5c8c4e118c944e328cd98323c2584824": {
          "model_module": "@jupyter-widgets/base",
          "model_name": "LayoutModel",
          "state": {
            "_view_name": "LayoutView",
            "grid_template_rows": null,
            "right": null,
            "justify_content": null,
            "_view_module": "@jupyter-widgets/base",
            "overflow": null,
            "_model_module_version": "1.2.0",
            "_view_count": null,
            "flex_flow": null,
            "width": null,
            "min_width": null,
            "border": null,
            "align_items": null,
            "bottom": null,
            "_model_module": "@jupyter-widgets/base",
            "top": null,
            "grid_column": null,
            "overflow_y": null,
            "overflow_x": null,
            "grid_auto_flow": null,
            "grid_area": null,
            "grid_template_columns": null,
            "flex": null,
            "_model_name": "LayoutModel",
            "justify_items": null,
            "grid_row": null,
            "max_height": null,
            "align_content": null,
            "visibility": null,
            "align_self": null,
            "height": null,
            "min_height": null,
            "padding": null,
            "grid_auto_rows": null,
            "grid_gap": null,
            "max_width": null,
            "order": null,
            "_view_module_version": "1.2.0",
            "grid_template_areas": null,
            "object_position": null,
            "object_fit": null,
            "grid_auto_columns": null,
            "margin": null,
            "display": null,
            "left": null
          }
        },
        "f5fe2b6132b14bddb0f2bf5d0c678501": {
          "model_module": "@jupyter-widgets/controls",
          "model_name": "DescriptionStyleModel",
          "state": {
            "_view_name": "StyleView",
            "_model_name": "DescriptionStyleModel",
            "description_width": "",
            "_view_module": "@jupyter-widgets/base",
            "_model_module_version": "1.5.0",
            "_view_count": null,
            "_view_module_version": "1.2.0",
            "_model_module": "@jupyter-widgets/controls"
          }
        },
        "b8e77137fbaa4737942eeeee73570507": {
          "model_module": "@jupyter-widgets/base",
          "model_name": "LayoutModel",
          "state": {
            "_view_name": "LayoutView",
            "grid_template_rows": null,
            "right": null,
            "justify_content": null,
            "_view_module": "@jupyter-widgets/base",
            "overflow": null,
            "_model_module_version": "1.2.0",
            "_view_count": null,
            "flex_flow": null,
            "width": null,
            "min_width": null,
            "border": null,
            "align_items": null,
            "bottom": null,
            "_model_module": "@jupyter-widgets/base",
            "top": null,
            "grid_column": null,
            "overflow_y": null,
            "overflow_x": null,
            "grid_auto_flow": null,
            "grid_area": null,
            "grid_template_columns": null,
            "flex": null,
            "_model_name": "LayoutModel",
            "justify_items": null,
            "grid_row": null,
            "max_height": null,
            "align_content": null,
            "visibility": null,
            "align_self": null,
            "height": null,
            "min_height": null,
            "padding": null,
            "grid_auto_rows": null,
            "grid_gap": null,
            "max_width": null,
            "order": null,
            "_view_module_version": "1.2.0",
            "grid_template_areas": null,
            "object_position": null,
            "object_fit": null,
            "grid_auto_columns": null,
            "margin": null,
            "display": null,
            "left": null
          }
        },
        "0e05b455f3c745c0bb0597977d495ca9": {
          "model_module": "@jupyter-widgets/controls",
          "model_name": "HBoxModel",
          "state": {
            "_view_name": "HBoxView",
            "_dom_classes": [],
            "_model_name": "HBoxModel",
            "_view_module": "@jupyter-widgets/controls",
            "_model_module_version": "1.5.0",
            "_view_count": null,
            "_view_module_version": "1.5.0",
            "box_style": "",
            "layout": "IPY_MODEL_b4edf66c8c4441239d2073bf1636f62b",
            "_model_module": "@jupyter-widgets/controls",
            "children": [
              "IPY_MODEL_6b976552d2d3477abd1746a22edb3024",
              "IPY_MODEL_06577945a5d74a59a1cac4865309dd8d"
            ]
          }
        },
        "b4edf66c8c4441239d2073bf1636f62b": {
          "model_module": "@jupyter-widgets/base",
          "model_name": "LayoutModel",
          "state": {
            "_view_name": "LayoutView",
            "grid_template_rows": null,
            "right": null,
            "justify_content": null,
            "_view_module": "@jupyter-widgets/base",
            "overflow": null,
            "_model_module_version": "1.2.0",
            "_view_count": null,
            "flex_flow": null,
            "width": null,
            "min_width": null,
            "border": null,
            "align_items": null,
            "bottom": null,
            "_model_module": "@jupyter-widgets/base",
            "top": null,
            "grid_column": null,
            "overflow_y": null,
            "overflow_x": null,
            "grid_auto_flow": null,
            "grid_area": null,
            "grid_template_columns": null,
            "flex": null,
            "_model_name": "LayoutModel",
            "justify_items": null,
            "grid_row": null,
            "max_height": null,
            "align_content": null,
            "visibility": null,
            "align_self": null,
            "height": null,
            "min_height": null,
            "padding": null,
            "grid_auto_rows": null,
            "grid_gap": null,
            "max_width": null,
            "order": null,
            "_view_module_version": "1.2.0",
            "grid_template_areas": null,
            "object_position": null,
            "object_fit": null,
            "grid_auto_columns": null,
            "margin": null,
            "display": null,
            "left": null
          }
        },
        "6b976552d2d3477abd1746a22edb3024": {
          "model_module": "@jupyter-widgets/controls",
          "model_name": "FloatProgressModel",
          "state": {
            "_view_name": "ProgressView",
            "style": "IPY_MODEL_55f87e524e9048fbb3d7f2a8f00589f2",
            "_dom_classes": [],
            "description": "100%",
            "_model_name": "FloatProgressModel",
            "bar_style": "",
            "max": 20,
            "_view_module": "@jupyter-widgets/controls",
            "_model_module_version": "1.5.0",
            "value": 20,
            "_view_count": null,
            "_view_module_version": "1.5.0",
            "orientation": "horizontal",
            "min": 0,
            "description_tooltip": null,
            "_model_module": "@jupyter-widgets/controls",
            "layout": "IPY_MODEL_aeb8fc53a6b34a32bbbc10ca99bdd968"
          }
        },
        "06577945a5d74a59a1cac4865309dd8d": {
          "model_module": "@jupyter-widgets/controls",
          "model_name": "HTMLModel",
          "state": {
            "_view_name": "HTMLView",
            "style": "IPY_MODEL_6f9368aadd83445bbcd9846891849772",
            "_dom_classes": [],
            "description": "",
            "_model_name": "HTMLModel",
            "placeholder": "​",
            "_view_module": "@jupyter-widgets/controls",
            "_model_module_version": "1.5.0",
            "value": " 20/20 [00:00&lt;00:00, 256.19it/s]",
            "_view_count": null,
            "_view_module_version": "1.5.0",
            "description_tooltip": null,
            "_model_module": "@jupyter-widgets/controls",
            "layout": "IPY_MODEL_33ae6dbabfea4bfb871cb061cccc87eb"
          }
        },
        "55f87e524e9048fbb3d7f2a8f00589f2": {
          "model_module": "@jupyter-widgets/controls",
          "model_name": "ProgressStyleModel",
          "state": {
            "_view_name": "StyleView",
            "_model_name": "ProgressStyleModel",
            "description_width": "initial",
            "_view_module": "@jupyter-widgets/base",
            "_model_module_version": "1.5.0",
            "_view_count": null,
            "_view_module_version": "1.2.0",
            "bar_color": null,
            "_model_module": "@jupyter-widgets/controls"
          }
        },
        "aeb8fc53a6b34a32bbbc10ca99bdd968": {
          "model_module": "@jupyter-widgets/base",
          "model_name": "LayoutModel",
          "state": {
            "_view_name": "LayoutView",
            "grid_template_rows": null,
            "right": null,
            "justify_content": null,
            "_view_module": "@jupyter-widgets/base",
            "overflow": null,
            "_model_module_version": "1.2.0",
            "_view_count": null,
            "flex_flow": null,
            "width": null,
            "min_width": null,
            "border": null,
            "align_items": null,
            "bottom": null,
            "_model_module": "@jupyter-widgets/base",
            "top": null,
            "grid_column": null,
            "overflow_y": null,
            "overflow_x": null,
            "grid_auto_flow": null,
            "grid_area": null,
            "grid_template_columns": null,
            "flex": null,
            "_model_name": "LayoutModel",
            "justify_items": null,
            "grid_row": null,
            "max_height": null,
            "align_content": null,
            "visibility": null,
            "align_self": null,
            "height": null,
            "min_height": null,
            "padding": null,
            "grid_auto_rows": null,
            "grid_gap": null,
            "max_width": null,
            "order": null,
            "_view_module_version": "1.2.0",
            "grid_template_areas": null,
            "object_position": null,
            "object_fit": null,
            "grid_auto_columns": null,
            "margin": null,
            "display": null,
            "left": null
          }
        },
        "6f9368aadd83445bbcd9846891849772": {
          "model_module": "@jupyter-widgets/controls",
          "model_name": "DescriptionStyleModel",
          "state": {
            "_view_name": "StyleView",
            "_model_name": "DescriptionStyleModel",
            "description_width": "",
            "_view_module": "@jupyter-widgets/base",
            "_model_module_version": "1.5.0",
            "_view_count": null,
            "_view_module_version": "1.2.0",
            "_model_module": "@jupyter-widgets/controls"
          }
        },
        "33ae6dbabfea4bfb871cb061cccc87eb": {
          "model_module": "@jupyter-widgets/base",
          "model_name": "LayoutModel",
          "state": {
            "_view_name": "LayoutView",
            "grid_template_rows": null,
            "right": null,
            "justify_content": null,
            "_view_module": "@jupyter-widgets/base",
            "overflow": null,
            "_model_module_version": "1.2.0",
            "_view_count": null,
            "flex_flow": null,
            "width": null,
            "min_width": null,
            "border": null,
            "align_items": null,
            "bottom": null,
            "_model_module": "@jupyter-widgets/base",
            "top": null,
            "grid_column": null,
            "overflow_y": null,
            "overflow_x": null,
            "grid_auto_flow": null,
            "grid_area": null,
            "grid_template_columns": null,
            "flex": null,
            "_model_name": "LayoutModel",
            "justify_items": null,
            "grid_row": null,
            "max_height": null,
            "align_content": null,
            "visibility": null,
            "align_self": null,
            "height": null,
            "min_height": null,
            "padding": null,
            "grid_auto_rows": null,
            "grid_gap": null,
            "max_width": null,
            "order": null,
            "_view_module_version": "1.2.0",
            "grid_template_areas": null,
            "object_position": null,
            "object_fit": null,
            "grid_auto_columns": null,
            "margin": null,
            "display": null,
            "left": null
          }
        },
        "9923c2d9a6db4c2780f8fd05fc45f672": {
          "model_module": "@jupyter-widgets/controls",
          "model_name": "HBoxModel",
          "state": {
            "_view_name": "HBoxView",
            "_dom_classes": [],
            "_model_name": "HBoxModel",
            "_view_module": "@jupyter-widgets/controls",
            "_model_module_version": "1.5.0",
            "_view_count": null,
            "_view_module_version": "1.5.0",
            "box_style": "",
            "layout": "IPY_MODEL_7e6adc07445d4dde9a3aba75baaa7afd",
            "_model_module": "@jupyter-widgets/controls",
            "children": [
              "IPY_MODEL_642a9c3ed7ea4673b54b06b3f6368856",
              "IPY_MODEL_7628d478f3534ea0892516ffaf6cd2cd"
            ]
          }
        },
        "7e6adc07445d4dde9a3aba75baaa7afd": {
          "model_module": "@jupyter-widgets/base",
          "model_name": "LayoutModel",
          "state": {
            "_view_name": "LayoutView",
            "grid_template_rows": null,
            "right": null,
            "justify_content": null,
            "_view_module": "@jupyter-widgets/base",
            "overflow": null,
            "_model_module_version": "1.2.0",
            "_view_count": null,
            "flex_flow": null,
            "width": null,
            "min_width": null,
            "border": null,
            "align_items": null,
            "bottom": null,
            "_model_module": "@jupyter-widgets/base",
            "top": null,
            "grid_column": null,
            "overflow_y": null,
            "overflow_x": null,
            "grid_auto_flow": null,
            "grid_area": null,
            "grid_template_columns": null,
            "flex": null,
            "_model_name": "LayoutModel",
            "justify_items": null,
            "grid_row": null,
            "max_height": null,
            "align_content": null,
            "visibility": null,
            "align_self": null,
            "height": null,
            "min_height": null,
            "padding": null,
            "grid_auto_rows": null,
            "grid_gap": null,
            "max_width": null,
            "order": null,
            "_view_module_version": "1.2.0",
            "grid_template_areas": null,
            "object_position": null,
            "object_fit": null,
            "grid_auto_columns": null,
            "margin": null,
            "display": null,
            "left": null
          }
        },
        "642a9c3ed7ea4673b54b06b3f6368856": {
          "model_module": "@jupyter-widgets/controls",
          "model_name": "FloatProgressModel",
          "state": {
            "_view_name": "ProgressView",
            "style": "IPY_MODEL_45e4c72721ae4a7a986f0724e3a080b5",
            "_dom_classes": [],
            "description": "Epoch 7: 100%",
            "_model_name": "FloatProgressModel",
            "bar_style": "",
            "max": 78,
            "_view_module": "@jupyter-widgets/controls",
            "_model_module_version": "1.5.0",
            "value": 78,
            "_view_count": null,
            "_view_module_version": "1.5.0",
            "orientation": "horizontal",
            "min": 0,
            "description_tooltip": null,
            "_model_module": "@jupyter-widgets/controls",
            "layout": "IPY_MODEL_9cce0e47519745109b222e55eae94647"
          }
        },
        "7628d478f3534ea0892516ffaf6cd2cd": {
          "model_module": "@jupyter-widgets/controls",
          "model_name": "HTMLModel",
          "state": {
            "_view_name": "HTMLView",
            "style": "IPY_MODEL_15b5f9b8f2a54092a18bc79c18d9bdf5",
            "_dom_classes": [],
            "description": "",
            "_model_name": "HTMLModel",
            "placeholder": "​",
            "_view_module": "@jupyter-widgets/controls",
            "_model_module_version": "1.5.0",
            "value": " 78/78 [00:00&lt;00:00, 96.85it/s, loss=1.71]",
            "_view_count": null,
            "_view_module_version": "1.5.0",
            "description_tooltip": null,
            "_model_module": "@jupyter-widgets/controls",
            "layout": "IPY_MODEL_0cbb13c918d84825b38f75b40f96c017"
          }
        },
        "45e4c72721ae4a7a986f0724e3a080b5": {
          "model_module": "@jupyter-widgets/controls",
          "model_name": "ProgressStyleModel",
          "state": {
            "_view_name": "StyleView",
            "_model_name": "ProgressStyleModel",
            "description_width": "initial",
            "_view_module": "@jupyter-widgets/base",
            "_model_module_version": "1.5.0",
            "_view_count": null,
            "_view_module_version": "1.2.0",
            "bar_color": null,
            "_model_module": "@jupyter-widgets/controls"
          }
        },
        "9cce0e47519745109b222e55eae94647": {
          "model_module": "@jupyter-widgets/base",
          "model_name": "LayoutModel",
          "state": {
            "_view_name": "LayoutView",
            "grid_template_rows": null,
            "right": null,
            "justify_content": null,
            "_view_module": "@jupyter-widgets/base",
            "overflow": null,
            "_model_module_version": "1.2.0",
            "_view_count": null,
            "flex_flow": null,
            "width": null,
            "min_width": null,
            "border": null,
            "align_items": null,
            "bottom": null,
            "_model_module": "@jupyter-widgets/base",
            "top": null,
            "grid_column": null,
            "overflow_y": null,
            "overflow_x": null,
            "grid_auto_flow": null,
            "grid_area": null,
            "grid_template_columns": null,
            "flex": null,
            "_model_name": "LayoutModel",
            "justify_items": null,
            "grid_row": null,
            "max_height": null,
            "align_content": null,
            "visibility": null,
            "align_self": null,
            "height": null,
            "min_height": null,
            "padding": null,
            "grid_auto_rows": null,
            "grid_gap": null,
            "max_width": null,
            "order": null,
            "_view_module_version": "1.2.0",
            "grid_template_areas": null,
            "object_position": null,
            "object_fit": null,
            "grid_auto_columns": null,
            "margin": null,
            "display": null,
            "left": null
          }
        },
        "15b5f9b8f2a54092a18bc79c18d9bdf5": {
          "model_module": "@jupyter-widgets/controls",
          "model_name": "DescriptionStyleModel",
          "state": {
            "_view_name": "StyleView",
            "_model_name": "DescriptionStyleModel",
            "description_width": "",
            "_view_module": "@jupyter-widgets/base",
            "_model_module_version": "1.5.0",
            "_view_count": null,
            "_view_module_version": "1.2.0",
            "_model_module": "@jupyter-widgets/controls"
          }
        },
        "0cbb13c918d84825b38f75b40f96c017": {
          "model_module": "@jupyter-widgets/base",
          "model_name": "LayoutModel",
          "state": {
            "_view_name": "LayoutView",
            "grid_template_rows": null,
            "right": null,
            "justify_content": null,
            "_view_module": "@jupyter-widgets/base",
            "overflow": null,
            "_model_module_version": "1.2.0",
            "_view_count": null,
            "flex_flow": null,
            "width": null,
            "min_width": null,
            "border": null,
            "align_items": null,
            "bottom": null,
            "_model_module": "@jupyter-widgets/base",
            "top": null,
            "grid_column": null,
            "overflow_y": null,
            "overflow_x": null,
            "grid_auto_flow": null,
            "grid_area": null,
            "grid_template_columns": null,
            "flex": null,
            "_model_name": "LayoutModel",
            "justify_items": null,
            "grid_row": null,
            "max_height": null,
            "align_content": null,
            "visibility": null,
            "align_self": null,
            "height": null,
            "min_height": null,
            "padding": null,
            "grid_auto_rows": null,
            "grid_gap": null,
            "max_width": null,
            "order": null,
            "_view_module_version": "1.2.0",
            "grid_template_areas": null,
            "object_position": null,
            "object_fit": null,
            "grid_auto_columns": null,
            "margin": null,
            "display": null,
            "left": null
          }
        },
        "c7c36e5588294ac3b9dba7919f321681": {
          "model_module": "@jupyter-widgets/controls",
          "model_name": "HBoxModel",
          "state": {
            "_view_name": "HBoxView",
            "_dom_classes": [],
            "_model_name": "HBoxModel",
            "_view_module": "@jupyter-widgets/controls",
            "_model_module_version": "1.5.0",
            "_view_count": null,
            "_view_module_version": "1.5.0",
            "box_style": "",
            "layout": "IPY_MODEL_ef100ffcaef0426796c71160ade9e907",
            "_model_module": "@jupyter-widgets/controls",
            "children": [
              "IPY_MODEL_d5d0b7dd7aad4c91a5839401b559ba94",
              "IPY_MODEL_71434aabcd0449b291b1b60f0f3074f7"
            ]
          }
        },
        "ef100ffcaef0426796c71160ade9e907": {
          "model_module": "@jupyter-widgets/base",
          "model_name": "LayoutModel",
          "state": {
            "_view_name": "LayoutView",
            "grid_template_rows": null,
            "right": null,
            "justify_content": null,
            "_view_module": "@jupyter-widgets/base",
            "overflow": null,
            "_model_module_version": "1.2.0",
            "_view_count": null,
            "flex_flow": null,
            "width": null,
            "min_width": null,
            "border": null,
            "align_items": null,
            "bottom": null,
            "_model_module": "@jupyter-widgets/base",
            "top": null,
            "grid_column": null,
            "overflow_y": null,
            "overflow_x": null,
            "grid_auto_flow": null,
            "grid_area": null,
            "grid_template_columns": null,
            "flex": null,
            "_model_name": "LayoutModel",
            "justify_items": null,
            "grid_row": null,
            "max_height": null,
            "align_content": null,
            "visibility": null,
            "align_self": null,
            "height": null,
            "min_height": null,
            "padding": null,
            "grid_auto_rows": null,
            "grid_gap": null,
            "max_width": null,
            "order": null,
            "_view_module_version": "1.2.0",
            "grid_template_areas": null,
            "object_position": null,
            "object_fit": null,
            "grid_auto_columns": null,
            "margin": null,
            "display": null,
            "left": null
          }
        },
        "d5d0b7dd7aad4c91a5839401b559ba94": {
          "model_module": "@jupyter-widgets/controls",
          "model_name": "FloatProgressModel",
          "state": {
            "_view_name": "ProgressView",
            "style": "IPY_MODEL_95a66a1114ba4a429397e8f14ebfedcd",
            "_dom_classes": [],
            "description": "100%",
            "_model_name": "FloatProgressModel",
            "bar_style": "",
            "max": 20,
            "_view_module": "@jupyter-widgets/controls",
            "_model_module_version": "1.5.0",
            "value": 20,
            "_view_count": null,
            "_view_module_version": "1.5.0",
            "orientation": "horizontal",
            "min": 0,
            "description_tooltip": null,
            "_model_module": "@jupyter-widgets/controls",
            "layout": "IPY_MODEL_4ea0519e214b45249ff4630c447c6188"
          }
        },
        "71434aabcd0449b291b1b60f0f3074f7": {
          "model_module": "@jupyter-widgets/controls",
          "model_name": "HTMLModel",
          "state": {
            "_view_name": "HTMLView",
            "style": "IPY_MODEL_8bb698e8a7fa424c90b8f5f04fa505f0",
            "_dom_classes": [],
            "description": "",
            "_model_name": "HTMLModel",
            "placeholder": "​",
            "_view_module": "@jupyter-widgets/controls",
            "_model_module_version": "1.5.0",
            "value": " 20/20 [00:00&lt;00:00, 231.48it/s]",
            "_view_count": null,
            "_view_module_version": "1.5.0",
            "description_tooltip": null,
            "_model_module": "@jupyter-widgets/controls",
            "layout": "IPY_MODEL_d803a04998694381a3c346e8da8dbb4a"
          }
        },
        "95a66a1114ba4a429397e8f14ebfedcd": {
          "model_module": "@jupyter-widgets/controls",
          "model_name": "ProgressStyleModel",
          "state": {
            "_view_name": "StyleView",
            "_model_name": "ProgressStyleModel",
            "description_width": "initial",
            "_view_module": "@jupyter-widgets/base",
            "_model_module_version": "1.5.0",
            "_view_count": null,
            "_view_module_version": "1.2.0",
            "bar_color": null,
            "_model_module": "@jupyter-widgets/controls"
          }
        },
        "4ea0519e214b45249ff4630c447c6188": {
          "model_module": "@jupyter-widgets/base",
          "model_name": "LayoutModel",
          "state": {
            "_view_name": "LayoutView",
            "grid_template_rows": null,
            "right": null,
            "justify_content": null,
            "_view_module": "@jupyter-widgets/base",
            "overflow": null,
            "_model_module_version": "1.2.0",
            "_view_count": null,
            "flex_flow": null,
            "width": null,
            "min_width": null,
            "border": null,
            "align_items": null,
            "bottom": null,
            "_model_module": "@jupyter-widgets/base",
            "top": null,
            "grid_column": null,
            "overflow_y": null,
            "overflow_x": null,
            "grid_auto_flow": null,
            "grid_area": null,
            "grid_template_columns": null,
            "flex": null,
            "_model_name": "LayoutModel",
            "justify_items": null,
            "grid_row": null,
            "max_height": null,
            "align_content": null,
            "visibility": null,
            "align_self": null,
            "height": null,
            "min_height": null,
            "padding": null,
            "grid_auto_rows": null,
            "grid_gap": null,
            "max_width": null,
            "order": null,
            "_view_module_version": "1.2.0",
            "grid_template_areas": null,
            "object_position": null,
            "object_fit": null,
            "grid_auto_columns": null,
            "margin": null,
            "display": null,
            "left": null
          }
        },
        "8bb698e8a7fa424c90b8f5f04fa505f0": {
          "model_module": "@jupyter-widgets/controls",
          "model_name": "DescriptionStyleModel",
          "state": {
            "_view_name": "StyleView",
            "_model_name": "DescriptionStyleModel",
            "description_width": "",
            "_view_module": "@jupyter-widgets/base",
            "_model_module_version": "1.5.0",
            "_view_count": null,
            "_view_module_version": "1.2.0",
            "_model_module": "@jupyter-widgets/controls"
          }
        },
        "d803a04998694381a3c346e8da8dbb4a": {
          "model_module": "@jupyter-widgets/base",
          "model_name": "LayoutModel",
          "state": {
            "_view_name": "LayoutView",
            "grid_template_rows": null,
            "right": null,
            "justify_content": null,
            "_view_module": "@jupyter-widgets/base",
            "overflow": null,
            "_model_module_version": "1.2.0",
            "_view_count": null,
            "flex_flow": null,
            "width": null,
            "min_width": null,
            "border": null,
            "align_items": null,
            "bottom": null,
            "_model_module": "@jupyter-widgets/base",
            "top": null,
            "grid_column": null,
            "overflow_y": null,
            "overflow_x": null,
            "grid_auto_flow": null,
            "grid_area": null,
            "grid_template_columns": null,
            "flex": null,
            "_model_name": "LayoutModel",
            "justify_items": null,
            "grid_row": null,
            "max_height": null,
            "align_content": null,
            "visibility": null,
            "align_self": null,
            "height": null,
            "min_height": null,
            "padding": null,
            "grid_auto_rows": null,
            "grid_gap": null,
            "max_width": null,
            "order": null,
            "_view_module_version": "1.2.0",
            "grid_template_areas": null,
            "object_position": null,
            "object_fit": null,
            "grid_auto_columns": null,
            "margin": null,
            "display": null,
            "left": null
          }
        },
        "024eee3c04c74ac7a2efda84e19528df": {
          "model_module": "@jupyter-widgets/controls",
          "model_name": "HBoxModel",
          "state": {
            "_view_name": "HBoxView",
            "_dom_classes": [],
            "_model_name": "HBoxModel",
            "_view_module": "@jupyter-widgets/controls",
            "_model_module_version": "1.5.0",
            "_view_count": null,
            "_view_module_version": "1.5.0",
            "box_style": "",
            "layout": "IPY_MODEL_2824d58f1fac42539b1b3cd68d786582",
            "_model_module": "@jupyter-widgets/controls",
            "children": [
              "IPY_MODEL_cd0f318f07bd4fddaa8a97cc1a2fafa8",
              "IPY_MODEL_4e62fb1821604fbfad858c38d3a9b617"
            ]
          }
        },
        "2824d58f1fac42539b1b3cd68d786582": {
          "model_module": "@jupyter-widgets/base",
          "model_name": "LayoutModel",
          "state": {
            "_view_name": "LayoutView",
            "grid_template_rows": null,
            "right": null,
            "justify_content": null,
            "_view_module": "@jupyter-widgets/base",
            "overflow": null,
            "_model_module_version": "1.2.0",
            "_view_count": null,
            "flex_flow": null,
            "width": null,
            "min_width": null,
            "border": null,
            "align_items": null,
            "bottom": null,
            "_model_module": "@jupyter-widgets/base",
            "top": null,
            "grid_column": null,
            "overflow_y": null,
            "overflow_x": null,
            "grid_auto_flow": null,
            "grid_area": null,
            "grid_template_columns": null,
            "flex": null,
            "_model_name": "LayoutModel",
            "justify_items": null,
            "grid_row": null,
            "max_height": null,
            "align_content": null,
            "visibility": null,
            "align_self": null,
            "height": null,
            "min_height": null,
            "padding": null,
            "grid_auto_rows": null,
            "grid_gap": null,
            "max_width": null,
            "order": null,
            "_view_module_version": "1.2.0",
            "grid_template_areas": null,
            "object_position": null,
            "object_fit": null,
            "grid_auto_columns": null,
            "margin": null,
            "display": null,
            "left": null
          }
        },
        "cd0f318f07bd4fddaa8a97cc1a2fafa8": {
          "model_module": "@jupyter-widgets/controls",
          "model_name": "FloatProgressModel",
          "state": {
            "_view_name": "ProgressView",
            "style": "IPY_MODEL_e47394a8237c40e6af7c465f346166a0",
            "_dom_classes": [],
            "description": "Epoch 8: 100%",
            "_model_name": "FloatProgressModel",
            "bar_style": "",
            "max": 78,
            "_view_module": "@jupyter-widgets/controls",
            "_model_module_version": "1.5.0",
            "value": 78,
            "_view_count": null,
            "_view_module_version": "1.5.0",
            "orientation": "horizontal",
            "min": 0,
            "description_tooltip": null,
            "_model_module": "@jupyter-widgets/controls",
            "layout": "IPY_MODEL_1e56d55b9e914a53a365fb4d6143495d"
          }
        },
        "4e62fb1821604fbfad858c38d3a9b617": {
          "model_module": "@jupyter-widgets/controls",
          "model_name": "HTMLModel",
          "state": {
            "_view_name": "HTMLView",
            "style": "IPY_MODEL_1caada0fbbd247f4bb65f9147d00f517",
            "_dom_classes": [],
            "description": "",
            "_model_name": "HTMLModel",
            "placeholder": "​",
            "_view_module": "@jupyter-widgets/controls",
            "_model_module_version": "1.5.0",
            "value": " 78/78 [00:00&lt;00:00, 106.03it/s, loss=1.06]",
            "_view_count": null,
            "_view_module_version": "1.5.0",
            "description_tooltip": null,
            "_model_module": "@jupyter-widgets/controls",
            "layout": "IPY_MODEL_0ea3f1db60f449318d3e9caf7394c90b"
          }
        },
        "e47394a8237c40e6af7c465f346166a0": {
          "model_module": "@jupyter-widgets/controls",
          "model_name": "ProgressStyleModel",
          "state": {
            "_view_name": "StyleView",
            "_model_name": "ProgressStyleModel",
            "description_width": "initial",
            "_view_module": "@jupyter-widgets/base",
            "_model_module_version": "1.5.0",
            "_view_count": null,
            "_view_module_version": "1.2.0",
            "bar_color": null,
            "_model_module": "@jupyter-widgets/controls"
          }
        },
        "1e56d55b9e914a53a365fb4d6143495d": {
          "model_module": "@jupyter-widgets/base",
          "model_name": "LayoutModel",
          "state": {
            "_view_name": "LayoutView",
            "grid_template_rows": null,
            "right": null,
            "justify_content": null,
            "_view_module": "@jupyter-widgets/base",
            "overflow": null,
            "_model_module_version": "1.2.0",
            "_view_count": null,
            "flex_flow": null,
            "width": null,
            "min_width": null,
            "border": null,
            "align_items": null,
            "bottom": null,
            "_model_module": "@jupyter-widgets/base",
            "top": null,
            "grid_column": null,
            "overflow_y": null,
            "overflow_x": null,
            "grid_auto_flow": null,
            "grid_area": null,
            "grid_template_columns": null,
            "flex": null,
            "_model_name": "LayoutModel",
            "justify_items": null,
            "grid_row": null,
            "max_height": null,
            "align_content": null,
            "visibility": null,
            "align_self": null,
            "height": null,
            "min_height": null,
            "padding": null,
            "grid_auto_rows": null,
            "grid_gap": null,
            "max_width": null,
            "order": null,
            "_view_module_version": "1.2.0",
            "grid_template_areas": null,
            "object_position": null,
            "object_fit": null,
            "grid_auto_columns": null,
            "margin": null,
            "display": null,
            "left": null
          }
        },
        "1caada0fbbd247f4bb65f9147d00f517": {
          "model_module": "@jupyter-widgets/controls",
          "model_name": "DescriptionStyleModel",
          "state": {
            "_view_name": "StyleView",
            "_model_name": "DescriptionStyleModel",
            "description_width": "",
            "_view_module": "@jupyter-widgets/base",
            "_model_module_version": "1.5.0",
            "_view_count": null,
            "_view_module_version": "1.2.0",
            "_model_module": "@jupyter-widgets/controls"
          }
        },
        "0ea3f1db60f449318d3e9caf7394c90b": {
          "model_module": "@jupyter-widgets/base",
          "model_name": "LayoutModel",
          "state": {
            "_view_name": "LayoutView",
            "grid_template_rows": null,
            "right": null,
            "justify_content": null,
            "_view_module": "@jupyter-widgets/base",
            "overflow": null,
            "_model_module_version": "1.2.0",
            "_view_count": null,
            "flex_flow": null,
            "width": null,
            "min_width": null,
            "border": null,
            "align_items": null,
            "bottom": null,
            "_model_module": "@jupyter-widgets/base",
            "top": null,
            "grid_column": null,
            "overflow_y": null,
            "overflow_x": null,
            "grid_auto_flow": null,
            "grid_area": null,
            "grid_template_columns": null,
            "flex": null,
            "_model_name": "LayoutModel",
            "justify_items": null,
            "grid_row": null,
            "max_height": null,
            "align_content": null,
            "visibility": null,
            "align_self": null,
            "height": null,
            "min_height": null,
            "padding": null,
            "grid_auto_rows": null,
            "grid_gap": null,
            "max_width": null,
            "order": null,
            "_view_module_version": "1.2.0",
            "grid_template_areas": null,
            "object_position": null,
            "object_fit": null,
            "grid_auto_columns": null,
            "margin": null,
            "display": null,
            "left": null
          }
        },
        "701e4f93b82045b49dec5238a0003e45": {
          "model_module": "@jupyter-widgets/controls",
          "model_name": "HBoxModel",
          "state": {
            "_view_name": "HBoxView",
            "_dom_classes": [],
            "_model_name": "HBoxModel",
            "_view_module": "@jupyter-widgets/controls",
            "_model_module_version": "1.5.0",
            "_view_count": null,
            "_view_module_version": "1.5.0",
            "box_style": "",
            "layout": "IPY_MODEL_4be06f9a7e8b419996bffe477775240f",
            "_model_module": "@jupyter-widgets/controls",
            "children": [
              "IPY_MODEL_b8ae5c0eacc345e88af0e66e2ea6d6fe",
              "IPY_MODEL_040dcc2fa38e4aa093533835298aeb0b"
            ]
          }
        },
        "4be06f9a7e8b419996bffe477775240f": {
          "model_module": "@jupyter-widgets/base",
          "model_name": "LayoutModel",
          "state": {
            "_view_name": "LayoutView",
            "grid_template_rows": null,
            "right": null,
            "justify_content": null,
            "_view_module": "@jupyter-widgets/base",
            "overflow": null,
            "_model_module_version": "1.2.0",
            "_view_count": null,
            "flex_flow": null,
            "width": null,
            "min_width": null,
            "border": null,
            "align_items": null,
            "bottom": null,
            "_model_module": "@jupyter-widgets/base",
            "top": null,
            "grid_column": null,
            "overflow_y": null,
            "overflow_x": null,
            "grid_auto_flow": null,
            "grid_area": null,
            "grid_template_columns": null,
            "flex": null,
            "_model_name": "LayoutModel",
            "justify_items": null,
            "grid_row": null,
            "max_height": null,
            "align_content": null,
            "visibility": null,
            "align_self": null,
            "height": null,
            "min_height": null,
            "padding": null,
            "grid_auto_rows": null,
            "grid_gap": null,
            "max_width": null,
            "order": null,
            "_view_module_version": "1.2.0",
            "grid_template_areas": null,
            "object_position": null,
            "object_fit": null,
            "grid_auto_columns": null,
            "margin": null,
            "display": null,
            "left": null
          }
        },
        "b8ae5c0eacc345e88af0e66e2ea6d6fe": {
          "model_module": "@jupyter-widgets/controls",
          "model_name": "FloatProgressModel",
          "state": {
            "_view_name": "ProgressView",
            "style": "IPY_MODEL_08e563c56db64676bcf59b951b4f7880",
            "_dom_classes": [],
            "description": "100%",
            "_model_name": "FloatProgressModel",
            "bar_style": "",
            "max": 20,
            "_view_module": "@jupyter-widgets/controls",
            "_model_module_version": "1.5.0",
            "value": 20,
            "_view_count": null,
            "_view_module_version": "1.5.0",
            "orientation": "horizontal",
            "min": 0,
            "description_tooltip": null,
            "_model_module": "@jupyter-widgets/controls",
            "layout": "IPY_MODEL_e4845edd2e494ef1a8c6b5915b305ac8"
          }
        },
        "040dcc2fa38e4aa093533835298aeb0b": {
          "model_module": "@jupyter-widgets/controls",
          "model_name": "HTMLModel",
          "state": {
            "_view_name": "HTMLView",
            "style": "IPY_MODEL_8a58428aa2314f7f90b4dd23395d101d",
            "_dom_classes": [],
            "description": "",
            "_model_name": "HTMLModel",
            "placeholder": "​",
            "_view_module": "@jupyter-widgets/controls",
            "_model_module_version": "1.5.0",
            "value": " 20/20 [00:00&lt;00:00, 251.97it/s]",
            "_view_count": null,
            "_view_module_version": "1.5.0",
            "description_tooltip": null,
            "_model_module": "@jupyter-widgets/controls",
            "layout": "IPY_MODEL_c390843b62f64aaf8325cebf62545df6"
          }
        },
        "08e563c56db64676bcf59b951b4f7880": {
          "model_module": "@jupyter-widgets/controls",
          "model_name": "ProgressStyleModel",
          "state": {
            "_view_name": "StyleView",
            "_model_name": "ProgressStyleModel",
            "description_width": "initial",
            "_view_module": "@jupyter-widgets/base",
            "_model_module_version": "1.5.0",
            "_view_count": null,
            "_view_module_version": "1.2.0",
            "bar_color": null,
            "_model_module": "@jupyter-widgets/controls"
          }
        },
        "e4845edd2e494ef1a8c6b5915b305ac8": {
          "model_module": "@jupyter-widgets/base",
          "model_name": "LayoutModel",
          "state": {
            "_view_name": "LayoutView",
            "grid_template_rows": null,
            "right": null,
            "justify_content": null,
            "_view_module": "@jupyter-widgets/base",
            "overflow": null,
            "_model_module_version": "1.2.0",
            "_view_count": null,
            "flex_flow": null,
            "width": null,
            "min_width": null,
            "border": null,
            "align_items": null,
            "bottom": null,
            "_model_module": "@jupyter-widgets/base",
            "top": null,
            "grid_column": null,
            "overflow_y": null,
            "overflow_x": null,
            "grid_auto_flow": null,
            "grid_area": null,
            "grid_template_columns": null,
            "flex": null,
            "_model_name": "LayoutModel",
            "justify_items": null,
            "grid_row": null,
            "max_height": null,
            "align_content": null,
            "visibility": null,
            "align_self": null,
            "height": null,
            "min_height": null,
            "padding": null,
            "grid_auto_rows": null,
            "grid_gap": null,
            "max_width": null,
            "order": null,
            "_view_module_version": "1.2.0",
            "grid_template_areas": null,
            "object_position": null,
            "object_fit": null,
            "grid_auto_columns": null,
            "margin": null,
            "display": null,
            "left": null
          }
        },
        "8a58428aa2314f7f90b4dd23395d101d": {
          "model_module": "@jupyter-widgets/controls",
          "model_name": "DescriptionStyleModel",
          "state": {
            "_view_name": "StyleView",
            "_model_name": "DescriptionStyleModel",
            "description_width": "",
            "_view_module": "@jupyter-widgets/base",
            "_model_module_version": "1.5.0",
            "_view_count": null,
            "_view_module_version": "1.2.0",
            "_model_module": "@jupyter-widgets/controls"
          }
        },
        "c390843b62f64aaf8325cebf62545df6": {
          "model_module": "@jupyter-widgets/base",
          "model_name": "LayoutModel",
          "state": {
            "_view_name": "LayoutView",
            "grid_template_rows": null,
            "right": null,
            "justify_content": null,
            "_view_module": "@jupyter-widgets/base",
            "overflow": null,
            "_model_module_version": "1.2.0",
            "_view_count": null,
            "flex_flow": null,
            "width": null,
            "min_width": null,
            "border": null,
            "align_items": null,
            "bottom": null,
            "_model_module": "@jupyter-widgets/base",
            "top": null,
            "grid_column": null,
            "overflow_y": null,
            "overflow_x": null,
            "grid_auto_flow": null,
            "grid_area": null,
            "grid_template_columns": null,
            "flex": null,
            "_model_name": "LayoutModel",
            "justify_items": null,
            "grid_row": null,
            "max_height": null,
            "align_content": null,
            "visibility": null,
            "align_self": null,
            "height": null,
            "min_height": null,
            "padding": null,
            "grid_auto_rows": null,
            "grid_gap": null,
            "max_width": null,
            "order": null,
            "_view_module_version": "1.2.0",
            "grid_template_areas": null,
            "object_position": null,
            "object_fit": null,
            "grid_auto_columns": null,
            "margin": null,
            "display": null,
            "left": null
          }
        },
        "be9a9a97e5654d598a468e4aa969dc6d": {
          "model_module": "@jupyter-widgets/controls",
          "model_name": "HBoxModel",
          "state": {
            "_view_name": "HBoxView",
            "_dom_classes": [],
            "_model_name": "HBoxModel",
            "_view_module": "@jupyter-widgets/controls",
            "_model_module_version": "1.5.0",
            "_view_count": null,
            "_view_module_version": "1.5.0",
            "box_style": "",
            "layout": "IPY_MODEL_9c356eb9e6ac4c639ec1579e31314c18",
            "_model_module": "@jupyter-widgets/controls",
            "children": [
              "IPY_MODEL_00e3fa397e9d4fca93a83f1fb12d0a2e",
              "IPY_MODEL_7a5840a99c1540d19a1dd411af525761"
            ]
          }
        },
        "9c356eb9e6ac4c639ec1579e31314c18": {
          "model_module": "@jupyter-widgets/base",
          "model_name": "LayoutModel",
          "state": {
            "_view_name": "LayoutView",
            "grid_template_rows": null,
            "right": null,
            "justify_content": null,
            "_view_module": "@jupyter-widgets/base",
            "overflow": null,
            "_model_module_version": "1.2.0",
            "_view_count": null,
            "flex_flow": null,
            "width": null,
            "min_width": null,
            "border": null,
            "align_items": null,
            "bottom": null,
            "_model_module": "@jupyter-widgets/base",
            "top": null,
            "grid_column": null,
            "overflow_y": null,
            "overflow_x": null,
            "grid_auto_flow": null,
            "grid_area": null,
            "grid_template_columns": null,
            "flex": null,
            "_model_name": "LayoutModel",
            "justify_items": null,
            "grid_row": null,
            "max_height": null,
            "align_content": null,
            "visibility": null,
            "align_self": null,
            "height": null,
            "min_height": null,
            "padding": null,
            "grid_auto_rows": null,
            "grid_gap": null,
            "max_width": null,
            "order": null,
            "_view_module_version": "1.2.0",
            "grid_template_areas": null,
            "object_position": null,
            "object_fit": null,
            "grid_auto_columns": null,
            "margin": null,
            "display": null,
            "left": null
          }
        },
        "00e3fa397e9d4fca93a83f1fb12d0a2e": {
          "model_module": "@jupyter-widgets/controls",
          "model_name": "FloatProgressModel",
          "state": {
            "_view_name": "ProgressView",
            "style": "IPY_MODEL_ddb16e432cca4bd89c0bde6e32743ea7",
            "_dom_classes": [],
            "description": "Epoch 9: 100%",
            "_model_name": "FloatProgressModel",
            "bar_style": "",
            "max": 78,
            "_view_module": "@jupyter-widgets/controls",
            "_model_module_version": "1.5.0",
            "value": 78,
            "_view_count": null,
            "_view_module_version": "1.5.0",
            "orientation": "horizontal",
            "min": 0,
            "description_tooltip": null,
            "_model_module": "@jupyter-widgets/controls",
            "layout": "IPY_MODEL_e6022a19eb9440779728996fcb22cfc9"
          }
        },
        "7a5840a99c1540d19a1dd411af525761": {
          "model_module": "@jupyter-widgets/controls",
          "model_name": "HTMLModel",
          "state": {
            "_view_name": "HTMLView",
            "style": "IPY_MODEL_b89ea7ad0cb54ef3b247352e83dd3874",
            "_dom_classes": [],
            "description": "",
            "_model_name": "HTMLModel",
            "placeholder": "​",
            "_view_module": "@jupyter-widgets/controls",
            "_model_module_version": "1.5.0",
            "value": " 78/78 [00:00&lt;00:00, 105.15it/s, loss=1.62]",
            "_view_count": null,
            "_view_module_version": "1.5.0",
            "description_tooltip": null,
            "_model_module": "@jupyter-widgets/controls",
            "layout": "IPY_MODEL_dce26926aff94e8abac3a5086d4c75e8"
          }
        },
        "ddb16e432cca4bd89c0bde6e32743ea7": {
          "model_module": "@jupyter-widgets/controls",
          "model_name": "ProgressStyleModel",
          "state": {
            "_view_name": "StyleView",
            "_model_name": "ProgressStyleModel",
            "description_width": "initial",
            "_view_module": "@jupyter-widgets/base",
            "_model_module_version": "1.5.0",
            "_view_count": null,
            "_view_module_version": "1.2.0",
            "bar_color": null,
            "_model_module": "@jupyter-widgets/controls"
          }
        },
        "e6022a19eb9440779728996fcb22cfc9": {
          "model_module": "@jupyter-widgets/base",
          "model_name": "LayoutModel",
          "state": {
            "_view_name": "LayoutView",
            "grid_template_rows": null,
            "right": null,
            "justify_content": null,
            "_view_module": "@jupyter-widgets/base",
            "overflow": null,
            "_model_module_version": "1.2.0",
            "_view_count": null,
            "flex_flow": null,
            "width": null,
            "min_width": null,
            "border": null,
            "align_items": null,
            "bottom": null,
            "_model_module": "@jupyter-widgets/base",
            "top": null,
            "grid_column": null,
            "overflow_y": null,
            "overflow_x": null,
            "grid_auto_flow": null,
            "grid_area": null,
            "grid_template_columns": null,
            "flex": null,
            "_model_name": "LayoutModel",
            "justify_items": null,
            "grid_row": null,
            "max_height": null,
            "align_content": null,
            "visibility": null,
            "align_self": null,
            "height": null,
            "min_height": null,
            "padding": null,
            "grid_auto_rows": null,
            "grid_gap": null,
            "max_width": null,
            "order": null,
            "_view_module_version": "1.2.0",
            "grid_template_areas": null,
            "object_position": null,
            "object_fit": null,
            "grid_auto_columns": null,
            "margin": null,
            "display": null,
            "left": null
          }
        },
        "b89ea7ad0cb54ef3b247352e83dd3874": {
          "model_module": "@jupyter-widgets/controls",
          "model_name": "DescriptionStyleModel",
          "state": {
            "_view_name": "StyleView",
            "_model_name": "DescriptionStyleModel",
            "description_width": "",
            "_view_module": "@jupyter-widgets/base",
            "_model_module_version": "1.5.0",
            "_view_count": null,
            "_view_module_version": "1.2.0",
            "_model_module": "@jupyter-widgets/controls"
          }
        },
        "dce26926aff94e8abac3a5086d4c75e8": {
          "model_module": "@jupyter-widgets/base",
          "model_name": "LayoutModel",
          "state": {
            "_view_name": "LayoutView",
            "grid_template_rows": null,
            "right": null,
            "justify_content": null,
            "_view_module": "@jupyter-widgets/base",
            "overflow": null,
            "_model_module_version": "1.2.0",
            "_view_count": null,
            "flex_flow": null,
            "width": null,
            "min_width": null,
            "border": null,
            "align_items": null,
            "bottom": null,
            "_model_module": "@jupyter-widgets/base",
            "top": null,
            "grid_column": null,
            "overflow_y": null,
            "overflow_x": null,
            "grid_auto_flow": null,
            "grid_area": null,
            "grid_template_columns": null,
            "flex": null,
            "_model_name": "LayoutModel",
            "justify_items": null,
            "grid_row": null,
            "max_height": null,
            "align_content": null,
            "visibility": null,
            "align_self": null,
            "height": null,
            "min_height": null,
            "padding": null,
            "grid_auto_rows": null,
            "grid_gap": null,
            "max_width": null,
            "order": null,
            "_view_module_version": "1.2.0",
            "grid_template_areas": null,
            "object_position": null,
            "object_fit": null,
            "grid_auto_columns": null,
            "margin": null,
            "display": null,
            "left": null
          }
        },
        "e51c6bd3df6148a1aff4ee0a887b02c3": {
          "model_module": "@jupyter-widgets/controls",
          "model_name": "HBoxModel",
          "state": {
            "_view_name": "HBoxView",
            "_dom_classes": [],
            "_model_name": "HBoxModel",
            "_view_module": "@jupyter-widgets/controls",
            "_model_module_version": "1.5.0",
            "_view_count": null,
            "_view_module_version": "1.5.0",
            "box_style": "",
            "layout": "IPY_MODEL_d6894fd991db478a8af860e45d846c63",
            "_model_module": "@jupyter-widgets/controls",
            "children": [
              "IPY_MODEL_96d9dcdd1ae24bc28134bf8f23337c27",
              "IPY_MODEL_f841a2d850e44b008d863cc9ac6e8a8e"
            ]
          }
        },
        "d6894fd991db478a8af860e45d846c63": {
          "model_module": "@jupyter-widgets/base",
          "model_name": "LayoutModel",
          "state": {
            "_view_name": "LayoutView",
            "grid_template_rows": null,
            "right": null,
            "justify_content": null,
            "_view_module": "@jupyter-widgets/base",
            "overflow": null,
            "_model_module_version": "1.2.0",
            "_view_count": null,
            "flex_flow": null,
            "width": null,
            "min_width": null,
            "border": null,
            "align_items": null,
            "bottom": null,
            "_model_module": "@jupyter-widgets/base",
            "top": null,
            "grid_column": null,
            "overflow_y": null,
            "overflow_x": null,
            "grid_auto_flow": null,
            "grid_area": null,
            "grid_template_columns": null,
            "flex": null,
            "_model_name": "LayoutModel",
            "justify_items": null,
            "grid_row": null,
            "max_height": null,
            "align_content": null,
            "visibility": null,
            "align_self": null,
            "height": null,
            "min_height": null,
            "padding": null,
            "grid_auto_rows": null,
            "grid_gap": null,
            "max_width": null,
            "order": null,
            "_view_module_version": "1.2.0",
            "grid_template_areas": null,
            "object_position": null,
            "object_fit": null,
            "grid_auto_columns": null,
            "margin": null,
            "display": null,
            "left": null
          }
        },
        "96d9dcdd1ae24bc28134bf8f23337c27": {
          "model_module": "@jupyter-widgets/controls",
          "model_name": "FloatProgressModel",
          "state": {
            "_view_name": "ProgressView",
            "style": "IPY_MODEL_90442d887a9f4a4b908cf716326e768b",
            "_dom_classes": [],
            "description": "100%",
            "_model_name": "FloatProgressModel",
            "bar_style": "",
            "max": 20,
            "_view_module": "@jupyter-widgets/controls",
            "_model_module_version": "1.5.0",
            "value": 20,
            "_view_count": null,
            "_view_module_version": "1.5.0",
            "orientation": "horizontal",
            "min": 0,
            "description_tooltip": null,
            "_model_module": "@jupyter-widgets/controls",
            "layout": "IPY_MODEL_d1876d6eafb04a9ab75e8469b689daf3"
          }
        },
        "f841a2d850e44b008d863cc9ac6e8a8e": {
          "model_module": "@jupyter-widgets/controls",
          "model_name": "HTMLModel",
          "state": {
            "_view_name": "HTMLView",
            "style": "IPY_MODEL_dcd9fb48d3ee43ca91a80d9e56ed15c1",
            "_dom_classes": [],
            "description": "",
            "_model_name": "HTMLModel",
            "placeholder": "​",
            "_view_module": "@jupyter-widgets/controls",
            "_model_module_version": "1.5.0",
            "value": " 20/20 [00:00&lt;00:00, 198.16it/s]",
            "_view_count": null,
            "_view_module_version": "1.5.0",
            "description_tooltip": null,
            "_model_module": "@jupyter-widgets/controls",
            "layout": "IPY_MODEL_c52277acbae4493c82e311c80c8f7167"
          }
        },
        "90442d887a9f4a4b908cf716326e768b": {
          "model_module": "@jupyter-widgets/controls",
          "model_name": "ProgressStyleModel",
          "state": {
            "_view_name": "StyleView",
            "_model_name": "ProgressStyleModel",
            "description_width": "initial",
            "_view_module": "@jupyter-widgets/base",
            "_model_module_version": "1.5.0",
            "_view_count": null,
            "_view_module_version": "1.2.0",
            "bar_color": null,
            "_model_module": "@jupyter-widgets/controls"
          }
        },
        "d1876d6eafb04a9ab75e8469b689daf3": {
          "model_module": "@jupyter-widgets/base",
          "model_name": "LayoutModel",
          "state": {
            "_view_name": "LayoutView",
            "grid_template_rows": null,
            "right": null,
            "justify_content": null,
            "_view_module": "@jupyter-widgets/base",
            "overflow": null,
            "_model_module_version": "1.2.0",
            "_view_count": null,
            "flex_flow": null,
            "width": null,
            "min_width": null,
            "border": null,
            "align_items": null,
            "bottom": null,
            "_model_module": "@jupyter-widgets/base",
            "top": null,
            "grid_column": null,
            "overflow_y": null,
            "overflow_x": null,
            "grid_auto_flow": null,
            "grid_area": null,
            "grid_template_columns": null,
            "flex": null,
            "_model_name": "LayoutModel",
            "justify_items": null,
            "grid_row": null,
            "max_height": null,
            "align_content": null,
            "visibility": null,
            "align_self": null,
            "height": null,
            "min_height": null,
            "padding": null,
            "grid_auto_rows": null,
            "grid_gap": null,
            "max_width": null,
            "order": null,
            "_view_module_version": "1.2.0",
            "grid_template_areas": null,
            "object_position": null,
            "object_fit": null,
            "grid_auto_columns": null,
            "margin": null,
            "display": null,
            "left": null
          }
        },
        "dcd9fb48d3ee43ca91a80d9e56ed15c1": {
          "model_module": "@jupyter-widgets/controls",
          "model_name": "DescriptionStyleModel",
          "state": {
            "_view_name": "StyleView",
            "_model_name": "DescriptionStyleModel",
            "description_width": "",
            "_view_module": "@jupyter-widgets/base",
            "_model_module_version": "1.5.0",
            "_view_count": null,
            "_view_module_version": "1.2.0",
            "_model_module": "@jupyter-widgets/controls"
          }
        },
        "c52277acbae4493c82e311c80c8f7167": {
          "model_module": "@jupyter-widgets/base",
          "model_name": "LayoutModel",
          "state": {
            "_view_name": "LayoutView",
            "grid_template_rows": null,
            "right": null,
            "justify_content": null,
            "_view_module": "@jupyter-widgets/base",
            "overflow": null,
            "_model_module_version": "1.2.0",
            "_view_count": null,
            "flex_flow": null,
            "width": null,
            "min_width": null,
            "border": null,
            "align_items": null,
            "bottom": null,
            "_model_module": "@jupyter-widgets/base",
            "top": null,
            "grid_column": null,
            "overflow_y": null,
            "overflow_x": null,
            "grid_auto_flow": null,
            "grid_area": null,
            "grid_template_columns": null,
            "flex": null,
            "_model_name": "LayoutModel",
            "justify_items": null,
            "grid_row": null,
            "max_height": null,
            "align_content": null,
            "visibility": null,
            "align_self": null,
            "height": null,
            "min_height": null,
            "padding": null,
            "grid_auto_rows": null,
            "grid_gap": null,
            "max_width": null,
            "order": null,
            "_view_module_version": "1.2.0",
            "grid_template_areas": null,
            "object_position": null,
            "object_fit": null,
            "grid_auto_columns": null,
            "margin": null,
            "display": null,
            "left": null
          }
        }
      }
    }
  },
  "cells": [
    {
      "cell_type": "markdown",
      "metadata": {
        "id": "oHPeNh4NhSUK"
      },
      "source": [
        "## CMPE 258 - HW 5\n",
        "\n",
        "## Abhishek Bais\n",
        "\n",
        "## This notebook is a modified version of [noteebook](https://github.com/offirinbar/NYC_Taxi/blob/master/NYC_Taxi_PyTorch.ipynb) authored by Offir Inbar.\n",
        "\n",
        "## 1. NYC Taxi Fare Prediction dataset is no available via Kaggle API so this collab has been modified to work for Chicago Taxi dataset instead.\n",
        "\n",
        "## 2. In Part A, Part B the author also loads Chicago Taxi dataset, probably for the same reason, although he says in title of colab that it is NYC Taxi Fare prediction dataset."
      ]
    },
    {
      "cell_type": "markdown",
      "metadata": {
        "id": "Lg1P_3lo9r8H"
      },
      "source": [
        "## 0.0 Abhishek Added - Search for NYC Taxi Fare prediction dataset on Kaggle"
      ]
    },
    {
      "cell_type": "code",
      "metadata": {
        "colab": {
          "base_uri": "https://localhost:8080/"
        },
        "id": "su3vhYL_9nss",
        "outputId": "ca79f6a2-29c6-4922-e3e4-52ddb622f83c"
      },
      "source": [
        "!pip install kaggle"
      ],
      "execution_count": 1,
      "outputs": [
        {
          "output_type": "stream",
          "text": [
            "Requirement already satisfied: kaggle in /usr/local/lib/python3.7/dist-packages (1.5.12)\n",
            "Requirement already satisfied: certifi in /usr/local/lib/python3.7/dist-packages (from kaggle) (2020.12.5)\n",
            "Requirement already satisfied: python-dateutil in /usr/local/lib/python3.7/dist-packages (from kaggle) (2.8.1)\n",
            "Requirement already satisfied: six>=1.10 in /usr/local/lib/python3.7/dist-packages (from kaggle) (1.15.0)\n",
            "Requirement already satisfied: requests in /usr/local/lib/python3.7/dist-packages (from kaggle) (2.23.0)\n",
            "Requirement already satisfied: tqdm in /usr/local/lib/python3.7/dist-packages (from kaggle) (4.41.1)\n",
            "Requirement already satisfied: python-slugify in /usr/local/lib/python3.7/dist-packages (from kaggle) (4.0.1)\n",
            "Requirement already satisfied: urllib3 in /usr/local/lib/python3.7/dist-packages (from kaggle) (1.24.3)\n",
            "Requirement already satisfied: idna<3,>=2.5 in /usr/local/lib/python3.7/dist-packages (from requests->kaggle) (2.10)\n",
            "Requirement already satisfied: chardet<4,>=3.0.2 in /usr/local/lib/python3.7/dist-packages (from requests->kaggle) (3.0.4)\n",
            "Requirement already satisfied: text-unidecode>=1.3 in /usr/local/lib/python3.7/dist-packages (from python-slugify->kaggle) (1.3)\n"
          ],
          "name": "stdout"
        }
      ]
    },
    {
      "cell_type": "code",
      "metadata": {
        "id": "BYGlRq_x_tmF"
      },
      "source": [
        "!cp /content/.kaggle/kaggle.json /root/.kaggle/kaggle.json"
      ],
      "execution_count": 17,
      "outputs": []
    },
    {
      "cell_type": "code",
      "metadata": {
        "colab": {
          "base_uri": "https://localhost:8080/"
        },
        "id": "dnAXBvdn-zP6",
        "outputId": "42758ef1-08eb-46ff-d2b7-c5820079412f"
      },
      "source": [
        "ls /root/.kaggle/"
      ],
      "execution_count": 18,
      "outputs": [
        {
          "output_type": "stream",
          "text": [
            "kaggle.json\n"
          ],
          "name": "stdout"
        }
      ]
    },
    {
      "cell_type": "code",
      "metadata": {
        "colab": {
          "base_uri": "https://localhost:8080/"
        },
        "id": "JHNzDJHb-_7v",
        "outputId": "bdbe74ca-0b88-43fa-fc5f-4681839753a4"
      },
      "source": [
        "!kaggle config set -n path -v{/content}"
      ],
      "execution_count": 19,
      "outputs": [
        {
          "output_type": "stream",
          "text": [
            "Warning: Your Kaggle API key is readable by other users on this system! To fix this, you can run 'chmod 600 /root/.kaggle/kaggle.json'\n",
            "- path is now set to: {/content}\n"
          ],
          "name": "stdout"
        }
      ]
    },
    {
      "cell_type": "code",
      "metadata": {
        "id": "nZHdd_56_3td"
      },
      "source": [
        "!chmod 600 /root/.kaggle/kaggle.json"
      ],
      "execution_count": 20,
      "outputs": []
    },
    {
      "cell_type": "markdown",
      "metadata": {
        "id": "3m5dDJ8dAFlf"
      },
      "source": [
        "## 0.1 Abhishek Added - Kaggle says dataset available via Kaggle API here \n",
        "kaggle competitions download -c new-york-city-taxi-fare-prediction"
      ]
    },
    {
      "cell_type": "code",
      "metadata": {
        "colab": {
          "base_uri": "https://localhost:8080/"
        },
        "id": "8COGri-M_9b7",
        "outputId": "e00c42e3-d29f-411c-8342-ac556572cf62"
      },
      "source": [
        "!kaggle datasets list -s new-york-city"
      ],
      "execution_count": 23,
      "outputs": [
        {
          "output_type": "stream",
          "text": [
            "Warning: Looks like you're using an outdated API Version, please consider updating (server 1.5.12 / client 1.5.4)\n",
            "ref                                                   title                                          size  lastUpdated          downloadCount  \n",
            "----------------------------------------------------  --------------------------------------------  -----  -------------------  -------------  \n",
            "dgomonov/new-york-city-airbnb-open-data               New York City Airbnb Open Data                  2MB  2019-08-12 16:24:45          97352  \n",
            "fivethirtyeight/uber-pickups-in-new-york-city         Uber Pickups in New York City                 109MB  2019-11-13 19:52:18          30178  \n",
            "adamschroeder/crimes-new-york-city                    New York City Crimes                           50MB  2017-08-11 04:54:29           4281  \n",
            "new-york-city/nyc-property-sales                      NYC Property Sales                              2MB  2017-09-22 19:43:30          16153  \n",
            "muonneutrino/new-york-city-census-data                New York City Census Data                     343KB  2017-08-04 06:17:42           3525  \n",
            "new-york-city/new-york-city-current-job-postings      New York City Current Job Postings              3MB  2019-12-22 00:30:56           9066  \n",
            "new-york-city/nyc-parking-tickets                     NYC Parking Tickets                             2GB  2020-05-10 21:42:31          14291  \n",
            "nycparks/tree-census                                  Tree Census in New York City                  124MB  2017-07-17 16:57:32           1695  \n",
            "stoney71/new-york-city-transport-statistics           New York City Bus Data                          1GB  2018-05-18 00:35:41           3597  \n",
            "new-york-city/nyc-east-river-bicycle-crossings        New York City - East River Bicycle Crossings    2KB  2017-09-06 15:29:38           3743  \n",
            "new-york-city/nyc-buildings                           New York City - Buildings Database             47MB  2017-09-01 15:07:59           1589  \n",
            "mathijs/weather-data-in-new-york-city-2016            Weather data in New York City - 2016            3KB  2017-09-24 18:06:20           7136  \n",
            "new-york-city/ny-bus-breakdown-and-delays             NY Bus Breakdown and Delays                    13MB  2019-12-01 04:41:10           2400  \n",
            "new-york-city/nyc-inspections                         NYC Restaurant Inspections                     21MB  2017-08-29 18:22:05           2955  \n",
            "new-york-city/ny-daily-inmates-in-custody             NY Daily Inmates In Custody                   307KB  2019-12-01 04:44:30           1048  \n",
            "new-york-city/nypd-motor-vehicle-collisions           NYPD Motor Vehicle Collisions                  68MB  2019-12-02 08:47:02           1363  \n",
            "new-york-city/nyc-rat-sightings                       NYC Rat Sightings                               8MB  2017-09-18 15:45:20           1016  \n",
            "debanjanpaul/new-york-city-taxi-trip-distance-matrix  New York City Taxi Trip - Distance Matrix       2MB  2017-08-03 03:46:47            842  \n",
            "new-york-city/nyc-citywide-payroll-data               New York City - Citywide Payroll Data          52MB  2017-09-05 20:02:49           1591  \n",
            "new-york-city/nyc-dog-names                           NYC Dog Names                                  55KB  2017-08-31 16:04:44           2376  \n"
          ],
          "name": "stdout"
        }
      ]
    },
    {
      "cell_type": "markdown",
      "metadata": {
        "id": "yLfQPF1eAY75"
      },
      "source": [
        "## 0.2: Abhishek Added - \n",
        "### debanjanpaul/new-york-city-taxi-trip-distance-matrix dataset is the only NYC taxi dataset available. Its about taxi trip distance"
      ]
    },
    {
      "cell_type": "code",
      "metadata": {
        "colab": {
          "base_uri": "https://localhost:8080/"
        },
        "id": "QFzAgXxHAchy",
        "outputId": "ee2e0a6d-ca81-4c9f-eafd-9f9cdcfe12a5"
      },
      "source": [
        "!kaggle datasets list -s new-york-city-taxi-fare"
      ],
      "execution_count": 26,
      "outputs": [
        {
          "output_type": "stream",
          "text": [
            "Warning: Looks like you're using an outdated API Version, please consider updating (server 1.5.12 / client 1.5.4)\n",
            "Traceback (most recent call last):\n",
            "  File \"/usr/local/bin/kaggle\", line 8, in <module>\n",
            "    sys.exit(main())\n",
            "  File \"/usr/local/lib/python2.7/dist-packages/kaggle/cli.py\", line 51, in main\n",
            "    out = args.func(**command_args)\n",
            "  File \"/usr/local/lib/python2.7/dist-packages/kaggle/api/kaggle_api_extended.py\", line 910, in dataset_list_cli\n",
            "    tag_ids, search, user, mine, page)\n",
            "  File \"/usr/local/lib/python2.7/dist-packages/kaggle/api/kaggle_api_extended.py\", line 880, in dataset_list\n",
            "    return [Dataset(d) for d in datasets_list_result]\n",
            "  File \"/usr/local/lib/python2.7/dist-packages/kaggle/models/kaggle_models_extended.py\", line 66, in __init__\n",
            "    self.size = File.get_size(self.totalBytes)\n",
            "  File \"/usr/local/lib/python2.7/dist-packages/kaggle/models/kaggle_models_extended.py\", line 97, in get_size\n",
            "    return '%.*f%s' % (precision, size, suffixes[suffix_index])\n",
            "TypeError: float argument required, not NoneType\n"
          ],
          "name": "stdout"
        }
      ]
    },
    {
      "cell_type": "code",
      "metadata": {
        "colab": {
          "base_uri": "https://localhost:8080/"
        },
        "id": "vIP_zLrJA9Lw",
        "outputId": "1af1533c-5103-4ae7-e806-2d74f830a570"
      },
      "source": [
        "!kaggle datasets list -s new-york-city-taxi-fare-prediction"
      ],
      "execution_count": 27,
      "outputs": [
        {
          "output_type": "stream",
          "text": [
            "Warning: Looks like you're using an outdated API Version, please consider updating (server 1.5.12 / client 1.5.4)\n",
            "Traceback (most recent call last):\n",
            "  File \"/usr/local/bin/kaggle\", line 8, in <module>\n",
            "    sys.exit(main())\n",
            "  File \"/usr/local/lib/python2.7/dist-packages/kaggle/cli.py\", line 51, in main\n",
            "    out = args.func(**command_args)\n",
            "  File \"/usr/local/lib/python2.7/dist-packages/kaggle/api/kaggle_api_extended.py\", line 910, in dataset_list_cli\n",
            "    tag_ids, search, user, mine, page)\n",
            "  File \"/usr/local/lib/python2.7/dist-packages/kaggle/api/kaggle_api_extended.py\", line 880, in dataset_list\n",
            "    return [Dataset(d) for d in datasets_list_result]\n",
            "  File \"/usr/local/lib/python2.7/dist-packages/kaggle/models/kaggle_models_extended.py\", line 66, in __init__\n",
            "    self.size = File.get_size(self.totalBytes)\n",
            "  File \"/usr/local/lib/python2.7/dist-packages/kaggle/models/kaggle_models_extended.py\", line 97, in get_size\n",
            "    return '%.*f%s' % (precision, size, suffixes[suffix_index])\n",
            "TypeError: float argument required, not NoneType\n"
          ],
          "name": "stdout"
        }
      ]
    },
    {
      "cell_type": "markdown",
      "metadata": {
        "id": "H7JBj-twBufb"
      },
      "source": [
        "## 0.3. Will proceed with Chicago taxi fare dataset"
      ]
    },
    {
      "cell_type": "markdown",
      "metadata": {
        "id": "uh2Y1u6JkBVG"
      },
      "source": [
        "# Import libraries\n"
      ]
    },
    {
      "cell_type": "code",
      "metadata": {
        "id": "3256OFoIjIrM"
      },
      "source": [
        "## import libraries\n",
        "\n",
        "#PyTorch \n",
        "\n",
        "import torch\n",
        "import torch.nn as nn\n",
        "from torch.utils.data import Dataset, DataLoader\n",
        "import torch.optim as torch_optim\n",
        "from torchvision import models\n",
        "from torch.nn import init\n",
        "import torch.optim as optim\n",
        "from torch.autograd import Variable\n",
        "import torch.nn.functional as F\n",
        "from torch.utils import data\n",
        "from torch.optim import lr_scheduler\n",
        "\n",
        "#sklearn\n",
        "from sklearn.model_selection import train_test_split\n",
        "from sklearn.preprocessing import LabelEncoder\n",
        "from sklearn.metrics import mean_squared_error\n",
        "from sklearn import preprocessing\n",
        "\n",
        "\n",
        "#other\n",
        "from IPython.core.debugger import set_trace\n",
        "import pandas as pd\n",
        "import numpy as np\n",
        "from collections import Counter\n",
        "from datetime import datetime\n",
        "import math \n",
        "from google.colab import files\n",
        "import io\n",
        "import datetime as dt\n",
        "import re\n",
        "import pandas_profiling\n",
        "import pandas_profiling as pp\n",
        "from math import sqrt\n",
        "\n",
        "#graphs\n",
        "import seaborn as sns\n",
        "import matplotlib.pyplot as plt\n",
        "import matplotlib.ticker as ticker\n",
        "import matplotlib.dates as mdates\n",
        "import matplotlib.cbook as cbook\n",
        "import pylab as plt\n",
        "import matplotlib.dates as dates\n",
        "import seaborn as sns\n",
        "import pylab\n",
        "import matplotlib\n",
        "import matplotlib.dates\n",
        "from IPython.display import display\n",
        "import plotly.graph_objects as go\n",
        "\n",
        "\n",
        "%matplotlib inline"
      ],
      "execution_count": null,
      "outputs": []
    },
    {
      "cell_type": "code",
      "metadata": {
        "id": "jENRWz7YBP8v",
        "colab": {
          "base_uri": "https://localhost:8080/"
        },
        "outputId": "cac6ef21-e344-40ff-f3ae-445c9e0b90ef"
      },
      "source": [
        "# load tqdm\n",
        "#!pip install --force https://github.com/chengs/tqdm/archive/colab.zip\n",
        "from tqdm import tqdm, tqdm_notebook, tnrange\n",
        "\n",
        "device = torch.device(\"cuda:0\" if torch.cuda.is_available() else \"cpu\")\n",
        "device"
      ],
      "execution_count": null,
      "outputs": [
        {
          "output_type": "execute_result",
          "data": {
            "text/plain": [
              "device(type='cuda', index=0)"
            ]
          },
          "metadata": {
            "tags": []
          },
          "execution_count": 2
        }
      ]
    },
    {
      "cell_type": "markdown",
      "metadata": {
        "id": "0PVX-6qokEWI"
      },
      "source": [
        "# Help Functions"
      ]
    },
    {
      "cell_type": "code",
      "metadata": {
        "id": "uJoaYsqKjjTu"
      },
      "source": [
        "def haversine_distance(df, lat1, long1, lat2, long2):\n",
        "    \"\"\"\n",
        "    Calculates the haversine distance between 2 sets of GPS coordinates in df\n",
        "    \"\"\"\n",
        "    r = 6371  # average radius of Earth in kilometers\n",
        "       \n",
        "    phi1 = np.radians(df[lat1])\n",
        "    phi2 = np.radians(df[lat2])\n",
        "    \n",
        "    delta_phi = np.radians(df[lat2]-df[lat1])\n",
        "    delta_lambda = np.radians(df[long2]-df[long1])\n",
        "     \n",
        "    a = np.sin(delta_phi/2)**2 + np.cos(phi1) * np.cos(phi2) * np.sin(delta_lambda/2)**2\n",
        "    c = 2 * np.arctan2(np.sqrt(a), np.sqrt(1-a))\n",
        "    d = (r * c) # in kilometers\n",
        "\n",
        "    return d"
      ],
      "execution_count": null,
      "outputs": []
    },
    {
      "cell_type": "markdown",
      "metadata": {
        "id": "6e0RgPoDC3u9"
      },
      "source": [
        "# Data injestion"
      ]
    },
    {
      "cell_type": "markdown",
      "metadata": {
        "id": "HVH9aII2kHSj"
      },
      "source": [
        "## 1.0. Abhishek Added -  Upload Data for Chicago Taxi"
      ]
    },
    {
      "cell_type": "code",
      "metadata": {
        "colab": {
          "base_uri": "https://localhost:8080/"
        },
        "id": "1B8qP5HKjBp_",
        "outputId": "0c0645bc-32c9-43e0-8b2e-74e43e5f19db"
      },
      "source": [
        "!wget https://raw.githubusercontent.com/tensorflow/tfx/master/tfx/examples/chicago_taxi_pipeline/data/simple/data.csv"
      ],
      "execution_count": null,
      "outputs": [
        {
          "output_type": "stream",
          "text": [
            "--2021-04-18 16:38:30--  https://raw.githubusercontent.com/tensorflow/tfx/master/tfx/examples/chicago_taxi_pipeline/data/simple/data.csv\n",
            "Resolving raw.githubusercontent.com (raw.githubusercontent.com)... 185.199.109.133, 185.199.108.133, 185.199.110.133, ...\n",
            "Connecting to raw.githubusercontent.com (raw.githubusercontent.com)|185.199.109.133|:443... connected.\n",
            "HTTP request sent, awaiting response... 200 OK\n",
            "Length: 1922812 (1.8M) [text/plain]\n",
            "Saving to: ‘data.csv.1’\n",
            "\n",
            "\rdata.csv.1            0%[                    ]       0  --.-KB/s               \rdata.csv.1          100%[===================>]   1.83M  --.-KB/s    in 0.06s   \n",
            "\n",
            "2021-04-18 16:38:30 (30.2 MB/s) - ‘data.csv.1’ saved [1922812/1922812]\n",
            "\n"
          ],
          "name": "stdout"
        }
      ]
    },
    {
      "cell_type": "markdown",
      "metadata": {
        "id": "tplPSi1B1toX"
      },
      "source": [
        "## 2.0. Abhishek Added - Data injestion"
      ]
    },
    {
      "cell_type": "code",
      "metadata": {
        "colab": {
          "base_uri": "https://localhost:8080/"
        },
        "id": "uSK4EWak2kGO",
        "outputId": "892db294-bb8d-4b7b-eb7d-4db209cb1b56"
      },
      "source": [
        "df = pd.read_csv('/content/data.csv')\n",
        "df.info()"
      ],
      "execution_count": null,
      "outputs": [
        {
          "output_type": "stream",
          "text": [
            "<class 'pandas.core.frame.DataFrame'>\n",
            "RangeIndex: 15002 entries, 0 to 15001\n",
            "Data columns (total 18 columns):\n",
            " #   Column                  Non-Null Count  Dtype  \n",
            "---  ------                  --------------  -----  \n",
            " 0   pickup_community_area   15000 non-null  float64\n",
            " 1   fare                    15002 non-null  float64\n",
            " 2   trip_start_month        15002 non-null  int64  \n",
            " 3   trip_start_hour         15002 non-null  int64  \n",
            " 4   trip_start_day          15002 non-null  int64  \n",
            " 5   trip_start_timestamp    15002 non-null  int64  \n",
            " 6   pickup_latitude         15000 non-null  float64\n",
            " 7   pickup_longitude        15000 non-null  float64\n",
            " 8   dropoff_latitude        14519 non-null  float64\n",
            " 9   dropoff_longitude       14519 non-null  float64\n",
            " 10  trip_miles              15002 non-null  float64\n",
            " 11  pickup_census_tract     1 non-null      float64\n",
            " 12  dropoff_census_tract    10761 non-null  float64\n",
            " 13  payment_type            15002 non-null  object \n",
            " 14  company                 9862 non-null   object \n",
            " 15  trip_seconds            14996 non-null  float64\n",
            " 16  dropoff_community_area  14495 non-null  float64\n",
            " 17  tips                    15002 non-null  float64\n",
            "dtypes: float64(12), int64(4), object(2)\n",
            "memory usage: 2.1+ MB\n"
          ],
          "name": "stdout"
        }
      ]
    },
    {
      "cell_type": "code",
      "metadata": {
        "colab": {
          "base_uri": "https://localhost:8080/"
        },
        "id": "LMPrX8DRlpx3",
        "outputId": "d3c4601c-6a4d-4460-93b2-4fd8a82ef4fb"
      },
      "source": [
        "df.info()"
      ],
      "execution_count": null,
      "outputs": [
        {
          "output_type": "stream",
          "text": [
            "<class 'pandas.core.frame.DataFrame'>\n",
            "RangeIndex: 15002 entries, 0 to 15001\n",
            "Data columns (total 18 columns):\n",
            " #   Column                  Non-Null Count  Dtype  \n",
            "---  ------                  --------------  -----  \n",
            " 0   pickup_community_area   15000 non-null  float64\n",
            " 1   fare                    15002 non-null  float64\n",
            " 2   trip_start_month        15002 non-null  int64  \n",
            " 3   trip_start_hour         15002 non-null  int64  \n",
            " 4   trip_start_day          15002 non-null  int64  \n",
            " 5   trip_start_timestamp    15002 non-null  int64  \n",
            " 6   pickup_latitude         15000 non-null  float64\n",
            " 7   pickup_longitude        15000 non-null  float64\n",
            " 8   dropoff_latitude        14519 non-null  float64\n",
            " 9   dropoff_longitude       14519 non-null  float64\n",
            " 10  trip_miles              15002 non-null  float64\n",
            " 11  pickup_census_tract     1 non-null      float64\n",
            " 12  dropoff_census_tract    10761 non-null  float64\n",
            " 13  payment_type            15002 non-null  object \n",
            " 14  company                 9862 non-null   object \n",
            " 15  trip_seconds            14996 non-null  float64\n",
            " 16  dropoff_community_area  14495 non-null  float64\n",
            " 17  tips                    15002 non-null  float64\n",
            "dtypes: float64(12), int64(4), object(2)\n",
            "memory usage: 2.1+ MB\n"
          ],
          "name": "stdout"
        }
      ]
    },
    {
      "cell_type": "markdown",
      "metadata": {
        "id": "NKkTUIH42Wat"
      },
      "source": [
        "## 3.0. Abhishek Added - Data preprocessing, drop useless columns"
      ]
    },
    {
      "cell_type": "code",
      "metadata": {
        "colab": {
          "base_uri": "https://localhost:8080/"
        },
        "id": "ZAfe3X4P2VUp",
        "outputId": "a68b957a-4363-4751-bfe8-de4fbbb792c3"
      },
      "source": [
        "##Drop useless columns\n",
        "df = df.drop(['trip_start_timestamp','trip_miles','pickup_census_tract',\n",
        "              'dropoff_census_tract','trip_seconds','payment_type','tips', \n",
        "              'company','dropoff_community_area','pickup_community_area'], axis=1)\n",
        "df.info()"
      ],
      "execution_count": null,
      "outputs": [
        {
          "output_type": "stream",
          "text": [
            "<class 'pandas.core.frame.DataFrame'>\n",
            "RangeIndex: 15002 entries, 0 to 15001\n",
            "Data columns (total 8 columns):\n",
            " #   Column             Non-Null Count  Dtype  \n",
            "---  ------             --------------  -----  \n",
            " 0   fare               15002 non-null  float64\n",
            " 1   trip_start_month   15002 non-null  int64  \n",
            " 2   trip_start_hour    15002 non-null  int64  \n",
            " 3   trip_start_day     15002 non-null  int64  \n",
            " 4   pickup_latitude    15000 non-null  float64\n",
            " 5   pickup_longitude   15000 non-null  float64\n",
            " 6   dropoff_latitude   14519 non-null  float64\n",
            " 7   dropoff_longitude  14519 non-null  float64\n",
            "dtypes: float64(5), int64(3)\n",
            "memory usage: 937.8 KB\n"
          ],
          "name": "stdout"
        }
      ]
    },
    {
      "cell_type": "markdown",
      "metadata": {
        "id": "Tc8Fdg7f1w_M"
      },
      "source": [
        "## 4.0. Abhishek Added - Data preprocessing, drop fares > $200"
      ]
    },
    {
      "cell_type": "code",
      "metadata": {
        "colab": {
          "base_uri": "https://localhost:8080/"
        },
        "id": "77ut1zdvlxEa",
        "outputId": "043b67b9-30e1-4581-e686-103ad6dc0410"
      },
      "source": [
        "#Drop NA rows\n",
        "df = df.dropna()\n",
        "\n",
        "#Drop rows where FARE > 200( only 1 row found )\n",
        "df = df.drop(df[df['fare'] > 200].index)\n",
        "\n",
        "#Change datatype of cols\n",
        "df['trip_start_month'] = df['trip_start_month'].astype('str')\n",
        "df['trip_start_hour'] = df['trip_start_hour'].astype('str')\n",
        "df['trip_start_day'] = df['trip_start_day'].astype('str')\n",
        "df.info()"
      ],
      "execution_count": null,
      "outputs": [
        {
          "output_type": "stream",
          "text": [
            "<class 'pandas.core.frame.DataFrame'>\n",
            "Int64Index: 14518 entries, 28 to 15000\n",
            "Data columns (total 8 columns):\n",
            " #   Column             Non-Null Count  Dtype  \n",
            "---  ------             --------------  -----  \n",
            " 0   fare               14518 non-null  float64\n",
            " 1   trip_start_month   14518 non-null  object \n",
            " 2   trip_start_hour    14518 non-null  object \n",
            " 3   trip_start_day     14518 non-null  object \n",
            " 4   pickup_latitude    14518 non-null  float64\n",
            " 5   pickup_longitude   14518 non-null  float64\n",
            " 6   dropoff_latitude   14518 non-null  float64\n",
            " 7   dropoff_longitude  14518 non-null  float64\n",
            "dtypes: float64(5), object(3)\n",
            "memory usage: 1020.8+ KB\n"
          ],
          "name": "stdout"
        }
      ]
    },
    {
      "cell_type": "markdown",
      "metadata": {
        "id": "YBsv1Guv2xe4"
      },
      "source": [
        "## 5.0. Abhishek Added - Train/Test split"
      ]
    },
    {
      "cell_type": "code",
      "metadata": {
        "colab": {
          "base_uri": "https://localhost:8080/"
        },
        "id": "jGgnVOqFmYCu",
        "outputId": "8e5e70e1-7b3e-4fad-a165-1743a1a953c0"
      },
      "source": [
        "##Train test split ( Original DF )\n",
        "np.random.seed(seed=2)\n",
        "msk = np.random.rand(len(df)) < 0.85\n",
        "df_train = df[msk]\n",
        "df_test = df[~msk]\n",
        "\n",
        "print(len(df_train))\n",
        "print(len(df_test))\n",
        "\n",
        "df_train.to_csv(\"train.csv\", index=False, header=False)\n",
        "df_test.to_csv(\"eval.csv\", index=False, header=False)"
      ],
      "execution_count": null,
      "outputs": [
        {
          "output_type": "stream",
          "text": [
            "12347\n",
            "2171\n"
          ],
          "name": "stdout"
        }
      ]
    },
    {
      "cell_type": "code",
      "metadata": {
        "id": "XSb19Baik5G8",
        "colab": {
          "base_uri": "https://localhost:8080/",
          "height": 204
        },
        "outputId": "5c04a41c-5843-439d-fd33-7ce2573db275"
      },
      "source": [
        "df_train.head()"
      ],
      "execution_count": null,
      "outputs": [
        {
          "output_type": "execute_result",
          "data": {
            "text/html": [
              "<div>\n",
              "<style scoped>\n",
              "    .dataframe tbody tr th:only-of-type {\n",
              "        vertical-align: middle;\n",
              "    }\n",
              "\n",
              "    .dataframe tbody tr th {\n",
              "        vertical-align: top;\n",
              "    }\n",
              "\n",
              "    .dataframe thead th {\n",
              "        text-align: right;\n",
              "    }\n",
              "</style>\n",
              "<table border=\"1\" class=\"dataframe\">\n",
              "  <thead>\n",
              "    <tr style=\"text-align: right;\">\n",
              "      <th></th>\n",
              "      <th>fare</th>\n",
              "      <th>trip_start_month</th>\n",
              "      <th>trip_start_hour</th>\n",
              "      <th>trip_start_day</th>\n",
              "      <th>pickup_latitude</th>\n",
              "      <th>pickup_longitude</th>\n",
              "      <th>dropoff_latitude</th>\n",
              "      <th>dropoff_longitude</th>\n",
              "    </tr>\n",
              "  </thead>\n",
              "  <tbody>\n",
              "    <tr>\n",
              "      <th>28</th>\n",
              "      <td>12.25</td>\n",
              "      <td>10</td>\n",
              "      <td>1</td>\n",
              "      <td>1</td>\n",
              "      <td>41.952823</td>\n",
              "      <td>-87.653244</td>\n",
              "      <td>41.920452</td>\n",
              "      <td>-87.679955</td>\n",
              "    </tr>\n",
              "    <tr>\n",
              "      <th>29</th>\n",
              "      <td>3.85</td>\n",
              "      <td>3</td>\n",
              "      <td>15</td>\n",
              "      <td>6</td>\n",
              "      <td>41.899670</td>\n",
              "      <td>-87.669838</td>\n",
              "      <td>41.920452</td>\n",
              "      <td>-87.679955</td>\n",
              "    </tr>\n",
              "    <tr>\n",
              "      <th>30</th>\n",
              "      <td>6.05</td>\n",
              "      <td>8</td>\n",
              "      <td>23</td>\n",
              "      <td>5</td>\n",
              "      <td>41.906026</td>\n",
              "      <td>-87.675312</td>\n",
              "      <td>41.920452</td>\n",
              "      <td>-87.679955</td>\n",
              "    </tr>\n",
              "    <tr>\n",
              "      <th>31</th>\n",
              "      <td>7.25</td>\n",
              "      <td>10</td>\n",
              "      <td>21</td>\n",
              "      <td>7</td>\n",
              "      <td>41.906651</td>\n",
              "      <td>-87.665338</td>\n",
              "      <td>41.920452</td>\n",
              "      <td>-87.679955</td>\n",
              "    </tr>\n",
              "    <tr>\n",
              "      <th>32</th>\n",
              "      <td>7.85</td>\n",
              "      <td>11</td>\n",
              "      <td>11</td>\n",
              "      <td>2</td>\n",
              "      <td>41.871016</td>\n",
              "      <td>-87.631407</td>\n",
              "      <td>41.849247</td>\n",
              "      <td>-87.624135</td>\n",
              "    </tr>\n",
              "  </tbody>\n",
              "</table>\n",
              "</div>"
            ],
            "text/plain": [
              "     fare trip_start_month  ... dropoff_latitude dropoff_longitude\n",
              "28  12.25               10  ...        41.920452        -87.679955\n",
              "29   3.85                3  ...        41.920452        -87.679955\n",
              "30   6.05                8  ...        41.920452        -87.679955\n",
              "31   7.25               10  ...        41.920452        -87.679955\n",
              "32   7.85               11  ...        41.849247        -87.624135\n",
              "\n",
              "[5 rows x 8 columns]"
            ]
          },
          "metadata": {
            "tags": []
          },
          "execution_count": 30
        }
      ]
    },
    {
      "cell_type": "code",
      "metadata": {
        "colab": {
          "base_uri": "https://localhost:8080/",
          "height": 204
        },
        "id": "uw17ebHpnjuq",
        "outputId": "ac8d7e32-33ca-4990-961d-8443ecad8d63"
      },
      "source": [
        "df_test.head()"
      ],
      "execution_count": null,
      "outputs": [
        {
          "output_type": "execute_result",
          "data": {
            "text/html": [
              "<div>\n",
              "<style scoped>\n",
              "    .dataframe tbody tr th:only-of-type {\n",
              "        vertical-align: middle;\n",
              "    }\n",
              "\n",
              "    .dataframe tbody tr th {\n",
              "        vertical-align: top;\n",
              "    }\n",
              "\n",
              "    .dataframe thead th {\n",
              "        text-align: right;\n",
              "    }\n",
              "</style>\n",
              "<table border=\"1\" class=\"dataframe\">\n",
              "  <thead>\n",
              "    <tr style=\"text-align: right;\">\n",
              "      <th></th>\n",
              "      <th>fare</th>\n",
              "      <th>trip_start_month</th>\n",
              "      <th>trip_start_hour</th>\n",
              "      <th>trip_start_day</th>\n",
              "      <th>pickup_latitude</th>\n",
              "      <th>pickup_longitude</th>\n",
              "      <th>dropoff_latitude</th>\n",
              "      <th>dropoff_longitude</th>\n",
              "    </tr>\n",
              "  </thead>\n",
              "  <tbody>\n",
              "    <tr>\n",
              "      <th>44</th>\n",
              "      <td>5.85</td>\n",
              "      <td>10</td>\n",
              "      <td>0</td>\n",
              "      <td>7</td>\n",
              "      <td>42.001571</td>\n",
              "      <td>-87.695013</td>\n",
              "      <td>42.001571</td>\n",
              "      <td>-87.695013</td>\n",
              "    </tr>\n",
              "    <tr>\n",
              "      <th>68</th>\n",
              "      <td>9.05</td>\n",
              "      <td>2</td>\n",
              "      <td>21</td>\n",
              "      <td>2</td>\n",
              "      <td>41.928619</td>\n",
              "      <td>-87.685362</td>\n",
              "      <td>41.957736</td>\n",
              "      <td>-87.683718</td>\n",
              "    </tr>\n",
              "    <tr>\n",
              "      <th>70</th>\n",
              "      <td>5.65</td>\n",
              "      <td>1</td>\n",
              "      <td>19</td>\n",
              "      <td>1</td>\n",
              "      <td>41.929047</td>\n",
              "      <td>-87.651311</td>\n",
              "      <td>41.921877</td>\n",
              "      <td>-87.664078</td>\n",
              "    </tr>\n",
              "    <tr>\n",
              "      <th>77</th>\n",
              "      <td>9.65</td>\n",
              "      <td>4</td>\n",
              "      <td>1</td>\n",
              "      <td>2</td>\n",
              "      <td>41.906026</td>\n",
              "      <td>-87.675312</td>\n",
              "      <td>41.892042</td>\n",
              "      <td>-87.631864</td>\n",
              "    </tr>\n",
              "    <tr>\n",
              "      <th>81</th>\n",
              "      <td>8.45</td>\n",
              "      <td>7</td>\n",
              "      <td>20</td>\n",
              "      <td>7</td>\n",
              "      <td>41.906026</td>\n",
              "      <td>-87.675312</td>\n",
              "      <td>41.892042</td>\n",
              "      <td>-87.631864</td>\n",
              "    </tr>\n",
              "  </tbody>\n",
              "</table>\n",
              "</div>"
            ],
            "text/plain": [
              "    fare trip_start_month  ... dropoff_latitude dropoff_longitude\n",
              "44  5.85               10  ...        42.001571        -87.695013\n",
              "68  9.05                2  ...        41.957736        -87.683718\n",
              "70  5.65                1  ...        41.921877        -87.664078\n",
              "77  9.65                4  ...        41.892042        -87.631864\n",
              "81  8.45                7  ...        41.892042        -87.631864\n",
              "\n",
              "[5 rows x 8 columns]"
            ]
          },
          "metadata": {
            "tags": []
          },
          "execution_count": 31
        }
      ]
    },
    {
      "cell_type": "markdown",
      "metadata": {
        "id": "QSAiBGfNkbhb"
      },
      "source": [
        "## 6.0. Abhishek Added - Data inspection, percent fares > $0"
      ]
    },
    {
      "cell_type": "code",
      "metadata": {
        "id": "ePzgk3cTYnuY",
        "colab": {
          "base_uri": "https://localhost:8080/"
        },
        "outputId": "f8467e51-17a9-419e-cf82-19f68f207f7c"
      },
      "source": [
        "# Inspect fares > 0\n",
        "df_train = df_train.loc[df_train.fare > 0]\n",
        "df_train.fare.min()"
      ],
      "execution_count": null,
      "outputs": [
        {
          "output_type": "execute_result",
          "data": {
            "text/plain": [
              "0.01"
            ]
          },
          "metadata": {
            "tags": []
          },
          "execution_count": 32
        }
      ]
    },
    {
      "cell_type": "code",
      "metadata": {
        "id": "0mzao1s4a2zB",
        "colab": {
          "base_uri": "https://localhost:8080/"
        },
        "outputId": "da7e2040-22ff-43b9-8aad-9e0e7475cad5"
      },
      "source": [
        "len(df_train)"
      ],
      "execution_count": null,
      "outputs": [
        {
          "output_type": "execute_result",
          "data": {
            "text/plain": [
              "12334"
            ]
          },
          "metadata": {
            "tags": []
          },
          "execution_count": 33
        }
      ]
    },
    {
      "cell_type": "code",
      "metadata": {
        "id": "b5updpaUljUB"
      },
      "source": [
        "train_X = df_train.drop(columns=['fare'])\n",
        "Y = np.log(df_train.fare)\n",
        "test_X = df_test"
      ],
      "execution_count": null,
      "outputs": []
    },
    {
      "cell_type": "code",
      "metadata": {
        "id": "kNycFQdVkl1q"
      },
      "source": [
        "df = train_X.append(test_X,sort=False)"
      ],
      "execution_count": null,
      "outputs": []
    },
    {
      "cell_type": "markdown",
      "metadata": {
        "id": "lbRO0s7mmtOz"
      },
      "source": [
        "##Calculate the distance traveled"
      ]
    },
    {
      "cell_type": "code",
      "metadata": {
        "id": "U6prpp5lmivr",
        "colab": {
          "base_uri": "https://localhost:8080/",
          "height": 204
        },
        "outputId": "92bf4627-844f-4e4d-ac23-7e8bac5a2c02"
      },
      "source": [
        "df['dist_km'] = haversine_distance(df,'pickup_latitude', 'pickup_longitude', 'dropoff_latitude', 'dropoff_longitude')\n",
        "df.head()"
      ],
      "execution_count": null,
      "outputs": [
        {
          "output_type": "execute_result",
          "data": {
            "text/html": [
              "<div>\n",
              "<style scoped>\n",
              "    .dataframe tbody tr th:only-of-type {\n",
              "        vertical-align: middle;\n",
              "    }\n",
              "\n",
              "    .dataframe tbody tr th {\n",
              "        vertical-align: top;\n",
              "    }\n",
              "\n",
              "    .dataframe thead th {\n",
              "        text-align: right;\n",
              "    }\n",
              "</style>\n",
              "<table border=\"1\" class=\"dataframe\">\n",
              "  <thead>\n",
              "    <tr style=\"text-align: right;\">\n",
              "      <th></th>\n",
              "      <th>trip_start_month</th>\n",
              "      <th>trip_start_hour</th>\n",
              "      <th>trip_start_day</th>\n",
              "      <th>pickup_latitude</th>\n",
              "      <th>pickup_longitude</th>\n",
              "      <th>dropoff_latitude</th>\n",
              "      <th>dropoff_longitude</th>\n",
              "      <th>fare</th>\n",
              "      <th>dist_km</th>\n",
              "    </tr>\n",
              "  </thead>\n",
              "  <tbody>\n",
              "    <tr>\n",
              "      <th>28</th>\n",
              "      <td>10</td>\n",
              "      <td>1</td>\n",
              "      <td>1</td>\n",
              "      <td>41.952823</td>\n",
              "      <td>-87.653244</td>\n",
              "      <td>41.920452</td>\n",
              "      <td>-87.679955</td>\n",
              "      <td>NaN</td>\n",
              "      <td>4.223525</td>\n",
              "    </tr>\n",
              "    <tr>\n",
              "      <th>29</th>\n",
              "      <td>3</td>\n",
              "      <td>15</td>\n",
              "      <td>6</td>\n",
              "      <td>41.899670</td>\n",
              "      <td>-87.669838</td>\n",
              "      <td>41.920452</td>\n",
              "      <td>-87.679955</td>\n",
              "      <td>NaN</td>\n",
              "      <td>2.457759</td>\n",
              "    </tr>\n",
              "    <tr>\n",
              "      <th>30</th>\n",
              "      <td>8</td>\n",
              "      <td>23</td>\n",
              "      <td>5</td>\n",
              "      <td>41.906026</td>\n",
              "      <td>-87.675312</td>\n",
              "      <td>41.920452</td>\n",
              "      <td>-87.679955</td>\n",
              "      <td>NaN</td>\n",
              "      <td>1.649418</td>\n",
              "    </tr>\n",
              "    <tr>\n",
              "      <th>31</th>\n",
              "      <td>10</td>\n",
              "      <td>21</td>\n",
              "      <td>7</td>\n",
              "      <td>41.906651</td>\n",
              "      <td>-87.665338</td>\n",
              "      <td>41.920452</td>\n",
              "      <td>-87.679955</td>\n",
              "      <td>NaN</td>\n",
              "      <td>1.953926</td>\n",
              "    </tr>\n",
              "    <tr>\n",
              "      <th>32</th>\n",
              "      <td>11</td>\n",
              "      <td>11</td>\n",
              "      <td>2</td>\n",
              "      <td>41.871016</td>\n",
              "      <td>-87.631407</td>\n",
              "      <td>41.849247</td>\n",
              "      <td>-87.624135</td>\n",
              "      <td>NaN</td>\n",
              "      <td>2.494392</td>\n",
              "    </tr>\n",
              "  </tbody>\n",
              "</table>\n",
              "</div>"
            ],
            "text/plain": [
              "   trip_start_month trip_start_hour  ... fare   dist_km\n",
              "28               10               1  ...  NaN  4.223525\n",
              "29                3              15  ...  NaN  2.457759\n",
              "30                8              23  ...  NaN  1.649418\n",
              "31               10              21  ...  NaN  1.953926\n",
              "32               11              11  ...  NaN  2.494392\n",
              "\n",
              "[5 rows x 9 columns]"
            ]
          },
          "metadata": {
            "tags": []
          },
          "execution_count": 36
        }
      ]
    },
    {
      "cell_type": "markdown",
      "metadata": {
        "id": "siWswp9j6KnF"
      },
      "source": [
        "# Prepare the model"
      ]
    },
    {
      "cell_type": "markdown",
      "metadata": {
        "id": "G-0h_LjXn8ha"
      },
      "source": [
        "## define Categorical and continuous columns"
      ]
    },
    {
      "cell_type": "code",
      "metadata": {
        "colab": {
          "base_uri": "https://localhost:8080/"
        },
        "id": "pbV8gJH-pWfn",
        "outputId": "b4334cc3-eec6-4e3c-ca29-4e07f1da1e55"
      },
      "source": [
        "df.columns"
      ],
      "execution_count": null,
      "outputs": [
        {
          "output_type": "execute_result",
          "data": {
            "text/plain": [
              "Index(['trip_start_month', 'trip_start_hour', 'trip_start_day',\n",
              "       'pickup_latitude', 'pickup_longitude', 'dropoff_latitude',\n",
              "       'dropoff_longitude', 'fare', 'dist_km'],\n",
              "      dtype='object')"
            ]
          },
          "metadata": {
            "tags": []
          },
          "execution_count": 38
        }
      ]
    },
    {
      "cell_type": "code",
      "metadata": {
        "id": "mN0xUIP0nH-K"
      },
      "source": [
        "cont_cols = ['pickup_latitude', 'pickup_longitude', 'dropoff_latitude', 'dropoff_longitude', 'passenger_count', 'dist_km']\n"
      ],
      "execution_count": null,
      "outputs": []
    },
    {
      "cell_type": "code",
      "metadata": {
        "id": "TtN1pnhIox7K",
        "colab": {
          "base_uri": "https://localhost:8080/",
          "height": 204
        },
        "outputId": "475e9471-50f2-4725-c743-3e5e9ee2a98c"
      },
      "source": [
        "df.head()"
      ],
      "execution_count": null,
      "outputs": [
        {
          "output_type": "execute_result",
          "data": {
            "text/html": [
              "<div>\n",
              "<style scoped>\n",
              "    .dataframe tbody tr th:only-of-type {\n",
              "        vertical-align: middle;\n",
              "    }\n",
              "\n",
              "    .dataframe tbody tr th {\n",
              "        vertical-align: top;\n",
              "    }\n",
              "\n",
              "    .dataframe thead th {\n",
              "        text-align: right;\n",
              "    }\n",
              "</style>\n",
              "<table border=\"1\" class=\"dataframe\">\n",
              "  <thead>\n",
              "    <tr style=\"text-align: right;\">\n",
              "      <th></th>\n",
              "      <th>pickup_latitude</th>\n",
              "      <th>pickup_longitude</th>\n",
              "      <th>dropoff_latitude</th>\n",
              "      <th>dropoff_longitude</th>\n",
              "      <th>dist_km</th>\n",
              "    </tr>\n",
              "  </thead>\n",
              "  <tbody>\n",
              "    <tr>\n",
              "      <th>28</th>\n",
              "      <td>1.371758</td>\n",
              "      <td>0.021716</td>\n",
              "      <td>0.460702</td>\n",
              "      <td>-0.460363</td>\n",
              "      <td>-0.065772</td>\n",
              "    </tr>\n",
              "    <tr>\n",
              "      <th>29</th>\n",
              "      <td>-0.076023</td>\n",
              "      <td>-0.241693</td>\n",
              "      <td>0.460702</td>\n",
              "      <td>-0.460363</td>\n",
              "      <td>-0.344658</td>\n",
              "    </tr>\n",
              "    <tr>\n",
              "      <th>30</th>\n",
              "      <td>0.097097</td>\n",
              "      <td>-0.328584</td>\n",
              "      <td>0.460702</td>\n",
              "      <td>-0.460363</td>\n",
              "      <td>-0.472328</td>\n",
              "    </tr>\n",
              "    <tr>\n",
              "      <th>31</th>\n",
              "      <td>0.114115</td>\n",
              "      <td>-0.170258</td>\n",
              "      <td>0.460702</td>\n",
              "      <td>-0.460363</td>\n",
              "      <td>-0.424234</td>\n",
              "    </tr>\n",
              "    <tr>\n",
              "      <th>32</th>\n",
              "      <td>-0.856512</td>\n",
              "      <td>0.368363</td>\n",
              "      <td>-1.382635</td>\n",
              "      <td>0.529041</td>\n",
              "      <td>-0.338872</td>\n",
              "    </tr>\n",
              "  </tbody>\n",
              "</table>\n",
              "</div>"
            ],
            "text/plain": [
              "    pickup_latitude  pickup_longitude  ...  dropoff_longitude   dist_km\n",
              "28         1.371758          0.021716  ...          -0.460363 -0.065772\n",
              "29        -0.076023         -0.241693  ...          -0.460363 -0.344658\n",
              "30         0.097097         -0.328584  ...          -0.460363 -0.472328\n",
              "31         0.114115         -0.170258  ...          -0.460363 -0.424234\n",
              "32        -0.856512          0.368363  ...           0.529041 -0.338872\n",
              "\n",
              "[5 rows x 5 columns]"
            ]
          },
          "metadata": {
            "tags": []
          },
          "execution_count": 54
        }
      ]
    },
    {
      "cell_type": "code",
      "metadata": {
        "id": "ZwW1Ubgeo5ea",
        "colab": {
          "base_uri": "https://localhost:8080/"
        },
        "outputId": "62a01380-eec4-4f69-8eca-7f252f24b696"
      },
      "source": [
        "df.info()"
      ],
      "execution_count": null,
      "outputs": [
        {
          "output_type": "stream",
          "text": [
            "<class 'pandas.core.frame.DataFrame'>\n",
            "Int64Index: 14505 entries, 28 to 14990\n",
            "Data columns (total 5 columns):\n",
            " #   Column             Non-Null Count  Dtype  \n",
            "---  ------             --------------  -----  \n",
            " 0   pickup_latitude    14505 non-null  float64\n",
            " 1   pickup_longitude   14505 non-null  float64\n",
            " 2   dropoff_latitude   14505 non-null  float64\n",
            " 3   dropoff_longitude  14505 non-null  float64\n",
            " 4   dist_km            14505 non-null  float64\n",
            "dtypes: float64(5)\n",
            "memory usage: 679.9 KB\n"
          ],
          "name": "stdout"
        }
      ]
    },
    {
      "cell_type": "markdown",
      "metadata": {
        "id": "QsebxQMFrLkr"
      },
      "source": [
        "##Take the relevent columns for the Model and Split back to train and test"
      ]
    },
    {
      "cell_type": "code",
      "metadata": {
        "id": "DMk-Q1RC0-aL",
        "colab": {
          "base_uri": "https://localhost:8080/"
        },
        "outputId": "4b50be1f-0b79-404a-a24d-2382bedd805e"
      },
      "source": [
        "df.columns"
      ],
      "execution_count": null,
      "outputs": [
        {
          "output_type": "execute_result",
          "data": {
            "text/plain": [
              "Index(['pickup_latitude', 'pickup_longitude', 'dropoff_latitude',\n",
              "       'dropoff_longitude', 'dist_km'],\n",
              "      dtype='object')"
            ]
          },
          "metadata": {
            "tags": []
          },
          "execution_count": 56
        }
      ]
    },
    {
      "cell_type": "markdown",
      "metadata": {
        "id": "fEosFKGT6aOV"
      },
      "source": [
        "## 7.0. Abhishek Added - Keep the relevant columns for the analysis"
      ]
    },
    {
      "cell_type": "code",
      "metadata": {
        "id": "AoSYRIUD1Dbc"
      },
      "source": [
        "# keep only the cols for the model\n",
        "df = df[['pickup_latitude', 'pickup_longitude', 'dropoff_latitude', 'dropoff_longitude', 'dist_km']]"
      ],
      "execution_count": null,
      "outputs": []
    },
    {
      "cell_type": "markdown",
      "metadata": {
        "id": "vAejh6MD6sJl"
      },
      "source": [
        "## 8.0. Abhishek Edited - Prepare the df_train, df_test"
      ]
    },
    {
      "cell_type": "code",
      "metadata": {
        "id": "6pyrDASAqcxM"
      },
      "source": [
        "df_train = df[:12334]\n",
        "df_test = df[12334:]"
      ],
      "execution_count": null,
      "outputs": []
    },
    {
      "cell_type": "markdown",
      "metadata": {
        "id": "2bxdhrdTrdOv"
      },
      "source": [
        "##Continuous values"
      ]
    },
    {
      "cell_type": "code",
      "metadata": {
        "id": "vgjHk0wzrb_L",
        "colab": {
          "base_uri": "https://localhost:8080/"
        },
        "outputId": "af15f62f-f354-49e1-efa6-7bd2e2d62850"
      },
      "source": [
        "#Normalizing \n",
        "\n",
        "from pandas.api.types import is_numeric_dtype\n",
        "\n",
        "#\"Compute the means and stds of `self.cont_names` columns to normalize them.\"\n",
        "def Normalize(df):\n",
        "  means,stds = {},{}\n",
        "  cont_names = ['pickup_latitude', 'pickup_longitude', 'dropoff_latitude', 'dropoff_longitude', 'dist_km']\n",
        "  for n in cont_names:\n",
        "    assert is_numeric_dtype(df[n]), (f\"\"\"Cannot normalize '{n}' column as it isn't numerical. Are you sure it doesn't belong in the categorical set of columns?\"\"\")\n",
        "    means[n],stds[n] = df[n].mean(),df[n].std()\n",
        "    df[n] = (df[n]-means[n]) / (1e-7 + stds[n])\n",
        "\n",
        "\n",
        "Normalize(df_train)\n",
        "Normalize(df_test)\n",
        "X = df_train"
      ],
      "execution_count": null,
      "outputs": [
        {
          "output_type": "stream",
          "text": [
            "/usr/local/lib/python3.7/dist-packages/ipykernel_launcher.py:12: SettingWithCopyWarning:\n",
            "\n",
            "\n",
            "A value is trying to be set on a copy of a slice from a DataFrame.\n",
            "Try using .loc[row_indexer,col_indexer] = value instead\n",
            "\n",
            "See the caveats in the documentation: https://pandas.pydata.org/pandas-docs/stable/user_guide/indexing.html#returning-a-view-versus-a-copy\n",
            "\n"
          ],
          "name": "stderr"
        }
      ]
    },
    {
      "cell_type": "code",
      "metadata": {
        "id": "5cmS2F6crnFq",
        "colab": {
          "base_uri": "https://localhost:8080/",
          "height": 204
        },
        "outputId": "7bef28de-6b24-46cd-d426-989c589e70a8"
      },
      "source": [
        "df_train.head()"
      ],
      "execution_count": null,
      "outputs": [
        {
          "output_type": "execute_result",
          "data": {
            "text/html": [
              "<div>\n",
              "<style scoped>\n",
              "    .dataframe tbody tr th:only-of-type {\n",
              "        vertical-align: middle;\n",
              "    }\n",
              "\n",
              "    .dataframe tbody tr th {\n",
              "        vertical-align: top;\n",
              "    }\n",
              "\n",
              "    .dataframe thead th {\n",
              "        text-align: right;\n",
              "    }\n",
              "</style>\n",
              "<table border=\"1\" class=\"dataframe\">\n",
              "  <thead>\n",
              "    <tr style=\"text-align: right;\">\n",
              "      <th></th>\n",
              "      <th>pickup_latitude</th>\n",
              "      <th>pickup_longitude</th>\n",
              "      <th>dropoff_latitude</th>\n",
              "      <th>dropoff_longitude</th>\n",
              "      <th>dist_km</th>\n",
              "    </tr>\n",
              "  </thead>\n",
              "  <tbody>\n",
              "    <tr>\n",
              "      <th>28</th>\n",
              "      <td>1.371761</td>\n",
              "      <td>0.021716</td>\n",
              "      <td>0.460703</td>\n",
              "      <td>-0.460364</td>\n",
              "      <td>-0.065772</td>\n",
              "    </tr>\n",
              "    <tr>\n",
              "      <th>29</th>\n",
              "      <td>-0.076023</td>\n",
              "      <td>-0.241693</td>\n",
              "      <td>0.460703</td>\n",
              "      <td>-0.460364</td>\n",
              "      <td>-0.344658</td>\n",
              "    </tr>\n",
              "    <tr>\n",
              "      <th>30</th>\n",
              "      <td>0.097097</td>\n",
              "      <td>-0.328585</td>\n",
              "      <td>0.460703</td>\n",
              "      <td>-0.460364</td>\n",
              "      <td>-0.472328</td>\n",
              "    </tr>\n",
              "    <tr>\n",
              "      <th>31</th>\n",
              "      <td>0.114115</td>\n",
              "      <td>-0.170258</td>\n",
              "      <td>0.460703</td>\n",
              "      <td>-0.460364</td>\n",
              "      <td>-0.424234</td>\n",
              "    </tr>\n",
              "    <tr>\n",
              "      <th>32</th>\n",
              "      <td>-0.856514</td>\n",
              "      <td>0.368364</td>\n",
              "      <td>-1.382639</td>\n",
              "      <td>0.529042</td>\n",
              "      <td>-0.338872</td>\n",
              "    </tr>\n",
              "  </tbody>\n",
              "</table>\n",
              "</div>"
            ],
            "text/plain": [
              "    pickup_latitude  pickup_longitude  ...  dropoff_longitude   dist_km\n",
              "28         1.371761          0.021716  ...          -0.460364 -0.065772\n",
              "29        -0.076023         -0.241693  ...          -0.460364 -0.344658\n",
              "30         0.097097         -0.328585  ...          -0.460364 -0.472328\n",
              "31         0.114115         -0.170258  ...          -0.460364 -0.424234\n",
              "32        -0.856514          0.368364  ...           0.529042 -0.338872\n",
              "\n",
              "[5 rows x 5 columns]"
            ]
          },
          "metadata": {
            "tags": []
          },
          "execution_count": 60
        }
      ]
    },
    {
      "cell_type": "code",
      "metadata": {
        "id": "4urVKk9NxDCx",
        "colab": {
          "base_uri": "https://localhost:8080/"
        },
        "outputId": "716123bc-9e30-46fd-d5c5-47d405613195"
      },
      "source": [
        "X.shape"
      ],
      "execution_count": null,
      "outputs": [
        {
          "output_type": "execute_result",
          "data": {
            "text/plain": [
              "(12334, 5)"
            ]
          },
          "metadata": {
            "tags": []
          },
          "execution_count": 61
        }
      ]
    },
    {
      "cell_type": "code",
      "metadata": {
        "id": "7vV8_9do4-Oo",
        "colab": {
          "base_uri": "https://localhost:8080/"
        },
        "outputId": "6581ed13-3e5b-4999-a0b8-961626601678"
      },
      "source": [
        "X.info()"
      ],
      "execution_count": null,
      "outputs": [
        {
          "output_type": "stream",
          "text": [
            "<class 'pandas.core.frame.DataFrame'>\n",
            "Int64Index: 12334 entries, 28 to 15000\n",
            "Data columns (total 5 columns):\n",
            " #   Column             Non-Null Count  Dtype  \n",
            "---  ------             --------------  -----  \n",
            " 0   pickup_latitude    12334 non-null  float64\n",
            " 1   pickup_longitude   12334 non-null  float64\n",
            " 2   dropoff_latitude   12334 non-null  float64\n",
            " 3   dropoff_longitude  12334 non-null  float64\n",
            " 4   dist_km            12334 non-null  float64\n",
            "dtypes: float64(5)\n",
            "memory usage: 578.2 KB\n"
          ],
          "name": "stdout"
        }
      ]
    },
    {
      "cell_type": "code",
      "metadata": {
        "colab": {
          "base_uri": "https://localhost:8080/"
        },
        "id": "ZkGd3xMgqjiu",
        "outputId": "f8c6ad52-2fbf-4182-e2f1-4911351e3b4b"
      },
      "source": [
        "Y.shape"
      ],
      "execution_count": null,
      "outputs": [
        {
          "output_type": "execute_result",
          "data": {
            "text/plain": [
              "(12334,)"
            ]
          },
          "metadata": {
            "tags": []
          },
          "execution_count": 63
        }
      ]
    },
    {
      "cell_type": "markdown",
      "metadata": {
        "id": "fTHaK8PusKx9"
      },
      "source": [
        "## train-valid split"
      ]
    },
    {
      "cell_type": "code",
      "metadata": {
        "id": "_RdHsihKtYLK",
        "colab": {
          "base_uri": "https://localhost:8080/",
          "height": 204
        },
        "outputId": "608481c9-4fb4-4cdb-963a-0b9dd6d922ef"
      },
      "source": [
        "X_train, X_val, y_train, y_val = train_test_split(X, Y, test_size=0.20, random_state=142,shuffle=True ) \n",
        "X_train.head()"
      ],
      "execution_count": null,
      "outputs": [
        {
          "output_type": "execute_result",
          "data": {
            "text/html": [
              "<div>\n",
              "<style scoped>\n",
              "    .dataframe tbody tr th:only-of-type {\n",
              "        vertical-align: middle;\n",
              "    }\n",
              "\n",
              "    .dataframe tbody tr th {\n",
              "        vertical-align: top;\n",
              "    }\n",
              "\n",
              "    .dataframe thead th {\n",
              "        text-align: right;\n",
              "    }\n",
              "</style>\n",
              "<table border=\"1\" class=\"dataframe\">\n",
              "  <thead>\n",
              "    <tr style=\"text-align: right;\">\n",
              "      <th></th>\n",
              "      <th>pickup_latitude</th>\n",
              "      <th>pickup_longitude</th>\n",
              "      <th>dropoff_latitude</th>\n",
              "      <th>dropoff_longitude</th>\n",
              "      <th>dist_km</th>\n",
              "    </tr>\n",
              "  </thead>\n",
              "  <tbody>\n",
              "    <tr>\n",
              "      <th>9032</th>\n",
              "      <td>-0.314307</td>\n",
              "      <td>0.567394</td>\n",
              "      <td>-0.560757</td>\n",
              "      <td>0.376408</td>\n",
              "      <td>-0.481199</td>\n",
              "    </tr>\n",
              "    <tr>\n",
              "      <th>10785</th>\n",
              "      <td>-0.584716</td>\n",
              "      <td>0.347093</td>\n",
              "      <td>-0.111930</td>\n",
              "      <td>0.588818</td>\n",
              "      <td>-0.390413</td>\n",
              "    </tr>\n",
              "    <tr>\n",
              "      <th>7718</th>\n",
              "      <td>-0.077877</td>\n",
              "      <td>0.338179</td>\n",
              "      <td>1.168480</td>\n",
              "      <td>-0.529140</td>\n",
              "      <td>0.340544</td>\n",
              "    </tr>\n",
              "    <tr>\n",
              "      <th>1292</th>\n",
              "      <td>-0.642703</td>\n",
              "      <td>0.467011</td>\n",
              "      <td>-0.079044</td>\n",
              "      <td>0.366454</td>\n",
              "      <td>-0.353516</td>\n",
              "    </tr>\n",
              "    <tr>\n",
              "      <th>1337</th>\n",
              "      <td>-0.642703</td>\n",
              "      <td>0.467011</td>\n",
              "      <td>-0.741690</td>\n",
              "      <td>-0.169012</td>\n",
              "      <td>-0.224457</td>\n",
              "    </tr>\n",
              "  </tbody>\n",
              "</table>\n",
              "</div>"
            ],
            "text/plain": [
              "       pickup_latitude  pickup_longitude  ...  dropoff_longitude   dist_km\n",
              "9032         -0.314307          0.567394  ...           0.376408 -0.481199\n",
              "10785        -0.584716          0.347093  ...           0.588818 -0.390413\n",
              "7718         -0.077877          0.338179  ...          -0.529140  0.340544\n",
              "1292         -0.642703          0.467011  ...           0.366454 -0.353516\n",
              "1337         -0.642703          0.467011  ...          -0.169012 -0.224457\n",
              "\n",
              "[5 rows x 5 columns]"
            ]
          },
          "metadata": {
            "tags": []
          },
          "execution_count": 64
        }
      ]
    },
    {
      "cell_type": "markdown",
      "metadata": {
        "id": "DPSMOoA_5cRV"
      },
      "source": [
        "#Model"
      ]
    },
    {
      "cell_type": "markdown",
      "metadata": {
        "id": "HXMjyAMC-hNo"
      },
      "source": [
        "##Tabular Model"
      ]
    },
    {
      "cell_type": "markdown",
      "metadata": {
        "id": "TYtr9iEi9ses"
      },
      "source": [
        "## 9.0. Abhishek Updated - To create a model compatible for Chicago Taxi\n",
        "Chicago Taxi does not have pickup_datetime that NYC has and were used to create categorical columns such as these for the NYC taxi.  \n",
        "df['EDTdate']  \n",
        "df['Hour']   \n",
        "df['AMorPM']   \n",
        "df['Weekday']   \n",
        "\n",
        "## This model has only continous columns"
      ]
    },
    {
      "cell_type": "code",
      "metadata": {
        "id": "dynnFczJ8UhL"
      },
      "source": [
        "# help functions\n",
        "\n",
        "from collections.abc import Iterable\n",
        "\n",
        "\n",
        "def bn_drop_lin(n_in:int, n_out:int, bn:bool=True, p:float=0., actn=None):\n",
        "    \"Sequence of batchnorm (if `bn`), dropout (with `p`) and linear (`n_in`,`n_out`) layers followed by `actn`.\"\n",
        "    layers = [nn.BatchNorm1d(n_in)] if bn else []\n",
        "    if p != 0: layers.append(nn.Dropout(p))\n",
        "    layers.append(nn.Linear(n_in, n_out))\n",
        "    if actn is not None: layers.append(actn)\n",
        "    return layers\n",
        "\n",
        "def ifnone(a,b):\n",
        "    \"`a` if `a` is not None, otherwise `b`.\"\n",
        "    return b if a is None else a\n",
        "\n",
        "def listify(p, q):\n",
        "    \"Make `p` listy and the same length as `q`.\"\n",
        "    if p is None: p=[]\n",
        "    elif isinstance(p, str):          p = [p]\n",
        "    elif not isinstance(p, Iterable): p = [p]\n",
        "    #Rank 0 tensors in PyTorch are Iterable but don't have a length.\n",
        "    else:\n",
        "        try: a = len(p)\n",
        "        except: p = [p]\n",
        "    n = q if type(q)==int else len(p) if q is None else len(q)\n",
        "    if len(p)==1: p = p * n\n",
        "    assert len(p)==n, f'List len mismatch ({len(p)} vs {n})'\n",
        "    return list(p)\n",
        "\n",
        "              \n",
        "\n",
        "class TabularModel(nn.Module):\n",
        "    \"Basic model for tabular data.\"\n",
        "    def __init__(self, n_cont:int, out_sz:int, layers, ps=None,\n",
        "                 y_range=None, use_bn:bool=True, bn_final:bool=False):\n",
        "        super().__init__()\n",
        "        ps = ifnone(ps, [0]*len(layers))\n",
        "        ps = listify(ps, layers)\n",
        "                   \n",
        "        self.bn_cont = nn.BatchNorm1d(n_cont) #type torch.nn.modules.batchnorm.BatchNorm1d       \n",
        "        self.n_cont,self.y_range = n_cont,y_range\n",
        "        sizes = [n_cont] + layers + [out_sz] #typeL list, len: 4\n",
        "        actns = [nn.ReLU(inplace=True) for _ in range(len(sizes)-2)] + [None] #type: list, len: 3.  the last in None because we finish with linear\n",
        "        layers = []\n",
        "        for i,(n_in,n_out,dp,act) in enumerate(zip(sizes[:-1],sizes[1:],[0.]+ps,actns)):\n",
        "            layers += bn_drop_lin(n_in, n_out, bn=use_bn and i!=0, p=dp, actn=act)\n",
        "        if bn_final: layers.append(nn.BatchNorm1d(sizes[-1]))\n",
        "        self.layers = nn.Sequential(*layers) #type: torch.nn.modules.container.Sequential\n",
        "        \n",
        "\n",
        "    def forward(self, x_cont):\n",
        "        if self.n_cont != 0:\n",
        "            x_cont = self.bn_cont(x_cont) # batchnorm1d\n",
        "            x = x_cont \n",
        "        x = self.layers(x)\n",
        "        if self.y_range is not None:\n",
        "            x = (self.y_range[1]-self.y_range[0]) * torch.sigmoid(x) + self.y_range[0] # deal with y_range\n",
        "        return x.squeeze()\n",
        "    "
      ],
      "execution_count": null,
      "outputs": []
    },
    {
      "cell_type": "code",
      "metadata": {
        "id": "voS5fTPF-mFb",
        "colab": {
          "base_uri": "https://localhost:8080/"
        },
        "outputId": "a494535c-7034-458f-febe-9ec5675b9434"
      },
      "source": [
        "torch.manual_seed(33)"
      ],
      "execution_count": null,
      "outputs": [
        {
          "output_type": "execute_result",
          "data": {
            "text/plain": [
              "<torch._C.Generator at 0x7fd45281b750>"
            ]
          },
          "metadata": {
            "tags": []
          },
          "execution_count": 156
        }
      ]
    },
    {
      "cell_type": "code",
      "metadata": {
        "id": "Qdy8Vq-eRPvh",
        "colab": {
          "base_uri": "https://localhost:8080/"
        },
        "outputId": "dbb35516-b73f-4ecf-f334-199cd61091f9"
      },
      "source": [
        "y_range = (0, y_train.max()*1.2)\n",
        "y_range"
      ],
      "execution_count": null,
      "outputs": [
        {
          "output_type": "execute_result",
          "data": {
            "text/plain": [
              "(0, 5.669142800253904)"
            ]
          },
          "metadata": {
            "tags": []
          },
          "execution_count": 157
        }
      ]
    },
    {
      "cell_type": "code",
      "metadata": {
        "id": "TIZIz_UxGp3M"
      },
      "source": [
        "cont_cols_1 = ['pickup_latitude',\n",
        "              'pickup_longitude',\n",
        "              'dropoff_latitude',\n",
        "              'dropoff_longitude',\n",
        "              'dist_km']"
      ],
      "execution_count": null,
      "outputs": []
    },
    {
      "cell_type": "code",
      "metadata": {
        "id": "UxDTmxl6_N_8",
        "colab": {
          "base_uri": "https://localhost:8080/"
        },
        "outputId": "0882719b-5266-4663-da42-32abbc99bfa8"
      },
      "source": [
        "model = TabularModel(n_cont = len(cont_cols_1),out_sz = 1,layers = [1000,500,250],ps= [0.001,0.01,0.01],y_range=y_range).to(device)\n",
        "model"
      ],
      "execution_count": null,
      "outputs": [
        {
          "output_type": "execute_result",
          "data": {
            "text/plain": [
              "TabularModel(\n",
              "  (bn_cont): BatchNorm1d(5, eps=1e-05, momentum=0.1, affine=True, track_running_stats=True)\n",
              "  (layers): Sequential(\n",
              "    (0): Linear(in_features=5, out_features=1000, bias=True)\n",
              "    (1): ReLU(inplace=True)\n",
              "    (2): BatchNorm1d(1000, eps=1e-05, momentum=0.1, affine=True, track_running_stats=True)\n",
              "    (3): Dropout(p=0.001, inplace=False)\n",
              "    (4): Linear(in_features=1000, out_features=500, bias=True)\n",
              "    (5): ReLU(inplace=True)\n",
              "    (6): BatchNorm1d(500, eps=1e-05, momentum=0.1, affine=True, track_running_stats=True)\n",
              "    (7): Dropout(p=0.01, inplace=False)\n",
              "    (8): Linear(in_features=500, out_features=250, bias=True)\n",
              "    (9): ReLU(inplace=True)\n",
              "    (10): BatchNorm1d(250, eps=1e-05, momentum=0.1, affine=True, track_running_stats=True)\n",
              "    (11): Dropout(p=0.01, inplace=False)\n",
              "    (12): Linear(in_features=250, out_features=1, bias=True)\n",
              "  )\n",
              ")"
            ]
          },
          "metadata": {
            "tags": []
          },
          "execution_count": 159
        }
      ]
    },
    {
      "cell_type": "markdown",
      "metadata": {
        "id": "mCqq3sfY_mku"
      },
      "source": [
        "## optimizer"
      ]
    },
    {
      "cell_type": "markdown",
      "metadata": {
        "id": "j14cvBPs-Zet"
      },
      "source": [
        "## 10.0. Abhishek Added - Hyper param tuning\n",
        "lr = 1e-10"
      ]
    },
    {
      "cell_type": "code",
      "metadata": {
        "id": "sOkFdhVN4Z6_"
      },
      "source": [
        "from collections import defaultdict\n",
        "opt = torch.optim.Adam(model.parameters(), lr=1e-10) # can add: weight_decay=\n",
        "#lr_cosine = lr_scheduler.CosineAnnealingLR(opt,T_max = 350) #1000 ## if you want to add lr_cosine\n",
        "\n",
        "\n",
        "\n",
        "lr = defaultdict(list)\n",
        "tloss = defaultdict(list)\n",
        "vloss = defaultdict(list)"
      ],
      "execution_count": null,
      "outputs": []
    },
    {
      "cell_type": "markdown",
      "metadata": {
        "id": "dgSawsRpCd40"
      },
      "source": [
        "##Train and Fit"
      ]
    },
    {
      "cell_type": "markdown",
      "metadata": {
        "id": "hYzUS-lgCfjC"
      },
      "source": [
        "## 11.0. Abhishek edited the fit API to work on Chicago Taxi which doesnt have categorical columns"
      ]
    },
    {
      "cell_type": "code",
      "metadata": {
        "id": "IQ4sEx4NsAjO"
      },
      "source": [
        "def inv_y(y): return np.exp(y)\n",
        "\n",
        "def rmse(targ, y_pred):\n",
        "    return np.sqrt(mean_squared_error(inv_y(y_pred), inv_y(targ))) #.detach().numpy()\n",
        "    \n",
        "\n",
        "def rmse(targ, y_pred):\n",
        "   return np.sqrt(mean_squared_error(y_pred, targ)) #.detach().numpy()\n",
        "\n",
        "\n",
        "#def fit(model, train_dl, val_dl, loss_fn, opt, scheduler, epochs=3): ## if you want to add schedular\n",
        "def fit(model, train_dl, val_dl, loss_fn, opt, epochs=3):\n",
        "    num_batch = len(train_dl)\n",
        "    for epoch in tnrange(epochs):      \n",
        "        y_true_train = list()\n",
        "        y_pred_train = list()\n",
        "        total_loss_train = 0          \n",
        "        \n",
        "        t = tqdm_notebook(iter(train_dl), leave=False, total=num_batch)\n",
        "        for cont, y in t:\n",
        "            cont = cont.cuda()\n",
        "            y = y.cuda()\n",
        "            t.set_description(f'Epoch {epoch}')\n",
        "            \n",
        "            opt.zero_grad() #find where the grads are zero\n",
        "            pred = model(cont)\n",
        "            loss = loss_fn(pred, y)\n",
        "            \n",
        "            loss.backward() # do backprop\n",
        "            lr[epoch].append(opt.param_groups[0]['lr'])\n",
        "            tloss[epoch].append(loss.item())\n",
        "            opt.step()\n",
        "            #scheduler.step()\n",
        "            \n",
        "            \n",
        "            t.set_postfix(loss=loss.item())\n",
        "            \n",
        "            y_true_train += list(y.cpu().data.numpy())\n",
        "            y_pred_train += list(pred.cpu().data.numpy())\n",
        "            total_loss_train += loss.item()\n",
        "            \n",
        "        train_acc = rmse(y_true_train, y_pred_train)\n",
        "        train_loss = total_loss_train/len(train_dl) # len train_dl = 704. the calc is number of train examples (89991) / batch size (128)\n",
        "        \n",
        "        if val_dl:\n",
        "            y_true_val = list()\n",
        "            y_pred_val = list()\n",
        "            total_loss_val = 0\n",
        "            for cont, y in tqdm_notebook(val_dl, leave=False):\n",
        "                cont = cont.cuda()\n",
        "                y = y.cuda()\n",
        "                pred = model(cont)\n",
        "                loss = loss_fn(pred, y)\n",
        "                \n",
        "                y_true_val += list(y.cpu().data.numpy())\n",
        "                y_pred_val += list(pred.cpu().data.numpy())\n",
        "                total_loss_val += loss.item()\n",
        "                vloss[epoch].append(loss.item())\n",
        "            valacc = rmse(y_true_val, y_pred_val)\n",
        "            valloss = total_loss_val/len(valdl)\n",
        "            print(f'Epoch {epoch}: train_loss: {train_loss:.4f} train_rmse: {train_acc:.4f} | val_loss: {valloss:.4f} val_rmse: {valacc:.4f}')\n",
        "        else:\n",
        "            print(f'Epoch {epoch}: train_loss: {train_loss:.4f} train_rmse: {train_acc:.4f}')\n",
        "    \n",
        "    return lr, tloss, vloss"
      ],
      "execution_count": null,
      "outputs": []
    },
    {
      "cell_type": "markdown",
      "metadata": {
        "id": "AWpA_4yIBGt8"
      },
      "source": [
        "## 12.0. Abhishek Edited - Pytorch dataloaders"
      ]
    },
    {
      "cell_type": "code",
      "metadata": {
        "id": "5FsDmZQ0-6R0"
      },
      "source": [
        "class RegressionColumnarDataset(data.Dataset):\n",
        "    def __init__(self, df, cats, y):   \n",
        "        self.dfconts = df[cats] #type: pandas.core.frame.DataFrame  \n",
        "        self.conts = np.stack([c.values for n, c in self.dfconts.items()], axis=1).astype(np.float32) #tpye: numpy.ndarray\n",
        "        self.y = y.values.astype(np.float32)\n",
        "        \n",
        "        \n",
        "    def __len__(self): return len(self.y)\n",
        "\n",
        "    def __getitem__(self, idx):\n",
        "        \n",
        "        return [self.conts[idx], self.y[idx]]\n",
        "     "
      ],
      "execution_count": null,
      "outputs": []
    },
    {
      "cell_type": "code",
      "metadata": {
        "colab": {
          "base_uri": "https://localhost:8080/",
          "height": 204
        },
        "id": "bEYrp7CuApUm",
        "outputId": "88e4cc34-10aa-4491-f971-7fb6761cf5a3"
      },
      "source": [
        "df.head()"
      ],
      "execution_count": null,
      "outputs": [
        {
          "output_type": "execute_result",
          "data": {
            "text/html": [
              "<div>\n",
              "<style scoped>\n",
              "    .dataframe tbody tr th:only-of-type {\n",
              "        vertical-align: middle;\n",
              "    }\n",
              "\n",
              "    .dataframe tbody tr th {\n",
              "        vertical-align: top;\n",
              "    }\n",
              "\n",
              "    .dataframe thead th {\n",
              "        text-align: right;\n",
              "    }\n",
              "</style>\n",
              "<table border=\"1\" class=\"dataframe\">\n",
              "  <thead>\n",
              "    <tr style=\"text-align: right;\">\n",
              "      <th></th>\n",
              "      <th>pickup_latitude</th>\n",
              "      <th>pickup_longitude</th>\n",
              "      <th>dropoff_latitude</th>\n",
              "      <th>dropoff_longitude</th>\n",
              "      <th>dist_km</th>\n",
              "    </tr>\n",
              "  </thead>\n",
              "  <tbody>\n",
              "    <tr>\n",
              "      <th>28</th>\n",
              "      <td>1.371761</td>\n",
              "      <td>0.021716</td>\n",
              "      <td>0.460703</td>\n",
              "      <td>-0.460364</td>\n",
              "      <td>-0.065772</td>\n",
              "    </tr>\n",
              "    <tr>\n",
              "      <th>29</th>\n",
              "      <td>-0.076023</td>\n",
              "      <td>-0.241693</td>\n",
              "      <td>0.460703</td>\n",
              "      <td>-0.460364</td>\n",
              "      <td>-0.344658</td>\n",
              "    </tr>\n",
              "    <tr>\n",
              "      <th>30</th>\n",
              "      <td>0.097097</td>\n",
              "      <td>-0.328585</td>\n",
              "      <td>0.460703</td>\n",
              "      <td>-0.460364</td>\n",
              "      <td>-0.472328</td>\n",
              "    </tr>\n",
              "    <tr>\n",
              "      <th>31</th>\n",
              "      <td>0.114115</td>\n",
              "      <td>-0.170258</td>\n",
              "      <td>0.460703</td>\n",
              "      <td>-0.460364</td>\n",
              "      <td>-0.424234</td>\n",
              "    </tr>\n",
              "    <tr>\n",
              "      <th>32</th>\n",
              "      <td>-0.856514</td>\n",
              "      <td>0.368364</td>\n",
              "      <td>-1.382639</td>\n",
              "      <td>0.529042</td>\n",
              "      <td>-0.338872</td>\n",
              "    </tr>\n",
              "  </tbody>\n",
              "</table>\n",
              "</div>"
            ],
            "text/plain": [
              "    pickup_latitude  pickup_longitude  ...  dropoff_longitude   dist_km\n",
              "28         1.371761          0.021716  ...          -0.460364 -0.065772\n",
              "29        -0.076023         -0.241693  ...          -0.460364 -0.344658\n",
              "30         0.097097         -0.328585  ...          -0.460364 -0.472328\n",
              "31         0.114115         -0.170258  ...          -0.460364 -0.424234\n",
              "32        -0.856514          0.368364  ...           0.529042 -0.338872\n",
              "\n",
              "[5 rows x 5 columns]"
            ]
          },
          "metadata": {
            "tags": []
          },
          "execution_count": 128
        }
      ]
    },
    {
      "cell_type": "code",
      "metadata": {
        "colab": {
          "base_uri": "https://localhost:8080/",
          "height": 204
        },
        "id": "6xbqnZBw_-0M",
        "outputId": "edf1e5ac-076d-42e6-c1bc-e268eb618c12"
      },
      "source": [
        "X_train.head()"
      ],
      "execution_count": null,
      "outputs": [
        {
          "output_type": "execute_result",
          "data": {
            "text/html": [
              "<div>\n",
              "<style scoped>\n",
              "    .dataframe tbody tr th:only-of-type {\n",
              "        vertical-align: middle;\n",
              "    }\n",
              "\n",
              "    .dataframe tbody tr th {\n",
              "        vertical-align: top;\n",
              "    }\n",
              "\n",
              "    .dataframe thead th {\n",
              "        text-align: right;\n",
              "    }\n",
              "</style>\n",
              "<table border=\"1\" class=\"dataframe\">\n",
              "  <thead>\n",
              "    <tr style=\"text-align: right;\">\n",
              "      <th></th>\n",
              "      <th>pickup_latitude</th>\n",
              "      <th>pickup_longitude</th>\n",
              "      <th>dropoff_latitude</th>\n",
              "      <th>dropoff_longitude</th>\n",
              "      <th>dist_km</th>\n",
              "    </tr>\n",
              "  </thead>\n",
              "  <tbody>\n",
              "    <tr>\n",
              "      <th>9032</th>\n",
              "      <td>-0.314307</td>\n",
              "      <td>0.567394</td>\n",
              "      <td>-0.560757</td>\n",
              "      <td>0.376408</td>\n",
              "      <td>-0.481199</td>\n",
              "    </tr>\n",
              "    <tr>\n",
              "      <th>10785</th>\n",
              "      <td>-0.584716</td>\n",
              "      <td>0.347093</td>\n",
              "      <td>-0.111930</td>\n",
              "      <td>0.588818</td>\n",
              "      <td>-0.390413</td>\n",
              "    </tr>\n",
              "    <tr>\n",
              "      <th>7718</th>\n",
              "      <td>-0.077877</td>\n",
              "      <td>0.338179</td>\n",
              "      <td>1.168480</td>\n",
              "      <td>-0.529140</td>\n",
              "      <td>0.340544</td>\n",
              "    </tr>\n",
              "    <tr>\n",
              "      <th>1292</th>\n",
              "      <td>-0.642703</td>\n",
              "      <td>0.467011</td>\n",
              "      <td>-0.079044</td>\n",
              "      <td>0.366454</td>\n",
              "      <td>-0.353516</td>\n",
              "    </tr>\n",
              "    <tr>\n",
              "      <th>1337</th>\n",
              "      <td>-0.642703</td>\n",
              "      <td>0.467011</td>\n",
              "      <td>-0.741690</td>\n",
              "      <td>-0.169012</td>\n",
              "      <td>-0.224457</td>\n",
              "    </tr>\n",
              "  </tbody>\n",
              "</table>\n",
              "</div>"
            ],
            "text/plain": [
              "       pickup_latitude  pickup_longitude  ...  dropoff_longitude   dist_km\n",
              "9032         -0.314307          0.567394  ...           0.376408 -0.481199\n",
              "10785        -0.584716          0.347093  ...           0.588818 -0.390413\n",
              "7718         -0.077877          0.338179  ...          -0.529140  0.340544\n",
              "1292         -0.642703          0.467011  ...           0.366454 -0.353516\n",
              "1337         -0.642703          0.467011  ...          -0.169012 -0.224457\n",
              "\n",
              "[5 rows x 5 columns]"
            ]
          },
          "metadata": {
            "tags": []
          },
          "execution_count": 129
        }
      ]
    },
    {
      "cell_type": "code",
      "metadata": {
        "colab": {
          "base_uri": "https://localhost:8080/",
          "height": 204
        },
        "id": "9VJ-rX6LAGDP",
        "outputId": "1346161e-9bb1-4ff0-e3d7-76411bd2a310"
      },
      "source": [
        "X_val.head()"
      ],
      "execution_count": null,
      "outputs": [
        {
          "output_type": "execute_result",
          "data": {
            "text/html": [
              "<div>\n",
              "<style scoped>\n",
              "    .dataframe tbody tr th:only-of-type {\n",
              "        vertical-align: middle;\n",
              "    }\n",
              "\n",
              "    .dataframe tbody tr th {\n",
              "        vertical-align: top;\n",
              "    }\n",
              "\n",
              "    .dataframe thead th {\n",
              "        text-align: right;\n",
              "    }\n",
              "</style>\n",
              "<table border=\"1\" class=\"dataframe\">\n",
              "  <thead>\n",
              "    <tr style=\"text-align: right;\">\n",
              "      <th></th>\n",
              "      <th>pickup_latitude</th>\n",
              "      <th>pickup_longitude</th>\n",
              "      <th>dropoff_latitude</th>\n",
              "      <th>dropoff_longitude</th>\n",
              "      <th>dist_km</th>\n",
              "    </tr>\n",
              "  </thead>\n",
              "  <tbody>\n",
              "    <tr>\n",
              "      <th>4857</th>\n",
              "      <td>2.294833</td>\n",
              "      <td>-0.139760</td>\n",
              "      <td>1.076190</td>\n",
              "      <td>-0.035731</td>\n",
              "      <td>0.019558</td>\n",
              "    </tr>\n",
              "    <tr>\n",
              "      <th>4661</th>\n",
              "      <td>-0.251813</td>\n",
              "      <td>0.266172</td>\n",
              "      <td>-0.262701</td>\n",
              "      <td>0.492180</td>\n",
              "      <td>-0.580298</td>\n",
              "    </tr>\n",
              "    <tr>\n",
              "      <th>2926</th>\n",
              "      <td>-0.584716</td>\n",
              "      <td>0.347093</td>\n",
              "      <td>-0.653652</td>\n",
              "      <td>0.567393</td>\n",
              "      <td>-0.578495</td>\n",
              "    </tr>\n",
              "    <tr>\n",
              "      <th>1275</th>\n",
              "      <td>-0.642703</td>\n",
              "      <td>0.467011</td>\n",
              "      <td>-0.037497</td>\n",
              "      <td>-0.396575</td>\n",
              "      <td>0.042652</td>\n",
              "    </tr>\n",
              "    <tr>\n",
              "      <th>9634</th>\n",
              "      <td>-0.475961</td>\n",
              "      <td>0.533669</td>\n",
              "      <td>-0.449295</td>\n",
              "      <td>0.198058</td>\n",
              "      <td>-0.447552</td>\n",
              "    </tr>\n",
              "  </tbody>\n",
              "</table>\n",
              "</div>"
            ],
            "text/plain": [
              "      pickup_latitude  pickup_longitude  ...  dropoff_longitude   dist_km\n",
              "4857         2.294833         -0.139760  ...          -0.035731  0.019558\n",
              "4661        -0.251813          0.266172  ...           0.492180 -0.580298\n",
              "2926        -0.584716          0.347093  ...           0.567393 -0.578495\n",
              "1275        -0.642703          0.467011  ...          -0.396575  0.042652\n",
              "9634        -0.475961          0.533669  ...           0.198058 -0.447552\n",
              "\n",
              "[5 rows x 5 columns]"
            ]
          },
          "metadata": {
            "tags": []
          },
          "execution_count": 130
        }
      ]
    },
    {
      "cell_type": "code",
      "metadata": {
        "colab": {
          "base_uri": "https://localhost:8080/"
        },
        "id": "voU4iYlbANLs",
        "outputId": "97723e12-fafe-4407-e508-952c28a04a7f"
      },
      "source": [
        "y_train.head()"
      ],
      "execution_count": null,
      "outputs": [
        {
          "output_type": "execute_result",
          "data": {
            "text/plain": [
              "9032     1.894617\n",
              "10785    1.953028\n",
              "7718     2.553344\n",
              "1292     2.180417\n",
              "1337     2.202765\n",
              "Name: fare, dtype: float64"
            ]
          },
          "metadata": {
            "tags": []
          },
          "execution_count": 131
        }
      ]
    },
    {
      "cell_type": "code",
      "metadata": {
        "colab": {
          "base_uri": "https://localhost:8080/"
        },
        "id": "BBxE9OdbAOzs",
        "outputId": "600f642b-20eb-4a28-bc17-d0e09650360a"
      },
      "source": [
        "y_val.head()"
      ],
      "execution_count": null,
      "outputs": [
        {
          "output_type": "execute_result",
          "data": {
            "text/plain": [
              "4857    2.553344\n",
              "4661    1.924249\n",
              "2926    1.492904\n",
              "1275    2.642622\n",
              "9634    1.766442\n",
              "Name: fare, dtype: float64"
            ]
          },
          "metadata": {
            "tags": []
          },
          "execution_count": 132
        }
      ]
    },
    {
      "cell_type": "code",
      "metadata": {
        "id": "ExPsMk6i_C0m"
      },
      "source": [
        "trainds = RegressionColumnarDataset(X_train, cont_cols_1, y_train) #type: __main__.RegressionColumnarDataset\n",
        "valds = RegressionColumnarDataset(X_val, cont_cols_1, y_val) #type: __main__.RegressionColumna"
      ],
      "execution_count": null,
      "outputs": []
    },
    {
      "cell_type": "code",
      "metadata": {
        "id": "RTMavXZ5_FVf"
      },
      "source": [
        "params = {'batch_size': 128,\n",
        "          'shuffle': True}\n",
        "\n",
        "\n",
        "traindl = DataLoader(trainds, **params) #type: torch.utils.data.dataloader.DataLoader\n",
        "valdl = DataLoader(valds, **params) #type: torch.utils.data.dataload"
      ],
      "execution_count": null,
      "outputs": []
    },
    {
      "cell_type": "markdown",
      "metadata": {
        "id": "CUORRsg-CWKp"
      },
      "source": [
        "## Train the model"
      ]
    },
    {
      "cell_type": "code",
      "metadata": {
        "id": "wAD4aful_uFX",
        "colab": {
          "base_uri": "https://localhost:8080/",
          "height": 1000,
          "referenced_widgets": [
            "98bc2cd984f44da4ae44b5dd212b2d2f",
            "a29dffbe51c54d5dac0496166c006740",
            "1f59faa2a1ef4c50882604d8e86ffa71",
            "fe3ae34e049f4103b4e653b4bcc99ff2",
            "340acefc909646f5892cd03981b1dc8d",
            "6af733f6519048d4a06449198fbb6470",
            "dc6e7909620b4ab4ab8914e164a502d2",
            "a8cfafcb770949a5a7eea32a43fb2a80",
            "283ce40d02ab43b494111d6b2a5cd49d",
            "2e0cf368111a48acbecdd87824fe710e",
            "8d59b73723bb4cc8bd9f818e698408d9",
            "50ddc591d3ff410a97f358f940d2a2aa",
            "2e2e9ba1d0f743caa7a5f6d076afda0e",
            "853139e449194f38a3f85e6d5cf9e46e",
            "3ecc93772c684279ae01391bbab30ea8",
            "455dd6811b764276a92d9292c45ebacf",
            "b530d14d977d45729c8d6069a6a124ac",
            "33b45800921447f0a3925e0f0368dac7",
            "99b4ed97cf7542a0ae75b93d126e4f27",
            "5918e15db8444ed3b0b30d61c46ab77e",
            "ebecec67b4824beab8238b94321f3665",
            "855df42cce4d4dfe8c5243425169fc6f",
            "6eb7c3eda22c48718acda21ce75602ab",
            "7322afe1e1bf455e87aaf242b221f558",
            "3d934d3d94084f97a30e3a495f905f4c",
            "f17b90206c8a4ae1ba776c038b471fe4",
            "8ae70c92c9e34276aea556c538866568",
            "29268aba792c4bbcaf3f4e2dff399c28",
            "12802bba862b4011a2217cd4a0ecf392",
            "d20a511e3d3946feab51458afbc0ea85",
            "20a4bd002f2f42ab8529cf6b459b3f5e",
            "a1831bc175904366b77000ac6aaedbd9",
            "b5c1ea09dfeb472392432d557af8592e",
            "90891b8c15bd403a89acc31270dc46a8",
            "561398a3e1c64e4c95e70393576a8967",
            "f2b355c76d1d4ea8a740c6f2a32abbeb",
            "b218f94e7dec4ea0872bc0be05ff7a49",
            "48584e200d164e9eab0177b9504874cc",
            "c372c175b6bc4b699c57ea41e7bb2536",
            "afdc55c922eb4e43b56a82dc42dbf8e2",
            "1d9da0d62901424f878db0f21d4ef43d",
            "0da073afae5a4b0992a84b6b52aabf39",
            "83b673a310254cb686f9d29622dc8e70",
            "25a925f8c507429f8db8d9ca1cb5e15d",
            "c9693a1b6c7d4899bc3fa9dfb52ae231",
            "6a525533fa0b437788b8664545898aa6",
            "7431ae15dc454371b42bfa240f0e5031",
            "999574a1053f4664830436cdea965f7e",
            "3a0afcd25c044882a6ec05f55b65ea2a",
            "a9f311d2f4514f2f9674b65527649b33",
            "42e38c44e0fd47c5a43df6fe9ab30d8f",
            "46523bcc753347fe9d0e7d6fb431e802",
            "78aee4c2a721442e95ff6bd784a61115",
            "e64ecb7c01864081b3660c976b4b4ec6",
            "68dd27d278484e8b9188b3d6a83843f3",
            "27a6596da1564babaab16718595c18ff",
            "dc324579df4c441cbf57aaf9f19028d0",
            "82a04e44692b484e9cc675f73e78b8bd",
            "75cdd5dabfe04b789ef6c3acfb5fe0e1",
            "de8f0cc2f29a40f288e213e82d5b7d71",
            "d6f0ad630d6042d49b6a26da2d7a4f92",
            "252cfe650e8b4428b73ca78be9af7bc7",
            "c8c75c7d61044e92b97769ad594adaa0",
            "58b10c662d7441a7ba11bdfdaa32d816",
            "a4c3e8102b474bccae502ae22979384f",
            "496998d8884b470a9dc37adb62525c04",
            "d3a4714db3ea404c9399e25653b94907",
            "6785a3cb12e545a586c60330a659339c",
            "f4f13dc153684959a1102232185a9e30",
            "168f1e6edb3d4d90a3bcf5ed6e252e6e",
            "4bd73897954e4169bb3e773863c983a8",
            "7a44d156972848778937a0ec50df5328",
            "f46d12d3a6b243959c2a7cb08ebb1907",
            "a09b15a9b9d54e99ab9fd9d958042dee",
            "e7cce0ce3efd439e860ae6f75f871be4",
            "0fc4321ab65d44f083496fbc0e8ac314",
            "5bd4177643a44403ba217fe6187be4ca",
            "a45112c51f2641c4a6aa6b82fe34f309",
            "0535172a7b0f43cda5503a74593bb8ec",
            "a48462c24ad14eeaba47ca1e7d216e77",
            "c98b1c2dec11490da90c0ea456cb175b",
            "5735d9ebcf83492f8f163fdd40c04291",
            "6589e266ef7041ceb12f67c2b5aa009a",
            "3db6355c5eb348beb6470ce0fb5da874",
            "e7d02cf899ad4ba9bd1a8a36a1491e70",
            "44b871df259e46289153f80945963c0f",
            "7a29136a8974422798fb9a2a65b0afa4",
            "b900aaf85919462cab364a27aa7a1748",
            "548d98c5bdba48d59c3c63e515064658",
            "c211128311bd4ee8859c08382d7f41b9",
            "91d4be0cf5b941b9822e2724e40a0556",
            "23e9a2a9efb54175a501a9eb3342f246",
            "9c4ba91095704812a3ff69fa6d658911",
            "e96b7a46fcad421aa6ae918bebccf676",
            "a3f26ddfbbc241adb994abf09b92c2af",
            "8f6eaedc6c0a40a1a7edded0acd3a63b",
            "477ebd6f9d314b9a83ac9c11fc0acf2a",
            "b652f89fb5194d20b9f47dc383987c2e",
            "edee202445c34890aa2d8738b088a10b",
            "da0e20b283ab40128934b3c5fd847335",
            "0778f0e1cbf34a2d8219ee1ff1a9422f",
            "02f6e290c18a41c7aac25dc9e8786bcc",
            "adc515cd2212404da95b40e0dc177336",
            "e7bce170f6994e65a325352662f57b8f",
            "257bc650b0b34ded97fb97ae368d8540",
            "110e187e2b994a059dfe4a485010aecd",
            "0dfb52571648479eac6ec44cd31161a6",
            "cb584aba1441418781aee7231c0c0c14",
            "4dd2ab7803bd4f1fbdccce95ab274360",
            "5c8c4e118c944e328cd98323c2584824",
            "f5fe2b6132b14bddb0f2bf5d0c678501",
            "b8e77137fbaa4737942eeeee73570507",
            "0e05b455f3c745c0bb0597977d495ca9",
            "b4edf66c8c4441239d2073bf1636f62b",
            "6b976552d2d3477abd1746a22edb3024",
            "06577945a5d74a59a1cac4865309dd8d",
            "55f87e524e9048fbb3d7f2a8f00589f2",
            "aeb8fc53a6b34a32bbbc10ca99bdd968",
            "6f9368aadd83445bbcd9846891849772",
            "33ae6dbabfea4bfb871cb061cccc87eb",
            "9923c2d9a6db4c2780f8fd05fc45f672",
            "7e6adc07445d4dde9a3aba75baaa7afd",
            "642a9c3ed7ea4673b54b06b3f6368856",
            "7628d478f3534ea0892516ffaf6cd2cd",
            "45e4c72721ae4a7a986f0724e3a080b5",
            "9cce0e47519745109b222e55eae94647",
            "15b5f9b8f2a54092a18bc79c18d9bdf5",
            "0cbb13c918d84825b38f75b40f96c017",
            "c7c36e5588294ac3b9dba7919f321681",
            "ef100ffcaef0426796c71160ade9e907",
            "d5d0b7dd7aad4c91a5839401b559ba94",
            "71434aabcd0449b291b1b60f0f3074f7",
            "95a66a1114ba4a429397e8f14ebfedcd",
            "4ea0519e214b45249ff4630c447c6188",
            "8bb698e8a7fa424c90b8f5f04fa505f0",
            "d803a04998694381a3c346e8da8dbb4a",
            "024eee3c04c74ac7a2efda84e19528df",
            "2824d58f1fac42539b1b3cd68d786582",
            "cd0f318f07bd4fddaa8a97cc1a2fafa8",
            "4e62fb1821604fbfad858c38d3a9b617",
            "e47394a8237c40e6af7c465f346166a0",
            "1e56d55b9e914a53a365fb4d6143495d",
            "1caada0fbbd247f4bb65f9147d00f517",
            "0ea3f1db60f449318d3e9caf7394c90b",
            "701e4f93b82045b49dec5238a0003e45",
            "4be06f9a7e8b419996bffe477775240f",
            "b8ae5c0eacc345e88af0e66e2ea6d6fe",
            "040dcc2fa38e4aa093533835298aeb0b",
            "08e563c56db64676bcf59b951b4f7880",
            "e4845edd2e494ef1a8c6b5915b305ac8",
            "8a58428aa2314f7f90b4dd23395d101d",
            "c390843b62f64aaf8325cebf62545df6",
            "be9a9a97e5654d598a468e4aa969dc6d",
            "9c356eb9e6ac4c639ec1579e31314c18",
            "00e3fa397e9d4fca93a83f1fb12d0a2e",
            "7a5840a99c1540d19a1dd411af525761",
            "ddb16e432cca4bd89c0bde6e32743ea7",
            "e6022a19eb9440779728996fcb22cfc9",
            "b89ea7ad0cb54ef3b247352e83dd3874",
            "dce26926aff94e8abac3a5086d4c75e8",
            "e51c6bd3df6148a1aff4ee0a887b02c3",
            "d6894fd991db478a8af860e45d846c63",
            "96d9dcdd1ae24bc28134bf8f23337c27",
            "f841a2d850e44b008d863cc9ac6e8a8e",
            "90442d887a9f4a4b908cf716326e768b",
            "d1876d6eafb04a9ab75e8469b689daf3",
            "dcd9fb48d3ee43ca91a80d9e56ed15c1",
            "c52277acbae4493c82e311c80c8f7167"
          ]
        },
        "outputId": "457fd364-d033-45b3-e910-708ff87c8a05"
      },
      "source": [
        "#if you want to add lr_cosine\n",
        "#lr, tloss, vloss = fit(model=model, train_dl=traindl, val_dl=valdl, loss_fn=nn.MSELoss(), opt=opt, scheduler=lr_cosine, epochs=10)\n",
        "\n",
        "\n",
        "lr, tloss, vloss = fit(model=model, train_dl=traindl, val_dl=valdl, loss_fn=nn.MSELoss(), opt=opt,  epochs=10)"
      ],
      "execution_count": null,
      "outputs": [
        {
          "output_type": "stream",
          "text": [
            "/usr/local/lib/python3.7/dist-packages/ipykernel_launcher.py:14: TqdmDeprecationWarning:\n",
            "\n",
            "Please use `tqdm.notebook.trange` instead of `tqdm.tnrange`\n",
            "\n"
          ],
          "name": "stderr"
        },
        {
          "output_type": "display_data",
          "data": {
            "application/vnd.jupyter.widget-view+json": {
              "model_id": "98bc2cd984f44da4ae44b5dd212b2d2f",
              "version_minor": 0,
              "version_major": 2
            },
            "text/plain": [
              "HBox(children=(FloatProgress(value=0.0, max=10.0), HTML(value='')))"
            ]
          },
          "metadata": {
            "tags": []
          }
        },
        {
          "output_type": "stream",
          "text": [
            "/usr/local/lib/python3.7/dist-packages/ipykernel_launcher.py:19: TqdmDeprecationWarning:\n",
            "\n",
            "This function will be removed in tqdm==5.0.0\n",
            "Please use `tqdm.notebook.tqdm` instead of `tqdm.tqdm_notebook`\n",
            "\n"
          ],
          "name": "stderr"
        },
        {
          "output_type": "display_data",
          "data": {
            "application/vnd.jupyter.widget-view+json": {
              "model_id": "283ce40d02ab43b494111d6b2a5cd49d",
              "version_minor": 0,
              "version_major": 2
            },
            "text/plain": [
              "HBox(children=(FloatProgress(value=0.0, max=78.0), HTML(value='')))"
            ]
          },
          "metadata": {
            "tags": []
          }
        },
        {
          "output_type": "stream",
          "text": [
            "/usr/local/lib/python3.7/dist-packages/ipykernel_launcher.py:49: TqdmDeprecationWarning:\n",
            "\n",
            "This function will be removed in tqdm==5.0.0\n",
            "Please use `tqdm.notebook.tqdm` instead of `tqdm.tqdm_notebook`\n",
            "\n"
          ],
          "name": "stderr"
        },
        {
          "output_type": "display_data",
          "data": {
            "application/vnd.jupyter.widget-view+json": {
              "model_id": "b530d14d977d45729c8d6069a6a124ac",
              "version_minor": 0,
              "version_major": 2
            },
            "text/plain": [
              "HBox(children=(FloatProgress(value=0.0, max=20.0), HTML(value='')))"
            ]
          },
          "metadata": {
            "tags": []
          }
        },
        {
          "output_type": "stream",
          "text": [
            "Epoch 0: train_loss: 1.8234 train_rmse: 1.3504 | val_loss: 1.8700 val_rmse: 1.3640\n"
          ],
          "name": "stdout"
        },
        {
          "output_type": "stream",
          "text": [
            "/usr/local/lib/python3.7/dist-packages/ipykernel_launcher.py:19: TqdmDeprecationWarning:\n",
            "\n",
            "This function will be removed in tqdm==5.0.0\n",
            "Please use `tqdm.notebook.tqdm` instead of `tqdm.tqdm_notebook`\n",
            "\n"
          ],
          "name": "stderr"
        },
        {
          "output_type": "display_data",
          "data": {
            "application/vnd.jupyter.widget-view+json": {
              "model_id": "3d934d3d94084f97a30e3a495f905f4c",
              "version_minor": 0,
              "version_major": 2
            },
            "text/plain": [
              "HBox(children=(FloatProgress(value=0.0, max=78.0), HTML(value='')))"
            ]
          },
          "metadata": {
            "tags": []
          }
        },
        {
          "output_type": "stream",
          "text": [
            "/usr/local/lib/python3.7/dist-packages/ipykernel_launcher.py:49: TqdmDeprecationWarning:\n",
            "\n",
            "This function will be removed in tqdm==5.0.0\n",
            "Please use `tqdm.notebook.tqdm` instead of `tqdm.tqdm_notebook`\n",
            "\n"
          ],
          "name": "stderr"
        },
        {
          "output_type": "display_data",
          "data": {
            "application/vnd.jupyter.widget-view+json": {
              "model_id": "b5c1ea09dfeb472392432d557af8592e",
              "version_minor": 0,
              "version_major": 2
            },
            "text/plain": [
              "HBox(children=(FloatProgress(value=0.0, max=20.0), HTML(value='')))"
            ]
          },
          "metadata": {
            "tags": []
          }
        },
        {
          "output_type": "stream",
          "text": [
            "Epoch 1: train_loss: 1.8350 train_rmse: 1.3549 | val_loss: 1.8536 val_rmse: 1.3665\n"
          ],
          "name": "stdout"
        },
        {
          "output_type": "stream",
          "text": [
            "/usr/local/lib/python3.7/dist-packages/ipykernel_launcher.py:19: TqdmDeprecationWarning:\n",
            "\n",
            "This function will be removed in tqdm==5.0.0\n",
            "Please use `tqdm.notebook.tqdm` instead of `tqdm.tqdm_notebook`\n",
            "\n"
          ],
          "name": "stderr"
        },
        {
          "output_type": "display_data",
          "data": {
            "application/vnd.jupyter.widget-view+json": {
              "model_id": "1d9da0d62901424f878db0f21d4ef43d",
              "version_minor": 0,
              "version_major": 2
            },
            "text/plain": [
              "HBox(children=(FloatProgress(value=0.0, max=78.0), HTML(value='')))"
            ]
          },
          "metadata": {
            "tags": []
          }
        },
        {
          "output_type": "stream",
          "text": [
            "/usr/local/lib/python3.7/dist-packages/ipykernel_launcher.py:49: TqdmDeprecationWarning:\n",
            "\n",
            "This function will be removed in tqdm==5.0.0\n",
            "Please use `tqdm.notebook.tqdm` instead of `tqdm.tqdm_notebook`\n",
            "\n"
          ],
          "name": "stderr"
        },
        {
          "output_type": "display_data",
          "data": {
            "application/vnd.jupyter.widget-view+json": {
              "model_id": "3a0afcd25c044882a6ec05f55b65ea2a",
              "version_minor": 0,
              "version_major": 2
            },
            "text/plain": [
              "HBox(children=(FloatProgress(value=0.0, max=20.0), HTML(value='')))"
            ]
          },
          "metadata": {
            "tags": []
          }
        },
        {
          "output_type": "stream",
          "text": [
            "Epoch 2: train_loss: 1.8159 train_rmse: 1.3509 | val_loss: 1.8573 val_rmse: 1.3619\n"
          ],
          "name": "stdout"
        },
        {
          "output_type": "stream",
          "text": [
            "/usr/local/lib/python3.7/dist-packages/ipykernel_launcher.py:19: TqdmDeprecationWarning:\n",
            "\n",
            "This function will be removed in tqdm==5.0.0\n",
            "Please use `tqdm.notebook.tqdm` instead of `tqdm.tqdm_notebook`\n",
            "\n"
          ],
          "name": "stderr"
        },
        {
          "output_type": "display_data",
          "data": {
            "application/vnd.jupyter.widget-view+json": {
              "model_id": "dc324579df4c441cbf57aaf9f19028d0",
              "version_minor": 0,
              "version_major": 2
            },
            "text/plain": [
              "HBox(children=(FloatProgress(value=0.0, max=78.0), HTML(value='')))"
            ]
          },
          "metadata": {
            "tags": []
          }
        },
        {
          "output_type": "stream",
          "text": [
            "/usr/local/lib/python3.7/dist-packages/ipykernel_launcher.py:49: TqdmDeprecationWarning:\n",
            "\n",
            "This function will be removed in tqdm==5.0.0\n",
            "Please use `tqdm.notebook.tqdm` instead of `tqdm.tqdm_notebook`\n",
            "\n"
          ],
          "name": "stderr"
        },
        {
          "output_type": "display_data",
          "data": {
            "application/vnd.jupyter.widget-view+json": {
              "model_id": "a4c3e8102b474bccae502ae22979384f",
              "version_minor": 0,
              "version_major": 2
            },
            "text/plain": [
              "HBox(children=(FloatProgress(value=0.0, max=20.0), HTML(value='')))"
            ]
          },
          "metadata": {
            "tags": []
          }
        },
        {
          "output_type": "stream",
          "text": [
            "Epoch 3: train_loss: 1.8333 train_rmse: 1.3555 | val_loss: 1.8244 val_rmse: 1.3623\n"
          ],
          "name": "stdout"
        },
        {
          "output_type": "stream",
          "text": [
            "/usr/local/lib/python3.7/dist-packages/ipykernel_launcher.py:19: TqdmDeprecationWarning:\n",
            "\n",
            "This function will be removed in tqdm==5.0.0\n",
            "Please use `tqdm.notebook.tqdm` instead of `tqdm.tqdm_notebook`\n",
            "\n"
          ],
          "name": "stderr"
        },
        {
          "output_type": "display_data",
          "data": {
            "application/vnd.jupyter.widget-view+json": {
              "model_id": "f46d12d3a6b243959c2a7cb08ebb1907",
              "version_minor": 0,
              "version_major": 2
            },
            "text/plain": [
              "HBox(children=(FloatProgress(value=0.0, max=78.0), HTML(value='')))"
            ]
          },
          "metadata": {
            "tags": []
          }
        },
        {
          "output_type": "stream",
          "text": [
            "/usr/local/lib/python3.7/dist-packages/ipykernel_launcher.py:49: TqdmDeprecationWarning:\n",
            "\n",
            "This function will be removed in tqdm==5.0.0\n",
            "Please use `tqdm.notebook.tqdm` instead of `tqdm.tqdm_notebook`\n",
            "\n"
          ],
          "name": "stderr"
        },
        {
          "output_type": "display_data",
          "data": {
            "application/vnd.jupyter.widget-view+json": {
              "model_id": "c98b1c2dec11490da90c0ea456cb175b",
              "version_minor": 0,
              "version_major": 2
            },
            "text/plain": [
              "HBox(children=(FloatProgress(value=0.0, max=20.0), HTML(value='')))"
            ]
          },
          "metadata": {
            "tags": []
          }
        },
        {
          "output_type": "stream",
          "text": [
            "Epoch 4: train_loss: 1.8289 train_rmse: 1.3524 | val_loss: 1.8640 val_rmse: 1.3605\n"
          ],
          "name": "stdout"
        },
        {
          "output_type": "stream",
          "text": [
            "/usr/local/lib/python3.7/dist-packages/ipykernel_launcher.py:19: TqdmDeprecationWarning:\n",
            "\n",
            "This function will be removed in tqdm==5.0.0\n",
            "Please use `tqdm.notebook.tqdm` instead of `tqdm.tqdm_notebook`\n",
            "\n"
          ],
          "name": "stderr"
        },
        {
          "output_type": "display_data",
          "data": {
            "application/vnd.jupyter.widget-view+json": {
              "model_id": "548d98c5bdba48d59c3c63e515064658",
              "version_minor": 0,
              "version_major": 2
            },
            "text/plain": [
              "HBox(children=(FloatProgress(value=0.0, max=78.0), HTML(value='')))"
            ]
          },
          "metadata": {
            "tags": []
          }
        },
        {
          "output_type": "stream",
          "text": [
            "/usr/local/lib/python3.7/dist-packages/ipykernel_launcher.py:49: TqdmDeprecationWarning:\n",
            "\n",
            "This function will be removed in tqdm==5.0.0\n",
            "Please use `tqdm.notebook.tqdm` instead of `tqdm.tqdm_notebook`\n",
            "\n"
          ],
          "name": "stderr"
        },
        {
          "output_type": "display_data",
          "data": {
            "application/vnd.jupyter.widget-view+json": {
              "model_id": "477ebd6f9d314b9a83ac9c11fc0acf2a",
              "version_minor": 0,
              "version_major": 2
            },
            "text/plain": [
              "HBox(children=(FloatProgress(value=0.0, max=20.0), HTML(value='')))"
            ]
          },
          "metadata": {
            "tags": []
          }
        },
        {
          "output_type": "stream",
          "text": [
            "Epoch 5: train_loss: 1.8227 train_rmse: 1.3502 | val_loss: 1.8450 val_rmse: 1.3598\n"
          ],
          "name": "stdout"
        },
        {
          "output_type": "stream",
          "text": [
            "/usr/local/lib/python3.7/dist-packages/ipykernel_launcher.py:19: TqdmDeprecationWarning:\n",
            "\n",
            "This function will be removed in tqdm==5.0.0\n",
            "Please use `tqdm.notebook.tqdm` instead of `tqdm.tqdm_notebook`\n",
            "\n"
          ],
          "name": "stderr"
        },
        {
          "output_type": "display_data",
          "data": {
            "application/vnd.jupyter.widget-view+json": {
              "model_id": "257bc650b0b34ded97fb97ae368d8540",
              "version_minor": 0,
              "version_major": 2
            },
            "text/plain": [
              "HBox(children=(FloatProgress(value=0.0, max=78.0), HTML(value='')))"
            ]
          },
          "metadata": {
            "tags": []
          }
        },
        {
          "output_type": "stream",
          "text": [
            "/usr/local/lib/python3.7/dist-packages/ipykernel_launcher.py:49: TqdmDeprecationWarning:\n",
            "\n",
            "This function will be removed in tqdm==5.0.0\n",
            "Please use `tqdm.notebook.tqdm` instead of `tqdm.tqdm_notebook`\n",
            "\n"
          ],
          "name": "stderr"
        },
        {
          "output_type": "display_data",
          "data": {
            "application/vnd.jupyter.widget-view+json": {
              "model_id": "0e05b455f3c745c0bb0597977d495ca9",
              "version_minor": 0,
              "version_major": 2
            },
            "text/plain": [
              "HBox(children=(FloatProgress(value=0.0, max=20.0), HTML(value='')))"
            ]
          },
          "metadata": {
            "tags": []
          }
        },
        {
          "output_type": "stream",
          "text": [
            "Epoch 6: train_loss: 1.8298 train_rmse: 1.3541 | val_loss: 1.8540 val_rmse: 1.3627\n"
          ],
          "name": "stdout"
        },
        {
          "output_type": "stream",
          "text": [
            "/usr/local/lib/python3.7/dist-packages/ipykernel_launcher.py:19: TqdmDeprecationWarning:\n",
            "\n",
            "This function will be removed in tqdm==5.0.0\n",
            "Please use `tqdm.notebook.tqdm` instead of `tqdm.tqdm_notebook`\n",
            "\n"
          ],
          "name": "stderr"
        },
        {
          "output_type": "display_data",
          "data": {
            "application/vnd.jupyter.widget-view+json": {
              "model_id": "9923c2d9a6db4c2780f8fd05fc45f672",
              "version_minor": 0,
              "version_major": 2
            },
            "text/plain": [
              "HBox(children=(FloatProgress(value=0.0, max=78.0), HTML(value='')))"
            ]
          },
          "metadata": {
            "tags": []
          }
        },
        {
          "output_type": "stream",
          "text": [
            "/usr/local/lib/python3.7/dist-packages/ipykernel_launcher.py:49: TqdmDeprecationWarning:\n",
            "\n",
            "This function will be removed in tqdm==5.0.0\n",
            "Please use `tqdm.notebook.tqdm` instead of `tqdm.tqdm_notebook`\n",
            "\n"
          ],
          "name": "stderr"
        },
        {
          "output_type": "display_data",
          "data": {
            "application/vnd.jupyter.widget-view+json": {
              "model_id": "c7c36e5588294ac3b9dba7919f321681",
              "version_minor": 0,
              "version_major": 2
            },
            "text/plain": [
              "HBox(children=(FloatProgress(value=0.0, max=20.0), HTML(value='')))"
            ]
          },
          "metadata": {
            "tags": []
          }
        },
        {
          "output_type": "stream",
          "text": [
            "Epoch 7: train_loss: 1.8193 train_rmse: 1.3493 | val_loss: 1.8580 val_rmse: 1.3600\n"
          ],
          "name": "stdout"
        },
        {
          "output_type": "stream",
          "text": [
            "/usr/local/lib/python3.7/dist-packages/ipykernel_launcher.py:19: TqdmDeprecationWarning:\n",
            "\n",
            "This function will be removed in tqdm==5.0.0\n",
            "Please use `tqdm.notebook.tqdm` instead of `tqdm.tqdm_notebook`\n",
            "\n"
          ],
          "name": "stderr"
        },
        {
          "output_type": "display_data",
          "data": {
            "application/vnd.jupyter.widget-view+json": {
              "model_id": "024eee3c04c74ac7a2efda84e19528df",
              "version_minor": 0,
              "version_major": 2
            },
            "text/plain": [
              "HBox(children=(FloatProgress(value=0.0, max=78.0), HTML(value='')))"
            ]
          },
          "metadata": {
            "tags": []
          }
        },
        {
          "output_type": "stream",
          "text": [
            "/usr/local/lib/python3.7/dist-packages/ipykernel_launcher.py:49: TqdmDeprecationWarning:\n",
            "\n",
            "This function will be removed in tqdm==5.0.0\n",
            "Please use `tqdm.notebook.tqdm` instead of `tqdm.tqdm_notebook`\n",
            "\n"
          ],
          "name": "stderr"
        },
        {
          "output_type": "display_data",
          "data": {
            "application/vnd.jupyter.widget-view+json": {
              "model_id": "701e4f93b82045b49dec5238a0003e45",
              "version_minor": 0,
              "version_major": 2
            },
            "text/plain": [
              "HBox(children=(FloatProgress(value=0.0, max=20.0), HTML(value='')))"
            ]
          },
          "metadata": {
            "tags": []
          }
        },
        {
          "output_type": "stream",
          "text": [
            "Epoch 8: train_loss: 1.8237 train_rmse: 1.3538 | val_loss: 1.8420 val_rmse: 1.3645\n"
          ],
          "name": "stdout"
        },
        {
          "output_type": "stream",
          "text": [
            "/usr/local/lib/python3.7/dist-packages/ipykernel_launcher.py:19: TqdmDeprecationWarning:\n",
            "\n",
            "This function will be removed in tqdm==5.0.0\n",
            "Please use `tqdm.notebook.tqdm` instead of `tqdm.tqdm_notebook`\n",
            "\n"
          ],
          "name": "stderr"
        },
        {
          "output_type": "display_data",
          "data": {
            "application/vnd.jupyter.widget-view+json": {
              "model_id": "be9a9a97e5654d598a468e4aa969dc6d",
              "version_minor": 0,
              "version_major": 2
            },
            "text/plain": [
              "HBox(children=(FloatProgress(value=0.0, max=78.0), HTML(value='')))"
            ]
          },
          "metadata": {
            "tags": []
          }
        },
        {
          "output_type": "stream",
          "text": [
            "/usr/local/lib/python3.7/dist-packages/ipykernel_launcher.py:49: TqdmDeprecationWarning:\n",
            "\n",
            "This function will be removed in tqdm==5.0.0\n",
            "Please use `tqdm.notebook.tqdm` instead of `tqdm.tqdm_notebook`\n",
            "\n"
          ],
          "name": "stderr"
        },
        {
          "output_type": "display_data",
          "data": {
            "application/vnd.jupyter.widget-view+json": {
              "model_id": "e51c6bd3df6148a1aff4ee0a887b02c3",
              "version_minor": 0,
              "version_major": 2
            },
            "text/plain": [
              "HBox(children=(FloatProgress(value=0.0, max=20.0), HTML(value='')))"
            ]
          },
          "metadata": {
            "tags": []
          }
        },
        {
          "output_type": "stream",
          "text": [
            "Epoch 9: train_loss: 1.8251 train_rmse: 1.3519 | val_loss: 1.8639 val_rmse: 1.3616\n",
            "\n"
          ],
          "name": "stdout"
        }
      ]
    },
    {
      "cell_type": "markdown",
      "metadata": {
        "id": "dg-YyTMzChI7"
      },
      "source": [
        "## Plots"
      ]
    },
    {
      "cell_type": "code",
      "metadata": {
        "colab": {
          "base_uri": "https://localhost:8080/",
          "height": 281
        },
        "id": "SuYZfBNqHhnb",
        "outputId": "6c4c1ac3-40e3-4113-d33a-7d6470bce6cf"
      },
      "source": [
        "#Plot the Learning rate\n",
        "_ = plt.plot(lr[0])\n",
        "_ = plt.title('LR over Epoch (Epoch 0)')"
      ],
      "execution_count": null,
      "outputs": [
        {
          "output_type": "display_data",
          "data": {
            "image/png": "[encoded data removed]",
            "text/plain": [
              "<Figure size 432x288 with 1 Axes>"
            ]
          },
          "metadata": {
            "tags": [],
            "needs_background": "light"
          }
        }
      ]
    },
    {
      "cell_type": "code",
      "metadata": {
        "colab": {
          "base_uri": "https://localhost:8080/",
          "height": 312
        },
        "id": "2Ish_6m3HlPi",
        "outputId": "dfde0c3f-ac03-4e3b-bd18-5e8c9f744010"
      },
      "source": [
        "#inspired from: https://nbviewer.jupyter.org/github/FraPochetti/KagglePlaygrounds/blob/master/NYC%20Taxi%20Fares%20Prediction.ipynb \n",
        "# Train VS Validaton Loss\n",
        "\n",
        "t = [np.mean(tloss[el]) for el in tloss]\n",
        "v = [np.mean(vloss[el]) for el in vloss]\n",
        "\n",
        "plt.plot(t, label='Training loss')\n",
        "plt.plot(v, label='Validation loss')\n",
        "plt.title(\"Train VS Validation Loss over Epochs\")\n",
        "plt.xlabel(\"Epochs\")\n",
        "plt.legend(frameon=False)"
      ],
      "execution_count": null,
      "outputs": [
        {
          "output_type": "execute_result",
          "data": {
            "text/plain": [
              "<matplotlib.legend.Legend at 0x7fd3fba70410>"
            ]
          },
          "metadata": {
            "tags": []
          },
          "execution_count": 167
        },
        {
          "output_type": "display_data",
          "data": {
            "image/png": "[encoded data removed]",
            "text/plain": [
              "<Figure size 432x288 with 1 Axes>"
            ]
          },
          "metadata": {
            "tags": [],
            "needs_background": "light"
          }
        }
      ]
    },
    {
      "cell_type": "markdown",
      "metadata": {
        "id": "e0lSOupcxzIZ"
      },
      "source": [
        "# Test "
      ]
    },
    {
      "cell_type": "code",
      "metadata": {
        "id": "_xsc3FhFbsGz",
        "colab": {
          "base_uri": "https://localhost:8080/"
        },
        "outputId": "b956a0cb-ed74-46ba-eb3a-ea52290be3bd"
      },
      "source": [
        "df_test.info()"
      ],
      "execution_count": null,
      "outputs": [
        {
          "output_type": "stream",
          "text": [
            "<class 'pandas.core.frame.DataFrame'>\n",
            "Int64Index: 2171 entries, 44 to 14990\n",
            "Data columns (total 5 columns):\n",
            " #   Column             Non-Null Count  Dtype  \n",
            "---  ------             --------------  -----  \n",
            " 0   pickup_latitude    2171 non-null   float64\n",
            " 1   pickup_longitude   2171 non-null   float64\n",
            " 2   dropoff_latitude   2171 non-null   float64\n",
            " 3   dropoff_longitude  2171 non-null   float64\n",
            " 4   dist_km            2171 non-null   float64\n",
            "dtypes: float64(5)\n",
            "memory usage: 101.8 KB\n"
          ],
          "name": "stdout"
        }
      ]
    },
    {
      "cell_type": "markdown",
      "metadata": {
        "id": "5uE2ob_PEYj7"
      },
      "source": [
        "## 13.0. Abhishek updated - test to be compatible with Chicago Taxi"
      ]
    },
    {
      "cell_type": "code",
      "metadata": {
        "id": "3nrV9kSilNCS"
      },
      "source": [
        "# divide to conts columns + make them a tensor + to.cuda()\n",
        "df_test_conts = df_test[['pickup_latitude', 'pickup_longitude', 'dropoff_latitude', 'dropoff_longitude', 'dist_km']]\n",
        "test_conts = df_test_conts.astype(np.float32)\n",
        "test_conts = torch.tensor(test_conts.values).cuda()"
      ],
      "execution_count": null,
      "outputs": []
    },
    {
      "cell_type": "markdown",
      "metadata": {
        "id": "iWciV5aYEg2c"
      },
      "source": [
        "## 14.0. Abhishek updated - make predictions for continous targets"
      ]
    },
    {
      "cell_type": "code",
      "metadata": {
        "id": "jgYTtfyVxUFJ"
      },
      "source": [
        "# make prediction\n",
        "with torch.no_grad():\n",
        "    model.eval()\n",
        "    output = model.forward(test_conts).cuda()"
      ],
      "execution_count": null,
      "outputs": []
    },
    {
      "cell_type": "code",
      "metadata": {
        "id": "E8Rl4zVZ93ag",
        "colab": {
          "base_uri": "https://localhost:8080/"
        },
        "outputId": "1a2f2518-e3da-44ee-d656-a308c714e1e7"
      },
      "source": [
        "output"
      ],
      "execution_count": null,
      "outputs": [
        {
          "output_type": "execute_result",
          "data": {
            "text/plain": [
              "tensor([2.5015, 3.1674, 2.4598,  ..., 3.2030, 2.6986, 3.3108], device='cuda:0')"
            ]
          },
          "metadata": {
            "tags": []
          },
          "execution_count": 171
        }
      ]
    },
    {
      "cell_type": "code",
      "metadata": {
        "id": "nw6AZdZXAfv7",
        "colab": {
          "base_uri": "https://localhost:8080/"
        },
        "outputId": "c1d632d7-7e78-4472-c613-1ad95155cd2c"
      },
      "source": [
        "len(output)"
      ],
      "execution_count": null,
      "outputs": [
        {
          "output_type": "execute_result",
          "data": {
            "text/plain": [
              "2171"
            ]
          },
          "metadata": {
            "tags": []
          },
          "execution_count": 172
        }
      ]
    },
    {
      "cell_type": "code",
      "metadata": {
        "id": "AFJ9Ny5nAjWA",
        "colab": {
          "base_uri": "https://localhost:8080/"
        },
        "outputId": "f7760297-af16-4059-fb4a-4fbf96e5340f"
      },
      "source": [
        "type(output)"
      ],
      "execution_count": null,
      "outputs": [
        {
          "output_type": "execute_result",
          "data": {
            "text/plain": [
              "torch.Tensor"
            ]
          },
          "metadata": {
            "tags": []
          },
          "execution_count": 173
        }
      ]
    },
    {
      "cell_type": "code",
      "metadata": {
        "id": "iLEtdrOoDIBA"
      },
      "source": [
        "# convert to numpy array\n",
        "np_output = output.cpu().numpy()"
      ],
      "execution_count": null,
      "outputs": []
    },
    {
      "cell_type": "code",
      "metadata": {
        "id": "s4HOvUYIE7jx",
        "colab": {
          "base_uri": "https://localhost:8080/"
        },
        "outputId": "9972a254-51cd-4986-b130-3388079bb0ed"
      },
      "source": [
        "type(np_output)"
      ],
      "execution_count": null,
      "outputs": [
        {
          "output_type": "execute_result",
          "data": {
            "text/plain": [
              "numpy.ndarray"
            ]
          },
          "metadata": {
            "tags": []
          },
          "execution_count": 175
        }
      ]
    },
    {
      "cell_type": "code",
      "metadata": {
        "id": "CKp9G4XTDZNI",
        "colab": {
          "base_uri": "https://localhost:8080/"
        },
        "outputId": "e61c9992-e737-46e4-95b1-438cd0e42351"
      },
      "source": [
        "np_output"
      ],
      "execution_count": null,
      "outputs": [
        {
          "output_type": "execute_result",
          "data": {
            "text/plain": [
              "array([2.5014565, 3.1673682, 2.4597642, ..., 3.2029736, 2.698631 ,\n",
              "       3.3107834], dtype=float32)"
            ]
          },
          "metadata": {
            "tags": []
          },
          "execution_count": 176
        }
      ]
    },
    {
      "cell_type": "code",
      "metadata": {
        "id": "EHo-Vq3AE5zE"
      },
      "source": [
        "#  exp to the output data\n",
        "\n",
        "np_output_exp = np.exp(np_output)"
      ],
      "execution_count": null,
      "outputs": []
    },
    {
      "cell_type": "code",
      "metadata": {
        "id": "hCeCxOKpFayL",
        "colab": {
          "base_uri": "https://localhost:8080/"
        },
        "outputId": "138a3c08-2bcd-429e-ce3e-7b132faa4312"
      },
      "source": [
        "np_output_exp"
      ],
      "execution_count": null,
      "outputs": [
        {
          "output_type": "execute_result",
          "data": {
            "text/plain": [
              "array([12.20025 , 23.74491 , 11.702051, ..., 24.605587, 14.859376,\n",
              "       27.406588], dtype=float32)"
            ]
          },
          "metadata": {
            "tags": []
          },
          "execution_count": 178
        }
      ]
    },
    {
      "cell_type": "code",
      "metadata": {
        "id": "wC-v0WfmCwEw"
      },
      "source": [
        "# CONVERT to pandas data frame \n",
        "\n",
        "df_output =  pd.DataFrame(np_output_exp)"
      ],
      "execution_count": null,
      "outputs": []
    },
    {
      "cell_type": "code",
      "metadata": {
        "id": "EWeienWcC2t1",
        "colab": {
          "base_uri": "https://localhost:8080/",
          "height": 419
        },
        "outputId": "fba36338-a911-4643-80b1-f74f76d7f7d6"
      },
      "source": [
        "df_output"
      ],
      "execution_count": null,
      "outputs": [
        {
          "output_type": "execute_result",
          "data": {
            "text/html": [
              "<div>\n",
              "<style scoped>\n",
              "    .dataframe tbody tr th:only-of-type {\n",
              "        vertical-align: middle;\n",
              "    }\n",
              "\n",
              "    .dataframe tbody tr th {\n",
              "        vertical-align: top;\n",
              "    }\n",
              "\n",
              "    .dataframe thead th {\n",
              "        text-align: right;\n",
              "    }\n",
              "</style>\n",
              "<table border=\"1\" class=\"dataframe\">\n",
              "  <thead>\n",
              "    <tr style=\"text-align: right;\">\n",
              "      <th></th>\n",
              "      <th>0</th>\n",
              "    </tr>\n",
              "  </thead>\n",
              "  <tbody>\n",
              "    <tr>\n",
              "      <th>0</th>\n",
              "      <td>12.200250</td>\n",
              "    </tr>\n",
              "    <tr>\n",
              "      <th>1</th>\n",
              "      <td>23.744909</td>\n",
              "    </tr>\n",
              "    <tr>\n",
              "      <th>2</th>\n",
              "      <td>11.702051</td>\n",
              "    </tr>\n",
              "    <tr>\n",
              "      <th>3</th>\n",
              "      <td>12.891317</td>\n",
              "    </tr>\n",
              "    <tr>\n",
              "      <th>4</th>\n",
              "      <td>12.891317</td>\n",
              "    </tr>\n",
              "    <tr>\n",
              "      <th>...</th>\n",
              "      <td>...</td>\n",
              "    </tr>\n",
              "    <tr>\n",
              "      <th>2166</th>\n",
              "      <td>14.134616</td>\n",
              "    </tr>\n",
              "    <tr>\n",
              "      <th>2167</th>\n",
              "      <td>8.799543</td>\n",
              "    </tr>\n",
              "    <tr>\n",
              "      <th>2168</th>\n",
              "      <td>24.605587</td>\n",
              "    </tr>\n",
              "    <tr>\n",
              "      <th>2169</th>\n",
              "      <td>14.859376</td>\n",
              "    </tr>\n",
              "    <tr>\n",
              "      <th>2170</th>\n",
              "      <td>27.406588</td>\n",
              "    </tr>\n",
              "  </tbody>\n",
              "</table>\n",
              "<p>2171 rows × 1 columns</p>\n",
              "</div>"
            ],
            "text/plain": [
              "              0\n",
              "0     12.200250\n",
              "1     23.744909\n",
              "2     11.702051\n",
              "3     12.891317\n",
              "4     12.891317\n",
              "...         ...\n",
              "2166  14.134616\n",
              "2167   8.799543\n",
              "2168  24.605587\n",
              "2169  14.859376\n",
              "2170  27.406588\n",
              "\n",
              "[2171 rows x 1 columns]"
            ]
          },
          "metadata": {
            "tags": []
          },
          "execution_count": 180
        }
      ]
    },
    {
      "cell_type": "code",
      "metadata": {
        "id": "UtBEyhHPKCCO",
        "colab": {
          "base_uri": "https://localhost:8080/"
        },
        "outputId": "cf30f210-5c4c-42b3-87f6-7097e9cb7f98"
      },
      "source": [
        "type(df_output)"
      ],
      "execution_count": null,
      "outputs": [
        {
          "output_type": "execute_result",
          "data": {
            "text/plain": [
              "pandas.core.frame.DataFrame"
            ]
          },
          "metadata": {
            "tags": []
          },
          "execution_count": 181
        }
      ]
    },
    {
      "cell_type": "code",
      "metadata": {
        "id": "BHl0PIlDH9ZU"
      },
      "source": [
        "#output file\n",
        "\n",
        "df_output.to_csv('submission.csv', index=False)\n"
      ],
      "execution_count": null,
      "outputs": []
    },
    {
      "cell_type": "code",
      "metadata": {
        "id": "1-y9qE3yIenz"
      },
      "source": [
        "# function that takes in a dataframe and creates a text link to  \n",
        "# download it (will only work for files < 2MB or so)\n",
        "\n",
        "from IPython.display import HTML\n",
        "import base64\n",
        "\n",
        "def create_download_link(df, title = \"Download CSV file\", filename = \"submission.csv\"):  \n",
        "    csv = df.to_csv()\n",
        "    b64 = base64.b64encode(csv.encode())\n",
        "    payload = b64.decode()\n",
        "    html = '<a download=\"{filename}\" href=\"data:text/csv;base64,{payload}\" target=\"_blank\">{title}</a>'\n",
        "    html = html.format(payload=payload,title=title,filename=filename)\n",
        "    return HTML(html)"
      ],
      "execution_count": null,
      "outputs": []
    },
    {
      "cell_type": "code",
      "metadata": {
        "id": "f_jMDav8I82M",
        "colab": {
          "base_uri": "https://localhost:8080/",
          "height": 34
        },
        "outputId": "642e8cd5-a600-4730-e9a7-60f1876ce35a"
      },
      "source": [
        "# create a link to download the dataframe\n",
        "create_download_link(df_output)"
      ],
      "execution_count": null,
      "outputs": [
        {
          "output_type": "execute_result",
          "data": {
            "text/html": [
              "<a download=\"submission.csv\" href=\"data:text/csv;base64,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\" target=\"_blank\">Download CSV file</a>"
            ],
            "text/plain": [
              "<IPython.core.display.HTML object>"
            ]
          },
          "metadata": {
            "tags": []
          },
          "execution_count": 184
        }
      ]
    }
  ]
}