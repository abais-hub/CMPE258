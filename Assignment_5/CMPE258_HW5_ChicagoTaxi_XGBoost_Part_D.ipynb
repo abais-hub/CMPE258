{
  "nbformat": 4,
  "nbformat_minor": 0,
  "metadata": {
    "kernelspec": {
      "display_name": "Python 3",
      "language": "python",
      "name": "python3"
    },
    "language_info": {
      "codemirror_mode": {
        "name": "ipython",
        "version": 3
      },
      "file_extension": ".py",
      "mimetype": "text/x-python",
      "name": "python",
      "nbconvert_exporter": "python",
      "pygments_lexer": "ipython3",
      "version": "3.6.0"
    },
    "colab": {
      "name": "CMPE258_HW5_ChicagoTaxi_XGBoost_Part_D.ipynb",
      "provenance": [],
      "toc_visible": true
    }
  },
  "cells": [
    {
      "cell_type": "markdown",
      "metadata": {
        "id": "7nkJ0EVZKBsg"
      },
      "source": [
        "## CMPE 258 - HW 5\n",
        "## Abhishek Bais\n",
        "\n",
        "## This collab is modified version of this [notebook](https://github.com/sk48880/Kaggle-New-York-Taxi-Fare-Prediction/blob/master/NYC%20Taxi%20Fare%20Prediction%20Complete%20EDA.ipynb) by Sandeep Kumar."
      ]
    },
    {
      "cell_type": "markdown",
      "metadata": {
        "id": "y3qnKlY0Jkbl"
      },
      "source": [
        "### Importing Data and Libraries"
      ]
    },
    {
      "cell_type": "code",
      "metadata": {
        "collapsed": true,
        "id": "jSzjxvy9Jkbm"
      },
      "source": [
        "# load some default Python modules\n",
        "import numpy as np\n",
        "import pandas as pd\n",
        "\n",
        "import matplotlib.pyplot as plt\n",
        "import seaborn as sns\n",
        "% matplotlib inline\n",
        "\n",
        "plt.style.use('fivethirtyeight')\n",
        "\n",
        "import warnings\n",
        "warnings.filterwarnings('ignore')"
      ],
      "execution_count": 1,
      "outputs": []
    },
    {
      "cell_type": "markdown",
      "metadata": {
        "id": "PuwjXKQfE_Aa"
      },
      "source": [
        "# Data injestion"
      ]
    },
    {
      "cell_type": "markdown",
      "metadata": {
        "id": "IpVE3zH4E9yy"
      },
      "source": [
        "## 1.0. Abhishek Added -  Upload Data for Chicago Taxi"
      ]
    },
    {
      "cell_type": "code",
      "metadata": {
        "colab": {
          "base_uri": "https://localhost:8080/"
        },
        "id": "TNTzOIGYE3w5",
        "outputId": "3366cad9-cdca-4c59-ee6b-0499dce542f7"
      },
      "source": [
        "!wget https://raw.githubusercontent.com/tensorflow/tfx/master/tfx/examples/chicago_taxi_pipeline/data/simple/data.csv"
      ],
      "execution_count": 2,
      "outputs": [
        {
          "output_type": "stream",
          "text": [
            "--2021-04-18 22:25:22--  https://raw.githubusercontent.com/tensorflow/tfx/master/tfx/examples/chicago_taxi_pipeline/data/simple/data.csv\n",
            "Resolving raw.githubusercontent.com (raw.githubusercontent.com)... 185.199.108.133, 185.199.109.133, 185.199.110.133, ...\n",
            "Connecting to raw.githubusercontent.com (raw.githubusercontent.com)|185.199.108.133|:443... connected.\n",
            "HTTP request sent, awaiting response... 200 OK\n",
            "Length: 1922812 (1.8M) [text/plain]\n",
            "Saving to: ‘data.csv’\n",
            "\n",
            "data.csv            100%[===================>]   1.83M  --.-KB/s    in 0.1s    \n",
            "\n",
            "2021-04-18 22:25:23 (17.3 MB/s) - ‘data.csv’ saved [1922812/1922812]\n",
            "\n"
          ],
          "name": "stdout"
        }
      ]
    },
    {
      "cell_type": "markdown",
      "metadata": {
        "id": "-xQ-XgYAFxJY"
      },
      "source": [
        "## 2.0. Abhishek Added - Data injestion"
      ]
    },
    {
      "cell_type": "code",
      "metadata": {
        "colab": {
          "base_uri": "https://localhost:8080/"
        },
        "id": "7TQVsdocFu3A",
        "outputId": "0eb3e513-5fde-400d-c730-33e78596a600"
      },
      "source": [
        "df = pd.read_csv('/content/data.csv')\n",
        "df.info()"
      ],
      "execution_count": 141,
      "outputs": [
        {
          "output_type": "stream",
          "text": [
            "<class 'pandas.core.frame.DataFrame'>\n",
            "RangeIndex: 15002 entries, 0 to 15001\n",
            "Data columns (total 18 columns):\n",
            " #   Column                  Non-Null Count  Dtype  \n",
            "---  ------                  --------------  -----  \n",
            " 0   pickup_community_area   15000 non-null  float64\n",
            " 1   fare                    15002 non-null  float64\n",
            " 2   trip_start_month        15002 non-null  int64  \n",
            " 3   trip_start_hour         15002 non-null  int64  \n",
            " 4   trip_start_day          15002 non-null  int64  \n",
            " 5   trip_start_timestamp    15002 non-null  int64  \n",
            " 6   pickup_latitude         15000 non-null  float64\n",
            " 7   pickup_longitude        15000 non-null  float64\n",
            " 8   dropoff_latitude        14519 non-null  float64\n",
            " 9   dropoff_longitude       14519 non-null  float64\n",
            " 10  trip_miles              15002 non-null  float64\n",
            " 11  pickup_census_tract     1 non-null      float64\n",
            " 12  dropoff_census_tract    10761 non-null  float64\n",
            " 13  payment_type            15002 non-null  object \n",
            " 14  company                 9862 non-null   object \n",
            " 15  trip_seconds            14996 non-null  float64\n",
            " 16  dropoff_community_area  14495 non-null  float64\n",
            " 17  tips                    15002 non-null  float64\n",
            "dtypes: float64(12), int64(4), object(2)\n",
            "memory usage: 2.1+ MB\n"
          ],
          "name": "stdout"
        }
      ]
    },
    {
      "cell_type": "markdown",
      "metadata": {
        "id": "vND-sgi3FGKq"
      },
      "source": [
        "## 3.0. Abhishek Added - Data preprocessing, drop useless columns"
      ]
    },
    {
      "cell_type": "code",
      "metadata": {
        "colab": {
          "base_uri": "https://localhost:8080/"
        },
        "id": "RgxnxSr3FDgx",
        "outputId": "1f51924b-46ce-42ea-b7be-0e76bdcb4762"
      },
      "source": [
        "##Drop useless columns\n",
        "df = df.drop(['trip_start_timestamp','trip_miles','pickup_census_tract',\n",
        "              'dropoff_census_tract','trip_seconds','payment_type','tips', \n",
        "              'company','dropoff_community_area','pickup_community_area'], axis=1)\n",
        "df.info()"
      ],
      "execution_count": 142,
      "outputs": [
        {
          "output_type": "stream",
          "text": [
            "<class 'pandas.core.frame.DataFrame'>\n",
            "RangeIndex: 15002 entries, 0 to 15001\n",
            "Data columns (total 8 columns):\n",
            " #   Column             Non-Null Count  Dtype  \n",
            "---  ------             --------------  -----  \n",
            " 0   fare               15002 non-null  float64\n",
            " 1   trip_start_month   15002 non-null  int64  \n",
            " 2   trip_start_hour    15002 non-null  int64  \n",
            " 3   trip_start_day     15002 non-null  int64  \n",
            " 4   pickup_latitude    15000 non-null  float64\n",
            " 5   pickup_longitude   15000 non-null  float64\n",
            " 6   dropoff_latitude   14519 non-null  float64\n",
            " 7   dropoff_longitude  14519 non-null  float64\n",
            "dtypes: float64(5), int64(3)\n",
            "memory usage: 937.8 KB\n"
          ],
          "name": "stdout"
        }
      ]
    },
    {
      "cell_type": "markdown",
      "metadata": {
        "id": "e7oVS-AMFQpK"
      },
      "source": [
        "## 4.0. Abhishek Added - Data preprocessing, drop fares > $200"
      ]
    },
    {
      "cell_type": "code",
      "metadata": {
        "colab": {
          "base_uri": "https://localhost:8080/"
        },
        "id": "4SXCGknLFKip",
        "outputId": "b5972fdb-0fb5-42c0-f753-630c0f2d79ed"
      },
      "source": [
        "#Drop NA rows\n",
        "df = df.dropna()\n",
        "\n",
        "#Drop rows where FARE > 200( only 1 row found )\n",
        "df = df.drop(df[df['fare'] > 200].index)\n",
        "\n",
        "#Change datatype of cols\n",
        "df['trip_start_month'] = df['trip_start_month'].astype('str')\n",
        "df['trip_start_hour'] = df['trip_start_hour'].astype('str')\n",
        "df['trip_start_day'] = df['trip_start_day'].astype('str')\n",
        "df.info()"
      ],
      "execution_count": 143,
      "outputs": [
        {
          "output_type": "stream",
          "text": [
            "<class 'pandas.core.frame.DataFrame'>\n",
            "Int64Index: 14518 entries, 28 to 15000\n",
            "Data columns (total 8 columns):\n",
            " #   Column             Non-Null Count  Dtype  \n",
            "---  ------             --------------  -----  \n",
            " 0   fare               14518 non-null  float64\n",
            " 1   trip_start_month   14518 non-null  object \n",
            " 2   trip_start_hour    14518 non-null  object \n",
            " 3   trip_start_day     14518 non-null  object \n",
            " 4   pickup_latitude    14518 non-null  float64\n",
            " 5   pickup_longitude   14518 non-null  float64\n",
            " 6   dropoff_latitude   14518 non-null  float64\n",
            " 7   dropoff_longitude  14518 non-null  float64\n",
            "dtypes: float64(5), object(3)\n",
            "memory usage: 1020.8+ KB\n"
          ],
          "name": "stdout"
        }
      ]
    },
    {
      "cell_type": "markdown",
      "metadata": {
        "id": "VYV9J5IkFUEz"
      },
      "source": [
        "## 5.0. Abhishek Added - Data preprocessing, inspection of train/ test"
      ]
    },
    {
      "cell_type": "code",
      "metadata": {
        "colab": {
          "base_uri": "https://localhost:8080/"
        },
        "id": "_idq5JdWFNSj",
        "outputId": "540771f4-8498-44e4-b85f-b0cc44aca008"
      },
      "source": [
        "##Train test split ( Original DF )\n",
        "np.random.seed(seed=2)\n",
        "msk = np.random.rand(len(df)) < 0.85\n",
        "df_train = df[msk]\n",
        "df_test = df[~msk]\n",
        "\n",
        "print(len(df_train))\n",
        "print(len(df_test))\n",
        "\n",
        "df_train.to_csv(\"train.csv\", index=False, header=False)\n",
        "df_test.to_csv(\"eval.csv\", index=False, header=False)"
      ],
      "execution_count": 144,
      "outputs": [
        {
          "output_type": "stream",
          "text": [
            "12347\n",
            "2171\n"
          ],
          "name": "stdout"
        }
      ]
    },
    {
      "cell_type": "markdown",
      "metadata": {
        "id": "SKadSsCmFjaC"
      },
      "source": [
        "## 6.0. Abhishek Added - Data preprocessing, inspect fares > 0"
      ]
    },
    {
      "cell_type": "code",
      "metadata": {
        "colab": {
          "base_uri": "https://localhost:8080/"
        },
        "id": "-T_sGwqfFeQY",
        "outputId": "6bd5ded9-8929-4925-89af-f2b335d8cd93"
      },
      "source": [
        "# Inspect fares > 0\n",
        "df_train = df_train.loc[df_train.fare > 0]\n",
        "df_train.fare.min()"
      ],
      "execution_count": 145,
      "outputs": [
        {
          "output_type": "execute_result",
          "data": {
            "text/plain": [
              "0.01"
            ]
          },
          "metadata": {
            "tags": []
          },
          "execution_count": 145
        }
      ]
    },
    {
      "cell_type": "code",
      "metadata": {
        "colab": {
          "base_uri": "https://localhost:8080/"
        },
        "id": "BXRViUa1Jkbo",
        "outputId": "7668f1fa-a07b-49a9-813b-54976ceabd0f"
      },
      "source": [
        "len(df_train)"
      ],
      "execution_count": 146,
      "outputs": [
        {
          "output_type": "execute_result",
          "data": {
            "text/plain": [
              "12334"
            ]
          },
          "metadata": {
            "tags": []
          },
          "execution_count": 146
        }
      ]
    },
    {
      "cell_type": "code",
      "metadata": {
        "id": "gMcGLVkAMObB"
      },
      "source": [
        "train_X = df_train.drop(columns=['fare'])\n",
        "Y = np.log(df_train.fare)\n",
        "test_X = df_test"
      ],
      "execution_count": 147,
      "outputs": []
    },
    {
      "cell_type": "code",
      "metadata": {
        "id": "VmJbsOgwMQSx"
      },
      "source": [
        "df = train_X.append(test_X,sort=False)"
      ],
      "execution_count": 148,
      "outputs": []
    },
    {
      "cell_type": "code",
      "metadata": {
        "colab": {
          "base_uri": "https://localhost:8080/",
          "height": 317
        },
        "id": "L8_8dzKOJkbp",
        "outputId": "63c47ad8-43f6-4624-9823-9e1061301b6d"
      },
      "source": [
        "# Basic Stats of the data set\n",
        "df_train.describe()"
      ],
      "execution_count": 149,
      "outputs": [
        {
          "output_type": "execute_result",
          "data": {
            "text/html": [
              "<div>\n",
              "<style scoped>\n",
              "    .dataframe tbody tr th:only-of-type {\n",
              "        vertical-align: middle;\n",
              "    }\n",
              "\n",
              "    .dataframe tbody tr th {\n",
              "        vertical-align: top;\n",
              "    }\n",
              "\n",
              "    .dataframe thead th {\n",
              "        text-align: right;\n",
              "    }\n",
              "</style>\n",
              "<table border=\"1\" class=\"dataframe\">\n",
              "  <thead>\n",
              "    <tr style=\"text-align: right;\">\n",
              "      <th></th>\n",
              "      <th>fare</th>\n",
              "      <th>pickup_latitude</th>\n",
              "      <th>pickup_longitude</th>\n",
              "      <th>dropoff_latitude</th>\n",
              "      <th>dropoff_longitude</th>\n",
              "    </tr>\n",
              "  </thead>\n",
              "  <tbody>\n",
              "    <tr>\n",
              "      <th>count</th>\n",
              "      <td>12334.000000</td>\n",
              "      <td>12334.000000</td>\n",
              "      <td>12334.000000</td>\n",
              "      <td>12334.000000</td>\n",
              "      <td>12334.000000</td>\n",
              "    </tr>\n",
              "    <tr>\n",
              "      <th>mean</th>\n",
              "      <td>11.264938</td>\n",
              "      <td>41.902461</td>\n",
              "      <td>-87.654612</td>\n",
              "      <td>41.902655</td>\n",
              "      <td>-87.653982</td>\n",
              "    </tr>\n",
              "    <tr>\n",
              "      <th>std</th>\n",
              "      <td>9.316211</td>\n",
              "      <td>0.036713</td>\n",
              "      <td>0.062996</td>\n",
              "      <td>0.038628</td>\n",
              "      <td>0.056417</td>\n",
              "    </tr>\n",
              "    <tr>\n",
              "      <th>min</th>\n",
              "      <td>0.010000</td>\n",
              "      <td>41.694879</td>\n",
              "      <td>-87.913625</td>\n",
              "      <td>41.663671</td>\n",
              "      <td>-87.913625</td>\n",
              "    </tr>\n",
              "    <tr>\n",
              "      <th>25%</th>\n",
              "      <td>5.850000</td>\n",
              "      <td>41.880994</td>\n",
              "      <td>-87.655879</td>\n",
              "      <td>41.880994</td>\n",
              "      <td>-87.656804</td>\n",
              "    </tr>\n",
              "    <tr>\n",
              "      <th>50%</th>\n",
              "      <td>7.850000</td>\n",
              "      <td>41.892508</td>\n",
              "      <td>-87.632746</td>\n",
              "      <td>41.893216</td>\n",
              "      <td>-87.634156</td>\n",
              "    </tr>\n",
              "    <tr>\n",
              "      <th>75%</th>\n",
              "      <td>12.050000</td>\n",
              "      <td>41.916356</td>\n",
              "      <td>-87.626211</td>\n",
              "      <td>41.922686</td>\n",
              "      <td>-87.626215</td>\n",
              "    </tr>\n",
              "    <tr>\n",
              "      <th>max</th>\n",
              "      <td>112.650000</td>\n",
              "      <td>42.009623</td>\n",
              "      <td>-87.572782</td>\n",
              "      <td>42.021224</td>\n",
              "      <td>-87.540936</td>\n",
              "    </tr>\n",
              "  </tbody>\n",
              "</table>\n",
              "</div>"
            ],
            "text/plain": [
              "               fare  pickup_latitude  ...  dropoff_latitude  dropoff_longitude\n",
              "count  12334.000000     12334.000000  ...      12334.000000       12334.000000\n",
              "mean      11.264938        41.902461  ...         41.902655         -87.653982\n",
              "std        9.316211         0.036713  ...          0.038628           0.056417\n",
              "min        0.010000        41.694879  ...         41.663671         -87.913625\n",
              "25%        5.850000        41.880994  ...         41.880994         -87.656804\n",
              "50%        7.850000        41.892508  ...         41.893216         -87.634156\n",
              "75%       12.050000        41.916356  ...         41.922686         -87.626215\n",
              "max      112.650000        42.009623  ...         42.021224         -87.540936\n",
              "\n",
              "[8 rows x 5 columns]"
            ]
          },
          "metadata": {
            "tags": []
          },
          "execution_count": 149
        }
      ]
    },
    {
      "cell_type": "code",
      "metadata": {
        "id": "xUgDsjD6NuIX"
      },
      "source": [
        "train_X = df_train.drop(columns=['fare'])\n",
        "Y = np.log(df_train.fare)\n",
        "test_X = df_test"
      ],
      "execution_count": 150,
      "outputs": []
    },
    {
      "cell_type": "code",
      "metadata": {
        "colab": {
          "base_uri": "https://localhost:8080/"
        },
        "id": "E5l9JTRKPSfa",
        "outputId": "531f6dd3-5f40-4971-c410-d733c4aed9f3"
      },
      "source": [
        "df_test.columns"
      ],
      "execution_count": 173,
      "outputs": [
        {
          "output_type": "execute_result",
          "data": {
            "text/plain": [
              "Index(['pickup_latitude', 'pickup_longitude', 'dropoff_latitude',\n",
              "       'dropoff_longitude', 'dist_km'],\n",
              "      dtype='object')"
            ]
          },
          "metadata": {
            "tags": []
          },
          "execution_count": 173
        }
      ]
    },
    {
      "cell_type": "markdown",
      "metadata": {
        "id": "XADXPj7LMqPA"
      },
      "source": [
        "## 7.0. Abhishek added - Function to compute distance"
      ]
    },
    {
      "cell_type": "code",
      "metadata": {
        "id": "HYflcLleMn2o"
      },
      "source": [
        "def haversine_distance(df, lat1, long1, lat2, long2):\n",
        "    \"\"\"\n",
        "    Calculates the haversine distance between 2 sets of GPS coordinates in df\n",
        "    \"\"\"\n",
        "    r = 6371  # average radius of Earth in kilometers\n",
        "       \n",
        "    phi1 = np.radians(df[lat1])\n",
        "    phi2 = np.radians(df[lat2])\n",
        "    \n",
        "    delta_phi = np.radians(df[lat2]-df[lat1])\n",
        "    delta_lambda = np.radians(df[long2]-df[long1])\n",
        "     \n",
        "    a = np.sin(delta_phi/2)**2 + np.cos(phi1) * np.cos(phi2) * np.sin(delta_lambda/2)**2\n",
        "    c = 2 * np.arctan2(np.sqrt(a), np.sqrt(1-a))\n",
        "    d = (r * c) # in kilometers\n",
        "\n",
        "    return d"
      ],
      "execution_count": 151,
      "outputs": []
    },
    {
      "cell_type": "code",
      "metadata": {
        "colab": {
          "base_uri": "https://localhost:8080/",
          "height": 224
        },
        "id": "kE7rAcn1MicR",
        "outputId": "67d9abec-23c9-44e7-ac31-91e77af7a0b9"
      },
      "source": [
        "df['dist_km'] = haversine_distance(df,'pickup_latitude', 'pickup_longitude', 'dropoff_latitude', 'dropoff_longitude')\n",
        "df.head()"
      ],
      "execution_count": 152,
      "outputs": [
        {
          "output_type": "execute_result",
          "data": {
            "text/html": [
              "<div>\n",
              "<style scoped>\n",
              "    .dataframe tbody tr th:only-of-type {\n",
              "        vertical-align: middle;\n",
              "    }\n",
              "\n",
              "    .dataframe tbody tr th {\n",
              "        vertical-align: top;\n",
              "    }\n",
              "\n",
              "    .dataframe thead th {\n",
              "        text-align: right;\n",
              "    }\n",
              "</style>\n",
              "<table border=\"1\" class=\"dataframe\">\n",
              "  <thead>\n",
              "    <tr style=\"text-align: right;\">\n",
              "      <th></th>\n",
              "      <th>trip_start_month</th>\n",
              "      <th>trip_start_hour</th>\n",
              "      <th>trip_start_day</th>\n",
              "      <th>pickup_latitude</th>\n",
              "      <th>pickup_longitude</th>\n",
              "      <th>dropoff_latitude</th>\n",
              "      <th>dropoff_longitude</th>\n",
              "      <th>fare</th>\n",
              "      <th>dist_km</th>\n",
              "    </tr>\n",
              "  </thead>\n",
              "  <tbody>\n",
              "    <tr>\n",
              "      <th>28</th>\n",
              "      <td>10</td>\n",
              "      <td>1</td>\n",
              "      <td>1</td>\n",
              "      <td>41.952823</td>\n",
              "      <td>-87.653244</td>\n",
              "      <td>41.920452</td>\n",
              "      <td>-87.679955</td>\n",
              "      <td>NaN</td>\n",
              "      <td>4.223525</td>\n",
              "    </tr>\n",
              "    <tr>\n",
              "      <th>29</th>\n",
              "      <td>3</td>\n",
              "      <td>15</td>\n",
              "      <td>6</td>\n",
              "      <td>41.899670</td>\n",
              "      <td>-87.669838</td>\n",
              "      <td>41.920452</td>\n",
              "      <td>-87.679955</td>\n",
              "      <td>NaN</td>\n",
              "      <td>2.457759</td>\n",
              "    </tr>\n",
              "    <tr>\n",
              "      <th>30</th>\n",
              "      <td>8</td>\n",
              "      <td>23</td>\n",
              "      <td>5</td>\n",
              "      <td>41.906026</td>\n",
              "      <td>-87.675312</td>\n",
              "      <td>41.920452</td>\n",
              "      <td>-87.679955</td>\n",
              "      <td>NaN</td>\n",
              "      <td>1.649418</td>\n",
              "    </tr>\n",
              "    <tr>\n",
              "      <th>31</th>\n",
              "      <td>10</td>\n",
              "      <td>21</td>\n",
              "      <td>7</td>\n",
              "      <td>41.906651</td>\n",
              "      <td>-87.665338</td>\n",
              "      <td>41.920452</td>\n",
              "      <td>-87.679955</td>\n",
              "      <td>NaN</td>\n",
              "      <td>1.953926</td>\n",
              "    </tr>\n",
              "    <tr>\n",
              "      <th>32</th>\n",
              "      <td>11</td>\n",
              "      <td>11</td>\n",
              "      <td>2</td>\n",
              "      <td>41.871016</td>\n",
              "      <td>-87.631407</td>\n",
              "      <td>41.849247</td>\n",
              "      <td>-87.624135</td>\n",
              "      <td>NaN</td>\n",
              "      <td>2.494392</td>\n",
              "    </tr>\n",
              "  </tbody>\n",
              "</table>\n",
              "</div>"
            ],
            "text/plain": [
              "   trip_start_month trip_start_hour  ... fare   dist_km\n",
              "28               10               1  ...  NaN  4.223525\n",
              "29                3              15  ...  NaN  2.457759\n",
              "30                8              23  ...  NaN  1.649418\n",
              "31               10              21  ...  NaN  1.953926\n",
              "32               11              11  ...  NaN  2.494392\n",
              "\n",
              "[5 rows x 9 columns]"
            ]
          },
          "metadata": {
            "tags": []
          },
          "execution_count": 152
        }
      ]
    },
    {
      "cell_type": "markdown",
      "metadata": {
        "id": "xSlli8HuM9kQ"
      },
      "source": [
        "## 8.0. Abhishek added - Prepare the model"
      ]
    },
    {
      "cell_type": "code",
      "metadata": {
        "id": "YPckKyrzNAoX"
      },
      "source": [
        "cont_cols = ['pickup_latitude', 'pickup_longitude', 'dropoff_latitude', 'dropoff_longitude', 'passenger_count', 'dist_km']\n"
      ],
      "execution_count": 153,
      "outputs": []
    },
    {
      "cell_type": "markdown",
      "metadata": {
        "id": "hjGcLFx6NLNf"
      },
      "source": [
        "## 9.0. Abhishek added - Keep relevant columns"
      ]
    },
    {
      "cell_type": "code",
      "metadata": {
        "id": "m53CfLGJNF3a"
      },
      "source": [
        "# keep only the cols for the model\n",
        "df = df[['pickup_latitude', 'pickup_longitude', 'dropoff_latitude', 'dropoff_longitude', 'dist_km']]"
      ],
      "execution_count": 154,
      "outputs": []
    },
    {
      "cell_type": "markdown",
      "metadata": {
        "id": "JBTp2nq8JZBv"
      },
      "source": [
        "## 10.0. Abhishek Added Prepare the df_train, df_test"
      ]
    },
    {
      "cell_type": "code",
      "metadata": {
        "id": "5ozXtvoZI3rw"
      },
      "source": [
        "df_train = df[:12334]\n",
        "df_test = df[12334:]"
      ],
      "execution_count": 155,
      "outputs": []
    },
    {
      "cell_type": "code",
      "metadata": {
        "id": "nE_AStdBKpyx"
      },
      "source": [
        "#Normalizing \n",
        "\n",
        "from pandas.api.types import is_numeric_dtype\n",
        "\n",
        "#\"Compute the means and stds of `self.cont_names` columns to normalize them.\"\n",
        "def Normalize(df):\n",
        "  means,stds = {},{}\n",
        "  cont_names = ['pickup_latitude', 'pickup_longitude', 'dropoff_latitude', 'dropoff_longitude']\n",
        "  for n in cont_names:\n",
        "    assert is_numeric_dtype(df[n]), (f\"\"\"Cannot normalize '{n}' column as it isn't numerical. Are you sure it doesn't belong in the categorical set of columns?\"\"\")\n",
        "    means[n],stds[n] = df[n].mean(),df[n].std()\n",
        "    df[n] = (df[n]-means[n]) / (1e-7 + stds[n])\n",
        "\n",
        "\n",
        "Normalize(df_train)\n",
        "Normalize(df_test)\n",
        "X = df_train"
      ],
      "execution_count": 156,
      "outputs": []
    },
    {
      "cell_type": "code",
      "metadata": {
        "colab": {
          "base_uri": "https://localhost:8080/"
        },
        "id": "xAyEtjfKNbW2",
        "outputId": "07ce3e91-ed79-4c73-fbad-fcb6f35b5a8e"
      },
      "source": [
        "X.shape"
      ],
      "execution_count": 157,
      "outputs": [
        {
          "output_type": "execute_result",
          "data": {
            "text/plain": [
              "(12334, 5)"
            ]
          },
          "metadata": {
            "tags": []
          },
          "execution_count": 157
        }
      ]
    },
    {
      "cell_type": "code",
      "metadata": {
        "colab": {
          "base_uri": "https://localhost:8080/"
        },
        "id": "6o8wx585Ndaq",
        "outputId": "30d9c14f-d21c-4a00-f676-f51036104ae0"
      },
      "source": [
        "Y.shape"
      ],
      "execution_count": 158,
      "outputs": [
        {
          "output_type": "execute_result",
          "data": {
            "text/plain": [
              "(12334,)"
            ]
          },
          "metadata": {
            "tags": []
          },
          "execution_count": 158
        }
      ]
    },
    {
      "cell_type": "code",
      "metadata": {
        "colab": {
          "base_uri": "https://localhost:8080/",
          "height": 224
        },
        "id": "XTYF7CfUIicQ",
        "outputId": "c446a348-e5b2-4ffb-b15d-e66c4553ea5e"
      },
      "source": [
        "from sklearn.model_selection import train_test_split \n",
        "X_train, X_val, y_train, y_val = train_test_split(X, Y, test_size=0.20, random_state=142,shuffle=True ) \n",
        "X_train.head()"
      ],
      "execution_count": 159,
      "outputs": [
        {
          "output_type": "execute_result",
          "data": {
            "text/html": [
              "<div>\n",
              "<style scoped>\n",
              "    .dataframe tbody tr th:only-of-type {\n",
              "        vertical-align: middle;\n",
              "    }\n",
              "\n",
              "    .dataframe tbody tr th {\n",
              "        vertical-align: top;\n",
              "    }\n",
              "\n",
              "    .dataframe thead th {\n",
              "        text-align: right;\n",
              "    }\n",
              "</style>\n",
              "<table border=\"1\" class=\"dataframe\">\n",
              "  <thead>\n",
              "    <tr style=\"text-align: right;\">\n",
              "      <th></th>\n",
              "      <th>pickup_latitude</th>\n",
              "      <th>pickup_longitude</th>\n",
              "      <th>dropoff_latitude</th>\n",
              "      <th>dropoff_longitude</th>\n",
              "      <th>dist_km</th>\n",
              "    </tr>\n",
              "  </thead>\n",
              "  <tbody>\n",
              "    <tr>\n",
              "      <th>9032</th>\n",
              "      <td>-0.314306</td>\n",
              "      <td>0.567394</td>\n",
              "      <td>-0.560755</td>\n",
              "      <td>0.376407</td>\n",
              "      <td>1.593253</td>\n",
              "    </tr>\n",
              "    <tr>\n",
              "      <th>10785</th>\n",
              "      <td>-0.584714</td>\n",
              "      <td>0.347093</td>\n",
              "      <td>-0.111930</td>\n",
              "      <td>0.588817</td>\n",
              "      <td>2.168064</td>\n",
              "    </tr>\n",
              "    <tr>\n",
              "      <th>7718</th>\n",
              "      <td>-0.077877</td>\n",
              "      <td>0.338179</td>\n",
              "      <td>1.168477</td>\n",
              "      <td>-0.529139</td>\n",
              "      <td>6.796111</td>\n",
              "    </tr>\n",
              "    <tr>\n",
              "      <th>1292</th>\n",
              "      <td>-0.642701</td>\n",
              "      <td>0.467010</td>\n",
              "      <td>-0.079044</td>\n",
              "      <td>0.366453</td>\n",
              "      <td>2.401673</td>\n",
              "    </tr>\n",
              "    <tr>\n",
              "      <th>1337</th>\n",
              "      <td>-0.642701</td>\n",
              "      <td>0.467010</td>\n",
              "      <td>-0.741688</td>\n",
              "      <td>-0.169012</td>\n",
              "      <td>3.218814</td>\n",
              "    </tr>\n",
              "  </tbody>\n",
              "</table>\n",
              "</div>"
            ],
            "text/plain": [
              "       pickup_latitude  pickup_longitude  ...  dropoff_longitude   dist_km\n",
              "9032         -0.314306          0.567394  ...           0.376407  1.593253\n",
              "10785        -0.584714          0.347093  ...           0.588817  2.168064\n",
              "7718         -0.077877          0.338179  ...          -0.529139  6.796111\n",
              "1292         -0.642701          0.467010  ...           0.366453  2.401673\n",
              "1337         -0.642701          0.467010  ...          -0.169012  3.218814\n",
              "\n",
              "[5 rows x 5 columns]"
            ]
          },
          "metadata": {
            "tags": []
          },
          "execution_count": 159
        }
      ]
    },
    {
      "cell_type": "markdown",
      "metadata": {
        "id": "yxHF5EfcJkb_"
      },
      "source": [
        "## Modelling"
      ]
    },
    {
      "cell_type": "code",
      "metadata": {
        "collapsed": true,
        "id": "t-g3_4qlJkb_"
      },
      "source": [
        "from sklearn.linear_model import ElasticNet, Lasso,  BayesianRidge, LassoLarsIC, LinearRegression\n",
        "from sklearn.ensemble import RandomForestRegressor,  GradientBoostingRegressor\n",
        "from sklearn.ensemble import AdaBoostRegressor\n",
        "from sklearn.kernel_ridge import KernelRidge\n",
        "from sklearn.pipeline import make_pipeline\n",
        "from sklearn.preprocessing import RobustScaler\n",
        "from sklearn.base import BaseEstimator, TransformerMixin, RegressorMixin, clone\n",
        "from sklearn.model_selection import KFold, cross_val_score, train_test_split\n",
        "from sklearn.metrics import mean_squared_error\n",
        "import xgboost as xgb\n",
        "import lightgbm as lgb"
      ],
      "execution_count": 160,
      "outputs": []
    },
    {
      "cell_type": "markdown",
      "metadata": {
        "id": "JlPkvBo5Jkb_"
      },
      "source": [
        "### Linear Baseline"
      ]
    },
    {
      "cell_type": "markdown",
      "metadata": {
        "id": "k87Ul2mmKFqB"
      },
      "source": [
        "## 11.0. Abhishek updated K-Folded cross validation to 6 fold"
      ]
    },
    {
      "cell_type": "code",
      "metadata": {
        "collapsed": true,
        "id": "xSkYa0y0JkcA"
      },
      "source": [
        "#Validation function\n",
        "n_folds = 6\n",
        "\n",
        "def rmse_cv(model):\n",
        "    kf = KFold(n_folds, shuffle=True, random_state=42).get_n_splits(train.values)\n",
        "    rmse= np.sqrt(-cross_val_score(model, X_train, \n",
        "                                   y_train, scoring=\"neg_mean_squared_error\", cv = kf))\n",
        "    return(rmse)\n",
        "\n",
        "def rmse(y, y_pred):\n",
        "    return np.sqrt(mean_squared_error(y, y_pred))"
      ],
      "execution_count": 163,
      "outputs": []
    },
    {
      "cell_type": "code",
      "metadata": {
        "collapsed": true,
        "colab": {
          "base_uri": "https://localhost:8080/"
        },
        "id": "7GKg3nAdJkcB",
        "outputId": "00eb9f0a-11ab-4b9e-9b33-ee6d2530bafa"
      },
      "source": [
        "linear = make_pipeline(RobustScaler(), LinearRegression())\n",
        "score = rmse_cv(linear)\n",
        "print(\"\\nLinear score: {:.4f} ({:.4f})\\n\".format(score.mean(), score.std()))"
      ],
      "execution_count": 164,
      "outputs": [
        {
          "output_type": "stream",
          "text": [
            "\n",
            "Linear score: 0.3236 (0.0214)\n",
            "\n"
          ],
          "name": "stdout"
        }
      ]
    },
    {
      "cell_type": "code",
      "metadata": {
        "collapsed": true,
        "colab": {
          "base_uri": "https://localhost:8080/"
        },
        "id": "BLybEh8aJkcC",
        "outputId": "110a7557-8f98-462c-b0d5-4e281c17566a"
      },
      "source": [
        "linear.fit(X_train,y_train)\n",
        "y_lin_pred = linear.predict(X_val)\n",
        "print(\"test score\", rmse(y_val,y_lin_pred))\n",
        "prediction = linear.predict(df_test).tolist()\n"
      ],
      "execution_count": 167,
      "outputs": [
        {
          "output_type": "stream",
          "text": [
            "test score 0.34270642083124553\n"
          ],
          "name": "stdout"
        }
      ]
    },
    {
      "cell_type": "code",
      "metadata": {
        "collapsed": true,
        "colab": {
          "base_uri": "https://localhost:8080/"
        },
        "id": "ookrurQVJkcC",
        "outputId": "5b9b3405-f4cc-4faa-c455-acec6e39021e"
      },
      "source": [
        "lasso = make_pipeline(RobustScaler(), Lasso(alpha =0.0005, random_state=1))\n",
        "score = rmse_cv(lasso)\n",
        "print(\"\\nLasso score: {:.4f} ({:.4f})\\n\".format(score.mean(), score.std()))"
      ],
      "execution_count": 168,
      "outputs": [
        {
          "output_type": "stream",
          "text": [
            "\n",
            "Lasso score: 0.3236 (0.0214)\n",
            "\n"
          ],
          "name": "stdout"
        }
      ]
    },
    {
      "cell_type": "code",
      "metadata": {
        "collapsed": true,
        "colab": {
          "base_uri": "https://localhost:8080/"
        },
        "id": "cSplfgeLJkcD",
        "outputId": "e9055a49-0341-46f2-e8f1-4598158c3ed1"
      },
      "source": [
        "ENet = make_pipeline(RobustScaler(), ElasticNet(alpha=0.0005, l1_ratio=.9, random_state=3))\n",
        "score = rmse_cv(ENet)\n",
        "print(\"ElasticNet score: {:.4f} ({:.4f})\\n\".format(score.mean(), score.std()))"
      ],
      "execution_count": 169,
      "outputs": [
        {
          "output_type": "stream",
          "text": [
            "ElasticNet score: 0.3236 (0.0214)\n",
            "\n"
          ],
          "name": "stdout"
        }
      ]
    },
    {
      "cell_type": "markdown",
      "metadata": {
        "id": "LO7S8K54JkcE"
      },
      "source": [
        "### Baseline XGB"
      ]
    },
    {
      "cell_type": "code",
      "metadata": {
        "collapsed": true,
        "id": "CwGdwZhWJkcE"
      },
      "source": [
        "params = {\n",
        "   \n",
        "    'max_depth': 7,\n",
        "    'gamma' :0,\n",
        "    'eta':.03, \n",
        "    'subsample': 1,\n",
        "    'colsample_bytree': 0.9, \n",
        "    'objective':'reg:linear',\n",
        "    'eval_metric':'rmse',\n",
        "    'silent': 0\n",
        "}"
      ],
      "execution_count": 170,
      "outputs": []
    },
    {
      "cell_type": "code",
      "metadata": {
        "collapsed": true,
        "scrolled": true,
        "colab": {
          "base_uri": "https://localhost:8080/"
        },
        "id": "hGPP3Ha8JkcF",
        "outputId": "d8289815-cbfe-4f5e-cfdb-42955af16687"
      },
      "source": [
        "def XGBmodel(X_train,X_test,y_train,y_test,params):\n",
        "    matrix_train = xgb.DMatrix(X_train,label=y_train)\n",
        "    matrix_test = xgb.DMatrix(X_test,label=y_test)\n",
        "    model=xgb.train(params=params,\n",
        "                    dtrain=matrix_train,num_boost_round=5000, \n",
        "                    early_stopping_rounds=10,evals=[(matrix_test,'test')])\n",
        "    return model\n",
        "\n",
        "model = XGBmodel(X_train,X_val,y_train,y_val,params)"
      ],
      "execution_count": 174,
      "outputs": [
        {
          "output_type": "stream",
          "text": [
            "[23:08:56] WARNING: /workspace/src/objective/regression_obj.cu:152: reg:linear is now deprecated in favor of reg:squarederror.\n",
            "[0]\ttest-rmse:1.74923\n",
            "Will train until test-rmse hasn't improved in 10 rounds.\n",
            "[1]\ttest-rmse:1.69809\n",
            "[2]\ttest-rmse:1.64941\n",
            "[3]\ttest-rmse:1.60135\n",
            "[4]\ttest-rmse:1.55476\n",
            "[5]\ttest-rmse:1.50964\n",
            "[6]\ttest-rmse:1.46589\n",
            "[7]\ttest-rmse:1.42353\n",
            "[8]\ttest-rmse:1.38252\n",
            "[9]\ttest-rmse:1.34355\n",
            "[10]\ttest-rmse:1.30505\n",
            "[11]\ttest-rmse:1.26854\n",
            "[12]\ttest-rmse:1.23238\n",
            "[13]\ttest-rmse:1.19736\n",
            "[14]\ttest-rmse:1.1635\n",
            "[15]\ttest-rmse:1.13068\n",
            "[16]\ttest-rmse:1.09961\n",
            "[17]\ttest-rmse:1.06888\n",
            "[18]\ttest-rmse:1.03915\n",
            "[19]\ttest-rmse:1.01038\n",
            "[20]\ttest-rmse:0.983149\n",
            "[21]\ttest-rmse:0.956206\n",
            "[22]\ttest-rmse:0.930722\n",
            "[23]\ttest-rmse:0.906108\n",
            "[24]\ttest-rmse:0.88174\n",
            "[25]\ttest-rmse:0.858169\n",
            "[26]\ttest-rmse:0.835403\n",
            "[27]\ttest-rmse:0.813393\n",
            "[28]\ttest-rmse:0.79214\n",
            "[29]\ttest-rmse:0.771631\n",
            "[30]\ttest-rmse:0.752382\n",
            "[31]\ttest-rmse:0.733225\n",
            "[32]\ttest-rmse:0.714761\n",
            "[33]\ttest-rmse:0.696959\n",
            "[34]\ttest-rmse:0.679788\n",
            "[35]\ttest-rmse:0.663213\n",
            "[36]\ttest-rmse:0.647678\n",
            "[37]\ttest-rmse:0.632245\n",
            "[38]\ttest-rmse:0.617415\n",
            "[39]\ttest-rmse:0.60314\n",
            "[40]\ttest-rmse:0.589377\n",
            "[41]\ttest-rmse:0.576225\n",
            "[42]\ttest-rmse:0.563508\n",
            "[43]\ttest-rmse:0.551681\n",
            "[44]\ttest-rmse:0.539964\n",
            "[45]\ttest-rmse:0.528705\n",
            "[46]\ttest-rmse:0.518226\n",
            "[47]\ttest-rmse:0.507865\n",
            "[48]\ttest-rmse:0.49788\n",
            "[49]\ttest-rmse:0.488597\n",
            "[50]\ttest-rmse:0.479448\n",
            "[51]\ttest-rmse:0.470667\n",
            "[52]\ttest-rmse:0.462198\n",
            "[53]\ttest-rmse:0.454264\n",
            "[54]\ttest-rmse:0.446687\n",
            "[55]\ttest-rmse:0.439227\n",
            "[56]\ttest-rmse:0.432134\n",
            "[57]\ttest-rmse:0.425414\n",
            "[58]\ttest-rmse:0.418947\n",
            "[59]\ttest-rmse:0.412806\n",
            "[60]\ttest-rmse:0.406935\n",
            "[61]\ttest-rmse:0.401232\n",
            "[62]\ttest-rmse:0.395855\n",
            "[63]\ttest-rmse:0.390784\n",
            "[64]\ttest-rmse:0.385951\n",
            "[65]\ttest-rmse:0.381511\n",
            "[66]\ttest-rmse:0.377049\n",
            "[67]\ttest-rmse:0.372837\n",
            "[68]\ttest-rmse:0.368837\n",
            "[69]\ttest-rmse:0.365049\n",
            "[70]\ttest-rmse:0.361411\n",
            "[71]\ttest-rmse:0.358023\n",
            "[72]\ttest-rmse:0.35478\n",
            "[73]\ttest-rmse:0.351722\n",
            "[74]\ttest-rmse:0.348916\n",
            "[75]\ttest-rmse:0.346089\n",
            "[76]\ttest-rmse:0.343473\n",
            "[77]\ttest-rmse:0.341092\n",
            "[78]\ttest-rmse:0.338716\n",
            "[79]\ttest-rmse:0.336476\n",
            "[80]\ttest-rmse:0.334364\n",
            "[81]\ttest-rmse:0.332354\n",
            "[82]\ttest-rmse:0.330573\n",
            "[83]\ttest-rmse:0.328782\n",
            "[84]\ttest-rmse:0.327208\n",
            "[85]\ttest-rmse:0.325581\n",
            "[86]\ttest-rmse:0.324083\n",
            "[87]\ttest-rmse:0.322675\n",
            "[88]\ttest-rmse:0.321306\n",
            "[89]\ttest-rmse:0.320034\n",
            "[90]\ttest-rmse:0.318849\n",
            "[91]\ttest-rmse:0.317681\n",
            "[92]\ttest-rmse:0.316632\n",
            "[93]\ttest-rmse:0.31573\n",
            "[94]\ttest-rmse:0.314801\n",
            "[95]\ttest-rmse:0.31399\n",
            "[96]\ttest-rmse:0.31312\n",
            "[97]\ttest-rmse:0.312355\n",
            "[98]\ttest-rmse:0.311706\n",
            "[99]\ttest-rmse:0.311041\n",
            "[100]\ttest-rmse:0.310416\n",
            "[101]\ttest-rmse:0.30984\n",
            "[102]\ttest-rmse:0.309303\n",
            "[103]\ttest-rmse:0.308803\n",
            "[104]\ttest-rmse:0.308324\n",
            "[105]\ttest-rmse:0.307861\n",
            "[106]\ttest-rmse:0.307416\n",
            "[107]\ttest-rmse:0.306991\n",
            "[108]\ttest-rmse:0.306611\n",
            "[109]\ttest-rmse:0.306223\n",
            "[110]\ttest-rmse:0.305887\n",
            "[111]\ttest-rmse:0.305492\n",
            "[112]\ttest-rmse:0.305202\n",
            "[113]\ttest-rmse:0.304947\n",
            "[114]\ttest-rmse:0.304707\n",
            "[115]\ttest-rmse:0.304471\n",
            "[116]\ttest-rmse:0.304208\n",
            "[117]\ttest-rmse:0.304012\n",
            "[118]\ttest-rmse:0.303852\n",
            "[119]\ttest-rmse:0.303681\n",
            "[120]\ttest-rmse:0.303502\n",
            "[121]\ttest-rmse:0.303368\n",
            "[122]\ttest-rmse:0.303237\n",
            "[123]\ttest-rmse:0.303149\n",
            "[124]\ttest-rmse:0.303042\n",
            "[125]\ttest-rmse:0.30292\n",
            "[126]\ttest-rmse:0.302853\n",
            "[127]\ttest-rmse:0.302769\n",
            "[128]\ttest-rmse:0.302674\n",
            "[129]\ttest-rmse:0.3026\n",
            "[130]\ttest-rmse:0.302526\n",
            "[131]\ttest-rmse:0.30239\n",
            "[132]\ttest-rmse:0.302331\n",
            "[133]\ttest-rmse:0.302273\n",
            "[134]\ttest-rmse:0.302221\n",
            "[135]\ttest-rmse:0.302175\n",
            "[136]\ttest-rmse:0.302127\n",
            "[137]\ttest-rmse:0.302076\n",
            "[138]\ttest-rmse:0.302032\n",
            "[139]\ttest-rmse:0.302002\n",
            "[140]\ttest-rmse:0.301966\n",
            "[141]\ttest-rmse:0.301962\n",
            "[142]\ttest-rmse:0.301935\n",
            "[143]\ttest-rmse:0.301924\n",
            "[144]\ttest-rmse:0.301881\n",
            "[145]\ttest-rmse:0.301811\n",
            "[146]\ttest-rmse:0.301787\n",
            "[147]\ttest-rmse:0.301757\n",
            "[148]\ttest-rmse:0.301726\n",
            "[149]\ttest-rmse:0.301705\n",
            "[150]\ttest-rmse:0.301669\n",
            "[151]\ttest-rmse:0.30168\n",
            "[152]\ttest-rmse:0.301739\n",
            "[153]\ttest-rmse:0.301744\n",
            "[154]\ttest-rmse:0.301743\n",
            "[155]\ttest-rmse:0.301758\n",
            "[156]\ttest-rmse:0.301772\n",
            "[157]\ttest-rmse:0.301805\n",
            "[158]\ttest-rmse:0.301807\n",
            "[159]\ttest-rmse:0.301801\n",
            "[160]\ttest-rmse:0.301824\n",
            "Stopping. Best iteration:\n",
            "[150]\ttest-rmse:0.301669\n",
            "\n"
          ],
          "name": "stdout"
        }
      ]
    },
    {
      "cell_type": "code",
      "metadata": {
        "collapsed": true,
        "id": "tRjx-PY3JkcF"
      },
      "source": [
        "prediction = model.predict(xgb.DMatrix(df_test), ntree_limit = model.best_ntree_limit).tolist()\n"
      ],
      "execution_count": 175,
      "outputs": []
    },
    {
      "cell_type": "markdown",
      "metadata": {
        "id": "yAgsNMf9JkcF"
      },
      "source": [
        "#### Baseline LGBM"
      ]
    },
    {
      "cell_type": "code",
      "metadata": {
        "collapsed": true,
        "id": "vJPL5UQJJkcF"
      },
      "source": [
        "# create dataset for lightgbm\n",
        "lgb_train = lgb.Dataset(X_train, y_train)\n",
        "lgb_eval = lgb.Dataset(X_val, y_val, reference=lgb_train)"
      ],
      "execution_count": 176,
      "outputs": []
    },
    {
      "cell_type": "code",
      "metadata": {
        "collapsed": true,
        "id": "BcankCfIJkcG"
      },
      "source": [
        "# specify your configurations as a dict\n",
        "params = {\n",
        "    'task': 'train',\n",
        "    'boosting_type': 'gbdt',\n",
        "    'objective': 'regression',\n",
        "    'metric': 'rmse',\n",
        "    'num_leaves': 31,\n",
        "    'learning_rate': 0.1,\n",
        "    'max_depth': 7,\n",
        "    'verbose': 0\n",
        "}"
      ],
      "execution_count": 177,
      "outputs": []
    },
    {
      "cell_type": "markdown",
      "metadata": {
        "id": "vOgGaJ5kQbnf"
      },
      "source": [
        "## 12.0 Abhishek added hyper-param tuning"
      ]
    },
    {
      "cell_type": "code",
      "metadata": {
        "collapsed": true,
        "scrolled": true,
        "colab": {
          "base_uri": "https://localhost:8080/"
        },
        "id": "co2ufXGyJkcG",
        "outputId": "73c9ae11-1544-4dcf-ea90-3f7fc8936ba4"
      },
      "source": [
        "# train\n",
        "gbm = lgb.train(params,\n",
        "                lgb_train,\n",
        "                num_boost_round=999,\n",
        "                valid_sets=lgb_eval,\n",
        "                early_stopping_rounds=20)"
      ],
      "execution_count": 186,
      "outputs": [
        {
          "output_type": "stream",
          "text": [
            "[1]\tvalid_0's rmse: 0.579144\n",
            "Training until validation scores don't improve for 20 rounds.\n",
            "[2]\tvalid_0's rmse: 0.536777\n",
            "[3]\tvalid_0's rmse: 0.500029\n",
            "[4]\tvalid_0's rmse: 0.468029\n",
            "[5]\tvalid_0's rmse: 0.440483\n",
            "[6]\tvalid_0's rmse: 0.416927\n",
            "[7]\tvalid_0's rmse: 0.396833\n",
            "[8]\tvalid_0's rmse: 0.37983\n",
            "[9]\tvalid_0's rmse: 0.36543\n",
            "[10]\tvalid_0's rmse: 0.353495\n",
            "[11]\tvalid_0's rmse: 0.343485\n",
            "[12]\tvalid_0's rmse: 0.335165\n",
            "[13]\tvalid_0's rmse: 0.328301\n",
            "[14]\tvalid_0's rmse: 0.32258\n",
            "[15]\tvalid_0's rmse: 0.318147\n",
            "[16]\tvalid_0's rmse: 0.314447\n",
            "[17]\tvalid_0's rmse: 0.311375\n",
            "[18]\tvalid_0's rmse: 0.309073\n",
            "[19]\tvalid_0's rmse: 0.306952\n",
            "[20]\tvalid_0's rmse: 0.305226\n",
            "[21]\tvalid_0's rmse: 0.30402\n",
            "[22]\tvalid_0's rmse: 0.302827\n",
            "[23]\tvalid_0's rmse: 0.302035\n",
            "[24]\tvalid_0's rmse: 0.301334\n",
            "[25]\tvalid_0's rmse: 0.30081\n",
            "[26]\tvalid_0's rmse: 0.30031\n",
            "[27]\tvalid_0's rmse: 0.300127\n",
            "[28]\tvalid_0's rmse: 0.299859\n",
            "[29]\tvalid_0's rmse: 0.29956\n",
            "[30]\tvalid_0's rmse: 0.299357\n",
            "[31]\tvalid_0's rmse: 0.299249\n",
            "[32]\tvalid_0's rmse: 0.299298\n",
            "[33]\tvalid_0's rmse: 0.299034\n",
            "[34]\tvalid_0's rmse: 0.299029\n",
            "[35]\tvalid_0's rmse: 0.298791\n",
            "[36]\tvalid_0's rmse: 0.298747\n",
            "[37]\tvalid_0's rmse: 0.298741\n",
            "[38]\tvalid_0's rmse: 0.298739\n",
            "[39]\tvalid_0's rmse: 0.298678\n",
            "[40]\tvalid_0's rmse: 0.298744\n",
            "[41]\tvalid_0's rmse: 0.298748\n",
            "[42]\tvalid_0's rmse: 0.298827\n",
            "[43]\tvalid_0's rmse: 0.298869\n",
            "[44]\tvalid_0's rmse: 0.298719\n",
            "[45]\tvalid_0's rmse: 0.298715\n",
            "[46]\tvalid_0's rmse: 0.298607\n",
            "[47]\tvalid_0's rmse: 0.298586\n",
            "[48]\tvalid_0's rmse: 0.298653\n",
            "[49]\tvalid_0's rmse: 0.298673\n",
            "[50]\tvalid_0's rmse: 0.298665\n",
            "[51]\tvalid_0's rmse: 0.298717\n",
            "[52]\tvalid_0's rmse: 0.298758\n",
            "[53]\tvalid_0's rmse: 0.298816\n",
            "[54]\tvalid_0's rmse: 0.298861\n",
            "[55]\tvalid_0's rmse: 0.29887\n",
            "[56]\tvalid_0's rmse: 0.298851\n",
            "[57]\tvalid_0's rmse: 0.29887\n",
            "[58]\tvalid_0's rmse: 0.298891\n",
            "[59]\tvalid_0's rmse: 0.29893\n",
            "[60]\tvalid_0's rmse: 0.298954\n",
            "[61]\tvalid_0's rmse: 0.298966\n",
            "[62]\tvalid_0's rmse: 0.298965\n",
            "[63]\tvalid_0's rmse: 0.298993\n",
            "[64]\tvalid_0's rmse: 0.298981\n",
            "[65]\tvalid_0's rmse: 0.299066\n",
            "[66]\tvalid_0's rmse: 0.298874\n",
            "[67]\tvalid_0's rmse: 0.298966\n",
            "Early stopping, best iteration is:\n",
            "[47]\tvalid_0's rmse: 0.298586\n"
          ],
          "name": "stdout"
        }
      ]
    },
    {
      "cell_type": "code",
      "metadata": {
        "collapsed": true,
        "id": "5ataDSZ1JkcG"
      },
      "source": [
        "prediction = gbm.predict(df_test,num_iteration= gbm.best_iteration).tolist()\n"
      ],
      "execution_count": 187,
      "outputs": []
    },
    {
      "cell_type": "code",
      "metadata": {
        "colab": {
          "base_uri": "https://localhost:8080/"
        },
        "id": "Dd_2kJBDQLY_",
        "outputId": "0936870b-8bd7-44fa-c19c-2d6fb49f50fd"
      },
      "source": [
        "prediction"
      ],
      "execution_count": 188,
      "outputs": [
        {
          "output_type": "execute_result",
          "data": {
            "text/plain": [
              "[1.4572878309067812,\n",
              " 2.1159545358596876,\n",
              " 1.743365048421859,\n",
              " 2.2766739139234695,\n",
              " 2.2766739139234695,\n",
              " 1.863297789480417,\n",
              " 2.3829220496593453,\n",
              " 2.973907233726699,\n",
              " 3.7594515627535836,\n",
              " 2.0758102647714187,\n",
              " 1.6150132308745986,\n",
              " 2.038009709635761,\n",
              " 2.751187935771213,\n",
              " 1.9716584449363521,\n",
              " 1.9716584449363521,\n",
              " 2.078943126352108,\n",
              " 2.5242042074505138,\n",
              " 1.6094300010911158,\n",
              " 1.6549452859584888,\n",
              " 1.9119563916870526,\n",
              " 2.276410309983857,\n",
              " 1.7164971866701957,\n",
              " 1.781907082355457,\n",
              " 1.9339632465137555,\n",
              " 2.28254002274039,\n",
              " 1.7841298380527255,\n",
              " 2.2415795921044195,\n",
              " 2.9833652263069994,\n",
              " 1.6372939687852166,\n",
              " 1.7775005565376998,\n",
              " 1.978463858148348,\n",
              " 2.7085851541099233,\n",
              " 2.5223506738721504,\n",
              " 2.4149343262372147,\n",
              " 2.268723216812954,\n",
              " 1.7546002727875416,\n",
              " 2.649835895172459,\n",
              " 1.5711074519214776,\n",
              " 2.1890726642904377,\n",
              " 2.5579190592741945,\n",
              " 2.164114424712085,\n",
              " 2.6953597322510534,\n",
              " 2.1199883305045835,\n",
              " 2.7883519158271435,\n",
              " 2.3545188688653385,\n",
              " 1.60908927514831,\n",
              " 2.6527648962556465,\n",
              " 2.121552466368692,\n",
              " 2.0607409655525872,\n",
              " 2.2424024272495733,\n",
              " 1.8239369975692323,\n",
              " 1.5587635604719692,\n",
              " 1.6056480526416415,\n",
              " 2.077504921678646,\n",
              " 1.9549563372961773,\n",
              " 2.1479445962273007,\n",
              " 1.5982254314625892,\n",
              " 1.5982254314625892,\n",
              " 1.7441969934270187,\n",
              " 1.7610829711465459,\n",
              " 2.067365679679172,\n",
              " 1.6009463310581653,\n",
              " 2.167388028880438,\n",
              " 1.5558922597603073,\n",
              " 2.200273058601453,\n",
              " 1.7177864324288616,\n",
              " 2.5413561384294017,\n",
              " 1.935719233007264,\n",
              " 2.5413561384294017,\n",
              " 2.9774367501270684,\n",
              " 1.724224720991278,\n",
              " 2.2743042445508617,\n",
              " 1.4952325532235788,\n",
              " 3.006250797606714,\n",
              " 3.2720063441955634,\n",
              " 2.7269067109284344,\n",
              " 2.2470462226995265,\n",
              " 1.622775586387656,\n",
              " 2.6753440428492032,\n",
              " 2.6845782919002095,\n",
              " 2.1317676860634975,\n",
              " 2.5010272387831587,\n",
              " 2.4149343262372147,\n",
              " 1.5600355844566804,\n",
              " 2.631107563113983,\n",
              " 2.5174687658265817,\n",
              " 2.113228871344973,\n",
              " 1.7088450201036554,\n",
              " 2.428220545345591,\n",
              " 3.5809098513806674,\n",
              " 2.733562518445404,\n",
              " 2.049238287238068,\n",
              " 2.2271848322843084,\n",
              " 2.078858864875597,\n",
              " 1.622775586387656,\n",
              " 1.5347424551685767,\n",
              " 2.011580331952678,\n",
              " 2.2281858653830557,\n",
              " 1.7220170885251993,\n",
              " 2.0635408012993754,\n",
              " 2.0424077822011695,\n",
              " 1.888280597947348,\n",
              " 1.6099237921913345,\n",
              " 2.0209471265567203,\n",
              " 2.2580495472847226,\n",
              " 2.3562760102850024,\n",
              " 1.6432421035192213,\n",
              " 1.6432421035192213,\n",
              " 1.6432421035192213,\n",
              " 1.6432421035192213,\n",
              " 1.6432421035192213,\n",
              " 1.6432421035192213,\n",
              " 1.6432421035192213,\n",
              " 1.6432421035192213,\n",
              " 1.6432421035192213,\n",
              " 2.3650789082163204,\n",
              " 2.985351835254774,\n",
              " 2.3425743517614284,\n",
              " 2.3425743517614284,\n",
              " 2.20758663334335,\n",
              " 2.3923040463059233,\n",
              " 2.7674590033185855,\n",
              " 2.097785933958789,\n",
              " 1.5989803986619058,\n",
              " 1.6314857450333562,\n",
              " 2.6276132278435798,\n",
              " 3.614522003390761,\n",
              " 2.346290937260461,\n",
              " 1.6445486131782758,\n",
              " 1.6445486131782758,\n",
              " 1.7334642502623903,\n",
              " 1.7334642502623903,\n",
              " 1.7334642502623903,\n",
              " 1.7334642502623903,\n",
              " 1.7334642502623903,\n",
              " 1.892782193824139,\n",
              " 1.892782193824139,\n",
              " 1.892782193824139,\n",
              " 1.892782193824139,\n",
              " 1.892782193824139,\n",
              " 2.122756224443523,\n",
              " 2.122756224443523,\n",
              " 1.657041897531874,\n",
              " 1.9942133329577896,\n",
              " 1.9942133329577896,\n",
              " 1.9942133329577896,\n",
              " 1.6572543518394638,\n",
              " 1.6572543518394638,\n",
              " 3.362713221284401,\n",
              " 1.7177030897211016,\n",
              " 1.6922196321800642,\n",
              " 1.6922196321800642,\n",
              " 1.6172627582469061,\n",
              " 1.605430468708626,\n",
              " 1.6941789091188613,\n",
              " 2.2603257004031265,\n",
              " 2.5376932861779324,\n",
              " 2.3068800443893287,\n",
              " 1.7809391353194224,\n",
              " 1.7809391353194224,\n",
              " 1.8014485044368826,\n",
              " 1.8014485044368826,\n",
              " 1.8014485044368826,\n",
              " 1.8014485044368826,\n",
              " 1.7840357868002739,\n",
              " 1.7840357868002739,\n",
              " 1.7840357868002739,\n",
              " 1.7840357868002739,\n",
              " 1.7840357868002739,\n",
              " 1.7840357868002739,\n",
              " 2.007628101245607,\n",
              " 2.5377836977711223,\n",
              " 1.6767820646629612,\n",
              " 2.4512259543288173,\n",
              " 1.8889436068540184,\n",
              " 1.8889436068540184,\n",
              " 1.5808679074662983,\n",
              " 1.7893174131029708,\n",
              " 2.0441479193897893,\n",
              " 2.0441479193897893,\n",
              " 2.022534738979149,\n",
              " 1.6954696029698804,\n",
              " 1.6193525677360998,\n",
              " 1.6193525677360998,\n",
              " 2.637538406295394,\n",
              " 1.839578043532744,\n",
              " 3.2128824351227054,\n",
              " 2.4605203241492863,\n",
              " 2.4605203241492863,\n",
              " 1.5627571066461403,\n",
              " 1.5627571066461403,\n",
              " 2.8843521569270236,\n",
              " 2.905382635899282,\n",
              " 2.0449749346815747,\n",
              " 2.0449749346815747,\n",
              " 2.9877126637011253,\n",
              " 2.059665826737181,\n",
              " 2.059665826737181,\n",
              " 2.7180346322855775,\n",
              " 2.7180346322855775,\n",
              " 2.7180346322855775,\n",
              " 2.893894525669333,\n",
              " 2.893894525669333,\n",
              " 2.8585843436300094,\n",
              " 2.8585843436300094,\n",
              " 2.8030942937705645,\n",
              " 2.5042872182225575,\n",
              " 2.7270619154100886,\n",
              " 2.7270619154100886,\n",
              " 2.408992069288733,\n",
              " 3.6114661074196337,\n",
              " 3.6114661074196337,\n",
              " 3.6114661074196337,\n",
              " 3.6114661074196337,\n",
              " 3.6114661074196337,\n",
              " 3.6114661074196337,\n",
              " 3.6114661074196337,\n",
              " 2.107519919243804,\n",
              " 2.107519919243804,\n",
              " 2.107519919243804,\n",
              " 3.502174398696977,\n",
              " 3.504249363465625,\n",
              " 3.5266558453762165,\n",
              " 3.5245808806075685,\n",
              " 3.5245808806075685,\n",
              " 3.6343292617956164,\n",
              " 3.612005440160173,\n",
              " 3.612005440160173,\n",
              " 3.612005440160173,\n",
              " 3.612005440160173,\n",
              " 3.612005440160173,\n",
              " 3.612005440160173,\n",
              " 3.612005440160173,\n",
              " 2.3399405743826733,\n",
              " 3.6114661074196337,\n",
              " 3.502174398696977,\n",
              " 3.6343292617956164,\n",
              " 3.6343292617956164,\n",
              " 3.2004498147502467,\n",
              " 2.003925939090349,\n",
              " 2.7163488651748913,\n",
              " 2.324871683092331,\n",
              " 1.9299420535262133,\n",
              " 1.9299420535262133,\n",
              " 2.0996569755196233,\n",
              " 2.0910209825415382,\n",
              " 3.6104109544226204,\n",
              " 1.9648860870856812,\n",
              " 1.9901613391401618,\n",
              " 1.9901613391401618,\n",
              " 2.0561352213453317,\n",
              " 1.6395102132536485,\n",
              " 3.539849850783591,\n",
              " 1.6545700654918283,\n",
              " 2.5672856224022014,\n",
              " 2.1675178983783265,\n",
              " 2.2224745526879,\n",
              " 1.8563190128823035,\n",
              " 2.224021971164795,\n",
              " 1.9505160206788685,\n",
              " 1.9505160206788685,\n",
              " 2.2608859832557613,\n",
              " 2.032686786549824,\n",
              " 2.032686786549824,\n",
              " 2.032686786549824,\n",
              " 2.752422955879659,\n",
              " 2.752422955879659,\n",
              " 1.5501738714211728,\n",
              " 1.5501738714211728,\n",
              " 1.5501738714211728,\n",
              " 1.5501738714211728,\n",
              " 1.5501738714211728,\n",
              " 1.5501738714211728,\n",
              " 1.5501738714211728,\n",
              " 3.64069498235491,\n",
              " 3.64069498235491,\n",
              " 3.369494788410253,\n",
              " 2.4454562887841234,\n",
              " 2.5184748190789583,\n",
              " 2.5184748190789583,\n",
              " 2.5184748190789583,\n",
              " 3.0456164371222,\n",
              " 2.6720564841711942,\n",
              " 2.6720564841711942,\n",
              " 2.6720564841711942,\n",
              " 2.329316150691472,\n",
              " 2.329316150691472,\n",
              " 2.1673050414462693,\n",
              " 2.1673050414462693,\n",
              " 2.1673050414462693,\n",
              " 2.826108502014101,\n",
              " 2.5536103795299563,\n",
              " 2.891235183496693,\n",
              " 2.891235183496693,\n",
              " 2.100700579444793,\n",
              " 1.5627571066461403,\n",
              " 1.5627571066461403,\n",
              " 2.009869538499006,\n",
              " 2.009869538499006,\n",
              " 2.009869538499006,\n",
              " 1.7786122968652118,\n",
              " 1.8831015356632312,\n",
              " 2.563544219026939,\n",
              " 2.563544219026939,\n",
              " 1.8741070841885483,\n",
              " 1.8741070841885483,\n",
              " 1.958509258418382,\n",
              " 1.958509258418382,\n",
              " 1.4287088943980089,\n",
              " 2.4027544730013637,\n",
              " 3.504026694893792,\n",
              " 3.4407136403329446,\n",
              " 3.862262306066161,\n",
              " 3.816812618000818,\n",
              " 3.3707151827792687,\n",
              " 3.1291458943332793,\n",
              " 3.5356511618561335,\n",
              " 3.483363223491208,\n",
              " 3.315393303389093,\n",
              " 3.321766566611494,\n",
              " 2.5826657214637256,\n",
              " 3.536740708420322,\n",
              " 2.5476689413709703,\n",
              " 1.3204922298845105,\n",
              " 1.3204922298845105,\n",
              " 1.6549452859584888,\n",
              " 1.8605014049183342,\n",
              " 1.8302010190342286,\n",
              " 2.673061817036797,\n",
              " 1.9829714907364564,\n",
              " 1.9829714907364564,\n",
              " 2.30125430699975,\n",
              " 2.128079879844208,\n",
              " 2.128079879844208,\n",
              " 2.2754019069608633,\n",
              " 1.9162116197316312,\n",
              " 1.9110953365741437,\n",
              " 1.891021634001248,\n",
              " 1.9437964293649526,\n",
              " 2.071718814993504,\n",
              " 1.8654342902978156,\n",
              " 1.8654342902978156,\n",
              " 1.6766242071328399,\n",
              " 1.6766242071328399,\n",
              " 1.7802613930607427,\n",
              " 3.6373851577667438,\n",
              " 2.4291221573069257,\n",
              " 1.8880998440797359,\n",
              " 2.2441050037270216,\n",
              " 1.6607587313704903,\n",
              " 2.6034134032004346,\n",
              " 1.7002481864561105,\n",
              " 1.7002481864561105,\n",
              " 1.7002481864561105,\n",
              " 1.7002481864561105,\n",
              " 1.8943623602902604,\n",
              " 1.8943623602902604,\n",
              " 1.8943623602902604,\n",
              " 1.8943623602902604,\n",
              " 1.6777575640687017,\n",
              " 2.6662183470663505,\n",
              " 2.0610915121504485,\n",
              " 1.8767041313545583,\n",
              " 3.359773020894309,\n",
              " 1.895887510512488,\n",
              " 2.0396025289692763,\n",
              " 1.711880638796725,\n",
              " 1.7890494794475518,\n",
              " 3.6373851577667438,\n",
              " 3.6373851577667438,\n",
              " 3.6373851577667438,\n",
              " 3.6373851577667438,\n",
              " 1.9353578205943354,\n",
              " 1.6670991491962268,\n",
              " 1.6670991491962268,\n",
              " 2.1765428851199946,\n",
              " 2.1765428851199946,\n",
              " 2.1765428851199946,\n",
              " 1.6918310367800633,\n",
              " 1.6918310367800633,\n",
              " 1.6918310367800633,\n",
              " 2.3370031295971025,\n",
              " 1.6460398961106226,\n",
              " 1.6460398961106226,\n",
              " 1.6460398961106226,\n",
              " 1.6460398961106226,\n",
              " 1.6460398961106226,\n",
              " 1.7786122968652118,\n",
              " 1.7786122968652118,\n",
              " 1.7786122968652118,\n",
              " 1.7786122968652118,\n",
              " 1.7786122968652118,\n",
              " 1.7786122968652118,\n",
              " 1.7786122968652118,\n",
              " 1.7786122968652118,\n",
              " 2.157259124110543,\n",
              " 2.157259124110543,\n",
              " 1.795561851976915,\n",
              " 2.4151903997496276,\n",
              " 2.8101593416727293,\n",
              " 2.17048982123366,\n",
              " 1.937248749846724,\n",
              " 1.937248749846724,\n",
              " 1.937248749846724,\n",
              " 1.937248749846724,\n",
              " 1.937248749846724,\n",
              " 2.011588122248258,\n",
              " 1.7628645486048427,\n",
              " 3.042217909988673,\n",
              " 1.9388692778398873,\n",
              " 1.9388692778398873,\n",
              " 2.179156892113109,\n",
              " 1.771687476094152,\n",
              " 1.771687476094152,\n",
              " 1.771687476094152,\n",
              " 1.9015543496593423,\n",
              " 1.9015543496593423,\n",
              " 3.347951328517319,\n",
              " 1.8975935418303758,\n",
              " 2.2241487755039033,\n",
              " 2.2241487755039033,\n",
              " 1.8765546155146393,\n",
              " 1.8765546155146393,\n",
              " 1.8765546155146393,\n",
              " 1.8765546155146393,\n",
              " 1.8765546155146393,\n",
              " 1.8765546155146393,\n",
              " 1.8765546155146393,\n",
              " 1.8765546155146393,\n",
              " 2.5149053957830088,\n",
              " 1.7905039393608289,\n",
              " 1.7905039393608289,\n",
              " 1.7905039393608289,\n",
              " 3.6008703199176724,\n",
              " 3.6008703199176724,\n",
              " 2.2402771674128683,\n",
              " 2.2402771674128683,\n",
              " 2.2402771674128683,\n",
              " 2.676296895896124,\n",
              " 2.099492858678384,\n",
              " 2.184906420712974,\n",
              " 2.184906420712974,\n",
              " 2.431627204395452,\n",
              " 1.981286933690918,\n",
              " 1.981286933690918,\n",
              " 1.981286933690918,\n",
              " 2.1666782236425917,\n",
              " 2.1666782236425917,\n",
              " 1.9085854977479948,\n",
              " 1.9085854977479948,\n",
              " 1.9085854977479948,\n",
              " 1.7930963516791014,\n",
              " 1.7930963516791014,\n",
              " 1.7930963516791014,\n",
              " 1.7930963516791014,\n",
              " 1.6023881314545163,\n",
              " 1.6023881314545163,\n",
              " 1.6023881314545163,\n",
              " 1.6023881314545163,\n",
              " 1.6023881314545163,\n",
              " 1.6023881314545163,\n",
              " 1.6023881314545163,\n",
              " 1.6023881314545163,\n",
              " 1.6023881314545163,\n",
              " 1.6023881314545163,\n",
              " 1.6023881314545163,\n",
              " 1.6023881314545163,\n",
              " 1.9569411553387364,\n",
              " 1.9569411553387364,\n",
              " 2.055024394161602,\n",
              " 2.055024394161602,\n",
              " 2.055024394161602,\n",
              " 2.90610943976774,\n",
              " 2.042532759436617,\n",
              " 1.6650810227671107,\n",
              " 1.6650810227671107,\n",
              " 1.7960310403956572,\n",
              " 1.7960310403956572,\n",
              " 1.7078888305099171,\n",
              " 1.9659278935595068,\n",
              " 2.027081460553884,\n",
              " 2.027081460553884,\n",
              " 2.027081460553884,\n",
              " 2.027081460553884,\n",
              " 3.2304123271561576,\n",
              " 1.850350450602604,\n",
              " 1.850350450602604,\n",
              " 1.850350450602604,\n",
              " 1.850350450602604,\n",
              " 1.850350450602604,\n",
              " 1.850350450602604,\n",
              " 2.049278604083603,\n",
              " 2.150853211449597,\n",
              " 2.191472876505637,\n",
              " 2.2446748530354608,\n",
              " 1.6671232814100672,\n",
              " 1.6671232814100672,\n",
              " 1.6671232814100672,\n",
              " 2.2220418711713648,\n",
              " 3.6373851577667438,\n",
              " 1.9526979694793285,\n",
              " 2.25154732834098,\n",
              " 1.8179273763480313,\n",
              " 2.0103066667097917,\n",
              " 2.2559598003932,\n",
              " 1.6095286347163287,\n",
              " 2.387993727386021,\n",
              " 2.1819975876616056,\n",
              " 2.109642624522883,\n",
              " 2.119944573178443,\n",
              " 2.773586394406744,\n",
              " 2.3697531112894086,\n",
              " 2.5180056278177907,\n",
              " 2.5180056278177907,\n",
              " 2.5180056278177907,\n",
              " 2.7336792810760953,\n",
              " 1.9747558435979562,\n",
              " 1.9747558435979562,\n",
              " 1.9747558435979562,\n",
              " 2.4234739226033146,\n",
              " 2.4234739226033146,\n",
              " 3.5194434313239706,\n",
              " 3.5194434313239706,\n",
              " 2.458071753878387,\n",
              " 2.458071753878387,\n",
              " 2.8631721008591358,\n",
              " 1.6741038411884281,\n",
              " 1.6741038411884281,\n",
              " 1.6741038411884281,\n",
              " 1.6741038411884281,\n",
              " 1.6741038411884281,\n",
              " 1.6741038411884281,\n",
              " 1.6741038411884281,\n",
              " 1.6741038411884281,\n",
              " 1.6741038411884281,\n",
              " 1.6741038411884281,\n",
              " 2.867178327307504,\n",
              " 2.025760046207014,\n",
              " 2.025760046207014,\n",
              " 2.025760046207014,\n",
              " 2.025760046207014,\n",
              " 2.298346558127491,\n",
              " 2.888854666902987,\n",
              " 1.7482281094800345,\n",
              " 2.3378196244244474,\n",
              " 2.265371394791483,\n",
              " 2.1283779078937344,\n",
              " 1.9185885622323515,\n",
              " 1.7222271382874295,\n",
              " 1.7222271382874295,\n",
              " 2.133207510260765,\n",
              " 1.670542305520921,\n",
              " 1.670542305520921,\n",
              " 1.670542305520921,\n",
              " 2.1130305568196093,\n",
              " 2.055332026455923,\n",
              " 2.055332026455923,\n",
              " 1.545985609901647,\n",
              " 2.117715493592101,\n",
              " 2.2403298003708887,\n",
              " 1.993467905219484,\n",
              " 1.8762219554730521,\n",
              " 2.8347468764899024,\n",
              " 1.8637017767678394,\n",
              " 1.8637017767678394,\n",
              " 2.089282410869905,\n",
              " 2.089282410869905,\n",
              " 1.9526630468837325,\n",
              " 1.9526630468837325,\n",
              " 1.6888536185939635,\n",
              " 1.6888536185939635,\n",
              " 1.6888536185939635,\n",
              " 1.6888536185939635,\n",
              " 2.1092599674604338,\n",
              " 2.590145645044739,\n",
              " 2.18194656171216,\n",
              " 2.166850114566755,\n",
              " 1.6448862423735737,\n",
              " 1.8654342902978156,\n",
              " 1.8654342902978156,\n",
              " 2.0225469527722506,\n",
              " 2.0225469527722506,\n",
              " 2.0812098012455,\n",
              " 1.8784665151535016,\n",
              " 2.3967435979407674,\n",
              " 2.8366522172164492,\n",
              " 3.492697223237632,\n",
              " 2.002120583405499,\n",
              " 1.605430468708626,\n",
              " 2.2363688648402142,\n",
              " 2.3093733512227095,\n",
              " 2.8050431789257386,\n",
              " 1.811979308667817,\n",
              " 1.811979308667817,\n",
              " 1.8510062775357727,\n",
              " 1.671101361344654,\n",
              " 1.9313893463221143,\n",
              " 1.5808679074662983,\n",
              " 1.5808679074662983,\n",
              " 1.8319709646295301,\n",
              " 1.681964449718184,\n",
              " 2.185860374276502,\n",
              " 2.3420388853113847,\n",
              " 2.1290253861752237,\n",
              " 2.1604017365884904,\n",
              " 2.1604017365884904,\n",
              " 2.263984804054203,\n",
              " 2.8345943465155488,\n",
              " 1.8141337630109846,\n",
              " 1.8141337630109846,\n",
              " 1.8141337630109846,\n",
              " 1.8141337630109846,\n",
              " 2.04686680225159,\n",
              " 2.5883164174400575,\n",
              " 1.8933095371093476,\n",
              " 1.941629139830246,\n",
              " 1.941629139830246,\n",
              " 1.7013978967651369,\n",
              " 1.7013978967651369,\n",
              " 1.3255817885969907,\n",
              " 3.247671451170872,\n",
              " 3.247671451170872,\n",
              " 1.7199547627487837,\n",
              " 1.7199547627487837,\n",
              " 2.2359212520018046,\n",
              " 2.2359212520018046,\n",
              " 2.2359212520018046,\n",
              " 2.492904216438276,\n",
              " 2.1618212642070094,\n",
              " 2.1618212642070094,\n",
              " 3.5560728667821295,\n",
              " 2.0198377244807215,\n",
              " 2.0198377244807215,\n",
              " 2.3096335797175023,\n",
              " 1.6701629332667827,\n",
              " 2.6576027248124925,\n",
              " 2.332954991894375,\n",
              " 1.6297851158347079,\n",
              " 3.6373851577667438,\n",
              " 3.6373851577667438,\n",
              " 1.824379395201801,\n",
              " 1.7955866946006929,\n",
              " 1.9621844574316984,\n",
              " 1.7463627920439644,\n",
              " 2.6312879776479408,\n",
              " 2.1488148700487795,\n",
              " 1.888178046985168,\n",
              " 2.093939489291915,\n",
              " 1.9245786310497919,\n",
              " 2.093264347088218,\n",
              " 2.1628847592253906,\n",
              " 1.7200986889014866,\n",
              " 1.7200986889014866,\n",
              " 1.7200986889014866,\n",
              " 3.614522003390761,\n",
              " 3.614522003390761,\n",
              " 1.6732324742349707,\n",
              " 1.915435264811722,\n",
              " 2.048388094262246,\n",
              " 1.6658473012539374,\n",
              " 1.643354363815174,\n",
              " 1.7809391353194224,\n",
              " 2.1847844689847746,\n",
              " 1.90608835173248,\n",
              " 1.90608835173248,\n",
              " 2.0338978768124463,\n",
              " 2.0338978768124463,\n",
              " 2.0338978768124463,\n",
              " 2.185054679119291,\n",
              " 1.8664492683779104,\n",
              " 2.2639754766035236,\n",
              " 1.6725263099718115,\n",
              " 1.5244305590751692,\n",
              " 1.5244305590751692,\n",
              " 1.8299449520526097,\n",
              " 1.6018954543494701,\n",
              " 3.5547271748928213,\n",
              " 3.2990613024538784,\n",
              " 3.288386465469531,\n",
              " 3.575778017843271,\n",
              " 3.341495549187106,\n",
              " 3.2457576951317026,\n",
              " 1.7581652087054866,\n",
              " 1.7581652087054866,\n",
              " 3.318969678742867,\n",
              " 1.711880638796725,\n",
              " 1.6354357006331848,\n",
              " 1.6354357006331848,\n",
              " 2.023380928996744,\n",
              " 1.8988853456563108,\n",
              " 1.8433107351238138,\n",
              " 2.3951749156216082,\n",
              " 1.8660659466362917,\n",
              " 2.205693699541854,\n",
              " 2.538230617329517,\n",
              " 1.8963096826842054,\n",
              " 2.124904230671876,\n",
              " 2.124904230671876,\n",
              " 2.4907562737577136,\n",
              " 2.289480989325428,\n",
              " 1.5578914806163386,\n",
              " 2.019973467280055,\n",
              " 1.9426003812242418,\n",
              " 1.8460280849496946,\n",
              " 3.6373851577667438,\n",
              " 2.3978223319230003,\n",
              " 2.4149688388744757,\n",
              " 2.436996212437293,\n",
              " 2.621083586332754,\n",
              " 2.1694328114041115,\n",
              " 2.0812098012455,\n",
              " 1.6083985158170988,\n",
              " 1.8621593573934339,\n",
              " 1.6555933461507335,\n",
              " 2.020986598232401,\n",
              " 1.781907082355457,\n",
              " 2.5261876796680696,\n",
              " 2.3433560902798205,\n",
              " 2.2446124521940134,\n",
              " 3.7628235768002614,\n",
              " 2.4432857067796334,\n",
              " 2.4961808256534295,\n",
              " 3.1583962719781176,\n",
              " 1.4572878309067812,\n",
              " 1.4572878309067812,\n",
              " 2.959899245057775,\n",
              " 3.0598512515954135,\n",
              " 3.8536852129582067,\n",
              " 1.6432421035192213,\n",
              " 1.6432421035192213,\n",
              " 1.6432421035192213,\n",
              " 1.6432421035192213,\n",
              " 1.6432421035192213,\n",
              " 1.6432421035192213,\n",
              " 2.3650789082163204,\n",
              " 2.3650789082163204,\n",
              " 2.2050633328836393,\n",
              " 2.2050633328836393,\n",
              " 2.2050633328836393,\n",
              " 2.6811451300152327,\n",
              " 2.6811451300152327,\n",
              " 2.20758663334335,\n",
              " 2.20758663334335,\n",
              " 2.20758663334335,\n",
              " 2.20758663334335,\n",
              " 2.20758663334335,\n",
              " 2.594073776731657,\n",
              " 2.153526232343321,\n",
              " 2.153526232343321,\n",
              " 2.7674590033185855,\n",
              " 2.7674590033185855,\n",
              " 2.097785933958789,\n",
              " 2.097785933958789,\n",
              " 2.097785933958789,\n",
              " 2.097785933958789,\n",
              " 2.097785933958789,\n",
              " 2.4956141799819878,\n",
              " 2.4320939264173007,\n",
              " 1.5989803986619058,\n",
              " 1.5989803986619058,\n",
              " 1.5989803986619058,\n",
              " 1.5989803986619058,\n",
              " 1.6314857450333562,\n",
              " 1.6314857450333562,\n",
              " 1.6314857450333562,\n",
              " 3.614522003390761,\n",
              " 3.614522003390761,\n",
              " 1.7701074824033176,\n",
              " 2.0667986567193064,\n",
              " 1.8770197465382819,\n",
              " 1.8770197465382819,\n",
              " 1.8770197465382819,\n",
              " 1.8770197465382819,\n",
              " 1.8770197465382819,\n",
              " 1.8770197465382819,\n",
              " 2.3093733512227095,\n",
              " 1.8859629805950016,\n",
              " 1.6445486131782758,\n",
              " 1.6445486131782758,\n",
              " 2.1689895606162493,\n",
              " 1.7334642502623903,\n",
              " 1.7334642502623903,\n",
              " 1.7334642502623903,\n",
              " 1.7334642502623903,\n",
              " 1.7334642502623903,\n",
              " 1.892782193824139,\n",
              " 1.892782193824139,\n",
              " 1.892782193824139,\n",
              " 1.892782193824139,\n",
              " 1.892782193824139,\n",
              " 1.892782193824139,\n",
              " 1.892782193824139,\n",
              " 1.892782193824139,\n",
              " 1.892782193824139,\n",
              " 1.892782193824139,\n",
              " 1.892782193824139,\n",
              " 1.892782193824139,\n",
              " 1.892782193824139,\n",
              " 1.892782193824139,\n",
              " 1.892782193824139,\n",
              " 1.892782193824139,\n",
              " 1.892782193824139,\n",
              " 1.7978440238196614,\n",
              " 1.7978440238196614,\n",
              " 2.514780025353207,\n",
              " 2.9179422410570792,\n",
              " 2.947375375748827,\n",
              " 1.9942133329577896,\n",
              " 1.9942133329577896,\n",
              " 3.5524054746337015,\n",
              " 1.5808679074662983,\n",
              " 2.2627940081105304,\n",
              " 1.92200374620626,\n",
              " 1.92200374620626,\n",
              " 2.660022091070781,\n",
              " 1.6352969539530053,\n",
              " 1.6352969539530053,\n",
              " 2.057739089510562,\n",
              " 1.6572543518394638,\n",
              " 1.6572543518394638,\n",
              " 3.362713221284401,\n",
              " 1.7177030897211016,\n",
              " 1.7177030897211016,\n",
              " 2.185930765537693,\n",
              " 2.068711550227041,\n",
              " 1.6560791553243135,\n",
              " 2.2169259898959988,\n",
              " 1.6172627582469061,\n",
              " 1.605430468708626,\n",
              " 1.605430468708626,\n",
              " 3.6104109544226204,\n",
              " 3.6104109544226204,\n",
              " 1.6941789091188613,\n",
              " 2.2030020260997025,\n",
              " 2.068306669683854,\n",
              " 2.068306669683854,\n",
              " 2.9853855304820525,\n",
              " 1.9307905151590032,\n",
              " 1.9307905151590032,\n",
              " 1.9307905151590032,\n",
              " 1.9307905151590032,\n",
              " 1.8688812379223458,\n",
              " 2.2610347232435757,\n",
              " 1.8807237264829535,\n",
              " 1.8807237264829535,\n",
              " 2.216326241068704,\n",
              " 2.216326241068704,\n",
              " 1.7809391353194224,\n",
              " 1.7809391353194224,\n",
              " 1.7809391353194224,\n",
              " 1.7809391353194224,\n",
              " 1.7809391353194224,\n",
              " 2.0380080174461677,\n",
              " 1.8014485044368826,\n",
              " 1.8014485044368826,\n",
              " 1.8014485044368826,\n",
              " 1.7840357868002739,\n",
              " 1.7840357868002739,\n",
              " 1.7840357868002739,\n",
              " 1.7840357868002739,\n",
              " 1.7840357868002739,\n",
              " 1.7840357868002739,\n",
              " 2.430192051169015,\n",
              " 2.312981119361097,\n",
              " 2.173354981359578,\n",
              " 1.6767820646629612,\n",
              " 1.8889436068540184,\n",
              " 1.8889436068540184,\n",
              " 1.8889436068540184,\n",
              " 2.177353612556411,\n",
              " 1.5808679074662983,\n",
              " 1.5808679074662983,\n",
              " 2.3524663047537966,\n",
              " 1.7893174131029708,\n",
              " 2.022534738979149,\n",
              " 2.022534738979149,\n",
              " 1.6954696029698804,\n",
              " 1.6954696029698804,\n",
              " 1.6954696029698804,\n",
              " 1.6954696029698804,\n",
              " 1.6193525677360998,\n",
              " 1.6193525677360998,\n",
              " 1.6193525677360998,\n",
              " 1.7990522330877636,\n",
              " 1.7990522330877636,\n",
              " 1.7990522330877636,\n",
              " 1.7990522330877636,\n",
              " 1.839578043532744,\n",
              " 2.1617244712753374,\n",
              " 2.4605203241492863,\n",
              " 2.4605203241492863,\n",
              " 2.4605203241492863,\n",
              " 3.2053339884853354,\n",
              " 2.905382635899282,\n",
              " 2.905382635899282,\n",
              " 2.0449749346815747,\n",
              " 2.0449749346815747,\n",
              " 2.0449749346815747,\n",
              " 2.0449749346815747,\n",
              " 2.0449749346815747,\n",
              " 2.0449749346815747,\n",
              " 2.7180346322855775,\n",
              " 2.7180346322855775,\n",
              " 2.7180346322855775,\n",
              " 2.7180346322855775,\n",
              " 2.7180346322855775,\n",
              " 2.7180346322855775,\n",
              " 2.7180346322855775,\n",
              " 2.7180346322855775,\n",
              " 2.7180346322855775,\n",
              " 2.4885452699759267,\n",
              " 2.8585843436300094,\n",
              " 2.1832941342658216,\n",
              " 2.1832941342658216,\n",
              " 2.1832941342658216,\n",
              " 2.5042872182225575,\n",
              " 2.5042872182225575,\n",
              " 3.338008608608115,\n",
              " 2.7270619154100886,\n",
              " 3.054233855302345,\n",
              " 3.054233855302345,\n",
              " 3.054233855302345,\n",
              " 3.054233855302345,\n",
              " 2.408992069288733,\n",
              " 2.7862344785246687,\n",
              " 2.1456062194051886,\n",
              " 2.763725336008156,\n",
              " 2.7985255964538696,\n",
              " 2.761393579101622,\n",
              " 1.525163025657424,\n",
              " 3.795169099744079,\n",
              " 3.6114661074196337,\n",
              " 3.6114661074196337,\n",
              " 3.6114661074196337,\n",
              " 3.20173843425884,\n",
              " 2.107519919243804,\n",
              " 2.107519919243804,\n",
              " 2.107519919243804,\n",
              " 2.107519919243804,\n",
              " 3.4281470814924093,\n",
              " 3.6114661074196337,\n",
              " 3.3062328430732233,\n",
              " 3.4381729472872493,\n",
              " 3.6633429249913543,\n",
              " 3.6633429249913543,\n",
              " 3.6633429249913543,\n",
              " 3.60871373363548,\n",
              " 3.502174398696977,\n",
              " 3.6343292617956164,\n",
              " 3.6343292617956164,\n",
              " 3.6343292617956164,\n",
              " 3.6343292617956164,\n",
              " 3.612005440160173,\n",
              " 3.612005440160173,\n",
              " 3.612005440160173,\n",
              " 3.612005440160173,\n",
              " 3.612005440160173,\n",
              " 3.612005440160173,\n",
              " 3.612005440160173,\n",
              " 3.502174398696977,\n",
              " 3.4595248155387135,\n",
              " 3.5332944266992263,\n",
              " 3.5332944266992263,\n",
              " 2.3399405743826733,\n",
              " 3.6114661074196337,\n",
              " 3.6114661074196337,\n",
              " 3.6114661074196337,\n",
              " 3.5614507542834293,\n",
              " 3.502174398696977,\n",
              " 3.6343292617956164,\n",
              " 3.6114661074196337,\n",
              " 3.6114661074196337,\n",
              " 3.255881531278441,\n",
              " 3.848187564259564,\n",
              " 3.6343292617956164,\n",
              " 3.5300027201745334,\n",
              " 1.5104677814332337,\n",
              " 1.5104677814332337,\n",
              " 1.5104677814332337,\n",
              " 2.003925939090349,\n",
              " 2.3054474132659393,\n",
              " 2.420933636746265,\n",
              " 2.2459604033455465,\n",
              " 1.7649364777720793,\n",
              " 2.7163488651748913,\n",
              " 2.7163488651748913,\n",
              " 2.89266604658319,\n",
              " 2.89266604658319,\n",
              " 2.89266604658319,\n",
              " 1.631004730802589,\n",
              " 1.631004730802589,\n",
              " 1.631004730802589,\n",
              " 1.631004730802589,\n",
              " 1.631004730802589,\n",
              " 2.748114924265318,\n",
              " 2.748114924265318,\n",
              " 3.5148787778301016,\n",
              " 3.092172015096392,\n",
              " 3.233614400925648,\n",
              " 3.063506113793843,\n",
              " ...]"
            ]
          },
          "metadata": {
            "tags": []
          },
          "execution_count": 188
        }
      ]
    },
    {
      "cell_type": "markdown",
      "metadata": {
        "id": "BqtHlT7aJkcG"
      },
      "source": [
        "### Ensemble -- Weighted Average of XGB and LGB"
      ]
    },
    {
      "cell_type": "code",
      "metadata": {
        "collapsed": true,
        "id": "JVl0YhG-JkcH"
      },
      "source": [
        "lgb_baseline = gbm.predict(df_test,num_iteration= gbm.best_iteration)\n",
        "xgb_baseline = model.predict(xgb.DMatrix(df_test), ntree_limit = model.best_ntree_limit)"
      ],
      "execution_count": 189,
      "outputs": []
    },
    {
      "cell_type": "code",
      "metadata": {
        "colab": {
          "base_uri": "https://localhost:8080/"
        },
        "id": "uLJ63oZzQQOf",
        "outputId": "d9fca9f2-61d0-4d59-8136-b14c0166ea44"
      },
      "source": [
        "lgb_baseline"
      ],
      "execution_count": 190,
      "outputs": [
        {
          "output_type": "execute_result",
          "data": {
            "text/plain": [
              "array([1.45728783, 2.11595454, 1.74336505, ..., 2.45675207, 1.72568508,\n",
              "       2.33604535])"
            ]
          },
          "metadata": {
            "tags": []
          },
          "execution_count": 190
        }
      ]
    },
    {
      "cell_type": "code",
      "metadata": {
        "colab": {
          "base_uri": "https://localhost:8080/"
        },
        "id": "DxFWCrY0QSHv",
        "outputId": "9e56f014-985f-40cd-91db-103a084efe4e"
      },
      "source": [
        "xgb_baseline"
      ],
      "execution_count": 191,
      "outputs": [
        {
          "output_type": "execute_result",
          "data": {
            "text/plain": [
              "array([1.4491401, 2.1027367, 1.7116534, ..., 2.4396288, 1.6364354,\n",
              "       2.2246184], dtype=float32)"
            ]
          },
          "metadata": {
            "tags": []
          },
          "execution_count": 191
        }
      ]
    },
    {
      "cell_type": "code",
      "metadata": {
        "collapsed": true,
        "id": "q73hvSmhJkcH"
      },
      "source": [
        "ensemble = lgb_baseline* 0.25 + xgb_baseline*0.75"
      ],
      "execution_count": 192,
      "outputs": []
    },
    {
      "cell_type": "code",
      "metadata": {
        "colab": {
          "base_uri": "https://localhost:8080/"
        },
        "id": "C498MusZQFI0",
        "outputId": "b09c54ed-e64f-4726-c3f6-6b6929daf526"
      },
      "source": [
        "ensemble"
      ],
      "execution_count": 193,
      "outputs": [
        {
          "output_type": "execute_result",
          "data": {
            "text/plain": [
              "array([1.45117701, 2.10604123, 1.71958131, ..., 2.44390971, 1.65874778,\n",
              "       2.25247516])"
            ]
          },
          "metadata": {
            "tags": []
          },
          "execution_count": 193
        }
      ]
    }
  ]
}