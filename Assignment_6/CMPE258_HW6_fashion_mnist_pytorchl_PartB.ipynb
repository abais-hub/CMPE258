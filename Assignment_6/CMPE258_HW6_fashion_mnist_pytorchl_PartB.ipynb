{
  "nbformat": 4,
  "nbformat_minor": 0,
  "metadata": {
    "colab": {
      "name": "CMPE258_HW6_fashion_mnist_pytorchl_PartB.ipynb",
      "provenance": []
    },
    "kernelspec": {
      "name": "python3",
      "display_name": "Python 3"
    },
    "accelerator": "GPU",
    "widgets": {
      "application/vnd.jupyter.widget-state+json": {
        "aa0aa4aa8f514862bdca466d901857b9": {
          "model_module": "@jupyter-widgets/controls",
          "model_name": "HBoxModel",
          "state": {
            "_view_name": "HBoxView",
            "_dom_classes": [],
            "_model_name": "HBoxModel",
            "_view_module": "@jupyter-widgets/controls",
            "_model_module_version": "1.5.0",
            "_view_count": null,
            "_view_module_version": "1.5.0",
            "box_style": "",
            "layout": "IPY_MODEL_d0a4eff0cbe44d9ab483e1d26e32066b",
            "_model_module": "@jupyter-widgets/controls",
            "children": [
              "IPY_MODEL_4f6c00e208624bceabfa91062df5dc9d",
              "IPY_MODEL_9ec3e17b36494660b777979863fe0e64"
            ]
          }
        },
        "d0a4eff0cbe44d9ab483e1d26e32066b": {
          "model_module": "@jupyter-widgets/base",
          "model_name": "LayoutModel",
          "state": {
            "_view_name": "LayoutView",
            "grid_template_rows": null,
            "right": null,
            "justify_content": null,
            "_view_module": "@jupyter-widgets/base",
            "overflow": null,
            "_model_module_version": "1.2.0",
            "_view_count": null,
            "flex_flow": null,
            "width": null,
            "min_width": null,
            "border": null,
            "align_items": null,
            "bottom": null,
            "_model_module": "@jupyter-widgets/base",
            "top": null,
            "grid_column": null,
            "overflow_y": null,
            "overflow_x": null,
            "grid_auto_flow": null,
            "grid_area": null,
            "grid_template_columns": null,
            "flex": null,
            "_model_name": "LayoutModel",
            "justify_items": null,
            "grid_row": null,
            "max_height": null,
            "align_content": null,
            "visibility": null,
            "align_self": null,
            "height": null,
            "min_height": null,
            "padding": null,
            "grid_auto_rows": null,
            "grid_gap": null,
            "max_width": null,
            "order": null,
            "_view_module_version": "1.2.0",
            "grid_template_areas": null,
            "object_position": null,
            "object_fit": null,
            "grid_auto_columns": null,
            "margin": null,
            "display": null,
            "left": null
          }
        },
        "4f6c00e208624bceabfa91062df5dc9d": {
          "model_module": "@jupyter-widgets/controls",
          "model_name": "FloatProgressModel",
          "state": {
            "_view_name": "ProgressView",
            "style": "IPY_MODEL_26f10754c7de43ceb327e2c245be7ae7",
            "_dom_classes": [],
            "description": "",
            "_model_name": "FloatProgressModel",
            "bar_style": "success",
            "max": 9912422,
            "_view_module": "@jupyter-widgets/controls",
            "_model_module_version": "1.5.0",
            "value": 9912422,
            "_view_count": null,
            "_view_module_version": "1.5.0",
            "orientation": "horizontal",
            "min": 0,
            "description_tooltip": null,
            "_model_module": "@jupyter-widgets/controls",
            "layout": "IPY_MODEL_d070968e10e14866a286d9842367af4b"
          }
        },
        "9ec3e17b36494660b777979863fe0e64": {
          "model_module": "@jupyter-widgets/controls",
          "model_name": "HTMLModel",
          "state": {
            "_view_name": "HTMLView",
            "style": "IPY_MODEL_7da90111d39a47a48518617e9ab65261",
            "_dom_classes": [],
            "description": "",
            "_model_name": "HTMLModel",
            "placeholder": "​",
            "_view_module": "@jupyter-widgets/controls",
            "_model_module_version": "1.5.0",
            "value": " 9913344/? [01:41&lt;00:00, 97461.74it/s]",
            "_view_count": null,
            "_view_module_version": "1.5.0",
            "description_tooltip": null,
            "_model_module": "@jupyter-widgets/controls",
            "layout": "IPY_MODEL_a2fe0c3e68ce4b4a81e6579ee16c8926"
          }
        },
        "26f10754c7de43ceb327e2c245be7ae7": {
          "model_module": "@jupyter-widgets/controls",
          "model_name": "ProgressStyleModel",
          "state": {
            "_view_name": "StyleView",
            "_model_name": "ProgressStyleModel",
            "description_width": "initial",
            "_view_module": "@jupyter-widgets/base",
            "_model_module_version": "1.5.0",
            "_view_count": null,
            "_view_module_version": "1.2.0",
            "bar_color": null,
            "_model_module": "@jupyter-widgets/controls"
          }
        },
        "d070968e10e14866a286d9842367af4b": {
          "model_module": "@jupyter-widgets/base",
          "model_name": "LayoutModel",
          "state": {
            "_view_name": "LayoutView",
            "grid_template_rows": null,
            "right": null,
            "justify_content": null,
            "_view_module": "@jupyter-widgets/base",
            "overflow": null,
            "_model_module_version": "1.2.0",
            "_view_count": null,
            "flex_flow": null,
            "width": null,
            "min_width": null,
            "border": null,
            "align_items": null,
            "bottom": null,
            "_model_module": "@jupyter-widgets/base",
            "top": null,
            "grid_column": null,
            "overflow_y": null,
            "overflow_x": null,
            "grid_auto_flow": null,
            "grid_area": null,
            "grid_template_columns": null,
            "flex": null,
            "_model_name": "LayoutModel",
            "justify_items": null,
            "grid_row": null,
            "max_height": null,
            "align_content": null,
            "visibility": null,
            "align_self": null,
            "height": null,
            "min_height": null,
            "padding": null,
            "grid_auto_rows": null,
            "grid_gap": null,
            "max_width": null,
            "order": null,
            "_view_module_version": "1.2.0",
            "grid_template_areas": null,
            "object_position": null,
            "object_fit": null,
            "grid_auto_columns": null,
            "margin": null,
            "display": null,
            "left": null
          }
        },
        "7da90111d39a47a48518617e9ab65261": {
          "model_module": "@jupyter-widgets/controls",
          "model_name": "DescriptionStyleModel",
          "state": {
            "_view_name": "StyleView",
            "_model_name": "DescriptionStyleModel",
            "description_width": "",
            "_view_module": "@jupyter-widgets/base",
            "_model_module_version": "1.5.0",
            "_view_count": null,
            "_view_module_version": "1.2.0",
            "_model_module": "@jupyter-widgets/controls"
          }
        },
        "a2fe0c3e68ce4b4a81e6579ee16c8926": {
          "model_module": "@jupyter-widgets/base",
          "model_name": "LayoutModel",
          "state": {
            "_view_name": "LayoutView",
            "grid_template_rows": null,
            "right": null,
            "justify_content": null,
            "_view_module": "@jupyter-widgets/base",
            "overflow": null,
            "_model_module_version": "1.2.0",
            "_view_count": null,
            "flex_flow": null,
            "width": null,
            "min_width": null,
            "border": null,
            "align_items": null,
            "bottom": null,
            "_model_module": "@jupyter-widgets/base",
            "top": null,
            "grid_column": null,
            "overflow_y": null,
            "overflow_x": null,
            "grid_auto_flow": null,
            "grid_area": null,
            "grid_template_columns": null,
            "flex": null,
            "_model_name": "LayoutModel",
            "justify_items": null,
            "grid_row": null,
            "max_height": null,
            "align_content": null,
            "visibility": null,
            "align_self": null,
            "height": null,
            "min_height": null,
            "padding": null,
            "grid_auto_rows": null,
            "grid_gap": null,
            "max_width": null,
            "order": null,
            "_view_module_version": "1.2.0",
            "grid_template_areas": null,
            "object_position": null,
            "object_fit": null,
            "grid_auto_columns": null,
            "margin": null,
            "display": null,
            "left": null
          }
        },
        "2dae3bf5dadc407ab518446151204fbc": {
          "model_module": "@jupyter-widgets/controls",
          "model_name": "HBoxModel",
          "state": {
            "_view_name": "HBoxView",
            "_dom_classes": [],
            "_model_name": "HBoxModel",
            "_view_module": "@jupyter-widgets/controls",
            "_model_module_version": "1.5.0",
            "_view_count": null,
            "_view_module_version": "1.5.0",
            "box_style": "",
            "layout": "IPY_MODEL_b35f827ac19047d4ad56fde0c44953dd",
            "_model_module": "@jupyter-widgets/controls",
            "children": [
              "IPY_MODEL_2a1c8690c7e84fcf8f776bb76cc13120",
              "IPY_MODEL_28e0ae349ddc443287f365acee5e8088"
            ]
          }
        },
        "b35f827ac19047d4ad56fde0c44953dd": {
          "model_module": "@jupyter-widgets/base",
          "model_name": "LayoutModel",
          "state": {
            "_view_name": "LayoutView",
            "grid_template_rows": null,
            "right": null,
            "justify_content": null,
            "_view_module": "@jupyter-widgets/base",
            "overflow": null,
            "_model_module_version": "1.2.0",
            "_view_count": null,
            "flex_flow": null,
            "width": null,
            "min_width": null,
            "border": null,
            "align_items": null,
            "bottom": null,
            "_model_module": "@jupyter-widgets/base",
            "top": null,
            "grid_column": null,
            "overflow_y": null,
            "overflow_x": null,
            "grid_auto_flow": null,
            "grid_area": null,
            "grid_template_columns": null,
            "flex": null,
            "_model_name": "LayoutModel",
            "justify_items": null,
            "grid_row": null,
            "max_height": null,
            "align_content": null,
            "visibility": null,
            "align_self": null,
            "height": null,
            "min_height": null,
            "padding": null,
            "grid_auto_rows": null,
            "grid_gap": null,
            "max_width": null,
            "order": null,
            "_view_module_version": "1.2.0",
            "grid_template_areas": null,
            "object_position": null,
            "object_fit": null,
            "grid_auto_columns": null,
            "margin": null,
            "display": null,
            "left": null
          }
        },
        "2a1c8690c7e84fcf8f776bb76cc13120": {
          "model_module": "@jupyter-widgets/controls",
          "model_name": "FloatProgressModel",
          "state": {
            "_view_name": "ProgressView",
            "style": "IPY_MODEL_0bba782a3428470bbb6da4f384c0ede2",
            "_dom_classes": [],
            "description": "",
            "_model_name": "FloatProgressModel",
            "bar_style": "success",
            "max": 28881,
            "_view_module": "@jupyter-widgets/controls",
            "_model_module_version": "1.5.0",
            "value": 28881,
            "_view_count": null,
            "_view_module_version": "1.5.0",
            "orientation": "horizontal",
            "min": 0,
            "description_tooltip": null,
            "_model_module": "@jupyter-widgets/controls",
            "layout": "IPY_MODEL_c04daa882bbe41aa8e1866faa0d6e152"
          }
        },
        "28e0ae349ddc443287f365acee5e8088": {
          "model_module": "@jupyter-widgets/controls",
          "model_name": "HTMLModel",
          "state": {
            "_view_name": "HTMLView",
            "style": "IPY_MODEL_632c7342c6234078a26418c6eca06abb",
            "_dom_classes": [],
            "description": "",
            "_model_name": "HTMLModel",
            "placeholder": "​",
            "_view_module": "@jupyter-widgets/controls",
            "_model_module_version": "1.5.0",
            "value": " 29696/? [00:00&lt;00:00, 136011.68it/s]",
            "_view_count": null,
            "_view_module_version": "1.5.0",
            "description_tooltip": null,
            "_model_module": "@jupyter-widgets/controls",
            "layout": "IPY_MODEL_a42ff831292a4d749066499e9bfdf7ab"
          }
        },
        "0bba782a3428470bbb6da4f384c0ede2": {
          "model_module": "@jupyter-widgets/controls",
          "model_name": "ProgressStyleModel",
          "state": {
            "_view_name": "StyleView",
            "_model_name": "ProgressStyleModel",
            "description_width": "initial",
            "_view_module": "@jupyter-widgets/base",
            "_model_module_version": "1.5.0",
            "_view_count": null,
            "_view_module_version": "1.2.0",
            "bar_color": null,
            "_model_module": "@jupyter-widgets/controls"
          }
        },
        "c04daa882bbe41aa8e1866faa0d6e152": {
          "model_module": "@jupyter-widgets/base",
          "model_name": "LayoutModel",
          "state": {
            "_view_name": "LayoutView",
            "grid_template_rows": null,
            "right": null,
            "justify_content": null,
            "_view_module": "@jupyter-widgets/base",
            "overflow": null,
            "_model_module_version": "1.2.0",
            "_view_count": null,
            "flex_flow": null,
            "width": null,
            "min_width": null,
            "border": null,
            "align_items": null,
            "bottom": null,
            "_model_module": "@jupyter-widgets/base",
            "top": null,
            "grid_column": null,
            "overflow_y": null,
            "overflow_x": null,
            "grid_auto_flow": null,
            "grid_area": null,
            "grid_template_columns": null,
            "flex": null,
            "_model_name": "LayoutModel",
            "justify_items": null,
            "grid_row": null,
            "max_height": null,
            "align_content": null,
            "visibility": null,
            "align_self": null,
            "height": null,
            "min_height": null,
            "padding": null,
            "grid_auto_rows": null,
            "grid_gap": null,
            "max_width": null,
            "order": null,
            "_view_module_version": "1.2.0",
            "grid_template_areas": null,
            "object_position": null,
            "object_fit": null,
            "grid_auto_columns": null,
            "margin": null,
            "display": null,
            "left": null
          }
        },
        "632c7342c6234078a26418c6eca06abb": {
          "model_module": "@jupyter-widgets/controls",
          "model_name": "DescriptionStyleModel",
          "state": {
            "_view_name": "StyleView",
            "_model_name": "DescriptionStyleModel",
            "description_width": "",
            "_view_module": "@jupyter-widgets/base",
            "_model_module_version": "1.5.0",
            "_view_count": null,
            "_view_module_version": "1.2.0",
            "_model_module": "@jupyter-widgets/controls"
          }
        },
        "a42ff831292a4d749066499e9bfdf7ab": {
          "model_module": "@jupyter-widgets/base",
          "model_name": "LayoutModel",
          "state": {
            "_view_name": "LayoutView",
            "grid_template_rows": null,
            "right": null,
            "justify_content": null,
            "_view_module": "@jupyter-widgets/base",
            "overflow": null,
            "_model_module_version": "1.2.0",
            "_view_count": null,
            "flex_flow": null,
            "width": null,
            "min_width": null,
            "border": null,
            "align_items": null,
            "bottom": null,
            "_model_module": "@jupyter-widgets/base",
            "top": null,
            "grid_column": null,
            "overflow_y": null,
            "overflow_x": null,
            "grid_auto_flow": null,
            "grid_area": null,
            "grid_template_columns": null,
            "flex": null,
            "_model_name": "LayoutModel",
            "justify_items": null,
            "grid_row": null,
            "max_height": null,
            "align_content": null,
            "visibility": null,
            "align_self": null,
            "height": null,
            "min_height": null,
            "padding": null,
            "grid_auto_rows": null,
            "grid_gap": null,
            "max_width": null,
            "order": null,
            "_view_module_version": "1.2.0",
            "grid_template_areas": null,
            "object_position": null,
            "object_fit": null,
            "grid_auto_columns": null,
            "margin": null,
            "display": null,
            "left": null
          }
        },
        "5c8424671366473e9d93e394e4f300de": {
          "model_module": "@jupyter-widgets/controls",
          "model_name": "HBoxModel",
          "state": {
            "_view_name": "HBoxView",
            "_dom_classes": [],
            "_model_name": "HBoxModel",
            "_view_module": "@jupyter-widgets/controls",
            "_model_module_version": "1.5.0",
            "_view_count": null,
            "_view_module_version": "1.5.0",
            "box_style": "",
            "layout": "IPY_MODEL_78e2b98e74d34d0eb8ebb9e6634a6cc0",
            "_model_module": "@jupyter-widgets/controls",
            "children": [
              "IPY_MODEL_c7f7eeeac9304c42a2f51f3c9899a1ae",
              "IPY_MODEL_ad6d4955f6bf495685277d795e7b638e"
            ]
          }
        },
        "78e2b98e74d34d0eb8ebb9e6634a6cc0": {
          "model_module": "@jupyter-widgets/base",
          "model_name": "LayoutModel",
          "state": {
            "_view_name": "LayoutView",
            "grid_template_rows": null,
            "right": null,
            "justify_content": null,
            "_view_module": "@jupyter-widgets/base",
            "overflow": null,
            "_model_module_version": "1.2.0",
            "_view_count": null,
            "flex_flow": null,
            "width": null,
            "min_width": null,
            "border": null,
            "align_items": null,
            "bottom": null,
            "_model_module": "@jupyter-widgets/base",
            "top": null,
            "grid_column": null,
            "overflow_y": null,
            "overflow_x": null,
            "grid_auto_flow": null,
            "grid_area": null,
            "grid_template_columns": null,
            "flex": null,
            "_model_name": "LayoutModel",
            "justify_items": null,
            "grid_row": null,
            "max_height": null,
            "align_content": null,
            "visibility": null,
            "align_self": null,
            "height": null,
            "min_height": null,
            "padding": null,
            "grid_auto_rows": null,
            "grid_gap": null,
            "max_width": null,
            "order": null,
            "_view_module_version": "1.2.0",
            "grid_template_areas": null,
            "object_position": null,
            "object_fit": null,
            "grid_auto_columns": null,
            "margin": null,
            "display": null,
            "left": null
          }
        },
        "c7f7eeeac9304c42a2f51f3c9899a1ae": {
          "model_module": "@jupyter-widgets/controls",
          "model_name": "FloatProgressModel",
          "state": {
            "_view_name": "ProgressView",
            "style": "IPY_MODEL_bd8e5dd7e54d458c8de4ba221dbb422b",
            "_dom_classes": [],
            "description": "",
            "_model_name": "FloatProgressModel",
            "bar_style": "success",
            "max": 1648877,
            "_view_module": "@jupyter-widgets/controls",
            "_model_module_version": "1.5.0",
            "value": 1648877,
            "_view_count": null,
            "_view_module_version": "1.5.0",
            "orientation": "horizontal",
            "min": 0,
            "description_tooltip": null,
            "_model_module": "@jupyter-widgets/controls",
            "layout": "IPY_MODEL_28adb6d76f9f46b0b82977cdafdc2019"
          }
        },
        "ad6d4955f6bf495685277d795e7b638e": {
          "model_module": "@jupyter-widgets/controls",
          "model_name": "HTMLModel",
          "state": {
            "_view_name": "HTMLView",
            "style": "IPY_MODEL_181e7ab2f278420982474f3a014239e3",
            "_dom_classes": [],
            "description": "",
            "_model_name": "HTMLModel",
            "placeholder": "​",
            "_view_module": "@jupyter-widgets/controls",
            "_model_module_version": "1.5.0",
            "value": " 1649664/? [00:29&lt;00:00, 56245.11it/s]",
            "_view_count": null,
            "_view_module_version": "1.5.0",
            "description_tooltip": null,
            "_model_module": "@jupyter-widgets/controls",
            "layout": "IPY_MODEL_fdc87ad1ffe646bd8f395183cddf9572"
          }
        },
        "bd8e5dd7e54d458c8de4ba221dbb422b": {
          "model_module": "@jupyter-widgets/controls",
          "model_name": "ProgressStyleModel",
          "state": {
            "_view_name": "StyleView",
            "_model_name": "ProgressStyleModel",
            "description_width": "initial",
            "_view_module": "@jupyter-widgets/base",
            "_model_module_version": "1.5.0",
            "_view_count": null,
            "_view_module_version": "1.2.0",
            "bar_color": null,
            "_model_module": "@jupyter-widgets/controls"
          }
        },
        "28adb6d76f9f46b0b82977cdafdc2019": {
          "model_module": "@jupyter-widgets/base",
          "model_name": "LayoutModel",
          "state": {
            "_view_name": "LayoutView",
            "grid_template_rows": null,
            "right": null,
            "justify_content": null,
            "_view_module": "@jupyter-widgets/base",
            "overflow": null,
            "_model_module_version": "1.2.0",
            "_view_count": null,
            "flex_flow": null,
            "width": null,
            "min_width": null,
            "border": null,
            "align_items": null,
            "bottom": null,
            "_model_module": "@jupyter-widgets/base",
            "top": null,
            "grid_column": null,
            "overflow_y": null,
            "overflow_x": null,
            "grid_auto_flow": null,
            "grid_area": null,
            "grid_template_columns": null,
            "flex": null,
            "_model_name": "LayoutModel",
            "justify_items": null,
            "grid_row": null,
            "max_height": null,
            "align_content": null,
            "visibility": null,
            "align_self": null,
            "height": null,
            "min_height": null,
            "padding": null,
            "grid_auto_rows": null,
            "grid_gap": null,
            "max_width": null,
            "order": null,
            "_view_module_version": "1.2.0",
            "grid_template_areas": null,
            "object_position": null,
            "object_fit": null,
            "grid_auto_columns": null,
            "margin": null,
            "display": null,
            "left": null
          }
        },
        "181e7ab2f278420982474f3a014239e3": {
          "model_module": "@jupyter-widgets/controls",
          "model_name": "DescriptionStyleModel",
          "state": {
            "_view_name": "StyleView",
            "_model_name": "DescriptionStyleModel",
            "description_width": "",
            "_view_module": "@jupyter-widgets/base",
            "_model_module_version": "1.5.0",
            "_view_count": null,
            "_view_module_version": "1.2.0",
            "_model_module": "@jupyter-widgets/controls"
          }
        },
        "fdc87ad1ffe646bd8f395183cddf9572": {
          "model_module": "@jupyter-widgets/base",
          "model_name": "LayoutModel",
          "state": {
            "_view_name": "LayoutView",
            "grid_template_rows": null,
            "right": null,
            "justify_content": null,
            "_view_module": "@jupyter-widgets/base",
            "overflow": null,
            "_model_module_version": "1.2.0",
            "_view_count": null,
            "flex_flow": null,
            "width": null,
            "min_width": null,
            "border": null,
            "align_items": null,
            "bottom": null,
            "_model_module": "@jupyter-widgets/base",
            "top": null,
            "grid_column": null,
            "overflow_y": null,
            "overflow_x": null,
            "grid_auto_flow": null,
            "grid_area": null,
            "grid_template_columns": null,
            "flex": null,
            "_model_name": "LayoutModel",
            "justify_items": null,
            "grid_row": null,
            "max_height": null,
            "align_content": null,
            "visibility": null,
            "align_self": null,
            "height": null,
            "min_height": null,
            "padding": null,
            "grid_auto_rows": null,
            "grid_gap": null,
            "max_width": null,
            "order": null,
            "_view_module_version": "1.2.0",
            "grid_template_areas": null,
            "object_position": null,
            "object_fit": null,
            "grid_auto_columns": null,
            "margin": null,
            "display": null,
            "left": null
          }
        },
        "613301115fa04a58b06372e7c771396d": {
          "model_module": "@jupyter-widgets/controls",
          "model_name": "HBoxModel",
          "state": {
            "_view_name": "HBoxView",
            "_dom_classes": [],
            "_model_name": "HBoxModel",
            "_view_module": "@jupyter-widgets/controls",
            "_model_module_version": "1.5.0",
            "_view_count": null,
            "_view_module_version": "1.5.0",
            "box_style": "",
            "layout": "IPY_MODEL_af2f20ba12a54987867f620cd81a9a3e",
            "_model_module": "@jupyter-widgets/controls",
            "children": [
              "IPY_MODEL_ceb7c3bea6684df18e84598decf09a4f",
              "IPY_MODEL_2d70e90840624b93a138a32a9487f82f"
            ]
          }
        },
        "af2f20ba12a54987867f620cd81a9a3e": {
          "model_module": "@jupyter-widgets/base",
          "model_name": "LayoutModel",
          "state": {
            "_view_name": "LayoutView",
            "grid_template_rows": null,
            "right": null,
            "justify_content": null,
            "_view_module": "@jupyter-widgets/base",
            "overflow": null,
            "_model_module_version": "1.2.0",
            "_view_count": null,
            "flex_flow": null,
            "width": null,
            "min_width": null,
            "border": null,
            "align_items": null,
            "bottom": null,
            "_model_module": "@jupyter-widgets/base",
            "top": null,
            "grid_column": null,
            "overflow_y": null,
            "overflow_x": null,
            "grid_auto_flow": null,
            "grid_area": null,
            "grid_template_columns": null,
            "flex": null,
            "_model_name": "LayoutModel",
            "justify_items": null,
            "grid_row": null,
            "max_height": null,
            "align_content": null,
            "visibility": null,
            "align_self": null,
            "height": null,
            "min_height": null,
            "padding": null,
            "grid_auto_rows": null,
            "grid_gap": null,
            "max_width": null,
            "order": null,
            "_view_module_version": "1.2.0",
            "grid_template_areas": null,
            "object_position": null,
            "object_fit": null,
            "grid_auto_columns": null,
            "margin": null,
            "display": null,
            "left": null
          }
        },
        "ceb7c3bea6684df18e84598decf09a4f": {
          "model_module": "@jupyter-widgets/controls",
          "model_name": "FloatProgressModel",
          "state": {
            "_view_name": "ProgressView",
            "style": "IPY_MODEL_971794007cde472a84c7887f734f379d",
            "_dom_classes": [],
            "description": "",
            "_model_name": "FloatProgressModel",
            "bar_style": "success",
            "max": 4542,
            "_view_module": "@jupyter-widgets/controls",
            "_model_module_version": "1.5.0",
            "value": 4542,
            "_view_count": null,
            "_view_module_version": "1.5.0",
            "orientation": "horizontal",
            "min": 0,
            "description_tooltip": null,
            "_model_module": "@jupyter-widgets/controls",
            "layout": "IPY_MODEL_04d0ca6dda394a12894b4a26d3084450"
          }
        },
        "2d70e90840624b93a138a32a9487f82f": {
          "model_module": "@jupyter-widgets/controls",
          "model_name": "HTMLModel",
          "state": {
            "_view_name": "HTMLView",
            "style": "IPY_MODEL_62eada1f8809479b9ef38df803276040",
            "_dom_classes": [],
            "description": "",
            "_model_name": "HTMLModel",
            "placeholder": "​",
            "_view_module": "@jupyter-widgets/controls",
            "_model_module_version": "1.5.0",
            "value": " 5120/? [00:18&lt;00:00, 272.22it/s]",
            "_view_count": null,
            "_view_module_version": "1.5.0",
            "description_tooltip": null,
            "_model_module": "@jupyter-widgets/controls",
            "layout": "IPY_MODEL_d017247c216544358ad6a0fde35c6e06"
          }
        },
        "971794007cde472a84c7887f734f379d": {
          "model_module": "@jupyter-widgets/controls",
          "model_name": "ProgressStyleModel",
          "state": {
            "_view_name": "StyleView",
            "_model_name": "ProgressStyleModel",
            "description_width": "initial",
            "_view_module": "@jupyter-widgets/base",
            "_model_module_version": "1.5.0",
            "_view_count": null,
            "_view_module_version": "1.2.0",
            "bar_color": null,
            "_model_module": "@jupyter-widgets/controls"
          }
        },
        "04d0ca6dda394a12894b4a26d3084450": {
          "model_module": "@jupyter-widgets/base",
          "model_name": "LayoutModel",
          "state": {
            "_view_name": "LayoutView",
            "grid_template_rows": null,
            "right": null,
            "justify_content": null,
            "_view_module": "@jupyter-widgets/base",
            "overflow": null,
            "_model_module_version": "1.2.0",
            "_view_count": null,
            "flex_flow": null,
            "width": null,
            "min_width": null,
            "border": null,
            "align_items": null,
            "bottom": null,
            "_model_module": "@jupyter-widgets/base",
            "top": null,
            "grid_column": null,
            "overflow_y": null,
            "overflow_x": null,
            "grid_auto_flow": null,
            "grid_area": null,
            "grid_template_columns": null,
            "flex": null,
            "_model_name": "LayoutModel",
            "justify_items": null,
            "grid_row": null,
            "max_height": null,
            "align_content": null,
            "visibility": null,
            "align_self": null,
            "height": null,
            "min_height": null,
            "padding": null,
            "grid_auto_rows": null,
            "grid_gap": null,
            "max_width": null,
            "order": null,
            "_view_module_version": "1.2.0",
            "grid_template_areas": null,
            "object_position": null,
            "object_fit": null,
            "grid_auto_columns": null,
            "margin": null,
            "display": null,
            "left": null
          }
        },
        "62eada1f8809479b9ef38df803276040": {
          "model_module": "@jupyter-widgets/controls",
          "model_name": "DescriptionStyleModel",
          "state": {
            "_view_name": "StyleView",
            "_model_name": "DescriptionStyleModel",
            "description_width": "",
            "_view_module": "@jupyter-widgets/base",
            "_model_module_version": "1.5.0",
            "_view_count": null,
            "_view_module_version": "1.2.0",
            "_model_module": "@jupyter-widgets/controls"
          }
        },
        "d017247c216544358ad6a0fde35c6e06": {
          "model_module": "@jupyter-widgets/base",
          "model_name": "LayoutModel",
          "state": {
            "_view_name": "LayoutView",
            "grid_template_rows": null,
            "right": null,
            "justify_content": null,
            "_view_module": "@jupyter-widgets/base",
            "overflow": null,
            "_model_module_version": "1.2.0",
            "_view_count": null,
            "flex_flow": null,
            "width": null,
            "min_width": null,
            "border": null,
            "align_items": null,
            "bottom": null,
            "_model_module": "@jupyter-widgets/base",
            "top": null,
            "grid_column": null,
            "overflow_y": null,
            "overflow_x": null,
            "grid_auto_flow": null,
            "grid_area": null,
            "grid_template_columns": null,
            "flex": null,
            "_model_name": "LayoutModel",
            "justify_items": null,
            "grid_row": null,
            "max_height": null,
            "align_content": null,
            "visibility": null,
            "align_self": null,
            "height": null,
            "min_height": null,
            "padding": null,
            "grid_auto_rows": null,
            "grid_gap": null,
            "max_width": null,
            "order": null,
            "_view_module_version": "1.2.0",
            "grid_template_areas": null,
            "object_position": null,
            "object_fit": null,
            "grid_auto_columns": null,
            "margin": null,
            "display": null,
            "left": null
          }
        }
      }
    }
  },
  "cells": [
    {
      "cell_type": "markdown",
      "metadata": {
        "id": "lFg03wbAZkL7"
      },
      "source": [
        "# CMPE 258 HW 6 - Mnist Image classification in pytorch\n",
        "## Abhishek Bais"
      ]
    },
    {
      "cell_type": "code",
      "metadata": {
        "id": "eCJWP5yvdWRm",
        "colab": {
          "base_uri": "https://localhost:8080/"
        },
        "outputId": "b11c746b-cc44-4d7e-d747-07d43bbcf03b"
      },
      "source": [
        "import torch\n",
        "import torch.nn as nn\n",
        "import torchvision.transforms as transforms\n",
        "import torchvision.datasets as datasets\n",
        "from torch.autograd import Variable\n",
        "torch.cuda.is_available()"
      ],
      "execution_count": 1,
      "outputs": [
        {
          "output_type": "execute_result",
          "data": {
            "text/plain": [
              "True"
            ]
          },
          "metadata": {
            "tags": []
          },
          "execution_count": 1
        }
      ]
    },
    {
      "cell_type": "markdown",
      "metadata": {
        "id": "ivqTgWBZZ9_d"
      },
      "source": [
        "# 1.0. Data injestion"
      ]
    },
    {
      "cell_type": "code",
      "metadata": {
        "id": "FHfNQpeAdkx2",
        "colab": {
          "base_uri": "https://localhost:8080/",
          "height": 573,
          "referenced_widgets": [
            "aa0aa4aa8f514862bdca466d901857b9",
            "d0a4eff0cbe44d9ab483e1d26e32066b",
            "4f6c00e208624bceabfa91062df5dc9d",
            "9ec3e17b36494660b777979863fe0e64",
            "26f10754c7de43ceb327e2c245be7ae7",
            "d070968e10e14866a286d9842367af4b",
            "7da90111d39a47a48518617e9ab65261",
            "a2fe0c3e68ce4b4a81e6579ee16c8926",
            "2dae3bf5dadc407ab518446151204fbc",
            "b35f827ac19047d4ad56fde0c44953dd",
            "2a1c8690c7e84fcf8f776bb76cc13120",
            "28e0ae349ddc443287f365acee5e8088",
            "0bba782a3428470bbb6da4f384c0ede2",
            "c04daa882bbe41aa8e1866faa0d6e152",
            "632c7342c6234078a26418c6eca06abb",
            "a42ff831292a4d749066499e9bfdf7ab",
            "5c8424671366473e9d93e394e4f300de",
            "78e2b98e74d34d0eb8ebb9e6634a6cc0",
            "c7f7eeeac9304c42a2f51f3c9899a1ae",
            "ad6d4955f6bf495685277d795e7b638e",
            "bd8e5dd7e54d458c8de4ba221dbb422b",
            "28adb6d76f9f46b0b82977cdafdc2019",
            "181e7ab2f278420982474f3a014239e3",
            "fdc87ad1ffe646bd8f395183cddf9572",
            "613301115fa04a58b06372e7c771396d",
            "af2f20ba12a54987867f620cd81a9a3e",
            "ceb7c3bea6684df18e84598decf09a4f",
            "2d70e90840624b93a138a32a9487f82f",
            "971794007cde472a84c7887f734f379d",
            "04d0ca6dda394a12894b4a26d3084450",
            "62eada1f8809479b9ef38df803276040",
            "d017247c216544358ad6a0fde35c6e06"
          ]
        },
        "outputId": "137f74e8-13de-4589-c20c-ec75f9f91958"
      },
      "source": [
        "mean_gray= 0.1307\n",
        "stddev_gray= 0.3081\n",
        "#normalize the image with std and mean\n",
        "#e.g: input[channel]=(input[channel]-mean[channel])/std(channel)\n",
        "transforms = transforms.Compose([transforms.ToTensor(), transforms.Normalize((mean_gray,),(stddev_gray,))])\n",
        "\n",
        "train_dataset=datasets.MNIST(root='./data', train=True, transform=transforms, download=True)\n",
        "test_dataset=datasets.MNIST(root='./data', train=False, transform=transforms)"
      ],
      "execution_count": 2,
      "outputs": [
        {
          "output_type": "stream",
          "text": [
            "Downloading http://yann.lecun.com/exdb/mnist/train-images-idx3-ubyte.gz\n",
            "Downloading http://yann.lecun.com/exdb/mnist/train-images-idx3-ubyte.gz to ./data/MNIST/raw/train-images-idx3-ubyte.gz\n"
          ],
          "name": "stdout"
        },
        {
          "output_type": "display_data",
          "data": {
            "application/vnd.jupyter.widget-view+json": {
              "model_id": "aa0aa4aa8f514862bdca466d901857b9",
              "version_minor": 0,
              "version_major": 2
            },
            "text/plain": [
              "HBox(children=(FloatProgress(value=0.0, max=9912422.0), HTML(value='')))"
            ]
          },
          "metadata": {
            "tags": []
          }
        },
        {
          "output_type": "stream",
          "text": [
            "\n",
            "Extracting ./data/MNIST/raw/train-images-idx3-ubyte.gz to ./data/MNIST/raw\n",
            "\n",
            "Downloading http://yann.lecun.com/exdb/mnist/train-labels-idx1-ubyte.gz\n",
            "Downloading http://yann.lecun.com/exdb/mnist/train-labels-idx1-ubyte.gz to ./data/MNIST/raw/train-labels-idx1-ubyte.gz\n"
          ],
          "name": "stdout"
        },
        {
          "output_type": "display_data",
          "data": {
            "application/vnd.jupyter.widget-view+json": {
              "model_id": "2dae3bf5dadc407ab518446151204fbc",
              "version_minor": 0,
              "version_major": 2
            },
            "text/plain": [
              "HBox(children=(FloatProgress(value=0.0, max=28881.0), HTML(value='')))"
            ]
          },
          "metadata": {
            "tags": []
          }
        },
        {
          "output_type": "stream",
          "text": [
            "\n",
            "Extracting ./data/MNIST/raw/train-labels-idx1-ubyte.gz to ./data/MNIST/raw\n",
            "\n",
            "Downloading http://yann.lecun.com/exdb/mnist/t10k-images-idx3-ubyte.gz\n",
            "Downloading http://yann.lecun.com/exdb/mnist/t10k-images-idx3-ubyte.gz to ./data/MNIST/raw/t10k-images-idx3-ubyte.gz\n"
          ],
          "name": "stdout"
        },
        {
          "output_type": "display_data",
          "data": {
            "application/vnd.jupyter.widget-view+json": {
              "model_id": "5c8424671366473e9d93e394e4f300de",
              "version_minor": 0,
              "version_major": 2
            },
            "text/plain": [
              "HBox(children=(FloatProgress(value=0.0, max=1648877.0), HTML(value='')))"
            ]
          },
          "metadata": {
            "tags": []
          }
        },
        {
          "output_type": "stream",
          "text": [
            "\n",
            "Extracting ./data/MNIST/raw/t10k-images-idx3-ubyte.gz to ./data/MNIST/raw\n",
            "\n",
            "Downloading http://yann.lecun.com/exdb/mnist/t10k-labels-idx1-ubyte.gz\n",
            "Downloading http://yann.lecun.com/exdb/mnist/t10k-labels-idx1-ubyte.gz to ./data/MNIST/raw/t10k-labels-idx1-ubyte.gz\n"
          ],
          "name": "stdout"
        },
        {
          "output_type": "display_data",
          "data": {
            "application/vnd.jupyter.widget-view+json": {
              "model_id": "613301115fa04a58b06372e7c771396d",
              "version_minor": 0,
              "version_major": 2
            },
            "text/plain": [
              "HBox(children=(FloatProgress(value=0.0, max=4542.0), HTML(value='')))"
            ]
          },
          "metadata": {
            "tags": []
          }
        },
        {
          "output_type": "stream",
          "text": [
            "\n",
            "Extracting ./data/MNIST/raw/t10k-labels-idx1-ubyte.gz to ./data/MNIST/raw\n",
            "\n",
            "Processing...\n",
            "Done!\n"
          ],
          "name": "stdout"
        },
        {
          "output_type": "stream",
          "text": [
            "/usr/local/lib/python3.7/dist-packages/torchvision/datasets/mnist.py:502: UserWarning: The given NumPy array is not writeable, and PyTorch does not support non-writeable tensors. This means you can write to the underlying (supposedly non-writeable) NumPy array using the tensor. You may want to copy the array to protect its data or make it writeable before converting it to a tensor. This type of warning will be suppressed for the rest of this program. (Triggered internally at  /pytorch/torch/csrc/utils/tensor_numpy.cpp:143.)\n",
            "  return torch.from_numpy(parsed.astype(m[2], copy=False)).view(*s)\n"
          ],
          "name": "stderr"
        }
      ]
    },
    {
      "cell_type": "markdown",
      "metadata": {
        "id": "U9EO3E7EaDsO"
      },
      "source": [
        "# 2.0. Data Exploration"
      ]
    },
    {
      "cell_type": "code",
      "metadata": {
        "id": "27TyR0YVfAXL",
        "colab": {
          "base_uri": "https://localhost:8080/",
          "height": 299
        },
        "outputId": "946e1204-c617-4c0f-c2eb-26a8b4174253"
      },
      "source": [
        "import matplotlib.pyplot as plt\n",
        "label=train_dataset[21][1]\n",
        "print('label:', label)\n",
        "random_image = train_dataset[21][0].numpy() * stddev_gray + mean_gray\n",
        "plt.imshow(random_image.reshape(28,28), cmap='Accent')"
      ],
      "execution_count": 4,
      "outputs": [
        {
          "output_type": "stream",
          "text": [
            "label: 0\n"
          ],
          "name": "stdout"
        },
        {
          "output_type": "execute_result",
          "data": {
            "text/plain": [
              "<matplotlib.image.AxesImage at 0x7fbe700cae10>"
            ]
          },
          "metadata": {
            "tags": []
          },
          "execution_count": 4
        },
        {
          "output_type": "display_data",
          "data": {
            "image/png": "[encoded data removed]",
            "text/plain": [
              "<Figure size 432x288 with 1 Axes>"
            ]
          },
          "metadata": {
            "tags": [],
            "needs_background": "light"
          }
        }
      ]
    },
    {
      "cell_type": "markdown",
      "metadata": {
        "id": "750mHTKBa9W1"
      },
      "source": [
        "# 3.0. Setup dataloaders to train/ test"
      ]
    },
    {
      "cell_type": "code",
      "metadata": {
        "id": "B-6WqafRgqJb"
      },
      "source": [
        "batch_size=100\n",
        "epochs=10\n",
        "train_load=torch.utils.data.DataLoader(dataset=train_dataset, batch_size=batch_size, shuffle=True)\n",
        "test_load=torch.utils.data.DataLoader(dataset=test_dataset, batch_size=batch_size, shuffle=False)"
      ],
      "execution_count": 5,
      "outputs": []
    },
    {
      "cell_type": "code",
      "metadata": {
        "id": "KSckW16Sg-k4",
        "colab": {
          "base_uri": "https://localhost:8080/"
        },
        "outputId": "4e830618-2b63-4784-8ba1-4b2f9b484125"
      },
      "source": [
        "print(\"Number of images in training set: {}\".format(len(train_dataset)))\n",
        "print(\"Number of images in test set: {}\".format(len(test_dataset)))\n",
        "print(\"Number of batches in the train loader: {}\".format(len(train_load)))\n",
        "print(\"Number of batches in the test loader: {}\".format(len(test_load)))"
      ],
      "execution_count": 6,
      "outputs": [
        {
          "output_type": "stream",
          "text": [
            "Number of images in training set: 60000\n",
            "Number of images in test set: 10000\n",
            "Number of batches in the train loader: 600\n",
            "Number of batches in the test loader: 100\n"
          ],
          "name": "stdout"
        }
      ]
    },
    {
      "cell_type": "markdown",
      "metadata": {
        "id": "0MWih_SIbCnd"
      },
      "source": [
        "# 4.0. Create a CNN model"
      ]
    },
    {
      "cell_type": "markdown",
      "metadata": {
        "id": "b39wLlaUhKFk"
      },
      "source": [
        "### Extra points\n",
        "1. Added different model \n",
        "2. Added pooling layer\n",
        "3. Dropout 0.3\n",
        "4. padding same\n"
      ]
    },
    {
      "cell_type": "code",
      "metadata": {
        "id": "pSpYOJKzbQ-u"
      },
      "source": [
        "class CNN(nn.Module):\n",
        "  def __init__(self):\n",
        "    super(CNN, self).__init__()\n",
        "\n",
        "    # Add layer 1  - CNN, BatchNorm, Relu, MaxPool\n",
        "    self.layer1 = nn.Sequential(\n",
        "            nn.Conv2d(in_channels=1, out_channels=32, kernel_size=3, padding=1),\n",
        "            nn.BatchNorm2d(32),\n",
        "            nn.ReLU(),\n",
        "            nn.MaxPool2d(kernel_size=2, stride=2)\n",
        "    )\n",
        "      \n",
        "    # Add layer 2 - CNN, BatchNorm, Relu, MaxPool\n",
        "    self.layer2 = nn.Sequential(\n",
        "            nn.Conv2d(in_channels=32, out_channels=64, kernel_size=3),\n",
        "            nn.BatchNorm2d(64),\n",
        "            nn.ReLU(),\n",
        "            nn.MaxPool2d(2)\n",
        "    )\n",
        "        \n",
        "    # Add layer 3 - Linear, Dropout, Linear, Dropout\n",
        "    self.fc1 = nn.Linear(in_features=64*6*6, out_features=600)\n",
        "    self.drop = nn.Dropout2d(0.3)\n",
        "    self.fc2 = nn.Linear(in_features=600, out_features=120)\n",
        "    self.drop = nn.Dropout2d(0.3)\n",
        "\n",
        "  def forward(self, x):\n",
        "    out = self.layer1(x)\n",
        "    out = self.layer2(out)\n",
        "    out = out.view(out.size(0), -1)\n",
        "    out = self.fc1(out)\n",
        "    out = self.drop(out)\n",
        "    out = self.fc2(out)\n",
        "    out = self.drop(out)\n",
        "    return out"
      ],
      "execution_count": 21,
      "outputs": []
    },
    {
      "cell_type": "markdown",
      "metadata": {
        "id": "nHkV1T9hdXpu"
      },
      "source": [
        "# 5.0. Define hyper-params, build the model"
      ]
    },
    {
      "cell_type": "markdown",
      "metadata": {
        "id": "NXxlG3WVg5kt"
      },
      "source": [
        "### Extra points\n",
        "1. New optimizer     - sgd\n",
        "2. New learning rate - 0.001\n",
        "3. Added momemtum    - 0.9"
      ]
    },
    {
      "cell_type": "code",
      "metadata": {
        "id": "EeKLzw2zhlTi"
      },
      "source": [
        "\n",
        "learning_rate = 0.001\n",
        "loss_fn=nn.CrossEntropyLoss()\n",
        "#loss_fn = nn.L1Loss()\n",
        "momemtum = 0.9\n",
        "\n",
        "model=CNN()\n",
        "CUDA=torch.cuda.is_available()\n",
        "if CUDA:\n",
        "  model=model.cuda()\n",
        "\n",
        "#optimizer = torch.optim.Adam(model.parameters(), lr=learning_rate)\n",
        "optimizer = torch.optim.SGD(model.parameters(), lr=learning_rate, momentum=momemtum)"
      ],
      "execution_count": 26,
      "outputs": []
    },
    {
      "cell_type": "markdown",
      "metadata": {
        "id": "VG_iytvGeqCe"
      },
      "source": [
        "# 6.0. Check expected predictions"
      ]
    },
    {
      "cell_type": "code",
      "metadata": {
        "id": "HHswfa1Hhx6r",
        "colab": {
          "base_uri": "https://localhost:8080/"
        },
        "outputId": "44ea72df-ea43-41bc-d93f-b840d9e6915d"
      },
      "source": [
        "iteration=0\n",
        "correct_nodata=0\n",
        "correct_data=0\n",
        "for i,(inputs,labels) in enumerate (train_load):\n",
        "  if iteration==1:\n",
        "    break\n",
        "  inputs=Variable(inputs)\n",
        "  labels=Variable(labels)\n",
        "  if torch.cuda.is_available():\n",
        "    inputs=inputs.cuda()\n",
        "    labels=labels.cuda()\n",
        "\n",
        "  print(\"For 1 iteration, this is what happens:\")\n",
        "  print(\"Input Shape:\",inputs.shape)\n",
        "  print(\"Labels Shape:\", labels.shape)\n",
        "  output = model(inputs)\n",
        "  \n",
        "  print(\"Output Shape:\",output.shape)\n",
        "  _,predicted_nodata=torch.max(output,1)\n",
        "  \n",
        "  print(\"Predicted Shape:\",predicted_nodata.shape)\n",
        "  print(\"Predicted Tensor:\",predicted_nodata)\n",
        "  correct_nodata +=(predicted_nodata==labels).sum()\n",
        "  print(\"Correct Predictions:\",correct_nodata)\n",
        "  _,predicted_data = torch.max(output.data,1)\n",
        "  correct_data +=(predicted_data==labels.data).sum()\n",
        "  \n",
        "  print(\"Correct Predictions:\",correct_data)\n",
        "  \n",
        "  iteration+=1"
      ],
      "execution_count": 27,
      "outputs": [
        {
          "output_type": "stream",
          "text": [
            "For 1 iteration, this is what happens:\n",
            "Input Shape: torch.Size([100, 1, 28, 28])\n",
            "Labels Shape: torch.Size([100])\n",
            "Output Shape: torch.Size([100, 120])\n",
            "Predicted Shape: torch.Size([100])\n",
            "Predicted Tensor: tensor([ 11,  11,  11, 115,  43,  71,  26,  71,  43,  94,   1,  11,   2,  39,\n",
            "         26,  74,  85,  11,  81,  94,  26,  85,  81,  11,  11,  39, 115,  82,\n",
            "         11, 109,   4,  85,  71,  27,  11,  81,  10,  81,  43,  54,  81,  61,\n",
            "         10,  43,  43,  94,  94,  87,  39, 108,  43,  35, 101,  33,  71,  51,\n",
            "         71,  11,  81,  19,  43,  10,  54,  11,  61,  11,  61,  81,  33,  11,\n",
            "         26,  77,  43,  11,   2,  43,  26,  43,  54,  81, 116,  85,  11,  11,\n",
            "         11,  43,  43,  11,  43,  94,  71,  45,  43,  54,  43, 108,  71,  81,\n",
            "         33,  43], device='cuda:0')\n",
            "Correct Predictions: tensor(0, device='cuda:0')\n",
            "Correct Predictions: tensor(0, device='cuda:0')\n"
          ],
          "name": "stdout"
        }
      ]
    },
    {
      "cell_type": "markdown",
      "metadata": {
        "id": "jr4sUgAue85s"
      },
      "source": [
        "# 7.0. Train/ Test"
      ]
    },
    {
      "cell_type": "code",
      "metadata": {
        "id": "_RXT8Kjt13Pt",
        "colab": {
          "base_uri": "https://localhost:8080/"
        },
        "outputId": "f1ff8640-bd16-4468-f859-849f412e2963"
      },
      "source": [
        "num_epochs=20\n",
        "\n",
        "train_loss=[]\n",
        "test_loss=[]\n",
        "train_accuracy=[]\n",
        "test_accuracy=[]\n",
        "\n",
        "# Training\n",
        "for epoch in range(num_epochs):\n",
        "  # Reset variables at 0 epoch\n",
        "  correct=0\n",
        "  iteration=0\n",
        "  iter_loss=0.0\n",
        "  \n",
        "  model.train() # Training Mode\n",
        "  \n",
        "  for i,(inputs,labels) in enumerate(train_load):\n",
        "    \n",
        "    inputs=Variable(inputs)\n",
        "    labels=Variable(labels)\n",
        "    \n",
        "    # if CUDA is avaible, shift to GPU (CUDA)\n",
        "    CUDA=torch.cuda.is_available()\n",
        "    if CUDA:\n",
        "      inputs=inputs.cuda()\n",
        "      labels=labels.cuda()\n",
        "      \n",
        "    optimizer.zero_grad() # clear gradient\n",
        "    outputs=model(inputs)\n",
        "    loss=loss_fn(outputs,labels)\n",
        "    iter_loss += loss.item() # Accumulate loss\n",
        "    loss.backward() # backpropagation\n",
        "    optimizer.step() # update weights\n",
        "    \n",
        "    # Save the correct predictions for training data\n",
        "    _,predicted=torch.max(outputs,1)\n",
        "    correct +=(predicted==labels).sum()\n",
        "    iteration +=1\n",
        "    \n",
        "  train_loss.append(iter_loss/iteration)\n",
        "  train_accuracy.append((100*correct/len(train_dataset)))\n",
        "  \n",
        "  # Testing\n",
        "  correct=0\n",
        "  iteration=0\n",
        "  loss=0.0\n",
        "  \n",
        "  model.eval()  # Testing Mode\n",
        "  \n",
        "  for i, (inputs, labels) in enumerate(test_load):\n",
        "    \n",
        "    inputs=Variable(inputs)\n",
        "    labels=Variable(labels)\n",
        "    \n",
        "    CUDA=torch.cuda.is_available()\n",
        "    if CUDA:\n",
        "      inputs=inputs.cuda()\n",
        "      labels=labels.cuda()\n",
        "    \n",
        "    outputs=model(inputs)\n",
        "    loss=loss_fn(outputs,labels)\n",
        "    loss += loss.item()\n",
        "    \n",
        "    _,predicted=torch.max(outputs,1)\n",
        "    correct+=(predicted==labels).sum()\n",
        "    \n",
        "    iteration+=1\n",
        "    \n",
        "  test_loss.append(loss/iteration)\n",
        "  test_accuracy.append((100*correct/len(test_dataset)))\n",
        "  \n",
        "  print('Epoch {}/{}, Training Loss:{:.3f}, Training Accuracy:{:.3f}, Testing Loss {:.3f}, Testing Accuracy:{:.3f}'\n",
        "       .format(epoch+1, num_epochs, train_loss[-1], train_accuracy[-1], test_loss[-1], test_accuracy[-1]))\n",
        "  \n",
        "    "
      ],
      "execution_count": 28,
      "outputs": [
        {
          "output_type": "stream",
          "text": [
            "Epoch 1/20, Training Loss:1.517, Training Accuracy:66.093, Testing Loss 0.003, Testing Accuracy:96.750\n",
            "Epoch 2/20, Training Loss:1.236, Training Accuracy:72.247, Testing Loss 0.002, Testing Accuracy:97.820\n",
            "Epoch 3/20, Training Loss:1.205, Training Accuracy:73.777, Testing Loss 0.001, Testing Accuracy:98.080\n",
            "Epoch 4/20, Training Loss:1.182, Training Accuracy:74.765, Testing Loss 0.001, Testing Accuracy:98.260\n",
            "Epoch 5/20, Training Loss:1.170, Training Accuracy:75.523, Testing Loss 0.001, Testing Accuracy:98.380\n",
            "Epoch 6/20, Training Loss:1.161, Training Accuracy:76.110, Testing Loss 0.001, Testing Accuracy:98.570\n",
            "Epoch 7/20, Training Loss:1.155, Training Accuracy:76.212, Testing Loss 0.000, Testing Accuracy:98.530\n",
            "Epoch 8/20, Training Loss:1.152, Training Accuracy:76.648, Testing Loss 0.001, Testing Accuracy:98.670\n",
            "Epoch 9/20, Training Loss:1.135, Training Accuracy:76.968, Testing Loss 0.000, Testing Accuracy:98.620\n",
            "Epoch 10/20, Training Loss:1.147, Training Accuracy:76.768, Testing Loss 0.000, Testing Accuracy:98.830\n",
            "Epoch 11/20, Training Loss:1.139, Training Accuracy:77.060, Testing Loss 0.000, Testing Accuracy:98.870\n",
            "Epoch 12/20, Training Loss:1.129, Training Accuracy:77.285, Testing Loss 0.000, Testing Accuracy:98.830\n",
            "Epoch 13/20, Training Loss:1.129, Training Accuracy:77.627, Testing Loss 0.000, Testing Accuracy:98.820\n",
            "Epoch 14/20, Training Loss:1.144, Training Accuracy:77.147, Testing Loss 0.000, Testing Accuracy:98.940\n",
            "Epoch 15/20, Training Loss:1.129, Training Accuracy:77.570, Testing Loss 0.000, Testing Accuracy:98.930\n",
            "Epoch 16/20, Training Loss:1.122, Training Accuracy:77.570, Testing Loss 0.000, Testing Accuracy:99.030\n",
            "Epoch 17/20, Training Loss:1.128, Training Accuracy:77.808, Testing Loss 0.000, Testing Accuracy:99.010\n",
            "Epoch 18/20, Training Loss:1.133, Training Accuracy:77.412, Testing Loss 0.000, Testing Accuracy:98.930\n",
            "Epoch 19/20, Training Loss:1.113, Training Accuracy:78.053, Testing Loss 0.000, Testing Accuracy:99.000\n",
            "Epoch 20/20, Training Loss:1.125, Training Accuracy:77.927, Testing Loss 0.000, Testing Accuracy:98.890\n"
          ],
          "name": "stdout"
        }
      ]
    },
    {
      "cell_type": "markdown",
      "metadata": {
        "id": "Zh10SME8gDjM"
      },
      "source": [
        "# 8.0. Evaluate results"
      ]
    },
    {
      "cell_type": "markdown",
      "metadata": {
        "id": "mA_rm2cpgJ4r"
      },
      "source": [
        "## 8.1. View loss"
      ]
    },
    {
      "cell_type": "code",
      "metadata": {
        "id": "zLOlTAad_Cpx",
        "colab": {
          "base_uri": "https://localhost:8080/",
          "height": 592
        },
        "outputId": "5d6c5c73-dad3-4961-8aa6-507e27adbfa1"
      },
      "source": [
        "# Loss\n",
        "f=plt.figure(figsize=(10,10))\n",
        "plt.plot(train_loss, label='Training Loss')\n",
        "plt.plot(test_loss, label='Testing Loss')\n",
        "plt.legend()\n",
        "plt.show()"
      ],
      "execution_count": 29,
      "outputs": [
        {
          "output_type": "display_data",
          "data": {
            "image/png": "[encoded data removed]",
            "text/plain": [
              "<Figure size 720x720 with 1 Axes>"
            ]
          },
          "metadata": {
            "tags": [],
            "needs_background": "light"
          }
        }
      ]
    },
    {
      "cell_type": "markdown",
      "metadata": {
        "id": "sTHq_4cxgL60"
      },
      "source": [
        "## 8.2. View accuracy"
      ]
    },
    {
      "cell_type": "code",
      "metadata": {
        "id": "qA9OoyU9_gVi",
        "colab": {
          "base_uri": "https://localhost:8080/",
          "height": 592
        },
        "outputId": "d6e688ec-8e51-49cc-c4c9-f29fa6f90d93"
      },
      "source": [
        "# Accuracy\n",
        "f=plt.figure(figsize=(10,10))\n",
        "plt.plot(train_accuracy, label='Training Accuracy')\n",
        "plt.plot(test_accuracy, label='Testing Accuracy')\n",
        "plt.legend()\n",
        "plt.show()"
      ],
      "execution_count": 30,
      "outputs": [
        {
          "output_type": "display_data",
          "data": {
            "image/png": "[encoded data removed]",
            "text/plain": [
              "<Figure size 720x720 with 1 Axes>"
            ]
          },
          "metadata": {
            "tags": [],
            "needs_background": "light"
          }
        }
      ]
    },
    {
      "cell_type": "markdown",
      "metadata": {
        "id": "rF2JvLmigSnL"
      },
      "source": [
        "## 8.3. View predictions"
      ]
    },
    {
      "cell_type": "code",
      "metadata": {
        "id": "fD_DScoJ_xNJ",
        "colab": {
          "base_uri": "https://localhost:8080/"
        },
        "outputId": "64e0931e-28e6-475f-c032-c0e016cf686b"
      },
      "source": [
        "img= test_dataset[40][0].resize_((1,1,28,28))\n",
        "img= Variable(img)\n",
        "label= test_dataset[40][1]\n",
        "\n",
        "model.eval()\n",
        "\n",
        "if torch.cuda.is_available():\n",
        "  model=model.cuda()\n",
        "  img=img.cuda()\n",
        "  \n",
        "output=model(img)\n",
        "print(output)\n",
        "print(output.data)\n",
        "_,predicted=torch.max(output,1)\n",
        "print(\"Prediction is:\",predicted.item())\n",
        "print(\"Actual is:\", label)"
      ],
      "execution_count": 31,
      "outputs": [
        {
          "output_type": "stream",
          "text": [
            "tensor([[-3.8013,  6.9802, -3.9081, -2.8555, -2.1363, -2.4171, -5.0007, -2.3621,\n",
            "         -1.0119, -2.5009, -4.2343, -3.9993, -4.1072, -4.2822, -4.2753, -4.3271,\n",
            "         -4.6636, -4.3743, -4.2923, -4.0098, -4.4998, -4.0953, -4.6784, -4.3624,\n",
            "         -4.4967, -4.6794, -3.9620, -3.9347, -4.4787, -4.2856, -4.2921, -4.4348,\n",
            "         -4.2862, -4.2205, -4.1015, -4.3075, -4.0206, -3.9491, -4.3784, -4.2129,\n",
            "         -4.2125, -3.9659, -4.3058, -3.8153, -4.0709, -4.2242, -4.3203, -4.1887,\n",
            "         -4.3357, -4.7316, -4.2101, -4.1176, -4.3466, -4.2473, -3.8771, -4.4018,\n",
            "         -4.5492, -4.2417, -4.5082, -4.7350, -4.1693, -4.2280, -4.4845, -4.1906,\n",
            "         -3.9814, -4.3226, -4.1520, -4.6406, -4.3807, -4.3670, -4.8528, -4.6897,\n",
            "         -4.5585, -3.9617, -4.2433, -4.1224, -4.1329, -4.1532, -4.5079, -4.3270,\n",
            "         -4.1489, -4.7187, -3.7143, -4.2223, -4.2969, -4.3287, -4.2908, -4.1990,\n",
            "         -4.3291, -4.2907, -4.7425, -4.3121, -4.2988, -4.3164, -4.0660, -4.3476,\n",
            "         -3.8177, -4.3758, -4.5120, -4.7757, -4.4209, -4.1395, -4.3855, -4.5484,\n",
            "         -4.3021, -4.5292, -4.5259, -4.4982, -4.3792, -4.4252, -4.2715, -4.3864,\n",
            "         -4.0222, -4.5783, -4.4706, -4.3834, -4.2494, -4.1882, -4.1079, -4.3834]],\n",
            "       device='cuda:0', grad_fn=<AddmmBackward>)\n",
            "tensor([[-3.8013,  6.9802, -3.9081, -2.8555, -2.1363, -2.4171, -5.0007, -2.3621,\n",
            "         -1.0119, -2.5009, -4.2343, -3.9993, -4.1072, -4.2822, -4.2753, -4.3271,\n",
            "         -4.6636, -4.3743, -4.2923, -4.0098, -4.4998, -4.0953, -4.6784, -4.3624,\n",
            "         -4.4967, -4.6794, -3.9620, -3.9347, -4.4787, -4.2856, -4.2921, -4.4348,\n",
            "         -4.2862, -4.2205, -4.1015, -4.3075, -4.0206, -3.9491, -4.3784, -4.2129,\n",
            "         -4.2125, -3.9659, -4.3058, -3.8153, -4.0709, -4.2242, -4.3203, -4.1887,\n",
            "         -4.3357, -4.7316, -4.2101, -4.1176, -4.3466, -4.2473, -3.8771, -4.4018,\n",
            "         -4.5492, -4.2417, -4.5082, -4.7350, -4.1693, -4.2280, -4.4845, -4.1906,\n",
            "         -3.9814, -4.3226, -4.1520, -4.6406, -4.3807, -4.3670, -4.8528, -4.6897,\n",
            "         -4.5585, -3.9617, -4.2433, -4.1224, -4.1329, -4.1532, -4.5079, -4.3270,\n",
            "         -4.1489, -4.7187, -3.7143, -4.2223, -4.2969, -4.3287, -4.2908, -4.1990,\n",
            "         -4.3291, -4.2907, -4.7425, -4.3121, -4.2988, -4.3164, -4.0660, -4.3476,\n",
            "         -3.8177, -4.3758, -4.5120, -4.7757, -4.4209, -4.1395, -4.3855, -4.5484,\n",
            "         -4.3021, -4.5292, -4.5259, -4.4982, -4.3792, -4.4252, -4.2715, -4.3864,\n",
            "         -4.0222, -4.5783, -4.4706, -4.3834, -4.2494, -4.1882, -4.1079, -4.3834]],\n",
            "       device='cuda:0')\n",
            "Prediction is: 1\n",
            "Actual is: 1\n"
          ],
          "name": "stdout"
        }
      ]
    }
  ]
}